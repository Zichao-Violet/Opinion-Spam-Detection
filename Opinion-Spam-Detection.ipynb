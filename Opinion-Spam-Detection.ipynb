{
  "nbformat": 4,
  "nbformat_minor": 0,
  "metadata": {
    "colab": {
      "name": "TCSS 555 Final_Part_B.ipynb",
      "provenance": [],
      "collapsed_sections": [],
      "toc_visible": true
    },
    "kernelspec": {
      "name": "python3",
      "display_name": "Python 3"
    },
    "language_info": {
      "name": "python"
    }
  },
  "cells": [
    {
      "cell_type": "markdown",
      "metadata": {
        "id": "57lri1z63qqT"
      },
      "source": [
        "from google.colab import drive\n",
        "drive.mount('/content/drive')"
      ]
    },
    {
      "cell_type": "code",
      "metadata": {
        "colab": {
          "base_uri": "https://localhost:8080/"
        },
        "id": "V0IDbh3p8MEe",
        "outputId": "1e8b3474-b8bc-4b8e-a1e6-1ca4a149cb51"
      },
      "source": [
        "from google.colab import drive\n",
        "drive.mount('/content/drive')"
      ],
      "execution_count": null,
      "outputs": [
        {
          "output_type": "stream",
          "text": [
            "Drive already mounted at /content/drive; to attempt to forcibly remount, call drive.mount(\"/content/drive\", force_remount=True).\n"
          ],
          "name": "stdout"
        }
      ]
    },
    {
      "cell_type": "code",
      "metadata": {
        "id": "PpSMtktB8iKe"
      },
      "source": [
        "import os\n",
        "import glob\n",
        "import pathlib"
      ],
      "execution_count": null,
      "outputs": []
    },
    {
      "cell_type": "code",
      "metadata": {
        "id": "w3n5uf4nGmk1"
      },
      "source": [
        "# Data extraction\n",
        "path_drive = '/content/drive/Shareddrives/ML_Final_Project/op_spam_v1.4'\n",
        "path = pathlib.Path(path_drive)\n",
        "file_list_truth = path.rglob(\"truth*/**/*.txt\")\n",
        "file_list_deceptive = path.rglob(\"deceptive*/**/*.txt\")\n",
        "\n",
        "reviews_truth = []\n",
        "reviews_deceptive = []\n",
        "\n",
        "for file_path in file_list_truth:\n",
        "    with open(file_path) as f_input:\n",
        "        reviews_truth.append((\"\".join(f_input.readlines()), 1))\n",
        "\n",
        "for file_path in file_list_deceptive:\n",
        "    with open(file_path) as f_input:\n",
        "        reviews_deceptive.append((\"\".join(f_input.readlines()),0))\n",
        "\n",
        "reviews = reviews_truth + reviews_deceptive"
      ],
      "execution_count": null,
      "outputs": []
    },
    {
      "cell_type": "code",
      "metadata": {
        "id": "ly9GSHwRBFu7",
        "colab": {
          "base_uri": "https://localhost:8080/"
        },
        "outputId": "49d63ab7-b459-484f-c7b2-f01348f79701"
      },
      "source": [
        "import pandas as pd\n",
        "review_df = pd.DataFrame.from_records(data=reviews, columns = ['review', 'labels'])\n",
        "print(review_df['review'])"
      ],
      "execution_count": null,
      "outputs": [
        {
          "output_type": "stream",
          "text": [
            "0       My wife and I stayed for 2 nights and loved it...\n",
            "1       After reading some of the most recent reviews ...\n",
            "2       Stayed here for two days while attending Lollo...\n",
            "3       I booked this hotel for $75 on Hotwire with mi...\n",
            "4       My wife and I decided to spend three days in C...\n",
            "                              ...                        \n",
            "1595    I will never stay at Conrad Chicago again. The...\n",
            "1596    If you want a 5-star hotel with 1-star service...\n",
            "1597    During my recent stay at the Hyatt Regency Chi...\n",
            "1598    First off, don't get a room on a lower floor, ...\n",
            "1599    My stay at the Fairmont Chicago Millennium Hot...\n",
            "Name: review, Length: 1600, dtype: object\n"
          ],
          "name": "stdout"
        }
      ]
    },
    {
      "cell_type": "code",
      "metadata": {
        "id": "L4fS6ldPP_I1",
        "colab": {
          "base_uri": "https://localhost:8080/",
          "height": 386
        },
        "outputId": "4f958b4a-d999-41a3-ae5d-bf2ad4289402"
      },
      "source": [
        "# review length visualization\n",
        "review_df['length'] = review_df['review'].apply(lambda x: len(x))\n",
        "\n",
        "import seaborn as sns\n",
        "import matplotlib.pyplot as plt\n",
        "\n",
        "sns.set_style(\"white\")\n",
        "\n",
        "x1 = review_df.loc[review_df['labels']==1, 'length']\n",
        "\n",
        "plt.figure(figsize=(10,7), dpi= 80)\n",
        "sns.displot(x1, color=\"dodgerblue\", label='Truth')\n",
        "plt.legend();\n",
        "plt.xlabel('Length')\n",
        "\n",
        "plt.xlim(0, 2500)\n",
        "plt.show()"
      ],
      "execution_count": null,
      "outputs": [
        {
          "output_type": "display_data",
          "data": {
            "text/plain": [
              "<Figure size 800x560 with 0 Axes>"
            ]
          },
          "metadata": {
            "tags": []
          }
        },
        {
          "output_type": "display_data",
          "data": {
            "image/png": "[encoded data removed]",
            "text/plain": [
              "<Figure size 360x360 with 1 Axes>"
            ]
          },
          "metadata": {
            "tags": []
          }
        }
      ]
    },
    {
      "cell_type": "code",
      "metadata": {
        "id": "Wg_9dzgW2a_y",
        "colab": {
          "base_uri": "https://localhost:8080/",
          "height": 198
        },
        "outputId": "265e21c2-aee6-48d5-c47c-480fac7cb154"
      },
      "source": [
        "review_df.head()"
      ],
      "execution_count": null,
      "outputs": [
        {
          "output_type": "execute_result",
          "data": {
            "text/html": [
              "<div>\n",
              "<style scoped>\n",
              "    .dataframe tbody tr th:only-of-type {\n",
              "        vertical-align: middle;\n",
              "    }\n",
              "\n",
              "    .dataframe tbody tr th {\n",
              "        vertical-align: top;\n",
              "    }\n",
              "\n",
              "    .dataframe thead th {\n",
              "        text-align: right;\n",
              "    }\n",
              "</style>\n",
              "<table border=\"1\" class=\"dataframe\">\n",
              "  <thead>\n",
              "    <tr style=\"text-align: right;\">\n",
              "      <th></th>\n",
              "      <th>review</th>\n",
              "      <th>labels</th>\n",
              "      <th>length</th>\n",
              "    </tr>\n",
              "  </thead>\n",
              "  <tbody>\n",
              "    <tr>\n",
              "      <th>0</th>\n",
              "      <td>My wife and I stayed for 2 nights and loved it...</td>\n",
              "      <td>1</td>\n",
              "      <td>1410</td>\n",
              "    </tr>\n",
              "    <tr>\n",
              "      <th>1</th>\n",
              "      <td>After reading some of the most recent reviews ...</td>\n",
              "      <td>1</td>\n",
              "      <td>745</td>\n",
              "    </tr>\n",
              "    <tr>\n",
              "      <th>2</th>\n",
              "      <td>Stayed here for two days while attending Lollo...</td>\n",
              "      <td>1</td>\n",
              "      <td>386</td>\n",
              "    </tr>\n",
              "    <tr>\n",
              "      <th>3</th>\n",
              "      <td>I booked this hotel for $75 on Hotwire with mi...</td>\n",
              "      <td>1</td>\n",
              "      <td>1158</td>\n",
              "    </tr>\n",
              "    <tr>\n",
              "      <th>4</th>\n",
              "      <td>My wife and I decided to spend three days in C...</td>\n",
              "      <td>1</td>\n",
              "      <td>522</td>\n",
              "    </tr>\n",
              "  </tbody>\n",
              "</table>\n",
              "</div>"
            ],
            "text/plain": [
              "                                              review  labels  length\n",
              "0  My wife and I stayed for 2 nights and loved it...       1    1410\n",
              "1  After reading some of the most recent reviews ...       1     745\n",
              "2  Stayed here for two days while attending Lollo...       1     386\n",
              "3  I booked this hotel for $75 on Hotwire with mi...       1    1158\n",
              "4  My wife and I decided to spend three days in C...       1     522"
            ]
          },
          "metadata": {
            "tags": []
          },
          "execution_count": 85
        }
      ]
    },
    {
      "cell_type": "code",
      "metadata": {
        "id": "YGWS22rZNkRK",
        "colab": {
          "base_uri": "https://localhost:8080/",
          "height": 198
        },
        "outputId": "bebc167d-ede0-44d9-fd56-c3dc5999ee6d"
      },
      "source": [
        "\"Count number of characters in each review\"\n",
        "review_df['number of char'] = review_df['review'].apply(lambda x: len(x))\n",
        "review_df.head()"
      ],
      "execution_count": null,
      "outputs": [
        {
          "output_type": "execute_result",
          "data": {
            "text/html": [
              "<div>\n",
              "<style scoped>\n",
              "    .dataframe tbody tr th:only-of-type {\n",
              "        vertical-align: middle;\n",
              "    }\n",
              "\n",
              "    .dataframe tbody tr th {\n",
              "        vertical-align: top;\n",
              "    }\n",
              "\n",
              "    .dataframe thead th {\n",
              "        text-align: right;\n",
              "    }\n",
              "</style>\n",
              "<table border=\"1\" class=\"dataframe\">\n",
              "  <thead>\n",
              "    <tr style=\"text-align: right;\">\n",
              "      <th></th>\n",
              "      <th>review</th>\n",
              "      <th>labels</th>\n",
              "      <th>length</th>\n",
              "      <th>number of char</th>\n",
              "    </tr>\n",
              "  </thead>\n",
              "  <tbody>\n",
              "    <tr>\n",
              "      <th>0</th>\n",
              "      <td>My wife and I stayed for 2 nights and loved it...</td>\n",
              "      <td>1</td>\n",
              "      <td>1410</td>\n",
              "      <td>1410</td>\n",
              "    </tr>\n",
              "    <tr>\n",
              "      <th>1</th>\n",
              "      <td>After reading some of the most recent reviews ...</td>\n",
              "      <td>1</td>\n",
              "      <td>745</td>\n",
              "      <td>745</td>\n",
              "    </tr>\n",
              "    <tr>\n",
              "      <th>2</th>\n",
              "      <td>Stayed here for two days while attending Lollo...</td>\n",
              "      <td>1</td>\n",
              "      <td>386</td>\n",
              "      <td>386</td>\n",
              "    </tr>\n",
              "    <tr>\n",
              "      <th>3</th>\n",
              "      <td>I booked this hotel for $75 on Hotwire with mi...</td>\n",
              "      <td>1</td>\n",
              "      <td>1158</td>\n",
              "      <td>1158</td>\n",
              "    </tr>\n",
              "    <tr>\n",
              "      <th>4</th>\n",
              "      <td>My wife and I decided to spend three days in C...</td>\n",
              "      <td>1</td>\n",
              "      <td>522</td>\n",
              "      <td>522</td>\n",
              "    </tr>\n",
              "  </tbody>\n",
              "</table>\n",
              "</div>"
            ],
            "text/plain": [
              "                                              review  ...  number of char\n",
              "0  My wife and I stayed for 2 nights and loved it...  ...            1410\n",
              "1  After reading some of the most recent reviews ...  ...             745\n",
              "2  Stayed here for two days while attending Lollo...  ...             386\n",
              "3  I booked this hotel for $75 on Hotwire with mi...  ...            1158\n",
              "4  My wife and I decided to spend three days in C...  ...             522\n",
              "\n",
              "[5 rows x 4 columns]"
            ]
          },
          "metadata": {
            "tags": []
          },
          "execution_count": 86
        }
      ]
    },
    {
      "cell_type": "code",
      "metadata": {
        "id": "b0pRhuDUNezO",
        "colab": {
          "base_uri": "https://localhost:8080/",
          "height": 198
        },
        "outputId": "b938051f-3e28-4ceb-c5c0-4450c7d07e32"
      },
      "source": [
        "\"Count number of words\"\n",
        "import re\n",
        "review_df['number of words'] = review_df['review'].apply(lambda x: len(re.findall(r'\\w+', x)))\n",
        "review_df.head()"
      ],
      "execution_count": null,
      "outputs": [
        {
          "output_type": "execute_result",
          "data": {
            "text/html": [
              "<div>\n",
              "<style scoped>\n",
              "    .dataframe tbody tr th:only-of-type {\n",
              "        vertical-align: middle;\n",
              "    }\n",
              "\n",
              "    .dataframe tbody tr th {\n",
              "        vertical-align: top;\n",
              "    }\n",
              "\n",
              "    .dataframe thead th {\n",
              "        text-align: right;\n",
              "    }\n",
              "</style>\n",
              "<table border=\"1\" class=\"dataframe\">\n",
              "  <thead>\n",
              "    <tr style=\"text-align: right;\">\n",
              "      <th></th>\n",
              "      <th>review</th>\n",
              "      <th>labels</th>\n",
              "      <th>length</th>\n",
              "      <th>number of char</th>\n",
              "      <th>number of words</th>\n",
              "    </tr>\n",
              "  </thead>\n",
              "  <tbody>\n",
              "    <tr>\n",
              "      <th>0</th>\n",
              "      <td>My wife and I stayed for 2 nights and loved it...</td>\n",
              "      <td>1</td>\n",
              "      <td>1410</td>\n",
              "      <td>1410</td>\n",
              "      <td>263</td>\n",
              "    </tr>\n",
              "    <tr>\n",
              "      <th>1</th>\n",
              "      <td>After reading some of the most recent reviews ...</td>\n",
              "      <td>1</td>\n",
              "      <td>745</td>\n",
              "      <td>745</td>\n",
              "      <td>142</td>\n",
              "    </tr>\n",
              "    <tr>\n",
              "      <th>2</th>\n",
              "      <td>Stayed here for two days while attending Lollo...</td>\n",
              "      <td>1</td>\n",
              "      <td>386</td>\n",
              "      <td>386</td>\n",
              "      <td>64</td>\n",
              "    </tr>\n",
              "    <tr>\n",
              "      <th>3</th>\n",
              "      <td>I booked this hotel for $75 on Hotwire with mi...</td>\n",
              "      <td>1</td>\n",
              "      <td>1158</td>\n",
              "      <td>1158</td>\n",
              "      <td>216</td>\n",
              "    </tr>\n",
              "    <tr>\n",
              "      <th>4</th>\n",
              "      <td>My wife and I decided to spend three days in C...</td>\n",
              "      <td>1</td>\n",
              "      <td>522</td>\n",
              "      <td>522</td>\n",
              "      <td>100</td>\n",
              "    </tr>\n",
              "  </tbody>\n",
              "</table>\n",
              "</div>"
            ],
            "text/plain": [
              "                                              review  ...  number of words\n",
              "0  My wife and I stayed for 2 nights and loved it...  ...              263\n",
              "1  After reading some of the most recent reviews ...  ...              142\n",
              "2  Stayed here for two days while attending Lollo...  ...               64\n",
              "3  I booked this hotel for $75 on Hotwire with mi...  ...              216\n",
              "4  My wife and I decided to spend three days in C...  ...              100\n",
              "\n",
              "[5 rows x 5 columns]"
            ]
          },
          "metadata": {
            "tags": []
          },
          "execution_count": 87
        }
      ]
    },
    {
      "cell_type": "code",
      "metadata": {
        "id": "lCwtd80DOuZh",
        "colab": {
          "base_uri": "https://localhost:8080/",
          "height": 198
        },
        "outputId": "cc0b6ec2-3c21-40b0-bf99-c19c236986ce"
      },
      "source": [
        "\"Remove Numbers\"\n",
        "review_df['review_remove_num'] = review_df['review'].apply(lambda x:re.sub(\"[0-9]\", \"\", x))\n",
        "review_df.head()"
      ],
      "execution_count": null,
      "outputs": [
        {
          "output_type": "execute_result",
          "data": {
            "text/html": [
              "<div>\n",
              "<style scoped>\n",
              "    .dataframe tbody tr th:only-of-type {\n",
              "        vertical-align: middle;\n",
              "    }\n",
              "\n",
              "    .dataframe tbody tr th {\n",
              "        vertical-align: top;\n",
              "    }\n",
              "\n",
              "    .dataframe thead th {\n",
              "        text-align: right;\n",
              "    }\n",
              "</style>\n",
              "<table border=\"1\" class=\"dataframe\">\n",
              "  <thead>\n",
              "    <tr style=\"text-align: right;\">\n",
              "      <th></th>\n",
              "      <th>review</th>\n",
              "      <th>labels</th>\n",
              "      <th>number of char</th>\n",
              "      <th>number of words</th>\n",
              "      <th>review_remove_num</th>\n",
              "    </tr>\n",
              "  </thead>\n",
              "  <tbody>\n",
              "    <tr>\n",
              "      <th>0</th>\n",
              "      <td>My wife and I stayed for 2 nights and loved it...</td>\n",
              "      <td>1</td>\n",
              "      <td>1410</td>\n",
              "      <td>263</td>\n",
              "      <td>My wife and I stayed for  nights and loved it....</td>\n",
              "    </tr>\n",
              "    <tr>\n",
              "      <th>1</th>\n",
              "      <td>After reading some of the most recent reviews ...</td>\n",
              "      <td>1</td>\n",
              "      <td>745</td>\n",
              "      <td>142</td>\n",
              "      <td>After reading some of the most recent reviews ...</td>\n",
              "    </tr>\n",
              "    <tr>\n",
              "      <th>2</th>\n",
              "      <td>Stayed here for two days while attending Lollo...</td>\n",
              "      <td>1</td>\n",
              "      <td>386</td>\n",
              "      <td>64</td>\n",
              "      <td>Stayed here for two days while attending Lollo...</td>\n",
              "    </tr>\n",
              "    <tr>\n",
              "      <th>3</th>\n",
              "      <td>I booked this hotel for $75 on Hotwire with mi...</td>\n",
              "      <td>1</td>\n",
              "      <td>1158</td>\n",
              "      <td>216</td>\n",
              "      <td>I booked this hotel for $ on Hotwire with mid-...</td>\n",
              "    </tr>\n",
              "    <tr>\n",
              "      <th>4</th>\n",
              "      <td>My wife and I decided to spend three days in C...</td>\n",
              "      <td>1</td>\n",
              "      <td>522</td>\n",
              "      <td>100</td>\n",
              "      <td>My wife and I decided to spend three days in C...</td>\n",
              "    </tr>\n",
              "  </tbody>\n",
              "</table>\n",
              "</div>"
            ],
            "text/plain": [
              "                                              review  ...                                  review_remove_num\n",
              "0  My wife and I stayed for 2 nights and loved it...  ...  My wife and I stayed for  nights and loved it....\n",
              "1  After reading some of the most recent reviews ...  ...  After reading some of the most recent reviews ...\n",
              "2  Stayed here for two days while attending Lollo...  ...  Stayed here for two days while attending Lollo...\n",
              "3  I booked this hotel for $75 on Hotwire with mi...  ...  I booked this hotel for $ on Hotwire with mid-...\n",
              "4  My wife and I decided to spend three days in C...  ...  My wife and I decided to spend three days in C...\n",
              "\n",
              "[5 rows x 5 columns]"
            ]
          },
          "metadata": {
            "tags": []
          },
          "execution_count": 67
        }
      ]
    },
    {
      "cell_type": "code",
      "metadata": {
        "id": "_X9MaQ75e4Bu",
        "colab": {
          "base_uri": "https://localhost:8080/",
          "height": 198
        },
        "outputId": "78498d7b-cc48-42ed-95aa-6f43e6c4feea"
      },
      "source": [
        "\"Change to lower case\"\n",
        "review_df['review_lower'] = review_df['review'].apply(lambda x: x.lower())\n",
        "review_df.head()"
      ],
      "execution_count": null,
      "outputs": [
        {
          "output_type": "execute_result",
          "data": {
            "text/html": [
              "<div>\n",
              "<style scoped>\n",
              "    .dataframe tbody tr th:only-of-type {\n",
              "        vertical-align: middle;\n",
              "    }\n",
              "\n",
              "    .dataframe tbody tr th {\n",
              "        vertical-align: top;\n",
              "    }\n",
              "\n",
              "    .dataframe thead th {\n",
              "        text-align: right;\n",
              "    }\n",
              "</style>\n",
              "<table border=\"1\" class=\"dataframe\">\n",
              "  <thead>\n",
              "    <tr style=\"text-align: right;\">\n",
              "      <th></th>\n",
              "      <th>review</th>\n",
              "      <th>labels</th>\n",
              "      <th>number of char</th>\n",
              "      <th>number of words</th>\n",
              "      <th>review_remove_num</th>\n",
              "      <th>review_lower</th>\n",
              "    </tr>\n",
              "  </thead>\n",
              "  <tbody>\n",
              "    <tr>\n",
              "      <th>0</th>\n",
              "      <td>My wife and I stayed for 2 nights and loved it...</td>\n",
              "      <td>1</td>\n",
              "      <td>1410</td>\n",
              "      <td>263</td>\n",
              "      <td>My wife and I stayed for  nights and loved it....</td>\n",
              "      <td>my wife and i stayed for 2 nights and loved it...</td>\n",
              "    </tr>\n",
              "    <tr>\n",
              "      <th>1</th>\n",
              "      <td>After reading some of the most recent reviews ...</td>\n",
              "      <td>1</td>\n",
              "      <td>745</td>\n",
              "      <td>142</td>\n",
              "      <td>After reading some of the most recent reviews ...</td>\n",
              "      <td>after reading some of the most recent reviews ...</td>\n",
              "    </tr>\n",
              "    <tr>\n",
              "      <th>2</th>\n",
              "      <td>Stayed here for two days while attending Lollo...</td>\n",
              "      <td>1</td>\n",
              "      <td>386</td>\n",
              "      <td>64</td>\n",
              "      <td>Stayed here for two days while attending Lollo...</td>\n",
              "      <td>stayed here for two days while attending lollo...</td>\n",
              "    </tr>\n",
              "    <tr>\n",
              "      <th>3</th>\n",
              "      <td>I booked this hotel for $75 on Hotwire with mi...</td>\n",
              "      <td>1</td>\n",
              "      <td>1158</td>\n",
              "      <td>216</td>\n",
              "      <td>I booked this hotel for $ on Hotwire with mid-...</td>\n",
              "      <td>i booked this hotel for $75 on hotwire with mi...</td>\n",
              "    </tr>\n",
              "    <tr>\n",
              "      <th>4</th>\n",
              "      <td>My wife and I decided to spend three days in C...</td>\n",
              "      <td>1</td>\n",
              "      <td>522</td>\n",
              "      <td>100</td>\n",
              "      <td>My wife and I decided to spend three days in C...</td>\n",
              "      <td>my wife and i decided to spend three days in c...</td>\n",
              "    </tr>\n",
              "  </tbody>\n",
              "</table>\n",
              "</div>"
            ],
            "text/plain": [
              "                                              review  ...                                       review_lower\n",
              "0  My wife and I stayed for 2 nights and loved it...  ...  my wife and i stayed for 2 nights and loved it...\n",
              "1  After reading some of the most recent reviews ...  ...  after reading some of the most recent reviews ...\n",
              "2  Stayed here for two days while attending Lollo...  ...  stayed here for two days while attending lollo...\n",
              "3  I booked this hotel for $75 on Hotwire with mi...  ...  i booked this hotel for $75 on hotwire with mi...\n",
              "4  My wife and I decided to spend three days in C...  ...  my wife and i decided to spend three days in c...\n",
              "\n",
              "[5 rows x 6 columns]"
            ]
          },
          "metadata": {
            "tags": []
          },
          "execution_count": 68
        }
      ]
    },
    {
      "cell_type": "code",
      "metadata": {
        "id": "7u_o7GiIN1x7",
        "colab": {
          "base_uri": "https://localhost:8080/",
          "height": 198
        },
        "outputId": "2e4f4c62-8b07-4fac-c292-51ef672fe23d"
      },
      "source": [
        "\"Count number of sentences\"\n",
        "review_df['number of sentence'] = review_df['review'].apply(lambda x: len(re.split(r'[.!?]+', x)))\n",
        "review_df.head()"
      ],
      "execution_count": null,
      "outputs": [
        {
          "output_type": "execute_result",
          "data": {
            "text/html": [
              "<div>\n",
              "<style scoped>\n",
              "    .dataframe tbody tr th:only-of-type {\n",
              "        vertical-align: middle;\n",
              "    }\n",
              "\n",
              "    .dataframe tbody tr th {\n",
              "        vertical-align: top;\n",
              "    }\n",
              "\n",
              "    .dataframe thead th {\n",
              "        text-align: right;\n",
              "    }\n",
              "</style>\n",
              "<table border=\"1\" class=\"dataframe\">\n",
              "  <thead>\n",
              "    <tr style=\"text-align: right;\">\n",
              "      <th></th>\n",
              "      <th>review</th>\n",
              "      <th>labels</th>\n",
              "      <th>number of char</th>\n",
              "      <th>number of words</th>\n",
              "      <th>review_remove_num</th>\n",
              "      <th>review_lower</th>\n",
              "      <th>number of sentence</th>\n",
              "    </tr>\n",
              "  </thead>\n",
              "  <tbody>\n",
              "    <tr>\n",
              "      <th>0</th>\n",
              "      <td>My wife and I stayed for 2 nights and loved it...</td>\n",
              "      <td>1</td>\n",
              "      <td>1410</td>\n",
              "      <td>263</td>\n",
              "      <td>My wife and I stayed for  nights and loved it....</td>\n",
              "      <td>my wife and i stayed for 2 nights and loved it...</td>\n",
              "      <td>16</td>\n",
              "    </tr>\n",
              "    <tr>\n",
              "      <th>1</th>\n",
              "      <td>After reading some of the most recent reviews ...</td>\n",
              "      <td>1</td>\n",
              "      <td>745</td>\n",
              "      <td>142</td>\n",
              "      <td>After reading some of the most recent reviews ...</td>\n",
              "      <td>after reading some of the most recent reviews ...</td>\n",
              "      <td>13</td>\n",
              "    </tr>\n",
              "    <tr>\n",
              "      <th>2</th>\n",
              "      <td>Stayed here for two days while attending Lollo...</td>\n",
              "      <td>1</td>\n",
              "      <td>386</td>\n",
              "      <td>64</td>\n",
              "      <td>Stayed here for two days while attending Lollo...</td>\n",
              "      <td>stayed here for two days while attending lollo...</td>\n",
              "      <td>7</td>\n",
              "    </tr>\n",
              "    <tr>\n",
              "      <th>3</th>\n",
              "      <td>I booked this hotel for $75 on Hotwire with mi...</td>\n",
              "      <td>1</td>\n",
              "      <td>1158</td>\n",
              "      <td>216</td>\n",
              "      <td>I booked this hotel for $ on Hotwire with mid-...</td>\n",
              "      <td>i booked this hotel for $75 on hotwire with mi...</td>\n",
              "      <td>30</td>\n",
              "    </tr>\n",
              "    <tr>\n",
              "      <th>4</th>\n",
              "      <td>My wife and I decided to spend three days in C...</td>\n",
              "      <td>1</td>\n",
              "      <td>522</td>\n",
              "      <td>100</td>\n",
              "      <td>My wife and I decided to spend three days in C...</td>\n",
              "      <td>my wife and i decided to spend three days in c...</td>\n",
              "      <td>7</td>\n",
              "    </tr>\n",
              "  </tbody>\n",
              "</table>\n",
              "</div>"
            ],
            "text/plain": [
              "                                              review  ...  number of sentence\n",
              "0  My wife and I stayed for 2 nights and loved it...  ...                  16\n",
              "1  After reading some of the most recent reviews ...  ...                  13\n",
              "2  Stayed here for two days while attending Lollo...  ...                   7\n",
              "3  I booked this hotel for $75 on Hotwire with mi...  ...                  30\n",
              "4  My wife and I decided to spend three days in C...  ...                   7\n",
              "\n",
              "[5 rows x 7 columns]"
            ]
          },
          "metadata": {
            "tags": []
          },
          "execution_count": 69
        }
      ]
    },
    {
      "cell_type": "code",
      "metadata": {
        "id": "NZa1fWB0N8OC",
        "colab": {
          "base_uri": "https://localhost:8080/",
          "height": 198
        },
        "outputId": "79c9b5b8-7cd6-41ce-d40d-54f04b7ab3a8"
      },
      "source": [
        "\"Count average word length in a sentence\"\n",
        "review_df['aver sentence char'] = round(review_df['number of words']/review_df['number of sentence'], 0)\n",
        "review_df.head()"
      ],
      "execution_count": null,
      "outputs": [
        {
          "output_type": "execute_result",
          "data": {
            "text/html": [
              "<div>\n",
              "<style scoped>\n",
              "    .dataframe tbody tr th:only-of-type {\n",
              "        vertical-align: middle;\n",
              "    }\n",
              "\n",
              "    .dataframe tbody tr th {\n",
              "        vertical-align: top;\n",
              "    }\n",
              "\n",
              "    .dataframe thead th {\n",
              "        text-align: right;\n",
              "    }\n",
              "</style>\n",
              "<table border=\"1\" class=\"dataframe\">\n",
              "  <thead>\n",
              "    <tr style=\"text-align: right;\">\n",
              "      <th></th>\n",
              "      <th>review</th>\n",
              "      <th>labels</th>\n",
              "      <th>number of char</th>\n",
              "      <th>number of words</th>\n",
              "      <th>review_remove_num</th>\n",
              "      <th>review_lower</th>\n",
              "      <th>number of sentence</th>\n",
              "      <th>aver sentence char</th>\n",
              "    </tr>\n",
              "  </thead>\n",
              "  <tbody>\n",
              "    <tr>\n",
              "      <th>0</th>\n",
              "      <td>My wife and I stayed for 2 nights and loved it...</td>\n",
              "      <td>1</td>\n",
              "      <td>1410</td>\n",
              "      <td>263</td>\n",
              "      <td>My wife and I stayed for  nights and loved it....</td>\n",
              "      <td>my wife and i stayed for 2 nights and loved it...</td>\n",
              "      <td>16</td>\n",
              "      <td>16.0</td>\n",
              "    </tr>\n",
              "    <tr>\n",
              "      <th>1</th>\n",
              "      <td>After reading some of the most recent reviews ...</td>\n",
              "      <td>1</td>\n",
              "      <td>745</td>\n",
              "      <td>142</td>\n",
              "      <td>After reading some of the most recent reviews ...</td>\n",
              "      <td>after reading some of the most recent reviews ...</td>\n",
              "      <td>13</td>\n",
              "      <td>11.0</td>\n",
              "    </tr>\n",
              "    <tr>\n",
              "      <th>2</th>\n",
              "      <td>Stayed here for two days while attending Lollo...</td>\n",
              "      <td>1</td>\n",
              "      <td>386</td>\n",
              "      <td>64</td>\n",
              "      <td>Stayed here for two days while attending Lollo...</td>\n",
              "      <td>stayed here for two days while attending lollo...</td>\n",
              "      <td>7</td>\n",
              "      <td>9.0</td>\n",
              "    </tr>\n",
              "    <tr>\n",
              "      <th>3</th>\n",
              "      <td>I booked this hotel for $75 on Hotwire with mi...</td>\n",
              "      <td>1</td>\n",
              "      <td>1158</td>\n",
              "      <td>216</td>\n",
              "      <td>I booked this hotel for $ on Hotwire with mid-...</td>\n",
              "      <td>i booked this hotel for $75 on hotwire with mi...</td>\n",
              "      <td>30</td>\n",
              "      <td>7.0</td>\n",
              "    </tr>\n",
              "    <tr>\n",
              "      <th>4</th>\n",
              "      <td>My wife and I decided to spend three days in C...</td>\n",
              "      <td>1</td>\n",
              "      <td>522</td>\n",
              "      <td>100</td>\n",
              "      <td>My wife and I decided to spend three days in C...</td>\n",
              "      <td>my wife and i decided to spend three days in c...</td>\n",
              "      <td>7</td>\n",
              "      <td>14.0</td>\n",
              "    </tr>\n",
              "  </tbody>\n",
              "</table>\n",
              "</div>"
            ],
            "text/plain": [
              "                                              review  ...  aver sentence char\n",
              "0  My wife and I stayed for 2 nights and loved it...  ...                16.0\n",
              "1  After reading some of the most recent reviews ...  ...                11.0\n",
              "2  Stayed here for two days while attending Lollo...  ...                 9.0\n",
              "3  I booked this hotel for $75 on Hotwire with mi...  ...                 7.0\n",
              "4  My wife and I decided to spend three days in C...  ...                14.0\n",
              "\n",
              "[5 rows x 8 columns]"
            ]
          },
          "metadata": {
            "tags": []
          },
          "execution_count": 70
        }
      ]
    },
    {
      "cell_type": "code",
      "metadata": {
        "id": "gdIXB-n-OAOC",
        "colab": {
          "base_uri": "https://localhost:8080/",
          "height": 302
        },
        "outputId": "b6dc3e35-6912-44b3-ae97-8afad44f0a09"
      },
      "source": [
        "\"Count number of punctuation\"\n",
        "import string\n",
        "review_df['number of punctuation'] = review_df['review'].apply(lambda x: len([wd for wd in x if wd in string.punctuation]))\n",
        "review_df.head()"
      ],
      "execution_count": null,
      "outputs": [
        {
          "output_type": "execute_result",
          "data": {
            "text/html": [
              "<div>\n",
              "<style scoped>\n",
              "    .dataframe tbody tr th:only-of-type {\n",
              "        vertical-align: middle;\n",
              "    }\n",
              "\n",
              "    .dataframe tbody tr th {\n",
              "        vertical-align: top;\n",
              "    }\n",
              "\n",
              "    .dataframe thead th {\n",
              "        text-align: right;\n",
              "    }\n",
              "</style>\n",
              "<table border=\"1\" class=\"dataframe\">\n",
              "  <thead>\n",
              "    <tr style=\"text-align: right;\">\n",
              "      <th></th>\n",
              "      <th>review</th>\n",
              "      <th>labels</th>\n",
              "      <th>length</th>\n",
              "      <th>number of char</th>\n",
              "      <th>number of words</th>\n",
              "      <th>review_remove_num</th>\n",
              "      <th>review_lower</th>\n",
              "      <th>number of sentence</th>\n",
              "      <th>aver sentence char</th>\n",
              "      <th>number of punctuation</th>\n",
              "    </tr>\n",
              "  </thead>\n",
              "  <tbody>\n",
              "    <tr>\n",
              "      <th>0</th>\n",
              "      <td>My wife and I stayed for 2 nights and loved it...</td>\n",
              "      <td>1</td>\n",
              "      <td>1410</td>\n",
              "      <td>1410</td>\n",
              "      <td>263</td>\n",
              "      <td>My wife and I stayed for  nights and loved it....</td>\n",
              "      <td>my wife and i stayed for 2 nights and loved it...</td>\n",
              "      <td>16</td>\n",
              "      <td>16.0</td>\n",
              "      <td>18</td>\n",
              "    </tr>\n",
              "    <tr>\n",
              "      <th>1</th>\n",
              "      <td>After reading some of the most recent reviews ...</td>\n",
              "      <td>1</td>\n",
              "      <td>745</td>\n",
              "      <td>745</td>\n",
              "      <td>142</td>\n",
              "      <td>After reading some of the most recent reviews ...</td>\n",
              "      <td>after reading some of the most recent reviews ...</td>\n",
              "      <td>13</td>\n",
              "      <td>11.0</td>\n",
              "      <td>26</td>\n",
              "    </tr>\n",
              "    <tr>\n",
              "      <th>2</th>\n",
              "      <td>Stayed here for two days while attending Lollo...</td>\n",
              "      <td>1</td>\n",
              "      <td>386</td>\n",
              "      <td>386</td>\n",
              "      <td>64</td>\n",
              "      <td>Stayed here for two days while attending Lollo...</td>\n",
              "      <td>stayed here for two days while attending lollo...</td>\n",
              "      <td>7</td>\n",
              "      <td>9.0</td>\n",
              "      <td>11</td>\n",
              "    </tr>\n",
              "    <tr>\n",
              "      <th>3</th>\n",
              "      <td>I booked this hotel for $75 on Hotwire with mi...</td>\n",
              "      <td>1</td>\n",
              "      <td>1158</td>\n",
              "      <td>1158</td>\n",
              "      <td>216</td>\n",
              "      <td>I booked this hotel for $ on Hotwire with mid-...</td>\n",
              "      <td>i booked this hotel for $75 on hotwire with mi...</td>\n",
              "      <td>30</td>\n",
              "      <td>7.0</td>\n",
              "      <td>43</td>\n",
              "    </tr>\n",
              "    <tr>\n",
              "      <th>4</th>\n",
              "      <td>My wife and I decided to spend three days in C...</td>\n",
              "      <td>1</td>\n",
              "      <td>522</td>\n",
              "      <td>522</td>\n",
              "      <td>100</td>\n",
              "      <td>My wife and I decided to spend three days in C...</td>\n",
              "      <td>my wife and i decided to spend three days in c...</td>\n",
              "      <td>7</td>\n",
              "      <td>14.0</td>\n",
              "      <td>17</td>\n",
              "    </tr>\n",
              "  </tbody>\n",
              "</table>\n",
              "</div>"
            ],
            "text/plain": [
              "                                              review  ...  number of punctuation\n",
              "0  My wife and I stayed for 2 nights and loved it...  ...                     18\n",
              "1  After reading some of the most recent reviews ...  ...                     26\n",
              "2  Stayed here for two days while attending Lollo...  ...                     11\n",
              "3  I booked this hotel for $75 on Hotwire with mi...  ...                     43\n",
              "4  My wife and I decided to spend three days in C...  ...                     17\n",
              "\n",
              "[5 rows x 10 columns]"
            ]
          },
          "metadata": {
            "tags": []
          },
          "execution_count": 98
        }
      ]
    },
    {
      "cell_type": "code",
      "metadata": {
        "id": "W89bZ5KTsDKo",
        "colab": {
          "base_uri": "https://localhost:8080/"
        },
        "outputId": "6581c2e3-93fa-40f7-9031-908b7090f219"
      },
      "source": [
        "\"Count number of stop words\"\n",
        "import nltk\n",
        "from nltk.corpus import stopwords\n",
        "nltk.download('stopwords')\n",
        "stop_words = stopwords.words('english')\n",
        "stop_words += [\"he's\", \"i'm\", \"can't\", \"i've\"]\n",
        "stop_words += ['a', 'about', 'above', 'across', 'after', 'afterwards']\n",
        "stop_words += ['again', 'against', 'all', 'almost', 'alone', 'along']\n",
        "stop_words += ['this', 'is', 'your']\n",
        "review_df['number of stop words'] = review_df['review'].apply(lambda x: len([wd for wd in x if wd in stop_words]))\n",
        "review_df.head()\n",
        "print(stop_words)"
      ],
      "execution_count": null,
      "outputs": [
        {
          "output_type": "stream",
          "text": [
            "[nltk_data] Downloading package stopwords to /root/nltk_data...\n",
            "[nltk_data]   Package stopwords is already up-to-date!\n",
            "['i', 'me', 'my', 'myself', 'we', 'our', 'ours', 'ourselves', 'you', \"you're\", \"you've\", \"you'll\", \"you'd\", 'your', 'yours', 'yourself', 'yourselves', 'he', 'him', 'his', 'himself', 'she', \"she's\", 'her', 'hers', 'herself', 'it', \"it's\", 'its', 'itself', 'they', 'them', 'their', 'theirs', 'themselves', 'what', 'which', 'who', 'whom', 'this', 'that', \"that'll\", 'these', 'those', 'am', 'is', 'are', 'was', 'were', 'be', 'been', 'being', 'have', 'has', 'had', 'having', 'do', 'does', 'did', 'doing', 'a', 'an', 'the', 'and', 'but', 'if', 'or', 'because', 'as', 'until', 'while', 'of', 'at', 'by', 'for', 'with', 'about', 'against', 'between', 'into', 'through', 'during', 'before', 'after', 'above', 'below', 'to', 'from', 'up', 'down', 'in', 'out', 'on', 'off', 'over', 'under', 'again', 'further', 'then', 'once', 'here', 'there', 'when', 'where', 'why', 'how', 'all', 'any', 'both', 'each', 'few', 'more', 'most', 'other', 'some', 'such', 'no', 'nor', 'not', 'only', 'own', 'same', 'so', 'than', 'too', 'very', 's', 't', 'can', 'will', 'just', 'don', \"don't\", 'should', \"should've\", 'now', 'd', 'll', 'm', 'o', 're', 've', 'y', 'ain', 'aren', \"aren't\", 'couldn', \"couldn't\", 'didn', \"didn't\", 'doesn', \"doesn't\", 'hadn', \"hadn't\", 'hasn', \"hasn't\", 'haven', \"haven't\", 'isn', \"isn't\", 'ma', 'mightn', \"mightn't\", 'mustn', \"mustn't\", 'needn', \"needn't\", 'shan', \"shan't\", 'shouldn', \"shouldn't\", 'wasn', \"wasn't\", 'weren', \"weren't\", 'won', \"won't\", 'wouldn', \"wouldn't\", \"he's\", \"i'm\", \"can't\", \"i've\", 'a', 'about', 'above', 'across', 'after', 'afterwards', 'again', 'against', 'all', 'almost', 'alone', 'along', 'this', 'is', 'your']\n"
          ],
          "name": "stdout"
        }
      ]
    },
    {
      "cell_type": "code",
      "metadata": {
        "id": "tS74friEaajo",
        "colab": {
          "base_uri": "https://localhost:8080/",
          "height": 319
        },
        "outputId": "2f5f4a29-5beb-465f-e27f-a42f3a5766fa"
      },
      "source": [
        "\"Remove stopwprds\"\n",
        "review_df['review_without_stopwords'] = review_df['review_lower'].apply(lambda x: ' '.join([word for word in x.split() if word not in (stop_words)]))\n",
        "review_df.head()"
      ],
      "execution_count": null,
      "outputs": [
        {
          "output_type": "execute_result",
          "data": {
            "text/html": [
              "<div>\n",
              "<style scoped>\n",
              "    .dataframe tbody tr th:only-of-type {\n",
              "        vertical-align: middle;\n",
              "    }\n",
              "\n",
              "    .dataframe tbody tr th {\n",
              "        vertical-align: top;\n",
              "    }\n",
              "\n",
              "    .dataframe thead th {\n",
              "        text-align: right;\n",
              "    }\n",
              "</style>\n",
              "<table border=\"1\" class=\"dataframe\">\n",
              "  <thead>\n",
              "    <tr style=\"text-align: right;\">\n",
              "      <th></th>\n",
              "      <th>review</th>\n",
              "      <th>labels</th>\n",
              "      <th>length</th>\n",
              "      <th>number of char</th>\n",
              "      <th>number of words</th>\n",
              "      <th>review_remove_num</th>\n",
              "      <th>review_lower</th>\n",
              "      <th>number of sentence</th>\n",
              "      <th>aver sentence char</th>\n",
              "      <th>number of punctuation</th>\n",
              "      <th>number of stop words</th>\n",
              "      <th>review_without_stopwords</th>\n",
              "    </tr>\n",
              "  </thead>\n",
              "  <tbody>\n",
              "    <tr>\n",
              "      <th>0</th>\n",
              "      <td>My wife and I stayed for 2 nights and loved it...</td>\n",
              "      <td>1</td>\n",
              "      <td>1410</td>\n",
              "      <td>1410</td>\n",
              "      <td>263</td>\n",
              "      <td>My wife and I stayed for  nights and loved it....</td>\n",
              "      <td>my wife and i stayed for 2 nights and loved it...</td>\n",
              "      <td>16</td>\n",
              "      <td>16.0</td>\n",
              "      <td>18</td>\n",
              "      <td>482</td>\n",
              "      <td>wife stayed 2 nights loved it. stay booked us ...</td>\n",
              "    </tr>\n",
              "    <tr>\n",
              "      <th>1</th>\n",
              "      <td>After reading some of the most recent reviews ...</td>\n",
              "      <td>1</td>\n",
              "      <td>745</td>\n",
              "      <td>745</td>\n",
              "      <td>142</td>\n",
              "      <td>After reading some of the most recent reviews ...</td>\n",
              "      <td>after reading some of the most recent reviews ...</td>\n",
              "      <td>13</td>\n",
              "      <td>11.0</td>\n",
              "      <td>26</td>\n",
              "      <td>267</td>\n",
              "      <td>reading recent reviews really perplexed. know ...</td>\n",
              "    </tr>\n",
              "    <tr>\n",
              "      <th>2</th>\n",
              "      <td>Stayed here for two days while attending Lollo...</td>\n",
              "      <td>1</td>\n",
              "      <td>386</td>\n",
              "      <td>386</td>\n",
              "      <td>64</td>\n",
              "      <td>Stayed here for two days while attending Lollo...</td>\n",
              "      <td>stayed here for two days while attending lollo...</td>\n",
              "      <td>7</td>\n",
              "      <td>9.0</td>\n",
              "      <td>11</td>\n",
              "      <td>140</td>\n",
              "      <td>stayed two days attending lollopalooza music f...</td>\n",
              "    </tr>\n",
              "    <tr>\n",
              "      <th>3</th>\n",
              "      <td>I booked this hotel for $75 on Hotwire with mi...</td>\n",
              "      <td>1</td>\n",
              "      <td>1158</td>\n",
              "      <td>1158</td>\n",
              "      <td>216</td>\n",
              "      <td>I booked this hotel for $ on Hotwire with mid-...</td>\n",
              "      <td>i booked this hotel for $75 on hotwire with mi...</td>\n",
              "      <td>30</td>\n",
              "      <td>7.0</td>\n",
              "      <td>43</td>\n",
              "      <td>412</td>\n",
              "      <td>booked hotel $75 hotwire mid-level expectation...</td>\n",
              "    </tr>\n",
              "    <tr>\n",
              "      <th>4</th>\n",
              "      <td>My wife and I decided to spend three days in C...</td>\n",
              "      <td>1</td>\n",
              "      <td>522</td>\n",
              "      <td>522</td>\n",
              "      <td>100</td>\n",
              "      <td>My wife and I decided to spend three days in C...</td>\n",
              "      <td>my wife and i decided to spend three days in c...</td>\n",
              "      <td>7</td>\n",
              "      <td>14.0</td>\n",
              "      <td>17</td>\n",
              "      <td>179</td>\n",
              "      <td>wife decided spend three days chicago last sum...</td>\n",
              "    </tr>\n",
              "  </tbody>\n",
              "</table>\n",
              "</div>"
            ],
            "text/plain": [
              "                                              review  ...                           review_without_stopwords\n",
              "0  My wife and I stayed for 2 nights and loved it...  ...  wife stayed 2 nights loved it. stay booked us ...\n",
              "1  After reading some of the most recent reviews ...  ...  reading recent reviews really perplexed. know ...\n",
              "2  Stayed here for two days while attending Lollo...  ...  stayed two days attending lollopalooza music f...\n",
              "3  I booked this hotel for $75 on Hotwire with mi...  ...  booked hotel $75 hotwire mid-level expectation...\n",
              "4  My wife and I decided to spend three days in C...  ...  wife decided spend three days chicago last sum...\n",
              "\n",
              "[5 rows x 12 columns]"
            ]
          },
          "metadata": {
            "tags": []
          },
          "execution_count": 100
        }
      ]
    },
    {
      "cell_type": "code",
      "metadata": {
        "id": "K6Z_oxEIiV8Z",
        "colab": {
          "base_uri": "https://localhost:8080/",
          "height": 319
        },
        "outputId": "48d7f397-5e5b-48d9-ae90-3fcca765d1e2"
      },
      "source": [
        "\"Word Stemming\"\n",
        "import re\n",
        "from nltk.stem import PorterStemmer\n",
        "stemmer = PorterStemmer()\n",
        "words = stopwords.words(\"english\")\n",
        "review_df['review_stem'] = review_df['review_without_stopwords'].apply(lambda x: \" \".join([stemmer.stem(i) for i in re.sub(\"[^a-zA-Z]\", \" \", x).split() if i not in stop_words]).lower())\n",
        "review_df.head()"
      ],
      "execution_count": null,
      "outputs": [
        {
          "output_type": "execute_result",
          "data": {
            "text/html": [
              "<div>\n",
              "<style scoped>\n",
              "    .dataframe tbody tr th:only-of-type {\n",
              "        vertical-align: middle;\n",
              "    }\n",
              "\n",
              "    .dataframe tbody tr th {\n",
              "        vertical-align: top;\n",
              "    }\n",
              "\n",
              "    .dataframe thead th {\n",
              "        text-align: right;\n",
              "    }\n",
              "</style>\n",
              "<table border=\"1\" class=\"dataframe\">\n",
              "  <thead>\n",
              "    <tr style=\"text-align: right;\">\n",
              "      <th></th>\n",
              "      <th>review</th>\n",
              "      <th>labels</th>\n",
              "      <th>length</th>\n",
              "      <th>number of char</th>\n",
              "      <th>number of words</th>\n",
              "      <th>review_remove_num</th>\n",
              "      <th>review_lower</th>\n",
              "      <th>number of sentence</th>\n",
              "      <th>aver sentence char</th>\n",
              "      <th>number of punctuation</th>\n",
              "      <th>number of stop words</th>\n",
              "      <th>review_without_stopwords</th>\n",
              "      <th>review_stem</th>\n",
              "    </tr>\n",
              "  </thead>\n",
              "  <tbody>\n",
              "    <tr>\n",
              "      <th>0</th>\n",
              "      <td>My wife and I stayed for 2 nights and loved it...</td>\n",
              "      <td>1</td>\n",
              "      <td>1410</td>\n",
              "      <td>1410</td>\n",
              "      <td>263</td>\n",
              "      <td>My wife and I stayed for  nights and loved it....</td>\n",
              "      <td>my wife and i stayed for 2 nights and loved it...</td>\n",
              "      <td>16</td>\n",
              "      <td>16.0</td>\n",
              "      <td>18</td>\n",
              "      <td>482</td>\n",
              "      <td>wife stayed 2 nights loved it. stay booked us ...</td>\n",
              "      <td>wife stay night love stay book us virgin atlan...</td>\n",
              "    </tr>\n",
              "    <tr>\n",
              "      <th>1</th>\n",
              "      <td>After reading some of the most recent reviews ...</td>\n",
              "      <td>1</td>\n",
              "      <td>745</td>\n",
              "      <td>745</td>\n",
              "      <td>142</td>\n",
              "      <td>After reading some of the most recent reviews ...</td>\n",
              "      <td>after reading some of the most recent reviews ...</td>\n",
              "      <td>13</td>\n",
              "      <td>11.0</td>\n",
              "      <td>26</td>\n",
              "      <td>267</td>\n",
              "      <td>reading recent reviews really perplexed. know ...</td>\n",
              "      <td>read recent review realli perplex know expect ...</td>\n",
              "    </tr>\n",
              "    <tr>\n",
              "      <th>2</th>\n",
              "      <td>Stayed here for two days while attending Lollo...</td>\n",
              "      <td>1</td>\n",
              "      <td>386</td>\n",
              "      <td>386</td>\n",
              "      <td>64</td>\n",
              "      <td>Stayed here for two days while attending Lollo...</td>\n",
              "      <td>stayed here for two days while attending lollo...</td>\n",
              "      <td>7</td>\n",
              "      <td>9.0</td>\n",
              "      <td>11</td>\n",
              "      <td>140</td>\n",
              "      <td>stayed two days attending lollopalooza music f...</td>\n",
              "      <td>stay two day attend lollopalooza music festiv ...</td>\n",
              "    </tr>\n",
              "    <tr>\n",
              "      <th>3</th>\n",
              "      <td>I booked this hotel for $75 on Hotwire with mi...</td>\n",
              "      <td>1</td>\n",
              "      <td>1158</td>\n",
              "      <td>1158</td>\n",
              "      <td>216</td>\n",
              "      <td>I booked this hotel for $ on Hotwire with mid-...</td>\n",
              "      <td>i booked this hotel for $75 on hotwire with mi...</td>\n",
              "      <td>30</td>\n",
              "      <td>7.0</td>\n",
              "      <td>43</td>\n",
              "      <td>412</td>\n",
              "      <td>booked hotel $75 hotwire mid-level expectation...</td>\n",
              "      <td>book hotel hotwir mid level expect one night t...</td>\n",
              "    </tr>\n",
              "    <tr>\n",
              "      <th>4</th>\n",
              "      <td>My wife and I decided to spend three days in C...</td>\n",
              "      <td>1</td>\n",
              "      <td>522</td>\n",
              "      <td>522</td>\n",
              "      <td>100</td>\n",
              "      <td>My wife and I decided to spend three days in C...</td>\n",
              "      <td>my wife and i decided to spend three days in c...</td>\n",
              "      <td>7</td>\n",
              "      <td>14.0</td>\n",
              "      <td>17</td>\n",
              "      <td>179</td>\n",
              "      <td>wife decided spend three days chicago last sum...</td>\n",
              "      <td>wife decid spend three day chicago last summer...</td>\n",
              "    </tr>\n",
              "  </tbody>\n",
              "</table>\n",
              "</div>"
            ],
            "text/plain": [
              "                                              review  ...                                        review_stem\n",
              "0  My wife and I stayed for 2 nights and loved it...  ...  wife stay night love stay book us virgin atlan...\n",
              "1  After reading some of the most recent reviews ...  ...  read recent review realli perplex know expect ...\n",
              "2  Stayed here for two days while attending Lollo...  ...  stay two day attend lollopalooza music festiv ...\n",
              "3  I booked this hotel for $75 on Hotwire with mi...  ...  book hotel hotwir mid level expect one night t...\n",
              "4  My wife and I decided to spend three days in C...  ...  wife decid spend three day chicago last summer...\n",
              "\n",
              "[5 rows x 13 columns]"
            ]
          },
          "metadata": {
            "tags": []
          },
          "execution_count": 101
        }
      ]
    },
    {
      "cell_type": "code",
      "metadata": {
        "id": "8BdJjqtOO57V",
        "colab": {
          "base_uri": "https://localhost:8080/"
        },
        "outputId": "e2066b58-c681-4d21-fe10-f3700bc5b7c1"
      },
      "source": [
        "import nltk\n",
        "nltk.download('punkt')\n",
        "nltk.download('wordnet')\n",
        "nltk.download('averaged_perceptron_tagger')\n",
        "from nltk.stem import WordNetLemmatizer\n",
        "from nltk.corpus import wordnet\n",
        "from nltk.tag import pos_tag\n",
        "from nltk.corpus import wordnet as wn\n",
        "from nltk.stem.wordnet import WordNetLemmatizer\n",
        "from nltk import word_tokenize, pos_tag\n",
        "from collections import defaultdict\n",
        "import string\n",
        "\n",
        "def lemmatize_sentence(data):\n",
        "    data = ''.join([i for i in data if i not in string.punctuation or i == '\\''])\n",
        "    tag_map = defaultdict(lambda : wn.NOUN)\n",
        "    tag_map['J'] = wn.ADJ\n",
        "    tag_map['V'] = wn.VERB\n",
        "    tag_map['R'] = wn.ADV\n",
        "    tokens = data.split()\n",
        "    lemmatized_sentence = []\n",
        "    lemmatizer = WordNetLemmatizer()\n",
        "    for token, tag in pos_tag(tokens):\n",
        "      if '\\'' in token:\n",
        "        continue\n",
        "      lemmatized_sentence.append(lemmatizer.lemmatize(token, tag_map[tag[0]]))   \n",
        "    return ' '.join(lemmatized_sentence)"
      ],
      "execution_count": null,
      "outputs": [
        {
          "output_type": "stream",
          "text": [
            "[nltk_data] Downloading package punkt to /root/nltk_data...\n",
            "[nltk_data]   Package punkt is already up-to-date!\n",
            "[nltk_data] Downloading package wordnet to /root/nltk_data...\n",
            "[nltk_data]   Unzipping corpora/wordnet.zip.\n",
            "[nltk_data] Downloading package averaged_perceptron_tagger to\n",
            "[nltk_data]     /root/nltk_data...\n",
            "[nltk_data]   Package averaged_perceptron_tagger is already up-to-\n",
            "[nltk_data]       date!\n"
          ],
          "name": "stdout"
        }
      ]
    },
    {
      "cell_type": "code",
      "metadata": {
        "id": "tDk9VhhsO-wc",
        "colab": {
          "base_uri": "https://localhost:8080/",
          "height": 405
        },
        "outputId": "fc88011e-cc01-4ec9-d15b-129eb0fda6ae"
      },
      "source": [
        "review_df['review_lemmatized'] = review_df['review_without_stopwords'].apply(lambda x: lemmatize_sentence(x))\n",
        "review_df.head()"
      ],
      "execution_count": null,
      "outputs": [
        {
          "output_type": "execute_result",
          "data": {
            "text/html": [
              "<div>\n",
              "<style scoped>\n",
              "    .dataframe tbody tr th:only-of-type {\n",
              "        vertical-align: middle;\n",
              "    }\n",
              "\n",
              "    .dataframe tbody tr th {\n",
              "        vertical-align: top;\n",
              "    }\n",
              "\n",
              "    .dataframe thead th {\n",
              "        text-align: right;\n",
              "    }\n",
              "</style>\n",
              "<table border=\"1\" class=\"dataframe\">\n",
              "  <thead>\n",
              "    <tr style=\"text-align: right;\">\n",
              "      <th></th>\n",
              "      <th>review</th>\n",
              "      <th>labels</th>\n",
              "      <th>length</th>\n",
              "      <th>number of char</th>\n",
              "      <th>number of words</th>\n",
              "      <th>review_remove_num</th>\n",
              "      <th>review_lower</th>\n",
              "      <th>number of sentence</th>\n",
              "      <th>aver sentence char</th>\n",
              "      <th>number of punctuation</th>\n",
              "      <th>number of stop words</th>\n",
              "      <th>review_without_stopwords</th>\n",
              "      <th>review_stem</th>\n",
              "      <th>review_lemmatized</th>\n",
              "    </tr>\n",
              "  </thead>\n",
              "  <tbody>\n",
              "    <tr>\n",
              "      <th>0</th>\n",
              "      <td>My wife and I stayed for 2 nights and loved it...</td>\n",
              "      <td>1</td>\n",
              "      <td>1410</td>\n",
              "      <td>1410</td>\n",
              "      <td>263</td>\n",
              "      <td>My wife and I stayed for  nights and loved it....</td>\n",
              "      <td>my wife and i stayed for 2 nights and loved it...</td>\n",
              "      <td>16</td>\n",
              "      <td>16.0</td>\n",
              "      <td>18</td>\n",
              "      <td>482</td>\n",
              "      <td>wife stayed 2 nights loved it. stay booked us ...</td>\n",
              "      <td>wife stay night love stay book us virgin atlan...</td>\n",
              "      <td>wife stay 2 night love it stay book u virgin a...</td>\n",
              "    </tr>\n",
              "    <tr>\n",
              "      <th>1</th>\n",
              "      <td>After reading some of the most recent reviews ...</td>\n",
              "      <td>1</td>\n",
              "      <td>745</td>\n",
              "      <td>745</td>\n",
              "      <td>142</td>\n",
              "      <td>After reading some of the most recent reviews ...</td>\n",
              "      <td>after reading some of the most recent reviews ...</td>\n",
              "      <td>13</td>\n",
              "      <td>11.0</td>\n",
              "      <td>26</td>\n",
              "      <td>267</td>\n",
              "      <td>reading recent reviews really perplexed. know ...</td>\n",
              "      <td>read recent review realli perplex know expect ...</td>\n",
              "      <td>read recent review really perplex know expect ...</td>\n",
              "    </tr>\n",
              "    <tr>\n",
              "      <th>2</th>\n",
              "      <td>Stayed here for two days while attending Lollo...</td>\n",
              "      <td>1</td>\n",
              "      <td>386</td>\n",
              "      <td>386</td>\n",
              "      <td>64</td>\n",
              "      <td>Stayed here for two days while attending Lollo...</td>\n",
              "      <td>stayed here for two days while attending lollo...</td>\n",
              "      <td>7</td>\n",
              "      <td>9.0</td>\n",
              "      <td>11</td>\n",
              "      <td>140</td>\n",
              "      <td>stayed two days attending lollopalooza music f...</td>\n",
              "      <td>stay two day attend lollopalooza music festiv ...</td>\n",
              "      <td>stay two day attend lollopalooza music festiva...</td>\n",
              "    </tr>\n",
              "    <tr>\n",
              "      <th>3</th>\n",
              "      <td>I booked this hotel for $75 on Hotwire with mi...</td>\n",
              "      <td>1</td>\n",
              "      <td>1158</td>\n",
              "      <td>1158</td>\n",
              "      <td>216</td>\n",
              "      <td>I booked this hotel for $ on Hotwire with mid-...</td>\n",
              "      <td>i booked this hotel for $75 on hotwire with mi...</td>\n",
              "      <td>30</td>\n",
              "      <td>7.0</td>\n",
              "      <td>43</td>\n",
              "      <td>412</td>\n",
              "      <td>booked hotel $75 hotwire mid-level expectation...</td>\n",
              "      <td>book hotel hotwir mid level expect one night t...</td>\n",
              "      <td>book hotel 75 hotwire midlevel expectation one...</td>\n",
              "    </tr>\n",
              "    <tr>\n",
              "      <th>4</th>\n",
              "      <td>My wife and I decided to spend three days in C...</td>\n",
              "      <td>1</td>\n",
              "      <td>522</td>\n",
              "      <td>522</td>\n",
              "      <td>100</td>\n",
              "      <td>My wife and I decided to spend three days in C...</td>\n",
              "      <td>my wife and i decided to spend three days in c...</td>\n",
              "      <td>7</td>\n",
              "      <td>14.0</td>\n",
              "      <td>17</td>\n",
              "      <td>179</td>\n",
              "      <td>wife decided spend three days chicago last sum...</td>\n",
              "      <td>wife decid spend three day chicago last summer...</td>\n",
              "      <td>wife decide spend three day chicago last summe...</td>\n",
              "    </tr>\n",
              "  </tbody>\n",
              "</table>\n",
              "</div>"
            ],
            "text/plain": [
              "                                              review  ...                                  review_lemmatized\n",
              "0  My wife and I stayed for 2 nights and loved it...  ...  wife stay 2 night love it stay book u virgin a...\n",
              "1  After reading some of the most recent reviews ...  ...  read recent review really perplex know expect ...\n",
              "2  Stayed here for two days while attending Lollo...  ...  stay two day attend lollopalooza music festiva...\n",
              "3  I booked this hotel for $75 on Hotwire with mi...  ...  book hotel 75 hotwire midlevel expectation one...\n",
              "4  My wife and I decided to spend three days in C...  ...  wife decide spend three day chicago last summe...\n",
              "\n",
              "[5 rows x 14 columns]"
            ]
          },
          "metadata": {
            "tags": []
          },
          "execution_count": 103
        }
      ]
    },
    {
      "cell_type": "code",
      "metadata": {
        "id": "OPDhcUxCPfFq",
        "colab": {
          "base_uri": "https://localhost:8080/",
          "height": 457
        },
        "outputId": "74ca5b0e-2bdb-4520-c133-9c8b92aa8eb3"
      },
      "source": [
        "\"Bigram\"\n",
        "from nltk.collocations import *\n",
        "def bigram_finder(data):\n",
        "  bigram_measures = nltk.collocations.BigramAssocMeasures()\n",
        "  # finder = BigramCollocationFinder.from_words(nltk.corpus.genesis.words('english-web.txt'))\n",
        "  tokens = nltk.word_tokenize(data)\n",
        "  finder = BigramCollocationFinder.from_words(tokens)\n",
        "  finder.apply_freq_filter(1)\n",
        "  return finder.nbest(bigram_measures.pmi, 10)  # doctest: +NORMALIZE_WHITESPACE\n",
        "\n",
        "review_df['review_bigram'] = review_df['review_lemmatized'].apply(lambda x: bigram_finder(x))\n",
        "review_df.head()"
      ],
      "execution_count": null,
      "outputs": [
        {
          "output_type": "execute_result",
          "data": {
            "text/html": [
              "<div>\n",
              "<style scoped>\n",
              "    .dataframe tbody tr th:only-of-type {\n",
              "        vertical-align: middle;\n",
              "    }\n",
              "\n",
              "    .dataframe tbody tr th {\n",
              "        vertical-align: top;\n",
              "    }\n",
              "\n",
              "    .dataframe thead th {\n",
              "        text-align: right;\n",
              "    }\n",
              "</style>\n",
              "<table border=\"1\" class=\"dataframe\">\n",
              "  <thead>\n",
              "    <tr style=\"text-align: right;\">\n",
              "      <th></th>\n",
              "      <th>review</th>\n",
              "      <th>labels</th>\n",
              "      <th>length</th>\n",
              "      <th>number of char</th>\n",
              "      <th>number of words</th>\n",
              "      <th>review_remove_num</th>\n",
              "      <th>review_lower</th>\n",
              "      <th>number of sentence</th>\n",
              "      <th>aver sentence char</th>\n",
              "      <th>number of punctuation</th>\n",
              "      <th>number of stop words</th>\n",
              "      <th>review_without_stopwords</th>\n",
              "      <th>review_stem</th>\n",
              "      <th>review_lemmatized</th>\n",
              "      <th>review_bigram</th>\n",
              "    </tr>\n",
              "  </thead>\n",
              "  <tbody>\n",
              "    <tr>\n",
              "      <th>0</th>\n",
              "      <td>My wife and I stayed for 2 nights and loved it...</td>\n",
              "      <td>1</td>\n",
              "      <td>1410</td>\n",
              "      <td>1410</td>\n",
              "      <td>263</td>\n",
              "      <td>My wife and I stayed for  nights and loved it....</td>\n",
              "      <td>my wife and i stayed for 2 nights and loved it...</td>\n",
              "      <td>16</td>\n",
              "      <td>16.0</td>\n",
              "      <td>18</td>\n",
              "      <td>482</td>\n",
              "      <td>wife stayed 2 nights loved it. stay booked us ...</td>\n",
              "      <td>wife stay night love stay book us virgin atlan...</td>\n",
              "      <td>wife stay 2 night love it stay book u virgin a...</td>\n",
              "      <td>[(1, queen), (airline, knew), (also, serve), (...</td>\n",
              "    </tr>\n",
              "    <tr>\n",
              "      <th>1</th>\n",
              "      <td>After reading some of the most recent reviews ...</td>\n",
              "      <td>1</td>\n",
              "      <td>745</td>\n",
              "      <td>745</td>\n",
              "      <td>142</td>\n",
              "      <td>After reading some of the most recent reviews ...</td>\n",
              "      <td>after reading some of the most recent reviews ...</td>\n",
              "      <td>13</td>\n",
              "      <td>11.0</td>\n",
              "      <td>26</td>\n",
              "      <td>267</td>\n",
              "      <td>reading recent reviews really perplexed. know ...</td>\n",
              "      <td>read recent review realli perplex know expect ...</td>\n",
              "      <td>read recent review really perplex know expect ...</td>\n",
              "      <td>[(avoid, expensive), (beat, location), (believ...</td>\n",
              "    </tr>\n",
              "    <tr>\n",
              "      <th>2</th>\n",
              "      <td>Stayed here for two days while attending Lollo...</td>\n",
              "      <td>1</td>\n",
              "      <td>386</td>\n",
              "      <td>386</td>\n",
              "      <td>64</td>\n",
              "      <td>Stayed here for two days while attending Lollo...</td>\n",
              "      <td>stayed here for two days while attending lollo...</td>\n",
              "      <td>7</td>\n",
              "      <td>9.0</td>\n",
              "      <td>11</td>\n",
              "      <td>140</td>\n",
              "      <td>stayed two days attending lollopalooza music f...</td>\n",
              "      <td>stay two day attend lollopalooza music festiv ...</td>\n",
              "      <td>stay two day attend lollopalooza music festiva...</td>\n",
              "      <td>[(attend, lollopalooza), (attraction, king), (...</td>\n",
              "    </tr>\n",
              "    <tr>\n",
              "      <th>3</th>\n",
              "      <td>I booked this hotel for $75 on Hotwire with mi...</td>\n",
              "      <td>1</td>\n",
              "      <td>1158</td>\n",
              "      <td>1158</td>\n",
              "      <td>216</td>\n",
              "      <td>I booked this hotel for $ on Hotwire with mid-...</td>\n",
              "      <td>i booked this hotel for $75 on hotwire with mi...</td>\n",
              "      <td>30</td>\n",
              "      <td>7.0</td>\n",
              "      <td>43</td>\n",
              "      <td>412</td>\n",
              "      <td>booked hotel $75 hotwire mid-level expectation...</td>\n",
              "      <td>book hotel hotwir mid level expect one night t...</td>\n",
              "      <td>book hotel 75 hotwire midlevel expectation one...</td>\n",
              "      <td>[(1045, pm), (12, hour), (2, bed), (3rd, party...</td>\n",
              "    </tr>\n",
              "    <tr>\n",
              "      <th>4</th>\n",
              "      <td>My wife and I decided to spend three days in C...</td>\n",
              "      <td>1</td>\n",
              "      <td>522</td>\n",
              "      <td>522</td>\n",
              "      <td>100</td>\n",
              "      <td>My wife and I decided to spend three days in C...</td>\n",
              "      <td>my wife and i decided to spend three days in c...</td>\n",
              "      <td>7</td>\n",
              "      <td>14.0</td>\n",
              "      <td>17</td>\n",
              "      <td>179</td>\n",
              "      <td>wife decided spend three days chicago last sum...</td>\n",
              "      <td>wife decid spend three day chicago last summer...</td>\n",
              "      <td>wife decide spend three day chicago last summe...</td>\n",
              "      <td>[(able, get), (affraid, stay), (anywhere, palm...</td>\n",
              "    </tr>\n",
              "  </tbody>\n",
              "</table>\n",
              "</div>"
            ],
            "text/plain": [
              "                                              review  ...                                      review_bigram\n",
              "0  My wife and I stayed for 2 nights and loved it...  ...  [(1, queen), (airline, knew), (also, serve), (...\n",
              "1  After reading some of the most recent reviews ...  ...  [(avoid, expensive), (beat, location), (believ...\n",
              "2  Stayed here for two days while attending Lollo...  ...  [(attend, lollopalooza), (attraction, king), (...\n",
              "3  I booked this hotel for $75 on Hotwire with mi...  ...  [(1045, pm), (12, hour), (2, bed), (3rd, party...\n",
              "4  My wife and I decided to spend three days in C...  ...  [(able, get), (affraid, stay), (anywhere, palm...\n",
              "\n",
              "[5 rows x 15 columns]"
            ]
          },
          "metadata": {
            "tags": []
          },
          "execution_count": 104
        }
      ]
    },
    {
      "cell_type": "code",
      "metadata": {
        "id": "PRu88mXYAoMc",
        "colab": {
          "base_uri": "https://localhost:8080/"
        },
        "outputId": "fd8624d0-1d36-4a37-b42a-a31e6120a8c5"
      },
      "source": [
        "vocabulary = list(review_df['review_stem'])\n",
        "print(vocabulary)\n",
        "print(len(vocabulary))"
      ],
      "execution_count": null,
      "outputs": [
        {
          "output_type": "stream",
          "text": [
            "['wife stay night love stay book us virgin atlant book flight london chicago quit sure expect reassur hilton brand name event found airlin knew suggest hotel arrriv got warm welcom check quick effici interior hotel spectacular look like refurbish reflect decor would built room given good size queen bed particularli comfort hotel conveni locat restaur nearbi first night ate hotel gourmet restaur lockwood disappoint breakfast also serv restaur buffet morn good valu qualiti offer gener found servic hotel good staff help nice touch check hotel go next destin car book pick us minut late arriv member staff supervis doormen saw us look bit lost came assist us find car arriv overal would thoroughli recommend hotel busi leisur stay qualiti valu money', 'read recent review realli perplex know expect pleasantli surpris past review neg posit state beat locat hotel perfect big spaciou room old tower avoid expens pitfal hotel extra bottl water item room fridg bed great room kept clean staff friendli great martini hotel bar realli understand neg review know pleas everyon case simpli believ claim travel lot stay plenti hotel great hotel', 'stay two day attend lollopalooza music festiv one best locat chicago michigan ave near tribun sun time build easi walk bu ride mani attract king size room nice larg gener bathroom servic excel throughout check awesom swim pool straight twenti', 'book hotel hotwir mid level expect one night total blown away arriv sunday night gave car valet night lobbi social peopl watch scene swank music check smooth easi ask upgrad told free upgrad rd parti book upgrad suit avail cost pass sinc night stay ask nice quiet room away noisi housekeep ice machin receiv room room huge bed felt like squar feet newli renov last year bell hop told room small total luck servic start finish top notch everyon smile face alway spoke great respect made us feel welcom order room servic pm arriv hour food pancak lockwood breakfast good food good servic strong coffe hotel right state street shop fyi room floor renov last year rest done year ago price great bargain complaint bathroom small', 'wife decid spend three day chicago last summer book via expedia first walk lobbi fell beauti like someth europ abl get free room upgrad even though room still bit small old hotel old citi sleep shower restaur loung shop wonderful next time travel chicago affraid stay anywher palmer hous hilton', 'spent wonder night amalfi friend even recept nice staff attent breakfast plu room cozi clean would hesit go back', 'fan kimpton hotel howev never experienc top servic hotel allegro even visit concierg mark kraemer advis us thing see book ticket advanc second citi welcom warmli arriv bellman check us came went hotel staff person interest make stay great experi hotel next citi hall busi larg quiet room use room servic meal came quickli includ bonu fruit cup enjoy pasta night dollar three cours meal restaur starter dessert wonder main pasta bit salti complaint make start finish want attent servic place thank hotel allegro great stay wait return', 'wife spent sever night getaway excurs choos pricelin gave paid book rate less pleas troubl checkin small room bed clean comfort starbuck lobbi godsend read horror stori staff seem friendli enough steal onlin face valu much definit return get similar price', 'guy trip chicago score hotel pricelin night littl confus bed situat first said king avail even call request doubl minut ordeal front desk put us room doubl room nice noth specacular littl small side nice lobbi beauti look hotel within walk distanc soldier field sear tower espn zone lot bar restaur great locat price got room made trip would defin tri stay hotel', 'beauti place european charm complaint great locat never like park chicago though night next door larg beauti lobbi touch class fantast locat downtown navi pier great grant park millenium park love', 'wonder experi super great help friendli staff angi front desk made sure husband birthday would great room beauti angi suggest go sullivan dinner perfect choic make reserv us best seat hous special dessert wow beyond hotel staff done us look forward stay thank', 'arriv weekend stay realli enjoy hotel cocktail hour full peopl could get second night went earlier nice staff help good knowledg area room modern clean stay', 'stay hotel one night hotel excel compar qualiti marriott sheraton perhap superior locat definit much better whatev trip purpos busi leisur drop bag take walk magnific mile love', 'attend bachorett parti chicago aug girl total room hear one complaint anyon entir extend weekend never chi town book hotel base review ta disappoint staff wonder happi hour fabul room nice clean great doubl head shower aveda product extra bonu also get free internet room hotel chic hip without pretenti still talk wonder time agre ever go back chicago stay amalfi trust pic justic', 'stay intercontinent three night last weekend locat fantast spot magnific mile right near chicago river nbc build doubl room main tower room clean updat staff friendli help neg hotel pay extra use fit centr internet access also park high valet day overal great stay would recommend hotel paid pricelin felt reason price', 'second time stay much look forward weekend amalfi base well first stay turn better anticip bed comfort head shower larg bathroom hotel also pleasantli quiet easi check room near exercis room help motiv us get hour morn workout abl grab complimentari fruit pastri juic coffe floor breakfast everi floor great view room think great view room sinc floor need drive take cab jump l whole weekend sinc hotel central locat easili walk bar blue club restaur hancock tower loop waterfront hotel highlight hotel complimentari happi hour free top shelf drink wonder meat chees pepper bread ran great warm nice dinner save us bundl money would spent eat drink even extra money save tip park self park lot block west hotel kinzi per night week per night weekend think hotel charg per night park', 'stay allegro juli night busi trip room spotlessli clean bed great read review said bathroom tini perfectli fine funki fun door decor lot fun th floor absolut street nois front desk staff friendli even made desk love man took bag brought room within moment arriv within walk distanc theater even walk one night way navi pier peopl upset free coffe dunkin donut block away definit recommend hotel', 'slate two night chicago june could onyl get intercon night book handicap room sinc left read review properti decid move two night one stay second night hotel monaco cours upon check given suit nice room great linen clean bathroom quiet park realli high understand peopel say room need updat everyth clean work well ost room bit dark late night drink bar reason price eat menu seem pretti good albeit typic hotel mark up expect thought place everyth need happi room staff linen housekeep much better other indic', 'got awesom deal pricelin friday sunday stay night hotel central locat michigan avenu magnific mile walk ton shop plenti restaur handi well hotel staff friendli room gorgeou modern decor drab typic like chain hotel stay chicago definit stay price valet park overnight insan day expect big citi', 'fabul hotel locat directli magnific mile surround finest shop curtiou staff excel restaur bar hotel one best chicago room clean fresh public area comfort staff concierg front desk extrem help place stay cnetr action chicago highli recommend', 'spent three night hotel girl weekend staff wonder room beauti locat great take train directli midway walk one block hotel close museum restaur stay alway prove great choic trip chicago', 'stay ic chicago night th dec read review trip advisor werent disappoint room opposit histor tower room spaciou clean good view toward river tribun build got good rate room breakfast hotel expens wifi per day hotel magnific mile plenti place eat includ breakfast starbuck lobbi hit kid handi would definit recommend hotel', 'alreadi wrote review free stuff get go write locat like walk place close everyth tast chicago th juli let tell best tast citi ever massiv took min walk took train airport around solid min complain approx walk hotel pretti much walk everywher walk entir magnific mile strip went blue navi whatev dock call favourit bar pop champagn wow love champagn cours john hancock centr lot shop', 'small boutiqu hotel tuck away perfect locat loop miracl mile two block west wrigley build conveni restaur etc staff doormen desk folk extra nice accommod delici breakfast floor ultra conveni even happi hour gener morn paper welcom bed comfort second stay certainli last love chicago hotel one reason', 'brought giant rottweil great time small room normal chicago hotel scene lot interest amen room conveni theatr downtown restaur shop realli love lobbi great place hang around wait someon lot nook cranni littl tabl sofa everywher watch concierg like concierg big hotel direct mediocr larg restaur get kickback stay sever time alway check room travel chicago howev hotel often full book earli', 'love hotel reason downtown chicago older hotel great reno bit top design still love charm clean room friendli staff also amazingli pet friendli welcom lb mastiff cross gift bag treat direct leash area even cute blackboard visit dog name', 'allegro downtown chicago great stay part kimpton group boutiqu hotel allegro offer classi stay beauti room moter price offer complimentari decent wine grati late afternoon hotel allow access everyth loop offer remark citi would recommend park outsid downtown area take el loop leav minut hotel otherwis look hefti park fee car dont need part citi room small beauti done great color comfort bed case great view go kimpton group websit sign special alert great rate certain day kimpton great job properti class act', 'spent three night amalfi hotel chicago busi book king corner room love largest room ever hotel chicago incred comfort clean breakfast even cocktail nice bonu locat beat walk distanc river loop michigan ave shop conveni public transport notic number review comment nois ye street nois build street construct nois usual want sleep late week ask room back side realli downtown chicago go silent want silenc stay suburb want great hotel great price right thick everyth stay amalfi', 'wife redeem hilton reward point stay night palmer hous hotel absolut beauti moment walk lobbi tell place nice diamond member got upgrad suit great provid access execut loung free food drink servic excel locat hotel within walk distanc mani sight south side chicago would definit recommend hotel anyon interest come chicago', 'stay palmer hous hilton earli decemb stay weekend everi decemb think best locat citi us like state street better michigan avenu palmer hous right stay tower room two doubl bed bath room huge comfort tower area recent refurbish show lobbi beauti plasma screen tv wall comfort chair tabl seper room food drink continent breakfast morn appet cocktail hour cooki laid room close fridg stock soft drink water juic take pleas upgrad tower everyon check', 'return girl shop sight see trip palmer hous like home away home hotel undergo renov notic inconveni hear nois work lobbi breathtak dress christma staff check housekeep welcom friendli room updat two bed two separ bath great everyon person space would hesit recommend hotel anyon chicago great town', 'wife return night stay amalfi hotel chicago enjoy everyth hotel importantli room perfect plenti space great jazz cd room wonder bathroom one comfort bed ever slept staff help everi request amalfi offer great continenti breakfast everi floor morn good coffe great select pastri fruit juci also enjoy manag recept one even offer great choic complementari cocktail antipasta guest would highli recommend hotel', 'hotel beauti excel locat minor issu hotel clearli gear toward convent busi crowd charg everyth although incur room littl small class hotel overwhelmingli small true complaint elev slow comparison stay equal age hotel differ citi trip intercontinent significantli slower littl nit pick staff excel doormen highlight hotel bar also nice hotel immacul clean would definit travel hotel', 'love hotel six floor make easi get elev recept build dwarf amongst skyscrap around trump huge new tower street amalfi look recent refurbish modern warm invit bedroom quit spaciou love linen comfort bed bathroom quit small roomi enough aveda tolietri constant hot water shower continent style breakfast set fresh everi morn front elev everi floor great stumbl bed grab coffe etc robe slipper provid without get dress formal breakfast realli enjoy manag even cocktail recept especi amalfitini nice way relax hard day shop locat great shop transport museum etc easi walk everywher staff also friendli welcom would defin stay', 'stay night visit chicago first time locat great hotel recent renov room spaciou two bathroom lobbi great place chill drink eat restaur good one nearbi besid art institut cultur centr maci staff friendli would recommend base tour citi', 'stay intercontinent last weekend septemb pleasur trip intercontinent great locat staff excel room clean comfort came equip new lg flat panel tv breakfast zest hotel restaur bit pricey decent want buffet hotel walk distanc millenium park museum aquarium also lot shop window shop best though consid sale tax possibl rais great stay highli recommend would stay', 'look hotel truli best locat intercontinent right magnific mile next chicago river wrigley build daughter stay getaway quickli abl get milennium park shop navi pier great dine explor festiv stroll beauti area lakefront chicago river check easi treat courtesi throughout stay maria one concierg especi help find us uniqu place eat room love comfort although tub drain well wonder stay', 'stay hotwir got amazingli low rate odd dollar nightli night stay last may room us small view anyth except wall part hotel clean tast decor cozi great vacat walk town end near planetarium turn around saw skylin chicago wow anyway hotel great servic great room nice would recommend hotel anyon though work front desk hotel previou person comment abl get adjoin room well internet site guarante thing like anyway got call hotel direct verifi thing like note internet site well room type locat guarante star hotel', 'stay amalfi hotel alway excel time differ usual book direct hotel howev found slightli better deal book expedia save staff great arriv earli room wait place th top floor quiet comfort overal good get definit continu stay chicago rememb hotel close everyth downtown magnific mile lot restaur etc everyth within walk distanc', 'hotel great great area right downtown close everyth daili happi hour great food wine premium liquor free breakfast even better actual believ everyth includ breakfast happi hour busi center wifi room king size face back build realli clean new comfort small touch book cd enjoy made room feel less like hotel would highli recommend', 'attend train confer chicago opt book room thru one onlin discount program rather stay rather steril pedestrian hotel confer held book night intercontinent pleas eleg conveni locat easi walk confer lobbi room hotel live stori reput indoor pool seem import set busbi berkeley movi even tho confer hotel locat mag mile quick jaunt restaur theater made pleasant stay afford price', 'friendli staff helpful whatev may miss wine bar hot chocol bar spaciou room perfect busi theatr guest littl quiet area weekend', 'coupl year sinc stay got night last weekend hotwir paid stay saturday night impress redecor done hotel lobbi alway great room littl shabbi past hotel redecor last year locat still amaz berghoff open great restaur within walk distanc', 'bring new puppi busi trip stay palmer hous servic wonder staff friendli toward dog owner even stop tell nice dog easi access red line midway valet prompt retriev car recommend call advanc car wait', 'stay one night hotel staff extrem friendli polit room clean larg decor redon best perk complimentari continent breakfast floor morn free cocktail hour premium drink great appet night got great rate would go back great locat walk around', 'hotel wonder colleg student went mom weekend like pro front desk staff help knew great place eat get breakfast pastri coffe tea muffin etc fresh drink hor oeuvr yummi room clean well decor lot peopl differ age stay con far museum', 'husband stay hotel allegro march great time upgrad suit enjoy jacuzzi tub mr bubbl anim print robe luxuri king size bed suit nice problem nois room street boutiquey lobbi love enjoy complementari wine hour staff attent stay kimpton hotel made first time trip chicago memor would return', 'decid book amalfi cancel reserv differ hotel read review ta blown away review amalfi ta decid check abl secur great price hotel room disappoint ask put quiet room interview next day room quiet great locat complaint right next fit center could hear peopl run treadmil day howev quiet night could hear anyth room enorm chicago pleas hotel provid free breakfast good free internet free gym access hotel block magnifici mile walk everyday shop say doorman truli gem friendli wish front desk staff friendli plan stay amalfi anytim visit chicago futur', 'book hotel second leg chicago stay great lion king packag pricey reason given ticket cost suit room great classic music greet us enter room long day sightse shop nytim chicago tribun door everi morn one block washington el train station never saw small room everi one appar like suit room fun kid love dunkin doughnut corner bakeri block citi hall picasso structur great place book also use golden touch limo servic reason omar super guy', 'stay night may say hotel except clean modern funki free wine tast even restaur serv good breakfast staff love help throughout stay hotel locat within walk distanc metro system also close shop restaur sight room love althou bathroom slightli compact side back', 'got back great weekend chicago complaint palmer hous easi get hare blue line el train block walk train station hotel beauti staff super friendli go way help book air hotel packag deal expedia expect stay room full size bed extra per night upgrad excut level best decis trip beauti room king bed comfort robe plush towel etc also includ nice continent breakfast morn day snack beverag great happi hour took advantag everi day locat great lot shop state st get magnific mile cab ride minut walk back chicago palmer hous', 'nice hotel small adequ room decor love daughter spent night saw wick street use public transport get around town bit disappoint bar restaur open close kitchen without regard post hour room descript boast safe larg enough accomod laptop brought mine inform check safe everi room mine side note surpris nearli shop mani restaur close pm area even', 'return week chicago famili hotel perfect us locat great kid love pool place wind day museum tour ball game etc check hilton honor desk oppos regular check line even though reserv pricelin reduc rate gave us pick room room larg closet help amount gear us use valet park hasselfre great experi would stay', 'return weekend palmer hous normal stay north mag mile want closer soldier stadium art insitiut time abl upgrad suit upon arriv half price paid regular room four season two week earlier suit huge basic live room dine room kitchen wet bar area one larg room three addit bedroom ad use connect door room spotlessli clean even smell good love soap robe etc lot larg closet bathroom older well maintain much better one four season furnitur nice worn spot bed linen excel room servic fast food servic great pool workout area clean well maintain one small problem burn lightbulb one lamp maintainc arriv quickli new bulb allow tip check somewhat slow hotel sold sever week larg hotel move lot peopl room also hotel view configur like e palmer hous good valu money', 'recent stay intercontinent hotel week hotel wonder locat servic great found staff help prompt highli recommend intercontinent travel need whether busi pleasur', 'stay palmer hous night corpor rate bed excel linen towel top line find room shabbi review note palmer hous year old room older woodwork classic furnitur think lend ambienc place expens sure stay compani pick tab hotel still awe inspir', 'stay king suit hotel allegro memori day weekend paid night definit bargain suit huge live room couch two chair desk larg bathroom bedroom two closet room recent renov clean comfort bed friendli staff great locat near train bu even wine recept morn coffe provid allegro five star hotel great place money note friend stay non suit room report small upgrad possibl', 'wife stay long weekend great check staff chang room singl bed without question bar serv best martini room well decor spaciou although get littl tight bathroom door bell staff accomod walk wife room arriv late would definit stay', 'minu hotel provid free morn coffe kimpton hotel great place stay theater rate say morn coffe robe room took long time hour great place concierg excel', 'stay ich chicago busi novemb love royal ambassador member upgrad beauti junior suit separ live work area bathroom upgrad place upon arriv beauti fruit basket wait coffe tabl even nice young ladi escort room suit beauti furnish art deco feel thing regret stay one night definit stay next visit', 'stay intercontinent entir week busi part eleg conveni visit stay histor tower nice room great view attent staff conveni locat north tribun tower river nice fit club entir stay downsid get feel nickl dime day wi fi bottl water room mini bottl wine fridg tip multipl staff carri bag etc hous restaur zest zagat rate though sure within minut walk plenti great restaur much better food zest next time need near loop stay intercontinent', 'chicago want stay loop allegro hotel perfect central locat stylish room attent staff stay hotel night pleas everyth bed comfi plenti fluffi pillow larg flat screen tv radio ipod dock station bathroom hip clean everyon came contact friendli help last day order room servic meal perfect deliv time kitchen call see everyth alright never kind follow servic stay palomar dc anoth kimpton hotel receiv except servic definit see kimpton hotel next destin', 'stay night book via hotwir upgrad histor tower got big room nice view servic great valet park effici expect doller night locat best', 'review littl late husband first stay amalfi total base review read websit total wow love locat room aveda bath product love even recept breakfast floor return chicago girlfriend book us suit amalfi great room spaciou girlfriend quit pleas stay next time chicago p honor govern rate', 'stay sever time alway found clean comfort bed given choic breakfast free cocktail thought nice touch room small adequ locat great close l train also close train station alway walk union station', 'attend confer palmer hous truli surpass expect idea would larg nice mani amen also realiz around corner milenium park art institut met door friendliest staff even long line check entir process minut enjoy room date tv decent size bathroom comfort bed fantast breakfast buffet well delici take lunch main restaur paid night confer seem quit fair consid downtown chicago stay sofit much upscal also paid night', 'book hotel use point credit card arriv immedi greet friendli face arriv sever hour check howev let us check earli also gave us free room upgrad hotel absolut stun addit state street mani thing shop din theater also close public transport would like go unit center airport hotel also allow us late check addit charg room dark quiet slept', 'apprehens read neg review hotel allegro howev stay without problem staff could friendli help room huge plenti room move around without bump one anoth bathroom small well appoint overal clean interestingli decor room pleas other complain abl clearli hear peopl adjac room must luck way experi although could occasionali hear peopl talk hallway one review complain rather bitterli area said danger even begin understand found extrem safe area also close public transport use train exclus got around quit well without car would definetli stay recommend other', 'would definit recommend hotel anyon want accommod chicago ideal posit love quiet room good facil complimentari breakfast well receiv manag even drink recept excel alway tip staff serv drink hous amalfitini cocktail good staff friendli help ever return chicago would certainli stay there noth bad say hotel', 'well locat well staf amalfi clean comfort place stay lack restaur bar mani near free continent breakfast even cocktail', 'becam ambassador member spend mother day chicago intercontinent receiv room upgrad except room saturday night stay best ever spent mother day special welcom chocol cover strawberri began weekend high note concierg continu arrang wonder dinner moder price great sunday breakfast top mother day chicago super love enough back labor day weekend anoth packag', 'great time center locat chicago walk around easi pleasent staff amaz help park bit steep expect room nice bed linen confort yoga mat rental wonder well wonder relax experi overal', 'best hotel bargin chicago overli unhappi small room great hotel redon kimpton great hotel chain realli provid sens escap fun hotel locat lasal next cadillac theater star restur enjoy relax atmospher amaz italian meal wine list one best citi great restaur kimpton social hour wine hotel sit design kind london circa couch fire place nearbi lost art form relax fellow guest super anim friendli provid complet servic dog wish bring exercis room great spa well two kimpton money allegro best valu locat alway consid kimpton never disappoint ever use', 'spent two night intercontinent busi trip tremend tower hotel one best locat chicago right magnific mile superbl conveni shop well place busi area room histor tower mason club convert enorm expens effort worthwhil room larg well furnish beauti bathroom contain separ shower cubicl breathtak view michigan avenu superb recreat centr impress swim pool beauti bar good restaur zest serv great breakfast wifi room per day tea coffe make facil trouser press iron board iron staff friendli anxiou pleas recommend hotel strongest possibl term expens difficult find better one chicago', 'stay allegro sever day august would defint stay larg room huge bathroom although properti convert theater room may vari size layout lobbi comfort big sofa chais loung nice place enjoy simpl choic munchi pleasant wine recept night much go immedi vicin theater traffic short cab ride michigan avenu shop river north restaur', 'book via pricelin com weekend getaway got room per night arriv via midway took orang line within block hotel hotel easi find never felt uncomfort neighborhood area saw homeless panhandl walk place great locat hotel cab ride major attract shop restaur hotel gawdi color decor differ cruis ship decor annoy decor mean check painless servic great heard nois whatsoev report thin wall greatli exagger wall concret thick heard noth night highli recommend hotel room small crowd two peopl old style hotel room classic', 'hotel cannot beat locat price atmospher locat ideal corner state kinzi fantast restaur bar around includ hous blue harri caray stay corner king room room amaz two four wall floor ceil window even th floor great view surround area decor amen unmatch decor clean simpl luxuri hotel easi miss street level staff extrem friendli accommod perfect home base plan revolv around river north state street shop clark street nightlif even mag mile short cab ride away offici name downtown hotel choic', 'stay octob novemb cconfer beauti hotel locat perfect art institut millenium park short block walk hotel room small beauti bed comfi plenti pillow ala coffe maker room staff help friendli stay', 'stay allegro coupl time like kimpton properti classic old hotel beauti updat found staff cordial realli like corpor cultur pet friendli although travel dog got recycl bin room aveda product bath clean toxic chemic room huge bathroom go get hilton allegro lack squar footag make cool ok may littl pricey will pay bit consid higher cost busi responsibili', 'stay two day first week januari hotel quiet got big corner room staff friendli decor modern huge choic pastri cake bread breakfast take back room free hor oevr drink great antipasti oliv bread chees meat marin veget realli easi hotel stay fairli central coupl block away l quiet despit build work opposit chicago stay', 'locat hotel excel besid subway bu stop free trolley bu navi pier besid hotel room spaciou kind big solo travel view room excel great view sleep night bathroom spaciou room big wardrob kitchen microwav oven cook utensil cook utensil bit dirti probabl use sometim howev microwav oven use heat food eat night easili walk magnific mile cut shop mall road check pizzeria uno near hotel serv delici deep dish pizza cheaper food check foodcourt shop mall hotel also serv breakfast dinner mon thur find food fantast pretti decent strongli recommend hotel everyon go chicago', 'tri millennium knickerbock stay chicago stay enjoy drake intercontinent other alway come back knickerbock charli doorman duti pull welcom probabl ask name want call name everi time see visit somehow even let employe know name sudden doorman receptionist bellman waiter refer name employe make hotel ye everyth offer like hotel other fine peopl includ clean staff folk tri like look forward next visit alreadi', 'love hotel fabul old build first class modern amen great locat close lakeshor citi chicago walkabl citi superb base staff love friendli effici room wonder comfort except clean great chair great coffe love bathroom huge absolut fantast shower also extrem quiet best bed ever meant slept well sinc week import yummi martini martini bar definitley back', 'recent stay hotel famili terrif experi land hotel pricelin per night paid addit per night suit st floor two young boy love view unbeliev pool nd floor easili access found employe interfac friendli accommod would love stay', 'first visit chicago realli cannot wait go back hotel great locat everi member staff contact except help particular mention go door staff amazingli help room clean quiet spaciou everi hotel like', 'husband stay sheraton chicago hotel tower februari everyth hotel experi superb locat wonder well room overlook river great view lake toward navi pier best part stay sweet sleeper bed comfort staff friendli help well noth bad say sheraton stay', 'best servic staff incred never lift finger room huge hotel room go view phenomen locat great great weekend stop drink palm restaur unfortun close p bad lobbi loung open later drink cost twice much bar palm', 'wife stay downtown event attend drake hotel stay drake nice bit stuffi littl outdat price opt walk street stay millenium instead know properti gone mani renov past year say done great job place use hotel would crash came chicago colleg roadtrip case properti directli drake hotel price get great locat newer albeit smaller room everi ammen would expect hotel room tast decor asian influenc w flat screen tv bed comfort bath small tub clean shower great go spend bunch time room vist chicago room size big deal work well coupl famili four may bit cramp servic attent friendli locat beat would definit stay next time would leav car home night park bit steep', 'knickerbock hotel fantast old hotel updat room get old timey charm fresh comfort hotel fabul locat one minut walk cheesecak factori bloomingdal minut walk einstein bagel compani best bagel cream chees ever maci sak locat beat one end magnific mile make easi stroll start middl backtrack hotel staff super help friendli check smooth concierg cheryl amaz book dinner reserv activ us recommend incred restaur call carmin minut walk greatest italian restaur ever recommend room small small beauti big samsung flat screen cordless phone rain shower ampl clean towel beauti marbl countertop hotel room european charm made feel like star hotel europ bed comfort duvet soft like butter complaint housekeep woke us one morn knock door despit fact disturb sign answer ask come back later seem bit mif issu correct though happen night stay hotel uniqu item room servic menu ie grill chees mini tomato soup dip cute late night menu howev lack would nice see soup said rare order room servic vacat realli see big deal overal would recommend hotel without hesit think paid night would say worth far wonder experi truli look forward stay stay anywher els', 'happi stay knickerbock room nice staff excel abl stay per night thru pricelin incred bargain opinion hotel nice excel locat michigan ave best shop chicago found right around corner great locat close mani great attract neg would swim pool think common lot older hotel chicago would defin recommend place hope abl stay futur', 'stay night knickerbock could better stay hotel recent renov room staff could friendli help dave cora martini bar juli front desk help upgrad us hotel everyth need stay close fun chicago offer pick citi knickerbock john judi', 'stay altern spot friend wed price cost stay similar hotel area first minus standard room small want littl space might want upgrad sinc hotel recent rehab see stuff cover paint realli view hotel pluss shower awesom probabl one best hotel shower seen rain shower wand great pressur enclosur leak like lot shower stall nice fixtur finish room top notch modern clean bed great better hotel promot bed great night sleep overal great space trip go spend much time room town confer work need spread stuff might work anyon els realli like experi care travel nice bed good shower relax long day good spot', 'got back three night knickerbock went chicago last minut christma shop hotel great locat north end michigan ave half block away staff nice profession everyon came contact help grant older hotel room bigger closet book standard room arriv upgrad delux room good size room nice furnish comfort bed bathroom somewhat small housekeep great job clean room everi day eat restaur nix saw sever peopl get order deliv bar overheard comment say food good drink servic martini bar slow martini run good drink shi away liquor valet park day privilig overal great stay would defin stay hotel futur', 'perfect locat clean courteou staff ad great stay area plenti store mile restaur hotel lobbi th floor elev get annoyingli slow overal would highli recommend place regardless famili friend busi subway wrigley block away front door', 'sister went chicago weekend decid stay hotel friend work homewood suit cleveland got discount valet realli friendli get servic pay park hotel check th floor restaur beneath hotel street level also made find hotel tricki expect groov pull turn pull right side street ladi front desk friendli inform room clean fact extent stay hotel nice came bring home leftov restaur store reheat food complimentari breakfast great real food egg bacon french toast cereal bagel juic milk yogurt hotel walk distanc everyth trolley goe navi pier pass michigan avenu also free wifi overal would defin stay would recommend other', 'sheraton fantast hotel wife stay th floor overlook chicago river lake michigan view great got corner room also couch hotel short walk navi pier magnific mile shop area food hotel great servic check maid servic first class great hotel great town highli recommend', 'stay one nite sheraton hotel tower littl nervou read neg review ta poster let got room via pl first place room th floor fabul view roof lobbi park lot sinc noth lose ask move room view front desk attend rasheeda want make sure room first clean order assur move th floor eas took minut quit surpris heard treat pl hotwir folk littl less love full price custom new room clean spaciou overlook navi pier skyris condo beauti infin lake michigan yep skip room servic walk local gourmet market suggest other pricey food delici room comfi ampl closet room breath well conveni internet connect locat didnt use sinc wasnt stay long least desk bed pillow comfi awok morn sweat comfi warm somewhat weighti duvet bed great deal price would absolut stay', 'hotel beauti went group friend blast central locat close sort transport continent breakfast magnific see much staff men front door extrem help', 'make reserv made one busiest weekend summer memori day staff abl get famili afford rate suit spaciou clean cozi comfort upon arriv staff friendli will exceed expect serv enthusiasm hot breakfast delici morn bed comfort provid good night rest would recommend hotel friend anyon need addit space travel budget compar chicago hotel', 'famili stay hotel extend weekend trip juli bedroom suit great locat downtown chicago within walk distanc shop downtown tourist attract servic excel hotel staff friendli breakfast buffet good eat area get crowd recommend go earli room quiet clean highli recommend hotel famili travel stay day would stay park expens day valet cheapest self park could find area day valet park valet bell staff help friendli rd experi homewood suit differ citi great experi time', 'want stay fabul hotel citi will pay littl extra recommend place also pay extra corner room view citi spectacular short walk michigan avenu excel servic valet concierg lobbi agent waitstaff restaur food restaur great room servic shabbi either well worth money', 'book via pricelin sure like sheraton fallen cliff hotel absolut surpass expect despit book pricelin treat like king let check earli gave beauti room even went far look starwood number could get credit stay staff unfailingli pleasant properti immacul room comfort highli recommend hotel', 'ok back knickerbock would give best rate believ bad review got pricelin deal still got fine room clean date furnish ok littl tradit tast smoke free someon said anoth thread peopl write prank review think peopl get life peopl want read truth point view room th floor regard size room two room one doubl bed room x doubl bed valenc kind mini canopi furnitur bathroom tile shower tub wall paper paint done last year chines inspir cabinet held tv coffeemak ice bucket mini bar three separ level tv ice coffe minibar room call queen execut one queen bed canopi valenc sofab two tv terri bathrob also size differ configer one tv face bed three level cabinet sofab smoke lobbi bar right entranc open arrang sure smoke come bar entranc door smoke smell smoke room cost room pricelin plu tax good valu one block n michigan ave complaint concierg said free trolley go michigan ave field museum museum complex fact ignor tri throw busi taxi either case good said time year free trolley goe navi pier winter clearli incorrect', 'stay week confer servic excel addit excel servic locat great quick access michigan ave bar shula restaur excel must rib eye steak well done', 'realli enjoy brief stay millennium knickerbock front desk personnel bellmen housekeep staff bartend everyon met help welcom th floor room clean beauti view look north drake hotel apart street nice room coffe servic appreci lot room bathroom toiletri still take room beauti older hotel charact spaciou cooki cutter room day', 'stay januari even enjoy much could wait get back chicago great town visit homewood suit place stay period stay enjoy everi day p weather high get back hotel fantast everyth need write heart citi two seper room handi teenag son full kitchen laundri th floor seveal foodmarket within walk distanc everyth within walk distanc wont need car valet park wont want one dont take word check wont disappoint oh mention free breakfast dinner job done brainer book p there also beach within walk distanc', 'travel illinoi uk busi book friday saturday night homewood suit could weekend citi locat perfect walk distanc michigan ave shop touristi stuff liter yard l red line get surround area room great exactli wow decor clean realli well stock expect suit larger averag hotel room seper sit area actual room mini apart open loung kitchen bedroom bathroom two flatscreen tv huge bed breakfast buffet egg bacon great hangov kitchen meant could cook lunch rather eat need', 'stay swissotel th anniversari got corner room lake citi view room clean spaciou staff extrem friendli help ask late checkout told problem bring car park millinum park block away cost compar swissotel', 'love boyfriend book hotel onlin littl worri would like sinc paid next noth night paid stay santa barbara motel gorgeou hotel great staff fun bar loung area impress room larg window bathroom best took bubbl bath one night look view navi pier skylin rememb think realli live room comfort quiet great view like bathroom chicago wonder town noth good thing say wait come back', 'stay swissotel busi trip first week aug arriv late first night got shove hospit room first night howev made strong talk assign corner room th floor excel view citi river lake michigan fact would say corner room swissotel better view hotel vicin room huge everyth clean bathroom nice hotel convieni locat magnifici mile millenium park would much recommend hotel would suggest tri everi method possibl get corner room higher floor', 'stay one night june stay busi chicago great locat busi shop sightse michigan avenu magnific mile loop next chicago river room spaciou clean gym wonder view situat top hotel bar next lobbi busi good atmospher cannot fault hotel prefer westin previou address chicago', 'enjoy day weekend swissotel chicago friend mine book got great rate cheaper even fleabag motel keep eye special view great locat prime staff help room larg doubl bed one complaint room next sort storag mechan room employe think would sneak talk phone sound came right though vent bathroom could hear plain day fortun sound bathroom like kept us night littl weird overal great stay definit stay', 'thought swissotel great hotel room spaciou clean especi downtown chicago standard importantli room quiet never heard peopl hallway tri sleep downsid bed anyth special sure like hotel chicago hotel cater wealthi busi client ridicul minibar park price howev awar prior arriv big deal ie find differ place park car bring snack room would nice though hotel swissotel microfridg room guest use staff help bellmen instantli got cab upon request front desk effici help overal get good rate stay swissotel next time chicago', 'use stay homewood suit time busi stay busi sinc sinc time compani busi suburb instead downtown decemb year stay day famili greet never left ladi name conni work breakfast shift greet everyon alway rememb year wonder ladi inde wife even comment way chicago ladi would still would still rememb ye great place stay', 'great hotel use cta day chicago great line stop nearli front hotel need taxi travel midway citi ohar use buse alot freez cold hotel great clean room reali best bathroom ever staff friendli even found get timerland shoe right got one place told that servic also look gym room swim pool area use know would includ room price reali nice view make run easyer', 'stay sheraton navi pier first weekend novemb pleas accommod servic upgrad club level room stay adjoin view room spectacular tell pictur attach also left plate cooki treat kid room upon check made us feel special hotel central navi pier michigan ave walk trolley cab around area ate breakfast buffet morn thought pretti good egg littl runni happili made differ batch us omelet station six year old ate free two eleven year old instead adult room clean concierg recept staff friendli help definit visit sheraton chicago next time', 'book hotel directli hotel websit arriv tire ireland find mislaid book room night room rest week book anoth nice downtown hotel paid taxi hotel night accommod return hotel next day upgrad club level realli impress hotel everyth could make earlier mistak unprompt cours hotel particularli nd floor excel definit back', 'time chicago stay differ hotel much best option lobbi warm receptionist room hotel good walk distanc magnific mile chanc get lost hotel like travel style could good option', 'back busi trip homewood great locat magnific mile includ great breakfast heavi hor ouevr dinner beer pre paid rate without doubt best valu chicago long long time', 'love free breakfast dinner weeknight hotel clean nice room pool need updat kid care friend took granddaught grandma grandaught outing hotel perfect', 'great hotel view fabul servic friendli locat superb book room upper floor access loung breakfast snack avail pictur perfect view chicago river neg ceil hall room low make feel littl cramp book room night memori day weekend steal highli recommend hotel anyon return', 'strand chicago two day sinc flight home cancel airlin put us touch hotel com found us room sheraton tower long frustrat day end us still chicago arriv sheraton joy entir staff wonder bell staff great help us final let go heavi bag jonathan check help us room upgrad us time enjoy locat facil properti unexpect stay would highli recommend locat other say enough staff chicago futur definit return', 'stay hotel week famili hotel huge clean comfi bed food great staff nicer stay thanksgiv fabul second time chicago still want go back hotel within walkin distanc state street michicgan avenu taxi right outsid hotel concierg also ring mini buse travel big crowd also cinema min away opposit hotel perfect hotel great get away', 'husband teenag son stay hotel last august transfer tour oper sent us terribl hotel side chicago complain ask us transfer sheraton arrang us stay mani hotel life best room although know largest beauti clean everi amen need also superb view river lake entranc hall sheraton imress leisur centr fact area fantast best thing hotel though staff bellboy receptionist dine staff concierg one courteou help one conciergi spent fifteen minut phone tri locat specif pair trainer son beyond call would say cannot reccomend hotel highli enough breakfast buffet cost dollar could eat much like take long like last us day choic stay think enjoy sheraton', 'stay three night checheck wait minut special request made room quiet comfort mark improv last time stay year ago renov great maintain old time charm hotel', 'stay hotel night want stay downtown chicago hotel right next john hancock build walk distanc mani shop restaur everyth els valet peopl front desk peopl friendli help best thing hotel awesom locat room suit choos king doubl insid room get anoth sofa bed live room area get tv also roof top pool look michigan lake love also', 'sheraton wonder hotel mom flew realli tire decid take quick nap didnt want get bed absolut die want take home servic great probabl one biggest biggest hotel ive ever stay realli nice restaur insid excel food', 'stay busi night realli like attract classi comfort hotel got element sexi sharp public space nice open area bar front lobbi nice sit area room love well handsom fixtur furnitur terrif desk work space comfort bed bathroom amen fixtur sleek attract well best hotel breathtak view citi water river lake work area best choic part town prefer nearbi hyatt monaco', 'review complain small room major citi found room quit comfort king bed realli nice furnish one featur like abil open window knikerbock small boutiqu hotel right michigan avenu best area chicago staff friendli help paid hotwir could found better room downtown chicago', 'stay swissotel special birthday weekend wife aug call ahead ask nice room order flower wife jaym ballard concierg made arrang flower earli check great room room rd floor view face citi room larg everyth look like new great bed larg bathroom separ shower great ammen beauti bouquet flower arriv upon arriv hotel min everyth close far anyth great restaur patio outsid cigar realli nice pool hot tub nd floor would recommend hotel anyon thank jaym make trip special', 'absolut love knickerbock expect hotel cooki cutter comfort forget place holiday inn like row hous develop suburb knickerbock like beauti old hous center citi locat great hotel bar cozi classi room feel like guest bedroom victorian mansion price simpli better downtown chicago', 'wife celebr anniversari knickerbock could treat better cab bag load cart walk hotel doorman room well appoint entir hotel staff friendli prime locat shop sightse nightlif', 'third stay homewood suit chicago prove great previou two staff consist friendli polit profession appli whether work front door servic room manag breakfast room recept desk genuin seem happi work enough guest room larg clean seem good insul hear thing neighbour hotel quit busi hotel well place walk shop michigan ave catch bu subway jewel osco trader joe within coupl block perfect stock groceri etc husband heartili recommend binni beverag depot huge varieti beer need excus return chicago next year make four year run homewood suit stay anywher els', 'third trip chicago year love citi everi time stay differ downtown hotel swissotel definit favourit come back juli see play wick second time swissotel need tri hotel locat good financi district magnific mile room spotless quiet view amaz elev fast comfort bed friendli servic mani noisi siren even watch navi pier firework bed best anniversari ever would recommend swissotel everyon', 'great locat right chicago river away skyscrap hotel room good size clean nice river view overal great staff particular would like point christi morgan chief experi offic paula fortney concierg assist make stay memor one interest full disclosur stay amex starwood point', 'first trip back chicago year perfect chose knickerbock read room recent renov top great locat michigan avenu rush street downtown chicago must say impress guestroom stay prior definit refresh seen photo post review guestroom nice decor modern feel good size histor hotel bed wonder need get pillow top mattress home use internet access issu love larger screen tv shower fun differ type shower head choos bathroom fresh new granit tile anxiou get back chicago year would highli recommend hotel fantast guestroom locat staff ad digit pictur room complet differ one saw previou review new renov', 'wonder stay staff extrem help room especi larg fact small kitchen make everyth lot easi breakfast supper excel go way make feel comfort instanc take away plate take room busi center gym pool also make first choic next time chicago', 'quaint warm friendli place stay accomod dble bed bathroom fine bit small compar usa hotel compar european travel place palati would def stay locat great', 'boyfriend amaz breathtak view lake michigan texa view citi import us problem hotel room servic locat top notch', 'wonder hotel amen everyon help breakfast buffet wonder bed like home would definit stay nice touch water bottl left car us enjoy way home littl touch like make hotel one best', 'visit chicago two teenag daughter homewood suit amaz complimentari breakfast recept offer much varieti hotel within walk distanc mani place eat shop got caught thunderstorm got soak wet dri cloth dryer right hotel homewood suit much like home suit spaciou everyth need hotel lot brochur suggest dine activ staff friendli help chicago amaz place homewood suit place stay would definit stay', 'book room swissotel hotwir unbeliev rate extrem impress swissotel staff polit cater everi need room overs clean larg bathroom partial view lake michigan ad bonu nd floor spotless workout room pool view citi lake side spectacular sat hot tub look navi pier wait go swissotel', 'hi stay three night recent check check staff member went way make sure everyth ok anyth could help us direct restaur transport noth much troubl dinner monday thursday wonder surpris also breakfast adequet stay th floor slept soundli hotel close everyth tourist busi travel restaur shop within min', 'stay memori weekend nite room great hotel alway love breakfast morn drink even applic around corner magnific mile close lot restaur staff great even check earli noon room avail less hour later fresh fruit avail us bell guy cool suit small side compar homewood complaint hous clean kept room clean felt safe', 'first time chicago stay swissotel five night wonder place room th floor absolut clean nice breathtak lakeview breakfast perfect servic realli good peopl alway help littl bit far magnific mile loop front hotel buse number wait next turn real bu stop driver frindli get bu next time go chicago stay swissotel', 'great place great view river lake walk everyth clean comfort room accommod staff arriv earli check check late effect ad two day vacat larg hotel staff work hard take good care custom', 'recent celebr th anniversari chicago stay sheraton chicago hotel tower look gizillion place chose one locat navi pier go dinner cruis odyssey navi pier hotel short walk unless wear heel navi pier found way home cab ride worth blister also short walk michigan ave shop comfort shoe perhap chose hotel locat view also terrif time lake view navi pier previou trip river lake view nice hotel nice sever restaur although tri burger place downstair sure smell good though end bubba gump navi pier good room spaciou clean kind germaphob clean import saniti bottom level door lead right riverwalk cool water fountain obvious highli recommend hotel chicago', 'chicago septemb convent compani book hotel hotel central locat michican ave less block away perfect locat suit huge comfi bed beauti kitchenett breakfast best bounti muffin toast mean everyth imagin waffl bacon sausag hash brown toast danish omelet burrito freshli made artif realli good clean also free dinner buffet excel mexican night chines night american fare includ wine beer also well worth expens price night classi clean hotel love chicago come', 'alway stay sheraton chicago hotel tower take kid citi beat locat walk distanc navi pier michigan ave hotel also coupl block fabul fox obel high end groceri store mani prepar item avail go great cafe serv stellar breakfast hotel staff profession courteou room adequ comfi bed kid enjoy pool window overlook chicago river', 'lucki enough get star hotel pricelin luckier got knickerbock check check hotel staff extrem help friendli room small cozi read review guest somewhat scare would find must stay differ hotel frequent travel felt room hotel met star rate ye room bathroom small histor hotel big citi decor qualiti met expect lobbi bar invit overal would stay', 'everyth read review pretti much money excel custom servic employe realli care guest alway coffe tea hot chocol lobbi good hot breakfast dinner wine beer doormen nice will help direct room job kitchen flat screen tv pullout couch includ close el us found buse use would recommend get pass got day pass well worth got jewel osco far hotel part major peopl older peopl busi trip famili us three girl mind would definit recommend place one cheapest place found hotel', 'love hotel one best stay lobbi beauti room nice comfort made servic terrif matter time left room made came back ask maid coupl extra nice friendli like hotel staff nice friendli daughter girl weekend thursday sunday everyon doorman concierg peopl desk etc wonder say enough good hotel ye bathroom small move room stay day hardli room anyway definit stay', 'swisshotel awesom high class expens everi hotel chicago dingi area citi yet long walk navi pier need pay cab note magnific mile bore live chicago hotel better experi mile navi bore pier', 'one favorit sheraton starwood properti stay lot hotel mostli starwood chi around favorit base cost amen downtown locat realli like begin unload taxi greet nick year give best greet la ny alway happi obvious love job peopl front desk alway nice effici like workout roberta run fit center anoth one love job serv guest well great lake river view work particular trip caught pinch howev christi former mgr abl take care frequent guest consid minor miracl base hotel avail maid th floor friendli effici anoth great experi', 'daughter chicago one night attend three day confer elsewher illinoi chicago way home know stay chicago book one night sheraton chicago hotel tower base ad chicago visitor guid glad enjoy stay much room comfort well appoint wonder view citi want great view got also hotel within walk distanc mani attract access bu stop took train bu airport citi bad save us lot money elev room fast quick one alway avail found front desk staff friendli accommod downsid us book one night chicago wish could stay sheraton least anoth night would definit stay', 'greet staff excel custom servic skill room pleasant surpris flat screen tv full size shower rain showerhead hand held shower wand wall attach toilet flush option wall comfort bed love light option etc size room snug comfort would histor hotel also quiet know hotel sold sister room next door hear tv also love walk less block shop restaur north michigan avenu', 'niec stay long weekend wonder time arriv earli around let us room nice otherwis would store luggag regist later room clean bathroom women need extra towel brought right away got call make sure deliv room also quiet construct go behind us never heard anyth bed comfi quilt good locat michigan ave wonder stay would return', 'stay hotel night august wait check even though quit desk open littl annoy receptionist seem work two room great view navi pier good size bed comfort room spotlessli clean locat hotel best walk navi pier michigan ave breakfast buffet great although littl pricey bar relax nightcap two would certainli recommend hotel would stay', 'swissotel cleanest hotel ever stay room bathroom quit larg downtown chicago pool hot tub also nice would defin recommend hotel hear nois room guest citi great locat walk distanc millenium park loop michigan ave', 'hotel magnific mini palac staff polit help profession e mail receiv left chicago concierg le offer get us ticket direct reserv anyth like see also got us upgrad room someon rude but line regist registri person said would upgrad room grant beauti suit complet king size bed jacuzzi bed linen comfort us slept late everi morn', 'recent remodel affina amaz choic pillow menu stock pantri refriger brand name bathroom ammen within walk distanc everyth could possibl need affina great hotel staff pleasant seem enjoy job never stay downtown chicago affina exceed expect although trip chicago one night consid stay affina futur visit', 'stay talbott week enjoy stay room littl noisi next lift everyth els made posit bed comfort great real shower free internet gym usag staff friendli locat neg lift nois lift slow restaur mani great restaur around bother stay would stay', 'stay talbott night busi pleas staff friendli immedi confirm lore midwest upgrad suit bigger apart certainli luxuri free wi fi came handi need work remot everyth comfort bed staff locat made great stay oh got workout huge equinox right next door free', 'hard rock hotel great relax getaway room quiet bed comfort bathroom nice size fabul servic got great rate fact bathrob list amen soni radio work perfect would definit stay', 'ambassador east awesom hotel understand hotel full histori boutiqu hotel famili stay ambassador two night suit clean room great space best part ambassador room though staff extrem courteou especi concierg stay go pump room restaur full nostalgia staff great food excel great atmospher music', 'prepar hotel old histor list updat done doubt forewarn clean staff phenomen said beat locat right heart gold coast take train hare right citi drop block hotel one block beach public transport right incred area explor highli recommend ambassador east', 'read review get excel rate travelzoo decid give hotel tri must say great choic locat perfect n michigan ave walk distanc everyth staff help friendli room excel gave us corner room w great view mani post bed pillow comfort picki slept well everi night renov done bother us one bit highli recommend hotel', 'larg roomi clean bed room larg bathroom big minibar snack assort tuck away nice corner hall nois custom servic absolut incred doorman front desk gentleman deliv toothpast room request sure get littl outsid nois big citi unusu realli enjoy stay strongli recommend', 'hotel perfect girl getaway decor fun refresh love roof top bar everi staff member friendli alway smile locat perfect michigan ave shop beach dinner night life mile two millenium station concierg recommend coupl place hang dinner ad name guest list sure time still nice gestur', 'book room night hotwir labor day weekend arriv hard rock around abl give us room earli hooray th floor beatl theme room comfort one room corner lot window bit larger fewer window great view side hotel pay room view bed pillow extrem comfort bathroom full aveda product bathrob closet tv dvd stereo combo nice room lot use warn front desk even touch snack drink weight charg problem make use free fit center weather perfect husband abl go run grant park waterfront instead said wonder use free internet room wire internet stepdad said better anyway room bit dim night abl read fine use bedsid lamp virtual hall elev nois locat hard rock ideal easi get breakfast corner bakeri block either grant park art institut state street shop michigan ave sum absolut noth complain would glad stay time', 'girlfriend stay night talbott return home saturday wonder time thoroughli enjoy hotel staff top bottom excel accommod room roomi complaint abl cool room fast enough day town construct next door obstruct sidewalk oneway street limit difficulti doorman andrew excel sourc hotel arrang transport night restaur enjoy everyth hotel citi hotel expens met expect', 'stay night anniversari desk clerk great sinc anniversari gave us upgrad imagin surpris got floor room corner tower suit view river michigan ave beauti cab avail right outsid lobbi never paid cab ride go dec must go chriskindl festiv strudel', 'stylish hotel locat right north michigan avenu five minut walk orang loop line get midway airport forget take taxi train ride less minut away room immacul spaciou sq ft told decor gray white room comfort sooth jar hand found light poor troubl read find key etc kid bathroom also quit dark didnt heat lamp posit side howev aveda product bathroom window huge day ton natur light issu dark king size bed firm plush pillow top made comfort invit largish tv dvd player safe munchi gym perfect equip treadmil ellipt bike weight open video surveil safeti towel water headphon dispos ear pad complimentari green appl suggest floor nd take elev nd l get gym way dont travers lobbi front desk staff amiabl attent read review nasti personnel experi got free newspap smile free stamp need chang coffe could toler morn hard rock locat less minut walk water tower druri theater john hancock magnific mile like thrifti breakfast recommend gourmet pantri n michigan avenu deli made delici egg toast roll butter sunday morn less hotel breakfast buffet per person partak would stay hard rock think great peopl tween sure toddler set though', 'complet blown away hotel magnific got great deal happi stay arriv nervou read bad review impact renov peopl stay exampl noisi howev whilst renov still go gym open restaur made differ room huge bathroom spaciou excel water pressur bed perfect view amaz hotel close great shop magnific mile plu comfort walk distanc hancock tower millennium park', 'excel locat block michigan ave two block water tower place john hancock tower beauti hotel felt luxuri high class moder price hotel staff excel friendli accommod', 'stay talbott twice last week pleas everi facet stay staff doormen front desk concierg housekeep wonder room nice size clean well stock return talbott anytim', 'travel lot busi quit frankli expect start reach new low usual alway choos w hotel consist averag hotel affinia chicago rais expect w hotel go suffer comparison hotel one cleanest stay time servic impecc friendli front desk staff extra towel order arriv liter within minut gym new equip plenti space fun vibe without dark hallway loud music thank review review led affinia pleas new chicago hotel even lead tri manhattan hotel', 'husband stay fitzpatrick earli june birthday great hotel locat provid easi walk navi pier marshal field michigan avenu john hancock room seem spaciou even though sq ft lot room bathroom comfort bed quiet upscal hotel would definit stay', 'other said construct work complet suspect price hotel legitim charg put price rang piti excel hotel locat better room spaciou separ sit studi area nice bathroom minor point downstair serv free basic breakfast coffe pastri knew last morn nobodi mention cost internet bit dear especi lot motel offer free power milk room nice none realli spoli realli enjoy stay', 'bunch us got togeth great time hotel ask lime gave us like punch bowl room awesom realli see believ extradionari hotel love decor everi floor surround eleg definit stay', 'book anoth hotel block away spent unhappi night walk talbott courtiest staff show us room book rest stay room attract well furnish doubl sink bathroom tub larg shower pleasur locat quiet request staff alway cheer help tim stephani provid excel concierg servic breakfast basil cafe great way start day travel lot appreci ambianc good hotel would highli recommend talbott stay', 'stay ambassador east great hotel great locat charm gold coast neighborhood downtown chicago gave feel stay chicago neighborhood vs concret jungl downtown magnific mile rush street block front door staff friendli also realli enjoy drink histor pump room live band saturday realli enjoy look pictur celebr throughout loung visit year gone definit recommend', 'wife stay two night talbott end februari littl hotel perfect place us lobbi small also cozi fireplac go welcom atmospher come cold staff friendli effici room pretti spaciou king bed extrem comfort seventh floor room face delawar st realli view bathroom good size includ two sink spaciou tub shower also free wireless internet big plu us perhap best thing talbott locat step state rush north michigan ton shop bar good food easili within walk distanc make talbott great place tourist want walk around take everyth highli recommend talbott gladli stay return trip', 'return night stay talbott first visit honestli say stay hotel chicago first great bell captain final departur staff noth less amaz alway greet smile help attitut room spaciou comfort bed probabl comfort wife ever slept includ four season great breakfast drink basil would miss fantast experi stay talbott', 'love stay talbott chicago attend theater show dirti danc book room orbitz receiv nice discount arriv hotel everyon doorman front desk maid highli profession courtesi upgrad king bed suit suit well decor spaciou wife particularili enjoy heat could direct marbl floor bathroom love hotel definit stay talbott next trip chicago highli recommend', 'love ambassador great hotel realli beauti room absolut strike classic eleg everyth done realli well staff treat like regular top notch hotel best place stay long time complaint wish mile', 'great find downtown chicago price right staff excel note construct go around hotel notic issu disturb sleep ask quiet room upper floor gladli given one lobbi small atmospher small boutiqu hotel concierg stephani super job find us restaur book us reserv complimentari appet standard room spaciou tast decor everyth need bathroom nice whirlpool tub soak mp compat radio nice perk say enough nice staff everi singl person meet would definit stay', 'great hotel great locat great citi cool bar area left main door hang staff quit funki look part room spaciou well thought pictur old rocker bathroom beatl although cup tea happi enough georg stare back hotel corner michigan ave short walk take fabul shop restaur tri cheesecak factori meal cocktail top floor john hancock centr slighti longer walk short cab ride navi pier take ride seadog enjoy fun fair mayb drink two whilst listen great live music hotel citi well worth check', 'wow start book hotel hotel com less paid travellodg downtown check breez entir staff friendli help room huge king bed comfort room also nightstand chair small tabl desk walk closet even furnitur room spaciou room show sign wear think add charm rich histori hotel hotel locat neighborhood felt like stay condo home rather hotel littl nois howev block rush divis street nightlif red line clark divis block away decid walk michigan ave next thing knew hancock build stay away nois away action breakfast pump room stori photo taken booth take time research sat booth impress photo celebr guest adorn wall pump room chanc dinner return dinner someday breakfast anyth fanci bit prici histori experi worth opinion waitstaff friendli everyon work hotel wait return', 'also return frigid weekend chicago book ambassador east great rate aaa card delight ye room show sign wear warmth charm far make pleasant chang sleek modern look mani chain boutiqu hotel becam member prefer program therefor elig upgrad automat got upon check love suit lot sit room comfort bedroom bathroom wonder food pump room classic oatmeal tast serv love right locat great normal winter weather could easili walk michigan avenu shop due minu degre windchil opt cab less fare also enjoy glass wine around fireplac lobbi found welcom cozi overcrow would definit stay', 'love talbott locat fabul close shop hotel smaller room nice spaciou abl darken sleep well also bed comfort ever slept might also add room queen bed staff friendli put hotel cute outdoor eat area sidewalk flower etc look like scene europ would highli recommend hotel daughter age', 'affinia virtual perfect hotel visit chicago wife stay upgrad suit larg room modern littl touch staff extrem help profession locat excel price good valu get simpli find anyth critic highli recommend', 'locat locat locat great find excel well run small boutiqu type hotel tree line street near action without oppress crunch room good size clean good bed shower tub air condition mention review noisi minor complaint staff simpli wonder attent houseclean concierg site restaur great red line el block away make get around citi breez footstep away rush street north michigan avenu lake michigan would moment hesit book hotel futur fact book anywher els', 'sweeti lure guis dinner china grill upon arriv tell boy watch game suit upstair want say hi arriv th floor oh surpris ladi gentlemen someth admir spaciou roomi yet warm cozi invit great bed comfort furnitur great inch plasma view unbeliev complaint shower door keep heat complaint room servic great morn coffe yummo overal fabul experi', 'chicago one favorit citi visit friend suggest tri talbott delight took talbott great small hotel block half michigan avenu near four season drake westin concierg staff helpful gene stephani took great care us room spaciou fresh elev could bit slow time asid construct next door stay perfect bice run hotel restaur enjoy breakfast stay', 'great hotel right heart chicago loop within walk distanc downtown attract park expens p nt park free remot locat recreat drive sinc plan drive check staff friendli help room larg clean', 'recent return two night stay ambassador east hotel look comfort hotel stay visit famili locat chicago mission accomplish would like quiet comfort hotel great area furnish show sign age detract eleg style room add comfort home like feel found staff friendli help return guest mani time futur sure', 'got outstand rate sign hotel websit newslett affinia great locat michigan avenu near water tower bewar howev park expens gold coast night right start victor greet us made us feel welcom check easi room gorgeou howev handicap acess room want tub one call front desk anoth room room renov beauti comfort well appoint rooftop bar must outsid patio heater candl high tabl big group littl group chair sofa get comfi enjoy view sit insid bar area pedro quentin excel bellmen christoph concierg help left shook victor hand alway told found new chicago hotel', 'wife stay ambassador east hotel first day honeymoon mid octob decid split honeymoon stay two differ hotel could experi differ aspect area chicago week start say great experi check indic honeymoon upgrad suit ambassador east probabl minut walk north end magnific mile also minut walk lot great restaur bar rush room incred spaciou well appoint suit rd floor two larg closet larg live room larg bedroom bed incred comfort bathroom nice enough would pay full price suit probabl would given rate staff kind wife great time decid give five also worth mention concierg help wife decid eat pump room restaur impress found food servic mediocr atmospher probabl pretti neat sinatra use eat back day anymor although unimpress pump room staff kind enough seat us sinatra booth back corner enclos curtain neat experi realli redeem valu meal ambassador east older hotel charm older neighborhood staff kind overal charm hotel realli impress wife chicago definit consid stay ambassador east', 'check affinia hotel chicago shortli dinner tuesday greet frendli staff valet servic front desk tell peopl happi hotel pleasantli surpris got room room well decor well thought furnitur right locat lot space plu conveni lot power outlet bedroom washroom clean great sleep comfort bed told front desk could choos differ pillow although take advantag offer thought great idea come hotel great servic well thought room perfect locat right magnific mile visit chicago definit tri stay affinia', 'stay pleasent day big friendli hotel room spotless comfort great view also nice view roof bar area pleasant nice clean minut walk magnific mile easi walk around lake friendli stuff clean great warm hotel stay big hotel factori like feel like home', 'hard rock hotel natur choic book block room sever colleagu travel chicago locat fantast short walk top notch citi point interest lake michigan millennium park art museum sever fantast restaur nearbi choos co work love exterior build view room art wall crisp clean hip feel hotel top busi far better experi usual chain hotel shuffl bore room feel special price lobbi bar fun cozi area hang watch peopl pass michigan ave catch real rock star lobbi', 'stay ae two night three gener girl weekend grandma mom daughter look websit idea rate look packag might interest us call properti directli assist graciou man name reec rate bit high saturday night portion stay request american girl packag happi honor advertis rate american girl packag perfect us year old daughter thrill give doll bed backpack travel kit keep match bathrob girl doll get keep also got special welcom letter complimentari room servic snack special print menu room larg clean two doubl bed nice linen two chair desk clean bathroom employe friendli help drink pump room eat ate breakfast nearbi great place call rd coast hotel north michigan ave short pleasant walk mag mile would defin stay chicago', 'visit th birthday never chicago sure stay found deal hotel travelzoo great rate staff awesom help nice locat great enjoy stay still like nyc better great great hotel would stay', 'stay great review true highli impress high qualiti everyth everyon locat walk distanc much chicago offer gibson steakhous hancock build name coupl hotel realli top ten even top five hotel chicago also three star mean three star hilton garden inn marriott courtyard place far exce chain hotel like depend room get price would good deal could still worth', 'nice locat close shop place eat also beauti neighborhood small hotel pleasant place sit lobbi pump room classic place drink dinner comment enjoy peopl watch afternoon drink look window peopl neighborhood short walk good shop eat', 'live block hotel arrang new floor put condo away floor finish return look inexpens local hotel one night think ambassador east least expens hotel within reason distanc decid stay year visit group stay also eaten bar never stay lobbi eleg servic great room larg clean although littl outdat locat best residenti area citi far concern live two block away conveni north michigan avenu good shop street reason conveni loop main busi area also probabl restaur price rang reason walk distanc includ best citi paid less includ tax one night sure regular rate think deal best travel bargain around', 'got great deal hotwir night ever return chicago would definit stay even full price realli like room mute modern decor john lennon bono compani comfort bed mini coff maker plenti storag space love clean bathroom stock full aveda product sold straight away take much know product junki tip maid request extra bottl leav lot goodi like locat great view n michigan ave found staff realli friendli relax recept gift shop bar bar area trendi like chill atmospher surpris caus normal find type bar bit pretenti like lack memorabilia bother interest art deco featur build anyway fault speaker room crackl bit oh boyfriend think proposit friendli ladi look busi bar think place either love hate like laid back contemporari hotel without intimid factor place', 'stay hard rock one night intens day thanksgiv shop realli great hotel room realli cool basic one bed extrem comfort softest sheet great pillow technolog room great nice upscal tolietri bathroom modern room still comfort homey locat perfect get wherev want go staff nice help bar realli funki interest martini menu one best hotel stay chicago realli enjoy would highli recommend', 'return two night stay affinia chicago visit delight thank tripadvisor review prepar major construct work facad entranc mess hotel restaur bar remain incomplet unavail even part lobbi wet paint sticker thing could made disappoint stay although arriv earli day suit readi warm graciou greet front desk staff minut felt like home suit th floor fab view wall window sparkl fresh clean bathroom light outstand led bride nearli year say made look younger right everyth room like new stylish visitor appreci conveni locat step magnifici mile ambianc thank dedic graciou staff fantast locat chic decor element hotel futur hotel choic chicago stay short sweet', 'awesom hotel room overlook michigan ave could see river stylish trendi room hotel lack bit amen pool etc made locat qualiti hotel book thought hotwir awesom valu', 'stay august rd sixteen year old son thoroughli enjoy hotel price reason hotel locat right michigan avenu front desk concierg servic excel enhanc stay make easi us plan fun activ john entwistl theme floor nice touch singl father appreci difficult take fun afford vacat children hard rock hotel chicago realli help accomplish', 'put good word hard rock hotel chicago review read go mix sure expect locat perfect hotel beauti view awesom room larg enough clean bed comfi staff help especi concierg jare find anyth neg say want stay downtown chicago go wrong cool hotel', 'upon check lobbi busi tire feel well tough road show front desk person check fast nice walk away desk smile great feel everi time experi hotel staff member pleas say servic realli everyth give top mark ad bonu locat think perfect top meet loop quit sure get person approach lobbi ask could help get meet thought get taxi walk suv drove meet free servic hotel state drove realli cool even talk pump room yet great dinner profession servic attitud return date room littl bit that curtain need help', 'quaint romant yet masculin notic chicago hotel bar hard get drink much less seat guess small hotel problem talbott plu peopl take drink seat lobbi invit cozi comfort love would love stay must say surpris comment comfort bed firm also note gym premis walk shop enough workout', 'staff recogn name excel eye contact welcom back set tone stay flower lobbi recept area beauti hous keep staff terrif help prompt room servic food serv hot make big differ pump room food surpris tasti impress client well done', 'stay ambassador east hotel extrem relax pleasant enjoy locat could easili walk red line access bu line michigan avenu felt safe walk neighborhood street view fabul architectur n state street dearborn walk rd coast cafe chicago histori museum second citi hotel room spaciou well kept quiet enough us take nap afternoon head even would choos stay even could afford expens locat downtown definit enjoy neighborhood feel place', 'return love shop trip chicago nice hotel love stay visit chicago lot posit say hotel staff excel never experienc excel servic worth come back pleasantli surpris room rate includ breakfast thing could make hotel even better hand shower bathroom hairdryer place bedroom instead bathroom bathroom damp shower prefer leav bathroom dri hair free internet access lobbi surpris pay usd minut log check airlin airlin check without pay', 'wife spent night talbott room spaciou comfort well appoint hotel quiet although construct nearbi linen towel first class free wi fi room locat terrif one block michigan avenu stay futur visit', 'stay hotel friend night hotel clean tidi throughout concierg christoph excel help need gave us discount voucher etc hotel excel posit block john hancok build importantli cheesecak factori bloomingdal block away water tower shop centr block away went huge max cinema ten minut away cant wait go back chicago affinia', 'stay night great hotel updat room clean use tim book theater din reserv provid excel servic close subway shop din excel valu free wireless internet access nearbi health club nice perk highli recommend futur concern adjac construct condo problem someth ask front desk futur', 'excel locat feel like boutiqu hotel right next neiman marcu v expens dept store min walk john hancock tower american medium high end hotel servic excel bellhop recept upgrad suit stay longer coupl day walk around windi citi tire suit feel like small apart pub basement good sandwich beer refurb take adavantag lower rate feel go high end client remodel', 'hard rock hotel chicago becom favorit hotel stay least time never anyth wonder experi might guess super rock roll theme music paraphanelia lobbi floor elev lobbi room larg photo mural theme differ musician request floor favorit band like kiss aerosmith etc room great well appoint super comfort bed luxuri sheet wonder pillow larg tv cool sound system ramp view experi spaciou desk room mini bar alway room big window view michigan ave hotel sit right michigan block canal bathroom furnish absolut great fixtur sport great design shower window side shower enjoy view michigan close waterproof drape never anyth great experi staff front desk doorman etc great lobbi bar still feel intim nice energi big screen tv catch latest score cours rock roll music pump thru place stay plain hotel anywher great well design fun memor hotel want return back one concern would rather crazi charg park car overnight daili car park rate close per night sorri say go rate loop stay cool', 'hard rock glossi sexi absolut fantast hotel town busi stay locat absolut understand tourist would like right river cool art deco build millenium park street regardless room clean staff friendli annoy bar fun comfort coupl drink end day good definit tri', 'return night ambassador east gem locat gold coast neighborhood perfect find restaur walk magnific mile train station block away room comfort nice amen free internet servic nd floor best bell lobbi staff realli went way help greet us warmli time left arriv would say nicest hotel staff encount travel', 'compani book group confer sale meet servic friendli help properti beauti hotel clean fill histori thoroughli enjoy stay rate reason well', 'stay night apri check stay perfect round staff helpfuli friendli especi chri scott locat better right michigan avenu easi access everyth room love spaciou alway clean tidi end day defin recommend friend famili', 'stay hard rock januari th night locat michigan ave two block mag mile two block millenium park five block chicago art institut hotel room nice view michigan ave unusu comfi bed hotel even offer free coffe lobbi everi morn free wifi room park valet self park staff help request', 'ambassador east locat gold coast neighborhood chicago block train station easi get anywher town hotel nation histor landmark lobbi eleg beauti love pump room bar ton b w photo celebr servic wonder everyon friendli help', 'stay chicago affinia dec thru dec impress staff room locat close shop pizza place next door great cours mani restaraunt nearbi well littl troubl figur heat fine learn set work hotel got great rate work never bother us room great walk shower spaciou bathroom wonder surpris would defin stay would recommend other', 'husband stay three night visit chicago tourist beauti hotel room love staff super help locat conveni hous gym day get day pass cushi gym street restaur hotel yummi breakfast concierg help us make dinner reserv last minut first night abl walk magnific mile hotel well gold coast old town neighborhood ton great restaur area includ famou gibson signatur room hancock tower well lot shop current lot construct go near talbott build condo right behind regardless wonder stay would definit stay visit chicago', 'pull away taxi head airport trip home wife turn said pick right place chosen talbott trip advisor review found think term trip advisor review arriv nice entranc friendli recept notic everyth immedi knew talbott non corpor warm hotel touch typic seen big name hotel chain smell elev attent decor detail strongli remind europ simpl overst eleg locat great light snow walk art institut rush street theater district california anyth degre keep us insid say kind travel want comfort class somewher uniqu stay talbott oh yeah room look construct th floor could hear sound quiet', 'servic check checkout excel time effici room expect spaciou laid well particularli enjoy live room area well doubl closet separ bath shower bed abd pillow extrem comfort believ first time stay hotel provid toothbrush toothpast room locat perfect us abl walk everywher need go particularli enjoy excel food thechina grill attach hard rock hotel servic good staff friendli', 'attend confer mariott book share room hard rock week default lucki break beauti hotel fan black grey vibe find littl cheesi love way hard rock left beauti old hotel featur intact decor around basic stuctur room clean clean clean want comment staff upbeat group peopl includ doormen front desk consierg wonder everi morn one bell men would find tv morn news show bar drank courtesi coffe brought us refriger ipod dock extra suitcas stand within minut check hard time contact airport transport consierg took care wait airport shuttl one bell men found cup coffe back get nice friendli everyon great place stay hope go back husband', 'husband attend confer chicago weekend june nd decid tag shop flew hare took cab hotel cost everybodi doorman recept desk concierg extrem friendli help room th floor overlook construct hardli room bother us also never awaken due construct nois husband light sleeper room clean spaciou enough us bed comfi ate restaur downstair sever time breakfast lunch meal great locat hotel perfect block michigan ave hancock tower beat also ador pet store call tail citi hotel brought dog back coupl toy nice well complaint hotel clean beyond expect staff alway friendli locat superb safe neighborhood walk around felt fine would definit return', 'book room onlin got great rate cheap summer hotel room chicago nice locat block think water even though rate cheap servic wonder front desk polit cheer doormen valet great help even put fridg room request free charg fit room clean larg provid fruit clean towel greatest view citi top floor hotel locat hotel safe beauti area check rate directli onlin hotel websit least expens stay sure', 'stay hotel sever occas never fail anyth delight great bar draught stella guin upgrad end march last good food love staff larg clean room comfort bed spot locat golden mile joey pizza next door fantast ignor bad review read hotel author must either unlucki imposs pleas highli recommend', 'love ambassador east true littl old classic treasur servic wonder minut arriv greet warmli nice welcom felt servic good room clean quiet staff accomod biggest gem pump room bar restaur best drink amaz food excit photograph fun music weekend set fabul locat histor neightborhood close walk lakefront well known hometown bar excel restaur chicago offer shop nice street market go summer fall weekend give area real interest flavor chicago see need updat total happi content stay travel great deal work seen kind hotel stay futur', 'husband l stay hectic week new york room spaciou clean bed huge extrem comfort realli like aveda bathroom product great smell room servic first night arriv realli quick pipe hot compliment chef concierg help need find place meet friend know get navi pier direct given us accompani map weekend annual air navi show spectacular whole last day show spent navi pier millenium park locat hotel good thing especi shop ever chicago defin stay', 'return night ambassador say happi chose hotel true older hotel well kept lack style grandeur think hotel shine minu elev blood creepi twin check desk surpris turn servic maid made feel like royalti special acknowledg goe doormen help tourist question also locat hotel great close action quit residenti street beauti old mansion also got sweet per night room book travelzoo ad bonu howev even paid per night impress ambassador would chang highli highli recommend', 'nestl beaten path two block river fairmont chicago offer excel locat oper home base trip chicago staff friendli help arrang mani sightse event enjoy citi mani attract withiin easi walk distanc art institut must see millenium park fun visit architectur tour river depart dock close fairmont lot restaur nearbi room excel club room worth extra expens would definit stay', 'moment step front entranc luxuri servic began enjoy everi minut fairmont king room spaciou decor chic coffe maker coolest bathroom huge realli like separ shower tub separ door toilet dessert chees spread eno yummi fairmont w hotel favorit chain hotel stay', 'wife came spend weekend downtown chicago shop found conrad hotel well locat close everyth downtown size make feel lost convent world feel stay larger hotel past suit view michigan avenu bit lake end staff profession pleasant friendli make us feel comfort internet free n room make review', 'great locat qualiti place stay love larg clean room queen size bed great staff help put us onto great restaur music bar coleman front desk great guy meet first impress sold hotel us person hotel deliv anniversari cake us room compliment hotel show care guest mani thank great place stay', 'stay fairmont night found whole experi excel given larg room great view citi breakfast extrem good locat central could wish pool larg felt luxuri great earli morn swim even spent time hotel bar friend excel highli recommend base explor chicago', 'superb hotel room huge includ luxuri bathroom clean servic first rate breakfast excel complimentari hilton honor member hotel good locat connect mall imagin would great asset chicago winter next time go chicago stay sure', 'ok first trip chicago litll worri hotel locat final decid conrad wath good experi book king delux room th floor view amaz coplaint could room nice bath applianc good size good plasma tv free internet ask one day breaksfast amaz food overal price aroufn great surpris locat good block everyth quiet hotel', 'conrad hotel beauti hotel room perfect beauti everi way impress hard pleas high standard clean aesthet pleas date gorgeou would definit stay love locat superb attach nordstrom northbridg mall wait go back', 'tripl rate upgrad view room less also includ breakfast voucher great view river lake wrigley bldg tribun bldg major restaur shop sightse attract within walk distanc larg room comfort bed', 'great hotel wonder locat stay hotel last weekend one night come home love recommend highli enough evid popular busi staff still help room love spaciou clean bathroom clean bright spaciou also definit recommend hotel close magnific mile', 'stay fairmont attend confer pleas hotel doorman offer umbrella head walk sure enough start rain soon would soak upon return doorman ask walk etc reflect staff encount front desk promptli check definit regist reward program arriv complimentari gym access excel plu save internet access fee waiv member bathroom separ dress area larg conveni neg coffe maker starbuck adjac build close weekend sinc area corpor offic close day otherwis stay perfect consid confer rate per night', 'spent week hotel pleas experi describ previou review room comfort huge televison bathroom particularli outstand servic excel overal especi like bottl water bedsid turn servic door bellmen women particularli pleasant help concierg friendli knowledg complet satisfactori though overpr drink bar eat restaur health club fine equip well maintain three treadmil two elipit stepper never wait machin although might differ stori dead chicago winter one minor quibbl like coffe first thing morn room coffe maker restaur offer free coffe go eight comfort attract hotel wonder locat chicago expens citi felt got reason valu money', 'stay fairmont chicago one night frequent busi travel familiar travel ritual check late pm due flight cancel home airport atlanta took shuttl airport best option lieu price taxi first time stay hotel upon arriv immedi notic entranc appear welcom warm check problem desk person even ask prefer king doubl reconfirm reserv prefer alway take king bed fantast suit great linen incred feather pillow name encompass made pillow factori check tag sinc plan buy ate dinner hotel restaur aria mention like consid separ hotel ye stand food asian fusion truli wonder gourmand life long foodi appreci great food tast hotel servic good well drawback breakfast buffet restaur seem need stick dinner theme sole miss mark rel simpli thing like scrambl egg buffet tast bit metal made get special order made immedi pass buffet would highli recommend hotel atmospher great view get room one fabul dinner pass breakfast buffet', 'paid night pricelin excel june room fantast view hancock build river room larg clean couch easi chair desk chair bed newer non bedspread style bed comfort bathroom larg well pleas room hyatt everi way ate lobbi restaur attract decor bustl activ got cobb salad know food gener good cobb complaint fee park car night daili fee internet mani place offer free internet day wish hyatt would hop board concept hate leav', 'return first trip chicago stay omni read mani review trip advisor pick omni base wonder review right locat staff room amen etc wonder huge thank ta member suggest sign prefer member program left receiv complimentari beverag morn newspap among perk love woken fresh orang juic chicago tribun newspap room perfect corner suit two side room window great view room huge gorgeou king bed great live area plasma tv bathroom amen wonder love soak tub miner salt provid turn servic great well would come back room relax music play bed readi us ate restaur twice breakfast buffet delici blueberri muffin best ever everyth fresh prepar perfectli staff omni accomod everyon alway smile ask stay thank concierg melissa curti help great dine suggest map everyth want also use gym stay great machin top notch treadmil lcd tv attach gym two plasma also cold lemon water workout stickler cleanli sparkl everi morn realli fantast stay omni would never stay anywher els also want mention never heard construct everyth quiet slept wonder big comfi bed thank trip advisor anoth great trip suggest', 'ask high floor away elev got room pleasantli decor function clean need whole lot servic pleasant prompt use fit center well equip everyth work order great locat one end michigan avenu shop district', 'boyfriend decid stay conrad chicago anniversari second walk immedi look feel room white luxur bed king bed plasma v subroof surround sound speaker boyfriend impress remind come chicago hotel room larg bathroom w tub separ stand shower granit countertop robe slipper view great th floor realli high enough see anyth side build next us larg room mean go citi hotel room prefect size amount time actual room got great rate hotel com think go rate usual closer mid stay quit hotel downtown area none ever impress one definit stay next trip citi', 'went chicago see exhibit art institut select fairmont close although lobbi still renov experi hotel uniformli posit room nice size newli remodel immacul glitch involv get room coffe replenish maid bedtim first night still coffe call front desk immedi deliv fresh suppli restaur littl underwhelm mani place go within block probabl eaten stay close dozen differ chicago hotel may hotel return whenev return', 'back night stay omni would thoroughli recommend staff bent backward assist anyth matter minut great locat magnific mile lot adult yo daughter find fault would extra charg tax etc room servic bar restaur cheap day would definit recommend especi famili', 'visit chicago chose hyatt due locat downtown within walk distanc major attract sear tower magnific mile grant millenium park etc subway bu stop close travel locat citi overal hotel nice clean great locat safe area went beauti wrigley field soldier field saw team play love chicago would defenit stay', 'stay night bridgeston fireston convent complaint room great beauti view staff accommod drink appet main bar fantast great locat ye huge hotel use convent stop great place', 'stay one night getaway famili thursday tripl aaa rate steal th floor room complet plasma tv bose stereo voss evian water gorgeou bathroom tub fine us concierg help cannot beat locat flaw breakfast pricey servic slow hour four kid four adult friday morn even though two tabl restaur food good worth wait would return heartbeat gem chicago', 'husband fairmont chicago recent confer stay spaciou suit amen appear recent updat excel shape bed comfort view great love product bathroom use pristin tub two three night room quiet relax ate restaur downstair aria although pricey excel staff consist attent respons evid everyon well train would love stay', 'stay junior suit beauti spaciou largest flat screen tv ever seen hotel great excus catch movi breakfast buffet great serv hotel huge atrium nice servic top notch stay lower floor east tower great wait elev alway empti shed aquarium complet wast time money field musium amaz chicago remain tie london favourit citi', 'wife stay middl februari took el subway hotel hare conveni lobbi nice room clean comfort stay mani hotel room bed comfort ever slept hotel locat great area close everyth walk distanc interest site chicago would definetli recommend hotel anyon visit great citi', 'hotel perfect locat downtown chicago shop thing pool extrem small indoor look much larger websit', 'stay omni christma new year get away day found web deal got penthous suit cheap year check onlin day christma deal also includ park great price huge suit overlook downtown chicago best locat walk everywher yr old love swim night chocol cooki pillow wait go back', 'got good deal weekend pacag hotel say nicest stay dozen busi trip chicago room suit staff friendli profession restaur world extra like great health club turn servic complimentari morn beverag deliv room room clean everi need attend without feel intrud defin stay', 'husband stay new year eve weekend excel hotel excel locat hotel tast decor warmli welcom room best electron ever seen love soak tub spaciou shower stall hotel restaur seem empti everytim walk avoid ate joe street excel seafood shop til drop without go outsid nordstrom four stori mall attach lot good food run place love chicago love conrad go back', 'concierg help without hesit best recommend restaur attract turn wonder even gave us busi card restaur take reserv could obtain preferenti immedi seat love health club back hotel join presid club cost ten dollar day use facil room larg updat view look direct coffe maker room except locat great get mostli anywher park overpr took cart underground millennium garag per hour block walk hotel', 'staff friendli room well kept like typic hyatt locat hotel huge two build room good locat close michigan ave subway park day ouch bid pricelin', 'wife travel chicago realli treat like royalti hotel staff brother wife also stay period front desk staff concierg star buck server restaur loung server wonder room spaciou flat screen tv realli great bath room real plu huge everyth one desir great view th floor michigan avenu overal great stay highli recommend', 'friend stay one night love hotel awesom water featur hotel great larg bar like hyatt comfort bed lot pillow larg bathroom', 'travel chicago last week daughter christma shop book conrad base review tripadvisor live expect great big room two king size bed comfort breakfast great load choic plenti plate great locat connect shop mall use day snow great hotel would go back morn chicago great citi friendli peopl', 'name price pricelin buck hotel room great clean clean new fresh crisp sheet comfort bed flat screen tv clean carpet nice bath etc short distanc food sightse highli recommend properti prepar pay per night park hey hyatt also charg bottl water normal buck total nightli stay chicago place drink bottl water happi travel', 'keep short wife daughter stay hotel night go sever vacat year great hotel locat locat center magnific mile michigan ave near easili access everyth might want hotel hotel clean room maid servic excel includ x daili clean turndown servic think miss night servic everi staff member encount super friendli kind alway someon lobbi door greet smile everi night milk cooki wait room sometim chocol pillow alway push elev button near shortag peopl ask thing conplaint congierg tough get shouuld one longer hour breakfast restaur good well attend appoint even carri wife plate tabl buffet pool nice addit hit kid nice go swim long day walk pool chang area spotless room clean sunni spaciou probabl sq ft tv couch desk chair perfect shape window open fresh air pillow pretti comfort aspect consid think unbeat valu would hesit stay recommend friend truli noth neg say hotel wonder stay miss omni hit right formula make guest feel like welcom person oppos nuisanc number airlin corner market', 'stay omni one night follow busi meet anoth downtown chicago hotel complet impress servic personnel stay absolut outstand check quit earli problem effici check room somewhat heavi scent air freshen neg entir stay manag reason well open window gener requir much hotel stay suffic say doorman housekeep night manag bartend day waiter concierg amaz never wait second anyth room comfi amen superior one tini complaint wastebasket near sink near wet bar walk end bathroom sit room dispos kleenex coffe paraphernalia one wastebasket would make differ said great hotel thank omni great stay', 'got sunday night stay pricelin com would hard complain truli great hotel even paid doubl first impress get walk slide door hyatt regenc chicago wow lobbi beauti upscal mall type look open area restaur plenti couch seat etc peopl watch lake water fountain take escal concierg directori check area hotel let check pm pm check time suggest call ahead like know come earli women desk friendli request higher level floor happi look even told room th floor veiw river go higher view thought pretti nice give inform wouldnt get stuck room view wall room big doubl room bed beauti great pillow blanket headboard etc ipod alarm clock nice st centuri touch room great plug ipod listen music get readi night relax long day tour chicago view nice bathroom spotless great toiletri anoth great featur concierg area comput give access print board pass get airport simpli look screen click airlin icon follow instruct board pass minut came handi got ohar abl skip long line frustrat passeng hotel day far one better hotel experi travel alot busi hotel definit great choic famili coupl definit would stay im pass chicago', 'usual stay sofitel thought would tri conrad chang think would rate hotel sofitel still st class think servic better conrad arriv hotel restaur close soon tabl left normal servic goe hill waiter eric best even kept order dinner port meal may chop hous still good bar ok crown reserv cask drink ouch room servic quick room clean maid replac everyth includ ashtray visit fault could find temperatur th floor hot window open whole time heat turn complet bad sinc wife smoke temp th lobbi bar restaur fine enjoy hotel enough back sept one last thing like cheap fantast breakfast go west egg block away', 'arriv omni nd septemb day stay took ill left plane travel manchest saw room anticip go day room spaciou clean bed extrem comfort bathroom larg clean could ask coffe juic left outsid door everi morn time request manag go th floor see sun terrac outsid gym sun terrac citi hotel great idea terrac bit grim sunb concret floor also nois air condit unit could bit cheer saw chicago pleas someth everyon would go back omni ye would', 'stay conrad night thanksgiv corner room overlook n michigan av tribun build say star hotel damn place faint prais wonder staff unbeliev help standard room superb hd plasma screen luxuri bedlinen ipod radio huge bathroom locat unbeat right heart everyth watch whole light festiv parad window breakfast excel help buffet full attent tabl servic would hesit recommend stay hotel', 'recent stay fairmont chicago found fantast hotel staff alway courteou help front desk staff check wait staff aria restaur maid clean room room recent updat larg flat screen tv beauti linen except toiletri room room even view monro st harbor truli first rate hotel locat south river east michigan ave normal stay north river seem littl way possibl downtown chicago howev locat significantli lower street nois hotel excel access millennium park aon center connect concours block shop north michigan ave ate dinner aria fantast room servic breakfast quit good well overal stay minut busi loop leisur plan millennium grant park', 'stay omni band town room amaz walk hotel gorgeou complaint prompt room servic friendli front desk mani shop beauti fountin around great hotel great citi', 'return night conrad chicago everth hotel excel wonder room servic staff first class great view room hotel locat great right centr magnific mile wonder stay amaz citi made perfect stay conrad', 'omni chicago realli deliv front spacious room help staff prize locat michigan avenu address chicago requir high level qualiti omni deliv check whole group peopl minut staff plenti recommend dine event room largest find price rang chicago even standard room separ live area work desk fit center free weight weight machin two row cardio equip share room other feel cramp way great properti', 'got back day chicago shop girlfriend first time stay omni saw rate includ free food travelzoo three us year old stay one suit doubl bed comfort pull sofa plenti room food restaur great servic outstand everon came contact earli morn deliveri free coffe juic hot chocol fabul recommend staff eat time movi shop area etc realli help need mention outstand locat simpli best decid omni new favorit hotel', 'simpli nice place stay great deal room impress qualiti hotel staff help abl let check help print board pass neg frustrat nowaday free internet hotel pay internet neg loud phone may hear neighbor phone shower', 'weekend trip friend book coupl room ask advanc reserv connect way room right next one anoth request everyon first time chicago bit cold search hotel choic next perfect amaz time first visit chicago larg due hotel custom servic amaz everyon extrem nice help one room order late night room servic rave felt order star lunch fresh order food pm delici friend suggest full staff food came quickli anoth room housekeep accident discard cd replac cd player ipod dock concierg exact cd purchas readi check neighbor record store rate includ complimentari breakfast fantast everyth freshli made kitchen ad bonu hotel attach mall therefor need leav build get pair shoe coffe type trinket beyond pleas hotel would stay without hesit', 'arriv friday room readi us mind check pm got room pricelin per night stay night upgrad free suit think blown away forgot thank check room fantast also wet bar fridg bathroom quit larg nice size closet mani hanger knew previou review touch mini bar bed pillow comfort room clean everi employe went way friendli help stay th floor east tower quiet room ye could hear peopl hallway rude yell children adult know everyon complain park chicago everi hotel saw charg much without privledg use restaur health club tri eat corner bakeri crowd breakfast nearbi houlihan buffet per person also groceri store behind hotel great far away know mani bad review hotel ye big hotel want busi lobbi stay plu room hotel love hotel would recommend anyon one problem busi would stay heartbeat', 'stay hyatt two night busi trip room oddli shape give stun view river nbc build room bathroom spotless room air purifi ran silent hotel well staf individu knowledg hotel surround area would hesit stay plan return wife weekend', 'stay conrad one even amaz room would like stay longer newli renov th floor room gorgeou super clean flat screen bose sound system even ihom ipod wireless free bring free bottl water turn everyon help friendli wait go back', 'stay busi love got inc tax pricelin incred deal hotel pricelin would expect pay per night mayb locat level servic heart downtown chicago walkabl mani locat lobbi impress room nice complaint check check go bar look like peopl realli enjoy full peopl time want stay come back husband fun weekend citi', 'last minut son decid take quick trip chicago see cub check pricelin decid book omni great price airfar hotel arriv hotel around noon room readi call ahead request earli arriv front desk treat us like best custom friendli accomod room wonder modern convienc would expect upscal hotel room spotless bed comfort one sign bed bug mention previou review mayb bed bug luggag transfer room went hotel restaur lunch servic great food also tri sever restaur around omni within walk distanc servic cleanli locat omni incred definit go back', 'arriv greet friendli doorman zip th floor lobbi open lobbi area friendli recept staff room th floor nice everyth order clean king size bed nice night rest sleep bathroom larg separ glass shower stall room furnish everyth need includ internet hook access also walk thru th fl westfield north bridg shop mall enjoy nordstrom store cours step michigan ave central locat hotel great could walk place cta subway stop grand ave red line easi block walk stay next trip chicago', 'book pricelin insan low price night bf amaz got person check us friendli help suggest local nightspot room gorgeou nice upscal downtown feel super comfi bed fabul view th floor inlclud sliver lake michigan sliver tast chicago crowd friendli offic worker builid next door wave us time serious pretti anonym experi rest stay fine us hotel consist mainli tower like huge sprawl citi insid stay hotel room entir time like get explor much possibl locat fantast easi walk distanc michigan avenu rest downtown walk block well night never felt like need cab also highli recommend urban cruis river entranc right hotel saw amaz architectur boat got cruis lake michigan bit park car need expens park downtown ditch rental car need anyway walk ton stuff grab cab love chicago total recommend hotel', 'second time two month stay great room nice clean staff terrif alway attent concern would never seem anyon concierg desk', 'husband decid take trip chicago last minut quickli chose conrad realli know locat pleasantli surpris find right michigan ave connect nordstrom right heart downtown great shop hotel fabul staff extrem help give suggest show restaur recommend go joe right street hotel everyon rave get reserv room wonder bed pillow comfort warm invit atmospher husband love workout room highli recommend conrad', 'stay sever high end place chicago still favorit locat superb staff particularli graciou welcom without cloy cornel front desk unfailingli help concierg love extra room suit provid join frequent guest program high speed internet grati breakfast beverag deliv newspap morn time choos bed excel qualiti offer truli amaz blackout curtain never bad stay hotel', 'got hotel chanc sinc decid spur moment spend nite chicago went thru pricelin lucki get room hotel normal rate around room superb th floor nice king bed hotel block michigan ave locat conveni park expens nite park right next door selfpark decid breakfast hotel restaur save us walk elsewher order buckwheat pan cake egg benedict absolut delici stun us sinc expect type experi hotel restaur especi breakfast glad pick breakfast buffet sinc special menu much better highli recommend beauti cozi hotel chicago visit', 'vacat fairmont chicago night juli room bathroom view staff wonder wish hotel block north mi ave sometim tire extra coupl block seem like mile', 'stay omni chicago night earli juli juli reason chose hotel simpli great deal got travelzoo got pretti good rate includ valet park voucher food beverag also sign loyalti program worth concern first would treat like second class guest price paid total wrong treat us extrem well arriv got email ask need anyth ask fridg store babi milk arrang us without charg arriv late thursday night room readi us upon arriv fridg request given corner suit th floor nice room comfi bed husband realli wowwwww bed made readi us bedroom sofa bed use sofa bed though got high speed internet part loyalti program staff friendli help front desk valet park bell boy room servic concierg everyon use voucher room servic breakfast morn first day great food great quick also got complimentari beverag part loyalti program order oj hot chocol good order next morn disappoint hot chocol tast pretti horribl tast like left coffe mix water bit chocol also order belgian waffl breakfast suppos come whip cream strawberri got plain waffl call restaur wait get give servic howev report issu front desk check front desk staff took care charg us meal anoth thing quit noisi night even though high floor could hear siren go night hotel control though would say bother us babi could sleep well overal realli enjoy stay would definit consid omni next trip chicago', 'great properti excel locat wonder staff everyon accommod polit room rd floor like suit live area bedroom live room spaciou plasma tv desk couch bed comfort toiletri good qualiti close place umbrella came handi rain whole time chicago internet connect hr great place return sure', 'stay fairmont profession confer say confer meet room small term travel comfort hotel except think singl thing room perfect accommod luxuri hotel conveni situat within walk distanc mani chicago attract', 'come littl late final catch review past sever month dear friend stay hyatt regenc late octob one night visit friend husband town hotel perfect imo easi check check love clean comfort room great view citi know area pretti well conveni mani downtown chicago attract dinner went clube friend around divis st problem get cab back forth hyatt even public transport right near bother sinc need cab hotel park usual chicago expens abl get car quickli howev left sunday morn exactli high traffic time although bear homegam day bit busier usual would think problem best part got rate hotwir downright steal area chicago qualiti hotel', 'stay conrad night friend reunion room clean new feel nice citi view free bottl water room upon arriv check breez room readi even though sever hour earli staff friendli help excel breakfast', 'book room pricelin got good deal around per night stay first night us trip didnt use mani hotel facil hotel central locat chicago river shop north michigan avenu around mile navi pier room clean comfort th floor good view citi could see lake michigan though weather bad layout room littl peculiar bed face away window complaint hotel unlik review disturb nois guest pro con pro help friendli staff clean comfort throughout spaciou room larg airi public area starbuck gift shop lobbi con larg hotel long walk elev front desk lobbi area', 'recent complet second stay fairmont chicago check process quick painless front desk staff disinterest whole procedur fine travel busi leisur trip would appreci warmer greet hotel host convent time stay see signag attende lobbi notic probabl due separ confer area guest room speedi elev stay parkview suit larg room great view millenium park anteroom well appoint sofa coffe tabl desk mini bar sink coffe maker dine area bedroom appear standard fairmont room mayb slightli larger bathroom also appear similar standard fairmont room possibl slightli larger upscal modern decor pleas overtli luxuri sever small touch shoe shine station extra collar tab pepper throughout book even activ concierg everyth perfectli handl hotel restaur aria find reserv oddli new name rememb hotel call make reserv us problem seat us dinner food servic love minor complaint pillow could better sure rememb prefer non bed last visit serious thing bare felt like pillow suffer congest get better neck support also valet park attend seem overli eager take car charg mention front desk experi could improv best featur first stay gave brief review comment section fairmont presid club membership free websit receiv phone call director room day ask discuss experi stay left comment essenti thank hotel staff great stay still receiv warm friendli phone call director room ask could anyth improv next stay kudo fairmont take custom serious loyalti', 'great hotel heart chicago busi pleasur room recent upgrad modern larg flat screen tv marbl bath room suit great desk kitchenett comfort bed free wireless internet everyth could ask locat easi walk magnifici mile lot great restaur staff friendli help short cab ride loop', 'stay hotel time year busi love staff great room spaciou clean locat perfect shop dine michigan ave plu sign omni select membership free get free wireless internet access', 'left conrad chicago noth good thing say use hilton point stay paid night upgrad junior suit room would reccomend peopl ask odd number room view look north michigan ave room modern larg hd flat panel tv bose speaker sound system big window actual open bed line nice towel ok room clean bath room seper shower tub marbl everywher robe slipper etc work room good differ machin free weight clean towel workout room never ate hotel comment food price starbuck street michigan espresso bar attach nordstrom ground floor hotel nice littl mall right hotel locat hotel could better walk distanc everyth everi kind shop din experi could possibl want within mile hotel boutiqu feel even though part hilton chain', 'price marriott spent night tax enjoy brief stay other note hotel recent renov room furnish attract sleek scandanavian type design staff polit attent seem match redesign hip kind feel park pricey use adjac lot self park other note lack water pressu shower disappoint good locat would return esp pricepoint', 'got great deal hotel found travelzoo stay one night impress sevic fantast moment step properti hotel smell wonder immacul room enorm perfect great view citi lake bed extrem comfort never heard nois outsid room bathroom nice size consid must one smaller room hotel two could get readi comfort locat perfect michigan ave step away millenium park would definetli stay especi could get great deal', 'omni fabul locat michigan avenu within block type store includ sak nordstrom h filen basement maci la perla appl bloomingd could go room fabul comfort nice big flat screen tv nice size bathroom charg wi fi found click ye join guest program could go sign screen right email without actual complet registr got hotel night pricelin felt terrif deal', 'husband wonder stay omni chicago hotel contact custom servic repres prior stay request quiet suit arriv greet us confirm get exactli request suit partial view lake abl check earli servic hotel incred everyon made us feel welcom took care respond question request suit quiet even though east side hotel near michigan avenu housekeep prompt thorough realli ask better hotel definit stay futur trip chicago recommend hotel anyon travel', 'check fast room perfect problem standard big citi busi hotel everi amen imagin got good deal one night stay made money back exorbit park rate absurd access fee wireless internet bore routin hotel fare walk two block gourmet pantri n michigan refresh chang', 'stay fairmont two night sofa art fair navi pier impress bellman call us name met taxi pronounc correctli quit unusu everyon smile welcom us lobbi look clean friendli ultramodern tire worn room also clean comfort furnish larger expect clean modern bath love view navi pier lake eat restaur look attract problem ask non feather pillow upon reserv room upon check call housekeep wait hour went bed next day check desk person extrem apologet time return feather replac foam non allergen materi hotel conveni millenium park michigan ave would stay assum could get good rate', 'actual book reserv hotel phone got great rate much lower usual price love hotel beauti appoint walk distanc place want go would highli recommend fairmont', 'review read bit mix thought excel stay splendido villa est other compar claim space expect notch four season prove small notch love clean bright room superb view quiet comfi bed etc excel servic round nice staff money qualiti stack well inde realli fault way given half cost four season pretti close term overal experi go chicago great locat', 'wife stay hotel end may came weekend function extend trip take citi got deal hotel travelzoo night stay night plu got full buffet breakfast room wonder extrem larg king size bed expans sit area use smaller hotel littl room move bed extrem comfort lot pillow wear damag room except sink tap drip bit poor tap could upgrad river view night chose enjoy room nd floor look south buffet breakfast great lot choos fresh made order egg non stop coffe juic server eager pleas great breakfast includ night stay might bit dear pay person nice sit relax good breakfast coffe newspap figur catch morn meal concierg desk help suggest place eat alway inform readi provid map direct multipl suggest even make reserv card includ admit without pay cover charg jazz club locat great block el transport easi walk distanc park right river chicago would hesit stay swim pool would nice miss', 'book room hyatt pricelin abl get rate night go wrong room nice spaciou clean contain amenti travel would need say fallen love hyatt chain due custom servic stay hotel differ citi staff alway extrem friendli often see hotel use self check machin custom servic person check make sure everyth go smoothli saw room high level offer chang could better view would highli recommend hotel', 'stay four night attend confer hotel great spot easi walk michigan ave shop rush st busi street room spaciou well appoint staff friendli fit center huge well equip clean stay number hotel chicago one favorit internet free hour cheaper busi hotel work well', 'stay monaco romant weekend getaway simpli fantast conveni walk museum shop park nearbi room great box window sit enjoy view also request goldfish pleasant surpris ad charm uniqu hotel help staff wifi aveda product decent restaur downstair brunch easi get taxi noth beat locat would definit recommend stay hotel busi pleasur', 'sometim find fault hotel even tri case sofitel never stay sleek modern sophist hotel european touch spent three day leisur weekend th floor king room look directli hancock build total cost includ tax lug night room averag size well appoint everyth work fabul view chicago high rise jungl includ snippet lake public area wonder decor restaur serv good breakfast chicago reason price staff excel wife broke ankl sever week visit crutch staff loan us wheelchair help assist', 'tri stay jame everi time happen chicago good choic town nobodi jame offer superior servic aka class meet effici metropolitan design comfort attent detail found w seoul alway play role mean conveni locat get small unexpect touch make differ ie take drive north hot juli day one staff member hand bottl water small gestur unexpect appreci manag staff understand expect importantli need consistenli execut', 'stay absolut perfect cool hotel look design feel trendi hip staff terrif especi consierg staff great info attitud room top floor great view super comfi bed neat bathroom fantast choos hesit', 'hotel reserv anoth hotel set read neg review cancel made reserv hilton glad hotel clean hotel staff pleasant help bed amaz knew pay littl hotel well worth everi penni', 'travel chicago regularli alway want stay hilton chicago book pricelin room weekend half marathon place busi staff certainli found time individu guest room nice expect pool area also nice downtown hotel locat great take bear er game thursday night sox game friiday night would certainli stay would recom other great qualiti even regular room price', 'stay hotel one high point last minut budget valentin weekend trip husband got great rate pricelin close subway red line got hare hotel less hour us abl check hour earli room great clean good closet space fantast bed one expens drink irish bar bartend advic restaur club check made worth price concierg help overal servic terrif room great stay treat would stay time especi price', 'jame hotel locat close everyth chicago miracl mile pizza hous uno rush street water tower everyth walk everywher everyth close room modern littl small side bed comfort servic good call answer profession nice servic fast lobbi liitl small keep riff raff hang bar servic good drink price high expect hotel bar got great deal lead hotel world stay day star hotel cheap due locat price servic may stay think next trip may take trump hotel chi town jame good stay doorman hotel great alway pleasent smile good servic', 'wife stay jame recent great experi hotel other mention ideal locat quiet locat yet close mani neighborhood want go upgrad studio room total worth addit cost didnt midcenturi furnitur websit photo elegantli appoint spaciou insid build quiet servic amaz everyon extrem friendli help well knowledg true doormen front peopl desk server restaur concierg dealt great suggest abl understand style sensibl help us breakfast prime downstair among best ever hotel goe room servic well dinner good great mention flawless situat occur involv spa hotel involv schedul aggrav hotel activ encourag use howev carolin one hotel manag amazingli compet job make sure satisfi follow progress true pleasur deal experi could left bad tast mouth resolv quickli overal left extrem satisfi stay look forward mani futur visit', 'hotel monaco realli great locat block away miracl mile coupl block millenium park sear tower also well within walk distanc mind walk problem walk greek town lincoln park daili complimentari wine hour realli nice touch unfortun around tri leav car behind need park quit pricey surpris consid locat everyth clean fresh modern staff help bad thing nois elev train around loop quit loud room happen next maid suppli room quit busi morn', 'book stay pricelin com got great deal stay one night year old us check upgrad suit lake view lake michigan beauti suit king bed live room bar mini fridg need stay longer would godsend hotel close proxim grant park beauti buckingham fountain walk around park even saw movi film look hotel lot restaur around one end eat irish pub insid hotel kitti shea great food stay alway end eat lot attract within mile includ field museum shedd aquarium soldier field navi pier may walk distanc could see hotel window overal anoth wonder stay chicago hilton th stay downsid expens park within hotel dollar night kind ridicul', 'found wonder hotel locat awesom minut away shop restaur bar could possibl want town interview realli nervou end suggest hotel restaur interview took good care us made feel comfort hardli nervou place pack room superb realli cool design room call apart fantast natur light get room awesom sensit dark place full bar room abl use entertain friend night went gym littl bit exercis say never seen extens facil hotel staff made feel like famili avail time friendli definit back anoth stay', 'want recogn mani peopl exemplari servic sylvia rollin head concierg want fairli last minut reserv mk restaur spoke sylvia phone day prior arriv within minut desir reserv ryan lettier concierg provid us detail inform architectur cruis morn cruis end cancel tour oper ryan provid late check time cover us could get back monaco turndown servic provid request housekeep gener seem high standard even bellman went way ask knew get train etc leav hotel room tast furnish whimisc hotel monaco feel bed bed comfort complimentari happi hour morn coffe tea servic utililz hotel guest', 'great hotel doorman greet us arriv young man reserv desk young woman serv complimentarili wine everyon friendli help stranger minut room extrem clean well appoint pretti view chicago river especi enjoy larg window seat love purpl polka dot paper toilet paper roll hallway larg quiet restaur next door south water kitchen nice locat walk distanc theatr park river take cruis michigan ave ideal neg concierg nearli friendli invit rest staff help self suffici travel realli need servic although nice someon come chicago first time concierg help would defin stay hotel would recommend', 'stay confer got confer rate worri get nice room sinc weekend elect hotel street grant park could easili gotten lot nicer room request quiet room away elev foot traffic exactli assign perhap also silver member beauti room window two side king size bed room quiet comfort immacul maid even left thank note tip left staff help polit cheer appreci fact could actual purchas breakfast oatmeal coffe juic someth possibl lot big hotel like hyatt stay last year', 'took weekend trip wife got great rate valet includ paid coupl extra buck larger room staff nice workout facil great room current decor start show wear watch concierg suggest pretti bad restaur us', 'love hotel room chic trendi bed comfort great slipper robe love keihl bath product bathroom went birthday weekend card plate pastri wait room got great deal junior suit travelzoo tri take anoth trip chicago deal gone realli recommend hotel love problem david burk steakhous servic horribl switch order tabl next compens took side dish order nice enough charg us side dish get go go lawri accross street stay jame btw star hotel like websit list least star', 'stay monaco way ski easter love staff help friendli room huge fantast view river central locat min walk el adjoin restaur bar great food servic stay expens supposedli better hotel chicago best thank monaco back', 'stay treat chicago recent concert total love call either front desk room servic phone answer hallo mr name great person touch vanessa front desk went way help store thing safe could book room room wonder bathroom luxuri th floor view superb order room servic came quickli guy friendli nice doormen great wore jean tshirt one day still open door snobberi comfort cozi bathrob avail bathroom light went wardrob never seen tv hd readi flat screen bed like sleep cloud best sleep would stay oh yeah problem need save first', 'dispit say one best hotel stay chicago travel big citi three time year pleasur jame rate best upgrad staff made stay worth special weekend visit believ disapoint', 'great stay monaco last fall friend disappoint initi arriv saturday husband find quikbook made reserv system room avail sat eve immedi took respons mistak follow found us nice room neighbor swissotel paid gave us cab fare get block paid valet park eve natur ask interest return sunday eve room said ye return gave us corner suit jacuzzi tub quikbook rate call recoveri', 'recent trip chicago attend major trade show pleasur stay sofitel chicago water tower say stay make feel check check go beyond ensur stay perfect want return room clean chic roomi bed best slept bathroom larg super clean say new home chicago', 'love hotel see post shabbi life figur talk room larg two bathroom lobbi fabul pool larg two hot tub huge gym staff courteou us locat great street grant park great view buckingham fountain close museum theatr sure other would rather north river closer magnific mile enjoy quieter scenic locat got hotwir bargain nice hotel', 'one best hotel stay chicago also tri amalfi number larger chain hotel downtown one best great servic beauti room roomi bathroom top notch amen', 'stun hotel excel locat greatest us citi entranc lobbi hotel indic class bedroom larg comfort custom servic second none locat south michigan directli road grant millenium park also free shuttl water tower heart magnific mile blue fan buddi guy legend club situat immedi behind hotel highli recommend', 'stay chicago hilton three night minut walk door impress check quick easi glad abl check despit earlier advertis check time given twin room two bathroom brilliant made get readi go much quicker hotel locat great opposit park must see although locat south michigan ave easili within walk distanc shop sight whole michigan ave would also recommend street one block back michigan ave good shop breakfast would recommend grab muffin croissant bagel bar past recept rather go expens breakfast restaur even entertain kitti shea must typic irish bar good drink live music final bed hilton chicago comfort bed ever would taken home could defin made good night sleep', 'room third floor street nois certainli spoil night love hotel wine tast even went extrem well day see sight citi goldish call oliv nobodi could believ goldfish room staff realli help welcom make stay relax comfort would certainli recommend hotel', 'great experi hotel hotel huge room clean well appoint room roomi great view snow cover park staff nice helpful donald concierg desk score us ticket wick day perform holiday weekend great seat reason price work hard us see show trueli top fun new year celebr first pick return spring', 'stay nov dec wonder time hotel beauti servic excel check maid staff bartend kitti shea room king bed comfort nice feather pillow request type problem feather larg flat screen tv nice bath product crabtre evelyn includ shampoo condition mouthwash badi lotion plenti coffe provid drank snack kitti shea crowd fun live irish folk music night good select beer good shepard pie chees dip crisp locat work well us walk art museum buddi guy blue club right street shop breez use shuttl cab ride museum scienc industri quit far though cost way excel weekend getaway', 'went chicago week may decid good stay hilton disapoint perhap becus quit convent go lot peopl stay night got upgrag exceut level doubl bed bathroom bed pillow die comfi ant end day seem walk mile staff help lot guest seem ignor staff especi chamber maid seem think way perhap peopl felt peopl rude unhelp block away harrison cafe call orang make place breakfast cafe staff suberb expect min wait sat sun morn', 'read mani great review book hotel monaco disappoint book web site month prior arriv night plu tax room queen locat perfect right river near michigan ave minut walk el millenium park theater district shop room clean littl larger standard nice decor window seat room view river starbuck coffe lobbi morn wine recept even top staff friendli knowledg area', 'got back day visit chicago rate per night extrem good valu recept staff effici courteou friendli given room top floor nd floor face lake john hancock tower room larg comfort housekeep turn servic effici thorough bathroom amen good replac daili definit first choic hotel chicago also close shop restaur subway', 'famili two week holiday chicago stay week hilton tower fantast time enjoy everi minut stay incred hotel sheer size place breathtak atmospher friendli hospit prefer discreet modern boutiquey type hotel mayb thing howev enjoy old style glamour glitz bowl hotel place liter sparkl thank enorm chandeli everywher lobbi ton celeb stay decad histori hotel past guest etc fascin got reason rate stay could fault anyth special place', 'got back night sofitel realli noth bad neg say stay higher end hotel chicago park hyatt peninsula four season sofitel top star hotel star price beauti hotel way around staff uniformli friendli without patron help one small problem solv quickli common area fresh modern appear room clean comfort bed well appoint marbl accent bath wife love huge tub breakfast via roomservic everi morn alway hot delici robe evian turndown alway appreci properti ideal situat middl gold coast best shop eat within short walk want bentley latt close second stay sinc open sure home away home chicago', 'room stay thz floor doubl bed room room decent size equip state art furnitur stylish room size nice could left big suitcas open throughout stay rare happen hotel lcd screen complimentari wifi room bed pillow extrodinari qualiti provid excel deep sleep locat locat quit central shop street reach minut feet midway airport reach cab within minut usd servic spa fit exist though use restuar use busi center friendli help staff even print board pass recept travel frquentli recommend hotel busi stay also overnight friend go shop parti whatev citi center chicago price moder teh standard provid downtown hotel', 'arriv sofitel joint leisur busi fantast hotel made trip memor room spaciou great bed pillow linen bathroom great shower bath wifi work realli well desk larg staff wonder locat great shop spa starbuck hairdress love everi minut would hesit stay recommend', 'return seattl visit home chicago love jame recent stay ritz water tower dana around corner great jame perfect secur room packag w american express great deal though view great space decor locat beat staff friendli courteou help gym substanti though tri restaur room servic menu look yummi stay chgo area avg mo past three year jame top list get good deal highli recommend', 'stay hotel weekend chicago bear fan convent feb march hotel beauti tower room decent view citi sear tower room littl small two bathroom king bed tower room registr area come free continent breakfast even snack free soda throughout day registr loung th floor overlook lake michigan hotel full servic excel locat conveni number homeless peopl within block two especi toward el train love stay hotel never take cab rent car stay hilton offer sunday night free websit day stay made cost reason chicago howev pavilion restaur left lot desir pub first floor good place hang drink', 'initi thought hotel place ok didnt look review stay friend truli impress ceil floor room view good surround build unless toward front river locat crazi huge bathroom one huge love space flat tv tradit seat admir fabric base headboard nice walk distanc restaur conveni highli frequent travel chicago year alway stay rel event recommend stay monaco', 'mostli great island rel minor problem first good outsid hotel lobbi decor like winter wonderland befit season restaur servic absolut flawless server write order expect rememb rememb client clearli one day go beyond consist room comfort ye bed great gym well equip second slightli put mmmhh got love chocol packag advert bfast everi day dinner snack gift club favorit guest membership also advert gift gift either chocol packag favorit guest membership upon enquiri snack gift packag suggest said bfast sublim chocol dinner outstand well problem checkout though got charg dine despit book packag took quit polit seemingli less inform front desk staff correct problem would absolut go back probabl special packag', 'read review trip advisor properti rank chicago got king room overlook michigan ave view beauti room also impecc nice bright fresh modern find hard fault sofitel servic attent staff cleanli luxuri alway top notch locat great head left lobbi reach bunch european style cafe restaur straight ahead hotel michigan ave shopper paradis great place stay much better valu park hyatt find charg luxuri hotel bit crazi internet pay top dollar inclus would nice', 'signific recent spent night jame last day said wish could stay longer good room immacul pleasant surpris moment open door everyth high tech plasma tv cd radio project alarm clock love much bought one today want room servic got david burk mini bar liquor select plenti even four leg friend menu bathroom pleasant bathrob slipper upscal product provid bed best hotel ever linen crip white fresh maid servic twice daili turn servic safe room ice deliv iron hairdryer top line filter window shade black light match modern decor mid centuri style funki chair ottman cube tabl nightstand gave us plenti room felt like comfort home staff courteou accommod librari free internet access room wifi extra expect bar loung area seem frequent local enjoy cocktail appet lobbi funki artwork locat locat locat best place ever stay chicago highli recommend', 'windi citi good place amaz room servic everyth walk distanc absolut must busi trio eas conduct schedul meet unbeat good decor impishli modern', 'confirm positv review previous mention stay room king river view nois comfort price bargain night would stay l midway airport let two block hotel ride need taxi ride', 'love hotel would definit come back initi given goldfish disappoint left tip housekeep reward us one fun sip wine play wii lobbi everi afternoon staff quit friendli help even print board pass us room comfort cozi littl alcov window read paper first worri nois sinc room next elev hardli heard notic street nois either hotel color tast decor well lit ideal locat', 'stay hilton night last march pleasant stay got larg room doubl bed bathroom tv ok crt flat screen coincierg friendli need room clean arriv order pizza room servic pizza ok also main hall beauti breakfast charg dollar kinda expens internet access wifi charg dollar day pro low rate price huge room close attract loop close metro station con expens breakfast internet access charg tip leav build alway use michigan av exit great view', 'deliber book sofitel water tower place night stop june first visit chicago turn realli great time love room basic type lower floor well appoint decor modern person like lot room pleasant airi bed extrem comfort hotel locat perfect close shop michagan avenu beach oak street love restaur close nightlif rush street step away area although bustl peac quiet could walk place would hesit stay hotel staff help alway smile readi help doormen help ladi conceriag would hesit stay sofitel water tower place next time chicago fact look forward next visit', 'took wife kid chicago one last fling school start back check staff attent show littl consider friendli attitud small tip upgrad huge upper floor room complet bar get pricelin glare paid involv air water show underway lake front plane fli room kid thought great night great view firework navi pier sunday morn breakfast buffet hotel good price reason conceirg knowledg friendli one best time ever chicago', 'pleasant front staff wine even lobbi larg room great rate free internet member loyalti program overal excel valu close el come either midway hare airport', 'return week jame chicago hotel fabul chic chill servic beyond compar check swift painless concierg servic also super effici locat excel hair salon coupl fab restaur us stay hotel restaur rate top chicago vote chicago resid stay th floor great view citi room delux king equip great select cocktail make love hairdryer safe tv robe slipper interest select minibar item one real surpris includ crisp snack first aid kit umbrella also spotless eleg bathroom kiehl product cosi littl dine area ipod dock cd radio complimentari chillout cd nice touch husband like enorm plasma tv super comfi bed ensur good snooz complimentari wifi allow us plan next day activ bedroom busi tour around citi get opportun use gym spa look fab bar lobbi area civilis tranquil smooth music play background help chillout bit staff attent without fussi good select drink bar snack avail barman mix mean mohito hotel full nice littl thought touch make peopl feel welcom care e g virtual tuck servic basic coupl pc webcam allow peopl say goodnight children away home busi also dog biscuit water outsid front door furri friend next visit chicago definit stay even consid altern jame maintain standard', 'stay friend long weekend august love hotel enjoy free nightli wine happi hour accomod quit nice bed soft comfort excel view river room locat wonder see sight around town easi access public transport nearbi friend actual receiv goldfish upon request enjoy nois could heard room nearbi minim price seem reson us locat certainli return windi citi plan stay', 'husband want spend weekend chicago celebr anniversari look jame awhil attach david burk primehous moment call make reserv knew hotel understood custom servic mean consum picki one pre arriv dossier special sweet staff kick anniversari weekend hand written note thank us stay jame staff well vers long lost art custom servic room well appoint bed comfi warm cool weekend walk distanc michigan av huge plu front desk clean staff staff top notch david burk primehous miss', 'need extra night chicago gratu stay penninsula skyauction bid jame one nicest hotel ever stay bathroom asid felt equal penninsula comfort level servic echo superl previous written would love stay anytim town', 'king delux room night reserv room hotel websit aaa discount paid nt enjoy boutiqu hotel much person person servic hotel except everi employe encount pleasant help room clean well decor spaciou quiet offer check room view warn elev decid take quiet larg room view locat hotel perfect us saw wick chicago problem walk theater also walk magnifici mile found locat perfect like walk drink hotel restaur night pleasur experi ate room servic breakfast morn food good portion quit larg would definit stay', 'new favorit place stay downtown chicago hotel least time room clean wonder design comfort staff friendli servic focus restuar great especi breakfast fruit crepe love hotel great locat good consist servic qualiti', 'thing make enjoy place stay staff excel polit servic impecc room clean bed comfort littl small water bathroom hot great place stay', 'great bed clean room amaz bathroom nifti view wonder servic expens park chicago speedi european sensibl amen air condit', 'thirti year ago tini room indiffer servic time servic superb friendli throughout special commend waiter waitress coffe shop door bell person hilton honor person front desk even lower price moder high inquir day stay want stay south river downtown back', 'stay night jame wonder locat min walk michigan avenu shop staff incred help genuin friendli noth much troubl room huge bed comfort slept room clean separ seat area sofa chair flat screen tv bar area stereo mini bar coffe maker anoth flat screen tv bedroom area bathroom good complimentari shampoo condition shower gel bodi lotion hotel also pet friendli even larg bowl ice water barrel dog biscuit front door hotel pet even option room sevic menu', 'arriv night stay sofitel chicago water tower faboul fine linen nice room big window bathroom shower flat tv check deal sofitel websit night price two', 'return stay fabul hotel treat hotel websit offer great rate found afford luxuri ask high floor found fabul view room orchid spray bathroom terrycloth robe slipper turndown servic roger gallet toiletri fluffi confort wonder pillowtop bed bathroom clean sparkl servic impecc well even room servic breakfast way averag incred gener basket excel croissant brioch pain au chocolat decor uniqu locat conveni check stun flower throughout lobbi topnotch hotel', 'stay sofitel chicago water tower night earli april conveni locat block shop golden mile good restaur hotel serv la cart breakfast differ usual fare nice french twist dinner restaur also good price reason room comfort problem card access door lock usual requir sever swipe open excel servic bellmen concierg front desk staff would definit stay visit chicago concierg recommend small van tour excel howev earli april earli visit chicago popular activ boat tour architectur chicago oper yet', 'excel servic clean spaciou room great view downtown chicago locat excel explor main sight golden mile great concierg servic pricey though valet need', 'great place great room great locat even though big meet go rainbow girl enorm gown consequ us slow elev ballroom amaz shop ground floor nice throwback lake view upper floor think worth concierg advic restaur etc excel definitli would return', 'stay mani hotel travel busi pleasur honestli stay jame top servic hotel first class room modern comfort locat perfect within walk distanc great sight restaur highli recommend busi travel coupl', 'stay quick awesom long day see substanti line check bit groaner saw self serv kiosk check key hand minut morn abl check tv room hotel beauti histor landmark amen modern hotel charm origin bed fabul comfort wish could live mani room wtih bathroom stay room like friend know ahead time two bathroom talk squeal delight year ago virginia beach hilton need room two bathroom first time seen sinc great featur', 'husband stay hotel monaco day octob cannot begain tell great place servic impec room fantast huge window seat look chicago great wine recept even special treat morn coffe servic lobbi first trip chicago hope last defin stay hotel monaco return book room safeti convent web site', 'strike architectur begin describ one best hotel experi profession life attent detail room bathroom remark bed best night sleep ever experienc hotel gorgeou lcd tv bose wave machin ad enjoy sofitel worth extra', 'stay jame perfect room thought design light storag space bar area eat nook everyth els room purpos pretti look staff friendli genuin accomad restaur primehous echo great servic one best steak long time', 'believ describ amaz stay jame servic impec door man front desk locat could better ye hear ambul street th floor come downtown expect overal nois level bother us minor incid cleaner tri open room clean pm pm go figur', 'stay hotel monaco husband first trip chicago insist stay love first time well second stay even better one corner suit river servic excel staff friendli help warm cooki afternoon nice touch day sightse unfortun miss wine hour one thing reali impress b c flight delay got chicago day late hotel monaco manag waiv cost first night room even though guarante reserv', 'friend highli recommend hotel happier wonder husband kid alreadi plan next trip even left hotel kid love goldfish room thought window seat best', 'beauti appoint profession staf comfort well locat eleg wireless internet access plu free access alcov second floor fit center littl small fine use right time good energi clientel easi access michigan avenu next door hour restaur block starbuck elev get finger button thought everyth definit return', 'jame hotel met exceed expect cool unclutt comfort hot crowd congeni citi locat within step greatest art architectur culinari cultur opportun anywher north america staff jame provid us home away home week visit check quick flawless king suit calm restor oasi difficult prais friendli attent staff hotel truli act togeth day visit end experienc problem room air condition technician unabl quickli solv problem immedi upgrad one bedroom apart stun view chicago skylin eagerli await open new jame hotel citi', 'first time chicago want hotel good locat definit fit bill could walk place want see close michigan ave magnific mile minut walk art institut hotel staff friendli went way help coffe lobbi everi morn welcom room comfort clean fairli quiet could hear train traffic street consid locat bad affect abil sleep relax would definit recommend hotel gem', 'read review hotel decid book stay juli th weekend glad hotel absolut beauti suit gorgeou romant hotel big sit pictur window complaint bar bore restur great love would definit stay', 'want nice place stay night dinner theater daughter st birthday place certainli fit bill conveni everyth includ southshor railroad station staff friendli small wine recept lobbi even starbuck coffe morn ryan concierg order flower daughter nice bowl hershey kiss wait us arriv upgrad suit although forgot make sofa bed came promptli get set call later window seat beauti well enjoy drink coffe morn read book', 'stay boyfriend one night howev enjoy stay staff friendli room nice clean hallway ballroom etc eleg room servic quick good option choos actual tast great staff abl extend check time extra hour without extra charg room great locat walk distanc art museum millennium park grant park right street quick cab ride mccormick place citi would love stay', 'stay jame june must say felt like ultra swanki boutqiu hotel uniform staff consist small j pin wear nice suit wonder comfort bed jame make feel ultra relax gym hotel fantast hotel gym machin new fantast condit realli enjoy complimentari kiehl product well soft cushi bed futon locat wise michigan ave close shop restaur definit stay ever back chicago', 'stay locat mani time past year enjoy neighborhood cost amen hotel current construct claim open know need take elev get street lobbi room bare lack even alarm clock bed prop modern bed stand might think stale mental asylum nicer histor hotel tri construct would recommend stay hotel meantim frustrat experi', 'hotel chosen busi convent lobbi pretti cool room tini dark huge pictur kiss toilet hard makeup read light locat ok walk block get best part michigan ave bad prepar sad sight dark appar panhandl permit chicago citi give ticket beg night beggar come saddest thing saw older woman two grandkid sit curb freez snow temp night kid look terribl unfortunatli wealthiest part citi see mani daylight also room servic hard rock pretti good plenti peopl would stay though suggest omni hotel', 'connect affinia chicago thorugh citi websight deal fair downtown hotel main drag attractiion includ inform hotel overhaul although pay much attent current major construct littl late project finish date must say staff tri hard make stay comfort difficult circumst room complet good nice bathroom main lobbi hotel amen total unfinish drywal food drink rest room opportun construct guy best limit activ nois think good one done end may way yet go', 'book two room four month advanc talbott place top floor next elev use night long speak front desk told simpli honor request upper floor request better view look brick wall get sleep also told receiv complaint guest th floor awar nois problem place us floor hotel total book request upper floor constitut place someon top floor use request justifi decid stay request room lower floor away elev spoke length book two room prefer simpli poor treatment guest believ would complain', 'stay fitzpatrick year ago ok manag great staff kind room clean time promis self never go back new staff rude made reserv anniversari internet day check told hotel staff reserv transfer around back forth hotel staff reserv hotlin staff extrem rude arrog rude like hate thier job offer check pm room readi till pm stain everywher high sale room due popular site must hire cheap unfriendli staff', 'initi excit stay ambassador east hotel photo onlin appear classi upscal thought stay would pleasant experi upon arriv disappoint main lobbi close construct make somewhat difficult get around room date old furnish linen damag tile fell quit short high price paid older build thin wall allow clearli hear guest surround room also love slam door depart guest morn doorway extrem narrow hallway room give claustrophob feel hotel', 'gone downhil much check stay dean martin celebr suit night entertain custom chicago stay mani year date like four season peninsula alway comfort clean servic orient hotel room servic elimin want room servic come mario italian restaur street italian complimentari morn coffe longer avail mini bar remov room etc etc restaur pump room close privat function saturday night bar also even abl dinner drink guest sure function plan made reserv told also learn bell staff year elimin word anyt servic gone hotel hear go begin renov decemb excus let old glori go pot meantim stay go back juli thanksgiv even pay internet mind bill night room servic restaur bar charg highway robberi get ow ambassador east sad', 'good excel locat neighborhood pretti quiet close shop restaur waterfront close train subway station etc bad old decor big deal tv smaller pc monitor suppos king bed anniversari trip given two doubl bed told would switch never happen shower tub stop bad shower husband wait one hour tub drain could shower want shower someon els dirti water even wife indiffer room decent size bed linen okay staff mediocr margin rude', 'purchas deal groupon let say found bunch hidden treasur lay sleep bed lift blanket found distub spot bed attach photo immediatli call front desk thing offer new set sheet room servic men came chang sheet brought us anoth one big red stain quickli hid chang seen apolog offer bring us new one deni sinc late slept sheet appear clean next day eagerli show fronk desk manag photo offer refund dissapoint dirti sheet made us uncomfort sleepless broke face acn never acn skin issu im posit someth dirtyy sheet drove hour enjoy chicago stay hard rock base reputatuion unfortunitli disspoint disgust wrote email manag heard noth back even respons apolog realli expect alot', 'travel chicago visit daughter live citi supris love older hotel major renov gone lobbi gust requir walk basement get one elev work second floor regist first room recent renov stark white wall amen guest enter room find way bed turn light room modern furnitur includ bed close groud cold blck slab function desh metal chair fride coffe maker iron even pictur stark white wall ask chang room put one older suit th floor room attract greet jack hammer everi morn staff nice accommod lack lake shore drive', 'much complain see review post site talbott provid bad servic feel need warn futur travel chicago girlfriend stay talbott night late juli first sign someth wrong come initi book room phone receptionist outright rude took reserv without mistak stay hotel restaur staff extraordinari incompet waiter manag nobodi friendli tie accommod us mani other stay hotel attend wed recept close arrang hotel bar remain open hour parti hotel manag assur us secur done past upon occas return recept pm bar close night manag hotel staff rude friend nobodi told us anyth sure arrang two quot typic hotel staff know never stay hotel understand mistak made commun difficult differ shift hotel blame custom confus fail arrang know arrang later confirm day staff rude even tast', 'let start say season travel take trip pleasur yearli basi includ busi travel travel world often stay older hotel charm attent detail impress hotel night expect decent clean hotel obvious highli disappoint state room given paint wallpap tub peel hair tub toilet got room internet servic extrem slow toilet ran throughout night quit frankli convinc bed chang previou guest wrinkl look slept told gentleman work front desk state room respons know wait renov fact meet rel travel uk book hotel travel agent would check soon check let also add front desk seem short staf check check process pain slow credit hotel great locat friendli respons door staff day like love hotel dire need renov despit locat cannot understand travel continu pay rate sub par experi would never book hotel', 'schedul stay hard rock june cancel book hotel back januari call six day arriv date cancel told would charg stay cancel seven day advanc told custom servic rep never heard practic said smug manner told back januari honestli rememb told cancel polici think unprofession practic captur addit dollar sinc industri standard requir seven day cancel polici book directli hotel one never stay hard rock hotel make sure friend busi associati know unfair practic', 'great build locat staff indiffer pay wifi usd night would expect least free wifi pool build someth found realli annoy move anyth minibar sensor automat charg ridicoulu ipod dock room work also move thenightstand bed found dirt definit valu money pay hard rock brand never go back hard rock hotel', 'select talbott hr compar hotel onlin wonder experi boutiqu monaco allegro assum would compar good point lobbi beauti one staff member took rose bought wife arrang nice mani problem wife call question arriv day agent could find reserv min later transfer anoth person found record instantli arriv lobbi stuf student nobodi tri manag group sever push ahead check desk left bag went hr could check less hassl final check wait min confus desk clerk search room got room made last guest complain given upgrad room old uninspir chair scuf closet shelv bow air condition noisi wall lamp loos view construct site movi demand date expect budget hotel one posit eleg upscal return even card reader open main door work one staff member admonish us realli use reader fact tri embarrass other stand lobbi tri access hotel wifi network given upgrad option call desk told click past cours noth hr later complimentari access work pretti easygo love good treatment tip handsom problem write fact would written except hotel make thing right presid wrote letter suggest other hotel would touch nobodi ever', 'stay hotel one night locat great elev drove crazi first long wait start time long took moment push button elev arriv never min even late night went rooftop dinner drink husband margarita wan drink pregnant soda water would known would tap water overal great room ok staff horribl elev overpr drink', 'avoid talbot especi group function law spent great deal time tri find right hotel use wed parti sever town guest lure promis talbot sinc small boutiqu hotel could provid special person treatment noth could truth fail honor two request keep bar open recept persist confus reserv request front desk fail contact valet despit multipl request nearli caus guest wife two year old daughter miss depart flight wors part mistak made even hotel manag human hotel suppos hospit servic distinguish handl correct error case point request sever occas made reserv famili place credit card expens assur would problem cours brother wife asthmat five year old arriv sear hot humid chicago six hour travel let check physic saw card despit card record despit explain phone brother recal indign desk clerk mention charg put card anoth guest case older brother came put charg onto card five year old could escap heat prolong wait lobbi final abl get town leav cub game earli spoke put charg account agre never anyth end older brother check sunday told everyth alright went atm account frozen unathor overus hotel kept bill debit card automat multipl charg ubtil account essenti drain got home take entir day discuss bank rectifi event spent sunday afternoon hour three hour monday first two day honeymoon phone call talbot credit card fraud divis brother etc tri solv situat aggregi insult continu come form cover manag one point suggest mistaken come back talk desk clerk matter wit event insinu lie way clerk could made mistak end one run place manag one depart refer manag anoth depart voic mail final abl get name gener manag two day neither assist would ever call back commun staff mangement non exist fortuneatli staff signatur room recept beyond excel day lost talbot went way insult poorli serv famili mani wed guest tri ambassador east neighborhood cheaper much profession staff', 'hi ho hi ho chicago go skinni hope run wash rock star cece devil us teenag idea may want spend hard earn money took younger sister coupl friend teenag overnight chicago way wisconsin chose hard rock ambianc mean come suppos cool well posit carbon carbid build beauti locat sit middl everyth lobbi two comput guest use fit center nice cardio machin individu tv head phone case forgot protein bar like post workout snack check quick valet courteou neg room small clean pistachio shell floor room paint purplish gray princ floor pictur bob marley hang one wall girl thought coolest part hotel fuzzi throw pillow bathroom shower full tub cabl recept poor kept look bunni ear fix pictur anywher near hard rock cafe littl memorabilia pool ye knew made reserv wrap stay go drop benjamin hotel room stay palmer hous hilton whole differ review', 'check girl gave us smoke room ask nonsmok get anoth room elev loud realli loud new room shower door everi day water spill floor wet carpet public transport amaz need car chicago get anywher train bu fast area recommend chicago great good shop good food gino east great bar tornado knock window sear tower realli cool love hardest rain storm ever seen', 'check great got room carpet drench stain near bathroom shower open concept leak water onto floor sinc door mini bar broken put extrem foul scent room final hotel bill reflect charg incorrect mini bar util second charg bottl wine instead husband went front desk correct met unfriendli unapologet employe adjust without confront anoth guest check husband front desk mysteri mini bar charg bill well tri correct overal locat hard rock nice last time stay one', 'day great locat right miracl mile near major hotel best shop theatr room larg hotel staff friendli help respond immedi problem frequent homeless peopl even daylight superior st clair michigan avenu main rout walk activ everyth walk distanc night street north side superior dark usual smell strongli sever unpleas odor street peopl approach although may stare go usual way sleep window sill neiman marcu would think woman would feel safe larg citi street peopl phobia homeless michigan street differ lone stretch open busi either side street entir hotel need lot cosmet work appar soon undergo major renov expect two extrem small warm slow elev long wait serv floor warm cramp hallway wall throughout hotel need paint wallpap peel place room sever electr outlet hang connect carpet stain bathroom need new grout mold visibl tv small inch window dirti get room servic unless ask sometim pub downstair run dark kind creepi food room servic expens park day public day valet plu side bed comfort ampl comfort furnitur sit area plenti space decent view hotel span st clair street toward north south see sliver lake michigan pool small clean clean quiet provid lot space sit around room think overpr would stay', 'worth price stay hotel night instead choos hard rock special locat newli renov beatl floor carpet hallway look like need replac upon enter room found cool beatl artwork x foot marilyn manson portrait think halfway done theme room checkout tri charg us use mini bar even open remov charg right away wonder tri get unsuspect peopl charg noth special want pay bunch extra light theme place', 'travel loyal favorit hotel experienc sad truth eventu lodg deterior expect price doubl tripl time stay talbott sever decad ye chang made like updat heat cool system front entranc recent thing gone downhil last sever stay experienc dirti carpet slow servic rate skyrocket ask night minimum stay mani occas kind rate structur one might expect star hotel within spit distanc talbott less maintain lodg person shop new home away home', 'chose hotel nice weekend getaway noth disappoint previou weekend stay star hotel block away much impress hard rock number issu includ dark room much light artifici natur lot street nois cheap decor furnitur broken cabinet door warm room said would send mainten never arriv bar charg account overal surpris star hotel expect much better experi', 'arriv pm flight california know renov made reserv bother much help man front desk name ben friendli enough liter hand room key told nice stay gave inform anyth idea breakfast serv even breakfast also extrem unpleas woman work behind desk wear name tag african american slim short hair seem actual radiat hostil made uncomfort needless say made feel unwelcom actual felt like put stay hotel encount next morn go downstair ask question tri smile bit met utter disdain rude also watch interact anoth guest saw act rude bad manner matter may go one life work custom servic need leav whatev happen door put smile appal demeanor room alright clock found odd sinc came differ time zone comput phone differ time constantli confus one correct especi upon wake morn would nice clock also literatur local site map restaur menu even anyth hotel name address room also mattress absolut worst mattress ever slept life woke everi morn sore back neck better sleep hard lumpi futon absurd like anoth person post tub drain either also shock soda machin ice machin found mayb around somewher made awar check want go downstair ask fear treat like burden employe hotel good locat room look nice upon first glanc absolut would stay pleasant stay cheap chain hotel bummer first visit chicago pretti high expect', 'request quiet room sever week advanc yet given room face street could hear traffic nois ask move told noth avail next day next morn prior move quiet room toilet origin room overflow creat larg unsanitari flood hour later move room face street room quiet smaller darker mattress room firm would even say hard ask softer mattress avail told mattress checkout tri give hotel form payment differ card room reserv process still done correctli minut seem longer van airport wait right outsid passeng cost correctli charg week later recompens nois flood etc hotel offer exactli noth great stay', 'hotel beauti wonder staff bottom line imposs sleep night nois ambul siren continu throughout night three consecut night simpli inadequ soundproof even floor street ok floor th floor hesit write review reli trip advisor review travel warn ambul siren would chosen stay elsewher sound sleeper nois issu love hotel excel valu conveni locat wonder staff quiet key prioriti would stay', 'stay excel affinia chain ny high expect saw trip advisor rate immedi book huge disappoint qualiti simmon pillow top mattress cover cheap foam pillow kind sell store cannot sleep window thin hear buzz walk walk sign superior wall thin neighbor smoke awaken around midnight room engulf smoke odor call downstair yield result nice furnish mani chip show bare wood desk chair full loos thread water flow weak towel nice unpaint floorboard kind find day inn charg internet servic tini lobbi materi pictur hotel eventu look like sign outsid also banner stay u better red roof realli embarass affinia chain wait complet renov suppli feedback checkout front desk apolog shake hand good heart problem fixabl', 'hotel undergo renov dirti noisi entranc realli scari sinc cover scaffold make dark charg lot internet hook wifi includ staff slow assum new could say anyth attract nearbi room set weird bathroom open face bed rather hall room temp hard control even though digit thermostat overal disappoint stay one night would switch hotel', 'stay away gener old world cozi state bit tire oasi ae purchas ian schrager taken mani notch function allow fact hotel renov entranc handicap access saw sever hotel guest cane cast etc includ recov foot surgeri cast cane struggl outsid stair one navig get hotel luggag imposs simpli inexcus custom ambassador east decad hallway dark one bare see room stark white particular problem jar pain one eye adjust dark hallway furnitur stark scant look like someth ikea closeout bed comfort relief inch floor real problem physic challeng even elderli less flexibl salad day problem end room horribl uncomfort wire metal desk chair absolut nowher els sit arm chair demi sofa ottoman foot cast would nice abl sit comfort perhap even leg elev room way bathroom absolut nowher put toiletri shelf small tabl nook medicin cabinet want put razor shave cream makeup women anyth els use sh luck repeat request small tabl sort chair went unmet borrow umbrella front desk broken unus someth discov caught expect downpour tempt throw rememb would charg return spite total lack use refriger forget shampoo two day row housekeep left sever bottl lotion shampoo room servic avail want breakfast front desk sell small pre wrap commerci grade muffin someth buy ga station ad valu whatsoev photo show nice entranc larg lobbi ae long famou unfortun lobbi close construct temporari lobbi second floor difficult handicap access thermo bottl coffe water tea stone cold morn confront variou miss front desk staff repeatedli shrug shoulder said yeah know first tell us stuff show schrager even care make effort make guest comfort staff either indiffer amateur know differ even make effort get right one thing get good price hotel room renov anoth thing altogeth get screw bargain particularli book non refund pre paid reserv avoid hotel like plagu', 'search cool non chain hotel weekend getaway boyfriend thought found winner affinia soo disappoint spite fact reserv two adult arriv find room doubl bed floor delay flight hour cab ride tire make fuss hungri delay plan attend event night call room servic hope keep simpl told room servic would call back take order noth happen want late event end go restaur downstair noth special entre dessert nab two still came hayse well awar everyth cost chicago worth room elev w park garag view bathroom tini shower curtain stain funki toilet seat lid vaniti featur rude awaken light normal found low rent dress room e holi crap look bad whole time travel like use room coffeemak charg chintzi coffe use come nice enough ambienc upstair bar weak drink night bed tini uncomfort ask switch room marathon weekend hotel busi want pest believ impress place onlin next time happili pay stay someplac actual treat', 'wrote email sale reserv team week ago still wait respons want book suit night fail even repli offer book anoth hotel bother answer email shame miss coz tip like rockerfel', 'stay hotel februari room great purchas raffel work fund raiser unit way probabl paid need chariti woke morn group least young peopl loud come elev hall way must woke everyon floor cours one room rent right next loud shout profan bang wall thought mayb fight go call front desk sent secur immedi secur tri get peopl regist guest leav call front desk two time send secur back sinc noth chang went hour final quiet end sleep morn sinc exhaust complain morn managemnet would noth us state use gift certif well still paid would give us one thing free troubl would never stay hotel obvious realli care guest', 'sit hotel right review impress room hotel modern least feel like stay grandmoth attic wallpap peel wall well lit outlet room especi conveni one none next bed built lamp terribl view loud construct nois woke even locat beaten path closest l stop red line access via loop stop blue line airport without transfer health club site either hundr hotel would stay one', 'use pricelin everi trip made back chicago fortun stay excel hotel downtown first last stay ambassador east conveni locat near clark divis stop el red line best part experi check charg addit upgrad king bed two queen never issu hotel stay room decor outdat tv tini hotel charg usag internet could hear peopl hallway hallway could easili hear peopl room chicago stay hotel howev peopl might want romant weekend definit place read', 'hotel live review room larger expect howev decor bit date bed rip carpet stain shower door broken long wait elev floor need take second elev get roof bar gym main issu attitud receiv staff liter one nice person front desk ice machin build request front desk one day request go desk ask person minut later made follow call receiv ice nastili told ice take minut wait final got ice minut later two day later request ice wait minut gave leav mention woman front desk said get call ice well obvious make ladi call spoke someon even apolog offer anyth overal would recommend hotel mani hotel chicago area choos differ one', 'take cue david dancer sup front desk person ye wait elev line get room front desk person room front desk person oh afraid take elev take fire stair th floor oh wtf stay hotel bar th floor wait minut line get fuck hotel room get bent pay stay drink bar', 'great hotel way would recommend construct around complet elev alley start construct site behind goe night dumpster fill empti also seem go worst restaur open sidewalk cafe rat go scamper construct next door street grate ugh', 'experi ambassador hotel seem star establish build lobbi nice hotel room extrem date carpet old worn floor carpet tile seem dirti made uncomfort would imagin mani year ago nice hotel current indespir need renov', 'friend book hotel us girl weekend chicago let say thank spend much time room carpet stain look like suppos way furnitur worn outdat place gross worth money spent redeem qualiti door man nice help', 'apart locat great stop upon check inform would queen bed ask king size bed told would charg go king give break surcharg go queen king got room like oven could get air work need call twice get servic everyth room charg associ even coffe disappoint size bathroom small stay twice mani option feel last', 'recal anoth time deal rude front desk help pleasant initi soon demonstr slightest bit frustrat still wait claim luggag check arriv prior check time hold bag true qualiti establish surfac never mind luggag sent room afternoon wait lobbi minut pm still look luggag least bellhop bit annoy worst part wit poor attitud donna attract aloof front desk employe lack initi match petti notic refus make eye contact remaind stay includ famili came lobbi follow morn also book rate includ park donna acknowledg check check bill separ assum got bad side even last polit good bye front desk felt phoni uppiti attitud donna realli convey extent insult felt honestli say worst part first trip chicago hotel well appoint lobbi small cozi great locat well fair staff seem friendli obtus recogn rate hotel statist outlier think travel like would trade amen consist reliabl servic situat could singl handedli ruin travel experi unfortun case', 'wife spent long weekend hardrock chicago hotel although one normal write long email felt necessari bring disappoint experi recent syat attent issu includ friend order chocol cover strawberri deliv room upon arriv never got friend later ask us receiv strawberri respond brought attent hotel pleasantli surpris receiv complimentari bottl champagn disappoint upon check howev accident bill complimentari champagn later subtract bill room dvd player work approxim pm call front desk help troubl shoot issu person respond friendli al engin call back shortli help minut later knock door al great friendli guy wait call back arriv servic tech keep mind late alreadi bed al abl fix dvd player gracious told us order movi us thru hous movi select problem work either al awesom call servic provid abl fix midnight final midnight al call us back movi watch mood sort pass end watch film hitman wife alreadi gone sleep thermostat room work regardless temperatur set set degre actual temperatur degre mani unresolv issu feel necessari voic read', 'worth price even littl bit week prior schedul check receiv email room upgrad accept cours upon arriv nobodi know typic nobodi anyth notifi stay review post newli develop thechicagocrit com sudden figur problem even offer earli check littl late small room queen instead select king suppos window didnt open tv took forev chang channel bathroom fan control faboul lodg net system everi hotel world use eas checkout guest well check featur shit hole hold candl la vega hard rock', 'ask two year ago would recommend talbott hotel without hesit anyon ask definit chang mind hotel locat nice area chicago surround great restaur shop affluent peopl realli begun slowli downgrad note review incred seriou custom servic hospit industri realli excus fall short categori ala talbott realli door staff say word desk peopl acknowledg million thing alway staff air snobbish inexcus sinc custom pay stay price hotel perhap annoy aspect latest stay walk flight stair get lobbi hotel wait solid minut elev arriv pack brim get old hotel incred annoy two elev entir place one construct one overflow peopl forc walk eleven flight simpli get dinner reserv time continu give hotel busi better recommend give friend plan visit', 'talbott hotel bit worn around edg bit worn much sorri say although locat block half best part michigan ave beat level servic par mani four season quit bump road number one room quit dreari brown brown pleas desk chair badli worn lift button simpli swirl sat grossli obes back chair lean much uncomfort husband use couch pillow use one get desk heighth one back scoot desk bathroom oddli arrang door swung right next sink use far sink someon need enter bathroom got hit door towel well worn thin although bath size plu restaur downstair practic anoth post suffic say horrif appet outsid nice streetsid tabl appet aw look though child toss togeth kitchen room servic sandwich order later visit total wet side serv larg white plate one slice meat one slice plastic american chees groceri store like roll sad even menu limit look though someon child written good news chicago fairli well read restaur town plenti place go unfortun us day stay larg convent jazz festiv town paid nt disappoint good news mini bar ware incred well price last time beer anywher hotel even bud bud lite lol front desk curbsid staff could accommod water shower hot plenti bed comfort c noisi uncomfort whatsoev go entir time entir stay free wi fi ye horribl grindingli slow need advertis upgrad faster wi fi talbott pleas updat room get new restaur concept ahead game appar enough folk get deal room pleas sadli', 'book travel websit hotel current undergo major renov renam septemb public area still renov hallway room done hallway dimli lit see use key card shock came enter room whoever design obvious take function guest comfort consider bed mere inch ground mattress rock hard platform nigh stand shelv attach wall around inch height room stark white color art work decor full length drape complet block air condit unit winter heat think could danger desk chair clock radio room wall mount lcd tv poor channel select bathroom small clean problem tub ft high difficult step older person could never stay room renov restaur site vend ice avail floor either see anyon ever becom repeat guest hotel would never stay', 'chose stay small hotel look hotel less crowd anticip would get better servic smaller hotel larger high rise hotel experi good servic talbott hotel check irena seem robot aloof front desk clerk neither welcom graciou lobbi small front desk feet front door time came hotel never greet even receiv smile staff blank stare gaze front desk staff chilli stiff greet smile person difficulti answer simpl question request hand bellman perri great sociabl servic orient awar go area recogn guest offer suggest thing immedi area eat neighborhood authent even ask us upon return restaur tim concierg also support gave us discount coupon shop major depart store largest suit request rollaway extra charg made reserv ask five differ time rollaway bed deliv room came pm rollaway final came call back front desk deliv blanket pillow bed made talbott hotel experi disappoint may never receiv housekeep unless ask room clean room return room pm room clean call front desk ask send someon maid rush clean room shower chang even room pleasant moldi smell frabreez would nice bring sinc window open much next noisi neighbor wall thin realli like stay area chicago expect first rate servic servic weak unaccept class hotel', 'found hotel small luxuri hotel world booklet stay mani recent year inde beyond averag hotel therefor chose night stay visit england talbott excel locat although view build site ambienc charm howev littl dirti fade around edg servic appal wait foyer well check time previous attempt check earlier tire need rest final check done room valet park outsid request breakfast includ price thing request recept occur touch make hotel stay special stay hotel much eleg staff servic first rate half price hotel sever disappoint cannot recommend', 'move beyond rock theme averag hotel good locat room unbear hot control wall noth thank good window open cook aliv cours let nois michigan ave combin neighbor door slam thrown door lock everi second made live set room stuffi burn mark carpet lead believ nasti smoker occupi room mani occas wife happi w aveda bath base bar good great servic well made drink tho pricey', 'book hotel last minut vacat plan littl shop nightlif downtown woken morn bathroom flood water brown cloth belong left bathroom dirti sop wet move anoth room smaller orgin room gotten paid next day housekeep servic never even came chang sheet coffe towel horribl servic servic orgin room perfect plan ever spend anoth weekend flood hotel', 'stay affinia one night purpos drive way nw suburb women hospit oir surgeri thing realli enjoy could hear nois outsid night long well insid nois slam door nois insul dusti window frame understand car pollut look like clean long time one thing realli made upset broken blind right side unabl pull enjoy sleep time notic problem late affinia hotel serv tourist guest chicago well northwestern hospit patient famili realli need extra privaci comfort strang everi hotel stay suppli seal roll toilet paper affinia even offer look like someon use bathroom right take care clean ladi neither toilet paper toilet seat seal us use hope surgeri stay place leisur even discount', 'two girlfriend arriv hotel found hard rock lost reserv call three day confirm reserv phone rude woman front desk treat us like lie start caus scene front line peopl check final decid would research issu ten minuet later found reserv room readi told would readi noon came back told still dirti room small bathroom shower sink floor filthi room servic tray sit hallway day next morn call get towel never brought room drip dri posit experi hotel concierg christoph knew everyth citi sent us perfect nightclub', 'stand craptast excus shower buttnak cold soap hair water shower head gone weak spray dribbl noth come noth world ever convinc stay worst part hotel know problem told happen upper floor even stay highest floor make ok look past rustic decor room take inexpens place crash c mon girl gotta shower', 'search cool non chain hotel weekend getaway boyfriend thought found winner affinia soo disappoint spite fact reserv two adult arriv find room doubl bed floor delay flight hour cab ride tire make fuss hungri delay plan attend event night call room servic hope keep simpl told room servic would call back take order noth happen want late event end go restaur downstair noth special entre dessert nab two still came hayse well awar everyth cost chicago worth room elev w park garag view bathroom tini shower curtain stain funki toilet seat lid vaniti featur rude awaken light normal found low rent dress room e holi crap look bad whole time travel like use room coffeemak charg chintzi coffe use come nice enough ambienc upstair bar weak drink night bed tini uncomfort ask switch room marathon weekend hotel busi want pest believ impress place onlin next time happili pay stay someplac actual treat', 'see place must gorgeou one time realli need makeov huge gape hole carpet bedroom floor kid guest room carpet look like maul giant earthworm furnitur sever chip ok dont mind chip furnitur slum colleg sister apart night want room look like furnish stuff retriev dumpster drive receptionist check super curt know late isnt sort job everyth horribl bad though one star bathroom super clean recommend place', 'hotel shambl furnitur liter fall apart staff rude uninform nevermind lack secur absenc call amen fit center overs closet appal stay truli anticip warm irish hospit short barman one irish warm hospit manag unrespons need front desk attend incred rude made simpl request manag refus come offic call ask speak us room pretti first glanc dresser drawer fell major construct hospit next door began kind experi anyon could toler call red roof inn would insult rri manag final call us back soooo fake insincer would prefer call thing go locat worth trade', 'stay talbott time alway like time first visit year disappoint hallway look tire carpet need replac ask corner room instead given small dark room look onto wall feet away multipl noisi vent immedi outsid window light kept throughout day even day bright bathroom tini would difficult manag peopl room ac unit rumbl perman background white nois even switch stay know better room one price other risk get small thing contribut lobbi browni longer cup lid lobbi coffe walk coffe got newspap last morn night stay construct nois bad start goe around pm includ weekend', 'great front desk staff rest experi dread room servic staff among poorli train ever encount ask four time staff slam suppli closet adjac room room random room check minibar entir budget hing sale peanut roomservic also equip walki talki loud megaphon like sleep vacat stay also hotel massiv construct detail conveni exclud websit take elev construct worker everi time use discount work nois rather sleep box alley', 'made reserv chicago fitzpatrick use number two night june receiv written confirm cancel polici etc howev attempt cancel reserv morn first night reserv told would charg one night stay pm day first night stay polici even though hotel sold night would budg polici common polici michigan ave advis make reserv someplac offer flexibl emerg send written confirm polici expens mistak part book hotel', 'regular visitor chicago freuent guest ambassador east except disappoint last visit room servic elimin despit renown pump room locat hotel room directori carpet torn stain phone book refiger honor bar remov room small turn sideay get past bed armoir ask desk clerk larger room said except corner room untru sever larger room type even offer check availabl room talk consierg blame everyth upcom renov hotel promis two year disappoint expens experi', 'encourag stay affinia part group town chicago wed book room month advanc promis brand new full servic hotel great locaiton chicago lobbi non exist construct front desk staff incred rude unhelp hallway elev small cramp uncomfort room great great bed great televis set room servic kitchen construct bottom line stay full servic hotel charg total disappoint hope improv vow never stay recommend anyon check one chicago truli amaz hotel worth risk unproven dress rehears', 'wife spent labor day weekend citi choos hard rock hotel pad stay hrh orlando twice blown away ambienc way may ticki tacki thing ad us first room upgrad reserv thru hrh websit room incred view well th floor view noth vent top build next us could see view room muggi air turn way never got woke sweati day open window get breez nois rooftop next us overbear room small dark bother us much bed may mosr comfort bed ever slept even joke steal pillow issu honor bar previou poster remov charg prob throughout entir hotel count total piec music memorabilia thought pretti cheesi attempt renov old hotel throw styx guitar wall slap hrh emblem outsid hotel clean look like renov locat good right south end mag mile better hotel better locat shop qualiti eat navi pier car park cost day prob normal downtown hotel restaur chines restaur bar small trendi guess kicker wife tri order pina colada told us blender whaat hrh without blender know jimmi buffet town mind blow would never never never go back like said mani better hotel much better locat stay hrh orlando elsewher', 'room dark insist bring lamp could see room night dingi small mistakingli think hard rock cafe chines restaur overpr limit item room servic menu broken term time order certain food wife want milk shake call manag made sinc kitchen staff said choic roll roast beef sandwich list choic refus make until call manag get us staff appear friendli although housekeep total disregard disturb sign would call us phone make mistak stay walk street buy snack want even soda plu gratuiti end order deliveri food brought us overpr rate dingi hotel ever stay taxi airport', 'back spend memori day weekend chicago decid stay talbott reserv room month ago must say found staff wonder accommod quit disappoint given room avoid room cost adjac elev noisi keep awak night awaken addit request king bed two doubl also surpris coffe maker room despit friendli staff super locat talbott less expect would probabl stay', 'tough one review star rate star figur averag tip prop complaint room star corner suit room pretti nasti actual stay away constant bang nois first got thought person bump grind hour knew even someon high speed redbul would go strong well sound continu day mind much keep thing white nois sure would bug other also cig burn carpet sofa addit look like someon left iron sofa also gray furri pillow bed look like big dead rat could imagin dna left thing either gag bathroom nice size great faucet lose realli lose toilet would flush right servic great everyon encount great job make feel welcom good stuff food meet experienc breakfast lunch made realli good much better hotel bar cool good music great servic good drink scene decent well small bar cramp mayb room nicer well hell better regardless one room like especi suit think other like well bad though view great actual window open big shocker citi gener', 'much look forward stay hotel hear good thing unfortun underwhelm experi say least let begin thing like hotel first locat favorit part chicago leafi affluent part town chicago equival manhattan upper east side complet sidewalk quiet tree line street real old school townhous instead ugli tower monstros st centuri condominium cute boutiqu instead gap banana republ mainstream mass produc brand cours herm pari warrant separ mention also like small intim lobbi area old leather couch cherri color wooden furnitur area rug distinct artwork reason alway tend gravit toward smaller boutiqu hotel instead imperson chain definit love room space issu bad chicago manhattan get sqft guestroom weekend getaway easi task delight see room come gener ampl bathroom doubl sink massiv king bed still enough space walk around chicken danc strut herv louboutin reserv lack natur light window definit inadequ allow sunlight find way th floor room delawar st exactli widest street town build front us yet one thing realli disappoint us servic lack thereof mean serious call hospit industri reason pay premium stay smaller boutiqu hotel get servic littl bit person kind would get say room vega hotel first call reconfirm reserv ladi phone anyth courteou compet first abl find reserv transfer front desk staff explain pet peev come phone custom servic person man recept desk friendli compet either case point send slip paper agre nightli rate durat stay room check clearli indic must forgotten actual real kicker order room servic arriv gener rule never ever big fan room servic fair share bad food slap gratuiti tax still expect tip day globetrot compani expens account think overcook steak lukewarm soup bread hard enough knock someon ice cream alreadi half melt time reach suit realli expect hotel small talbott hour room servic lo behold place order chicken blt initi delight came within minut customari invoic involuntari yet customari tip top servic fee refer open cover find someth look like pick garbag bin microwav serv plate bag lay chip lightli salt flavor bread look like someon stomp l look like day old b unrecogniz chicken burnt cold pathet room servic finest get item taken bill right front desk person instead apologet defiant whole thing upset hotel high end abl leav bad impress within first hour arriv quit accomplish come back unfortun', 'husband stay overnight affinia prior review led us believ qualiti hotel true sinc special occas also stay overnight let shabbi poor servic hotel ruin weekend howev would qualifi one poorest hotel experi ever first smell linen pillow bed smell moldi mildewi odor mild found pretti repuls wait jump bed morn get away odor hard sleep certainli want bed longer absolut necessari discov disgust bed smell around midnight got bed point chose contact housekeep exhaust b want upset husband fallen immedi sleep long day sightse also bathroom smell like vinegar perhap clean agent use affinia odor dissip cours stay never incident bathroom floor tile wallpap look like seen better day well maintain properti second elev stay first floor two elev run ground level rooftop c view bar mani floor servic mani peopl go c view bar saturday elev took forev come often full annoy also one occas sever bottl water soda left elev clearli mainten crew inspect clean common area frequent final perhap disappoint servic arriv first book ask quiet room possibl hotel locat near northwestern memori hospit proxim michigan ave lack accomod elsewher due transform movi film big intern convent take place week end led us stay anyway check clerk note request said room quiet room sinc next elev arriv room discov elev obvious technic correct next elev still close feet could hear elev nois also sinc special occas ask could upgrad disingenu snarki condescend clerk told us check earli upgrad clearli woman travel enough know mani qualiti hotel matter routin except pretti aw experi way around review must low expect explain good review otherwis', 'hotel ok stay day visit friend renov go lobbi bar anyth decent furnish room usd renov annoy think ahould charg much less until done cant beat locat conveni especi u like chicqgo nightlif', 'ambassador east averag hotel best mediocr worst bright spot help friendli staff doormen concierg especi help will could room lacklust howev bathroom especi bad shape dirti arriv hair sink shower shower realli bad shape shower head adjust work properli water pressur low water temperatur get warm first morn visit decor throughout hotel lobbi hallway room date old fashion would like vend machin hotel well busi center free internet access nice featur easi use hotel locat okay though bit hike popular tourist destin would stay hotel base current condit underw renov updat room bathroom might inclin stay read', 'went busi hard rock hotel wacker drive recommend meet girlfriend arriv hour go pm room readi phone work shower work got alreadi upset call manag complain put hold min could hear everyth room next wall separ us ask wake call nobodi call next morn call complain next day told phone system order room servic got wrong order build old elev sound like last breath would recommend anyon patrick', 'good locat view decor room servic friendli staff bad shower curtain replac room short leak bed ok ugli pack bag chang room loud nois elev kept us heavi sleeper even white nois app crank hotel ipod dock still loud enough keep also toilet leak puddl shower staff howev provid replac room although immedi also mention areadi awar nois problem room past custom', 'stay hotel lot went site room say pick hotel cheapest hotel park spent money park car could spent better expens hotel park hotel great guy getaway weekend car famili frienli hotel dine tip long walk hotel gino pizza must worth walk mani thing hotel gino break walk', 'locat thing matter stay talbott howev wife travel extens throughout north america europ never entir life seen inept housekeep staff unprofession noisi incompet better suit one star hotel yell hall slam door take far long clean room come room sever time check fridg sell bottl water hotel renov stay also endur construct work discount offer even complain sever time front desk staff polit care suppos nice spent lot money stay feel receiv fair deal room sub par price even inner citi hotel stay somewher els better vacat', 'room look like countri club prison cell flat paint wall door trim especi clean platform bed long shelf desk iron chair amen homey touch noth wall room servic gym concierg air condition clunk night plu side bed nice larg screen tv wast money', 'easili say one worst hotel stay receptionist front snooti sarcast teenag post teenag get better servic waiter waitress diner room dirti stain carpet showerhead moldi rust door bathroom main door dent scratch towel horribl aroma hotel narrow near construct zone would plan wake choos talbott next day ask anoth room concierg decent guy move us larger comfort room room though right elev tortur hear sound elev would never stop ask late checkout pm receptionist refus state would charg half day noon speak manag gave us till pm pleas stay away hotel think holiday inn would better andrew f gulli', 'morn check left behind one worst hotel experi ever hard rock hotel chicago disbelief hotel part prefer hotel group upon check greet front desk staff better thing let show room poorli lit dirti desk desk chair cover sticki dri soda pop someth els clean could work sound system put shame year old daughter boombox one rock star otherwis want reach arm length toilet paper everyth possibl includ hire profession courteou staff answer custom call direct everyth possibl line great market fail follow room mini bar polici rank person top five ridicul busi practic time charg steven tyler open room fridg look back would much prefer enjoy cocktail dirti room rather dirti drafti overpr bar horrend wine list except fact leav check better check even ask stay young woman provid copi bill could unpleas one bring busi back locat next time chicago stay hyatt rock tripstarr', 'stay fitzpatrick result glow review tripadvisor avoid normal corpor hotel good locat room dirti last housekeep dingi place need slipper provid suit also refriger cake ice work furthermor travel agent mix date travel show day late hotel said problem charg show night travel desk verifi hotel manag day fitzpatrick charg night refus revers charg mani attempt resolv neither corpor travel desk use fitzpatrick two dot good locat lobbi clean gener easi pleas slow complain bad', 'reserv room sleeper couch week stay check unpack discov sleeper sofa remov supposedli renov front desk clerk bellman never mention sleeper sofa even though saw us check room colleen one manag argument noth resolv problem end one children sleep couch slept antiqu rollaway bed never spoke gener manag conveni absent hotel stay stay one occas past decad never encount incompet make sever phone call receiv miserli discount never receiv apolog lack train staff clearli evid cavali attitud manag', 'stay night spring break call jr suit resembl wide hallway window one end bad cheap furnitur carpet stop short reach wall tv stick middl room window whistl wind blew bad bad experi find aother hotel plenti area', 'book thru hotwir high percentag posit outcom happi saw would stay knickerbock stay younger reserv king non smoker upon arriv told choic smoke room argu state well book thru hotwir prioriti enter room notic bathroom door track bathroom light turn call front desk fix door light later eve took shower seal around shower poor water got floor towel also must add room reak smoke next day check front desk clerk ask stay told problem told us total concern issu also check bag day bellmen came quickli made rude comment us hurri could get day realiz bit later forgot someth one bag told would get back stay away even get good deal', 'husband made reserv sure night decid stay second night call hotel spoke eric quickli cancel reserv ask would charg thd cancel said end husband rememb need cancel bookit com well call said hotel wouldnt author cancel per term agreement inform courtney bookit com specif ask would charg told eric spoke mgr erica said erica would honor could provid name got name callex back told bookit consult didnt recal say furiou call way bookit consult lie said dont rememb say said sinc dont rememb that said husband heard say b c speaker phone sinc drive way ask speak erica told situat said cant go heresay couldnt honor employe screw ask nice pleas tell truth would tell thr truth never writt review hotel go go way make sure corpor see erica unprofession care take side make sure guest feel welcom disappoint never stay', 'frequent travel work stay mani spg properti compar spg properti chicago far worst charg use gym per day someth like entir stay even begin rip gold platinum member alway get complimentari water bottl room offer option make fuss give one wireless internet enough said charg least night amen built cost would never stay', 'hotel lost reserv couldin accommod need gave us room much smaller need request someth diffrer unabl fulfil request opt leav hotel mistak lose reserv still charg us earli check fee great locat hotel would noth posit say', 'stay hotel confer lobbi confer area immacul restaur one shula steakhous bar great saff exterem help room left lot desir nonsmok room smell smoke c system ancient temperment bathroom old need makeov surpris see sinc physic plant nice would choos howev stay elsewher espcial money paid', 'want let everyon know look hotel high rise construct next door swissotel chicago one wife went last year empti lot next door year loud construct site next door saturday morn hear worker start sure summer chicago come around work night think keep ad floor abl look worker eye wave room use view navi pier get close person view peopl pour concret top hotel construct front hotel block lucki us protestor stand front hotel abl tell use new entranc protestor swissotel hire compani redo sound system hire union worker ask worker nois say hear sure swissotel want word get insist tri pay room advanc let room stuck', 'confer bed bug bug bite itch like hell food wise chicken time lunch mayb compani save least prepar differ look like style chicken chang underli bed upon serv dinner filet mignon crab cake sound good right wrong filet mignon seem thick seen tough thought filet mignon suppos tenderest part cow also crab cake bit salti final portion tini left lack ask co worker seem blase food howev seem like burger went substitut palm restaur insid hotel lobbi posit note dessert dinner good otherwis recommend anoth hotel meantim got home make sure bring everyth straight washer dryer disinfect even strip damn still itchin', 'lobbi homewood right hall kitchen dine room actual grade school cafeteria type set odor kitchen disgust inde remind institut kitchen e hospit free breakfast free dinner palat suppos travel young famili mani guest make hotel good valu would stay', 'three night busi realiz place construct therefor bar restaur basement bleak told front desk realiz construct switch hotel said still go charg night stay tv work tri get fix ignor eventu call hour later coupl grumpi maintan guy came fix long complic experi busi center open btw end pay print page buy card woman behind desk end print anyway charg left card use busi center basement swissotel chicago mile live ask refund card surpris declin help nice room nice view hotel steril servic incred bad worst experi ever hotel travel busi', 'upon first enter hotel greet friendli help bellmen ever encount week stay told us nice day left welcom us back upon return breakfast serv server delight bellmen enjoy stay', 'hotel trade hilton name although adequ decor date depress although class three star price reflect expens four star hotel neighbourhood breakfast poor qualiti room crowd worst hotel stay day tour canada usa would stay', 'checkin departur poorli run hotel took minut line check one clerk duti anoth person perhap manag back room never came help check clerk even line grew hotel elev small result minut wait get floor especi break seem frequent occur specif ask room away elev assign room directli necessit anoth minut wait line room smell mildew water drip ceil first night request news paper deliv room appear morn never basic hotel understaf poorli train never', 'swissotel continu yawn previou poster state punch floor ridicul hand technolog wise could help rout ppl differ elev idiot like cram one elev leav other free chang case want take nice hot soak guess water problem sooooo disappoint hope get bug bitten time check sheet sadli due compani deal think stay next year sigh far bat star oh boy must luck rather hotel run swap room four time thur nite sunday morn stay first room hot water switch room gave key nd room happen occupi luckili occup secur latch embarrass moment third room fine night today move water leakag room room boy talk aw hotel aw luck mayb karma sinc wrote bad review last year continu write one truth oh also last year may bed bug check room look bug free still get itchi patch leg perhap someth sheet air hvac case despit decent staff one best hotel still nice servic sinc fault say thank good compani hold confer chicago next year least hotel', 'recent one night confer tri check pm publish check pm said room readi other come assign room given dummi door key card ask chill loung nd floor would call may cell soon room readi chill pm call went dinner came back pm ask room readi gal said cours ye give key ask one call shrug troubl end went room open door find someon els room came back lobbi apolog gave anoth room said go walk somebodi els sent someon open new room troubl reduc bill definit worth troubl put thru bad experi', 'good locat shop sightse would recommend hotel anyon room small bathroom tini expect old urban hotel appar care given updat hotel ever crown mold base board crack appear paint newer tub liner bathroom mere float old tub stand shower bubbl feet shower tile old grout clean hotel restor updat done mere band aid fan exhaust bathroom carpet ontop hard surfac probali concret pad lobbi smokey larg open bar small space town busi suppos stay night left went anoth hotel', 'choos homewood suit downtown chicago call directli search two bed room within walk distanc attract chicago well arriv appar chao one two elev servic sinc tuesday saturday final got th floor check figur relax time begun well got room key head th floor wait elev final made two room put key door open surpris famili alreadi insid room yup got doubl book famili nice seem ok surpris visitor said apolog went back elev wait head back th floor registr figur mess hotel half hour room slightli annoy made reserv desk explain situat get apolog new room new key hand wait elev bring us th floor new room final got room find king suit famili four includ two full grown teenag boy way go fit pull sofa realli annoy call front desk told room two bed left even though specif ask two bed book said two bed prefer reserv reserv agent assur two bed would avail check went far two bed reserv paper work oper said one two bed room floor thing got fold bed took away half room live area paid total one night room got mess mention breakfast deal pretti sure next trip chicago includ hotel tell frequent hw hilton custom hotel list stop futur', 'great bed first came request room lake view request phone well front desk woman said great room go upstair aw look view neighbor roof spent half hour tri find better room eventu got corner roof partial view horribl experi also room small crappi look yellowi wallpap bedsheet', 'one worst travel experi quit time arriv construct renov main lobbi warn websit thank let make choic stay hotel construct site lengthi line wait makeshift recept area min wait check ach confer prepar influx peopl convent doubl book room go back check told get back line review turn told wait min curt servic worker said wait turn second room dirti dish room servic front door check pm internet kept drop slower dial network second day third day stay hot water start day cold shower check overcharg bogu fee travel chicago stay palmer hous fairmont', 'stay sheraton confer attend held plu side hotel reason well locat within minut walk michigan avenu room superb view river howev price must say room look decidedli shabbi worn need refurbish decor date bathroom unit crack shower rail rusti wifi ridicul expens frustratingli confer deleg unabl use servic downstair venu despit paid hour access wifi confer room although free lobbi area wish sit email know chicago expens price feel experi better', 'say avoid place cost reserv assist took minut book room check bill card dollar get refund numer voicemail email one return call avoid avoid avoid trueli hideou experieinc never stay starwood resort given stay hotel day week big statement', 'chicago convent stay sheraton tower neg experi got one dozen pain bite bed bug torso made attend confer uncomfort staff chang sheet could move anoth room confer book whole hotel sheet chang got bite thank despit manag enjoy stay like locat next river fact easi walk magnific mile', 'call reserv line book room begin decemb rate local corpor first made reserv get e mail confirm call get e mail saw book handicap access room need wife three year old call reserv line ask regular room said imposs rate howev ten dollar upgrad regular room ask disabl person need room said could help told cancel room base reserv experi want run anymor troubl hotel', 'swiss chicago nice lack pretti basic expect modern era great spot chicago waterfront spaciou room comfort respit citi plug comput hope free donut morn free wifi afford breakfast free swim pool ten dollar night charg internet averag plate breakfast anoth buck night fit center stay small town star motel wifi free part dollar room get free breakfast bad probabl ate much dinner need anyway us charg everyth compani card basic would appreci coffe milk oj stale donut muffin mayb cereal throw us littl someth besid fruit flavor water lobbi regard swim anoth one wrap fit center fee pool open till pm plan accordingli make fiji bottl water room seem like bargain summat drop fee nickel dim folk charg need charg compliment otherwis nice hotel', 'locat hotel excel hotel star like say opinion room decor horribl probabl european use room small furnish like old apart upsid want stay great locat feel safe put aesthet issu get great deal work prefer westin marriott someth count', 'stay night last summer book reserv pricelin night cheapest rate could find anywher convent week anyway arriv pm airport told overbook hotel room book dumpi star motel airport gave taxi get cost late meet next morn extra travel pack unpack millennium offer compens whatsoev foul free drink room upgrad noth sinc book internet chop liver bewar', 'even though review hotel good good thing locat excel asid elev alway wait get also seem insuffici staff get luggag room servic etc take forev even arriv cab space load unload block street arriv depart room seem bit date need refresh much better option chicago', 'stay hotel night mid march disappoint everyth room small carpet loobi smelli bathtub washroom view brick wall window even free internet even cheapest hotel offer day cost day connect internet want use internet lobbi minimum charg per use use phone room local call min cent everi min even local call charg rip everi hotel stay offer free intercontinet breakfast cours thing hotel indoor pool go figur bid process pricelin reluct use servic hotel futur', 'read good review book night stay check late bit call earli day assur roll away well pull sofa teen somehow us book two room instead got sort arriv around pm check wait luggag final went got room littl grungi furnitur shabbi discov suspici stain duvet cover ewww call new duvet cover deliv unceremoni hand fyi kinda gross chang duvet cover hotel next day tri iron dress dinner iron work call replac wait call brought anoth iron also work third time charm oh boy bad paid advanc stay', 'hotel great locat much better money hallway smell smoke dirti elev furnitur lobbi thread bare staff help room larg bed comfort room musti old smoke linger allergi stay', 'went chicago nd wed anniversari stay homewood first impress great help valet employe nice one perk stay otherwis problem check hotel floor book room ask highest room aval due fact husband first time higher beauti view got th floor call high room start floor follow morn went breakfast ok noth great husband went jean sweatshirt realli thought shoe thought would bagl fruit got food sat get stare first minut employe came told us wernt allow eat breakfast without shoe remind minut even enter room ask go get shoe sit eat breakfast pretti pointless alreadi gotten food sure employe could speak understand english took long last least dont come clean car wash car one day prior arriv return filthi dirti', 'wife stay weekend chicago okay experi locat contrari review good downtown chicago hotel everyth least fifteen minut walk winter chicago mean taxi ride thing know hotel allow smoke everywher necessarili mind peopl smoke lobbi elev lobbi area public ton peopl smoke ashtray everywher pool spa excercis room impress either access walk busi center corridor wonder go right way come pool extrem small also hot tub spa closet massag tabl concierg help peopl answer sheraton promis phone told noth could ice two floor bed super comfort think probabl nice busi hotel top line confer meet facil coupl famili much better downtown chicago', 'ideal locat right heart near north side good grief need two elev wait minut elev happen first floor registr desk th floor face long line catch one room cooki cutter homewood suit utilitarian unlik mani locat howev one includ dvd player room pool ok jacuzzi oh housekeep defici come keep towel stock pool area front desk servic pretti good', 'firtli took card even though also took amount one friend stay extra night busi take money card th sep contact admit mistak month later call time still paid back secondli book room buy get rd room free direct hotel look week later book refus offer rate rd room free rate two friend come trip away thirdli ask initi money room could taken asap dollar weak pound phone call month say would eventu took money whole trip cost addit ps overal hotel nice nice locat never stay due problem', 'travel chicago mani time busi expect hotel base reason comparison noth dramat wrong sheraton simpli overpr qualiti hotel look account walk hotel look place cut cost carpet old one bar soap bathroom towel linen older expect room need redecor etc week pay per night room simpli near qualiti expect price one posit notic fit room quit good plenti aerob machin tv weight etc locat also quit good perhap reason high price close walk michigan avenu river summari think find much nicer hotel much better price downtown chicago', 'unfortun stay night knickerbock hotel check day bathroom filthi dirti tangl hair floor behind door night scratch feel skin crawl pull bed away bedhead watch littl rice size brown bug scurri white sheet bed bug might add hotel say fli insect window left open window cleaner fortun took photo contrari find bed bug look mattress protector pillow found long hair disgust hygein would never stay establish', 'nice hotel rather frustrat stay room clean twice housekeep first day fine second day diamond ear came miss notic miss pack check process biggest mistak stay deal famili reunion funer get front desk great said would handl believ say thing get go way file polic report gm hotel suppos work call sever time receiv answer keep tell us clean staff year dosen matter held account stop take anyth dishwash room found daughter ring glass diamond ear dishwash say put cup dishwash first vacat trust dish second would wash one glass leav dirti dish room nice hotel lock thing valu may come miss left frustrat', 'wife frequent stay downtown night citi mani hotel downtown chicago area opinion swissotel spend money elsewher get much better experi swissotel cold atmospher difficult feel comfort room averag best howev cost per night far averag view room face construct site soon trump build block lake view hotel hotel also coupl block closer action cost would expect room lobbi area strang smell someon actual vacuum hallway floor woke us call front desk complain extrem shock treat rude person desk also coupl friend come downtown wait lobbi approach gentleman ask guest hotel said wait us actual ask name look verifi guest regist didnt even apolog inconveni imbarrass overal unpleas experi expect top notch treatment spend money nicer hotel lake michigan avenu real top notch servic anyon give hotel top review obvious hasnt opportun stay nicer hotel area', 'rude rude rude stay juli th weekend drove michigan call custom servic get direct w c major highway chicago call cellphon tell middl storm lost put hold forward anoth person know get hotel hold give decid exit highway tri luck store final arriv hotel one take care car look park check greet anyon even receptionist greet us welcom knickerbock noth man recept rude make think kind custom servic train hotel guy could find reserv seem frustrat check well abl give us direct mayb would hour earlier room even spectacular small probabl littl bigger walk closet stay risk', 'neg point guess gave worst room small room king size bed even though request room two queen bed roll away bed avail sleep floor tub bathroom would drain exhaust fan bathroom broken furnitur plu point conveni locat', 'book hotel read review concern end book base sister recommend big mistak temperatur chicago balmi degre temp room gave us degre call complain told us turn temp degre went back pm still humid bed moist room stuffi call sent somon fix recommend get new room room cool told us book yet mainten man call suddenli room avail go figur move us anoth room guess degre told us turn needless say never cool slept street travel lot stay one night aw check tell entir room issu actual end charg us night thank god offer us anoth night stay would never go back also room decor old stuffi go chicago stay millenium knickerbock', 'locat excel valet car day bed soft pillow flat open mini bar cabinet bed way expect hotel area', 'book hotel famili stay overnight see magnific mile christma light parad chose sofa sleeper one bed arriv hotel around pm check came time front desk worker said could check pm give name manag said ok king smoke suit avail quickli correct let know travel two young kid reserv non smoke room insist comput said reserv smoke room went back forth ask us copi reserv luckili abl pull reserv phone clearli said non smoke show reserv explain noth could correct situat room avail world need see reserv decid see could handl smoke room turn entir floor smoke non smoker way could sleep smoke room smoke floor two young children manag eventu call around found hampton inn near one bed cancel room reserv live hour away downtown made late night trip back home famili disappoint husband gold member hilton let say switch back marriott hotel lobbi date smoke room saw look date well made error never own anyth compens us huge inconveni', 'plan stay night famili trip book hotel expect valu suit well free breakfast get quick bite head day normal tourist stuff well stay last night quickli thank switch differ hotel last night room dirti open sofab sheet filthi mess dirt crumb fell ridicul consid suit hotel sofab like use theoret clean lot extra blanket also dirti bathroom much better temperatur control room imprecis minor inconveni without clean blanket night made cold stay like eat free free breakfast dinner certain night care eat great food chicago offer guess may find place toler found buffet better averag felt like golden corral thing hotel realli go locat option area switch jame great experi paid stay shock high overal rate given experi', 'hotel staf nice mani inexperienc peopl execut loung limit hour access outsid hour area similarli lack level servic expect type hotel one individu concierg desk twice gave us bad inform public transport hour one place locat good particular hotel simpli good represent swissotel suppos far better choic chicago would choic return stay', 'histor feel hotel realli strong influenc choic book hotel unfortun ambianc hotel could make rest shortcom front desk staff rude doormen usual busi chat play cell phone instead greet us open door three elev good luck work small one run end wait long time one fun th floor room tini air condit work room felt damp miser put thermostat low would let us room never went outsid whole trip realli amen insid hotel ice machin slightli overpr restaur internet free either overal would never stay', 'park servic great front desk terribl huge problem get ice one night none room went twice get one help call front desk promis deliv none arriv call said come get would listen say alreadi happen read', 'noisi constant water run pipe terribl much better hotel stay chicago thier park rate obnoxi night way far walk much must stay tri park free dead end street feed meter weekday take stair next street level find jewel groceri store soda snack soda hotel plu restock fee', 'stay april two night hesit select sheraton becau poor stay earlier year far concern two strike give chanc three doormen help arriv huge line c lousi room malfunct remot unrespons staff incorrect bill want close michigan ave tri westin intercontinent spare problem understand certain place never improv tough properli train staff', 'book hotel adult weekend away pricelin paid thought good price downtown chicago locat great hotel minim ok unsur get rate old though clean decor definit jade need face lift staff pleasant overal good stay howev would recommend hotel would rather paid got someth updat troubl old tend look somewhat seedi true case suggest book pricelin chicago il ask sure get good enough pricelin opinion', 'wow place never hold event first one smile includ bartend anyon know hospit busi bartend year old know state anoth employe get year old tell like specif refer fact could tell employ run thing wow room set wrong way event food plain bad ponderosa would good howev swisshotel oh let go back bartend tell us unsolicit problem hotel man wonder place like stay busi valet ouch anyon ask need someth like help manag make excus bet ever want hold event big', 'stay week last month beat locat close magnific mile attract tour great restaur night life spent lot night homewood suit hotel suit hotel thought room ok great overpr opinion found staff uninterest help wait lobbi th floor room readi front desk staff could care less watch week guest made wait well breakfast stuff day day week went actual start run popular food item replenish weekli deliveri guess also room busi staff made peopl wait tabl treat wait star restaur travel work sale frequent stay hotel travel famili everi year also stay hotel rough camper would come chicago would stay mani option worth investig', 'two main issu understaf street front desk unfortun drive citi arriv excess long wait park insid huge queue line one clerk work big citi hotel good say friendli howev know big citi night park car stay hotel realli unreason bit goug opinion realiz chicago alreadi pay hefti price outdat hotel', 'recent stay sheraton onsit confer problem getgo problem check even though made arrang beforehand pay compani check credit card file front desk clerk kind rude room okay worth paid sheet kind mess room feel clean also charg internet access ridicul hotel provid free wi fi confer food assum cater hotel good day check arrang late check morn check time someon els got assign room attempt get lock room luggag still check time would recommend stay somewher els', 'truli tatter run facil avoid room small dirti way repres web site represent staff poorli train big disappoint best star facil and mani option chicago pleas avoid one choic stay client book room', 'swissotel total understaf lack charm atmospher clean comfort great view want check use concierg check report problem front desk forget book place pricelin com complain much pay lot room stay star hotel past well anoth swissotel left lot desir minibar fridg room work forget cold beer also internet movi guest servic consol work go busi offic access internet time checkout consol still work better holiday inn way expect star hotel', 'hotel worst room stay last year first room gave us shock tini bathroom joke step insid move way shut door furnitur disgust wood trim beat paint time transfer us execut suit room tini bathroom mean tini furnitur hideou dirti rd level heard everi convers street traffic loud impress part lobbi fool floor look like need major overhaul room worth even per night stay year ago got stuck pricelin deal think want pricelin knickerbock star hotel ever want go back star best dumpi knickerbock asham even allow guest stay room boomer napervil il', 'review two part advis read chapter one actual hotel staff found hous staff friendli accommod room nice clean well disagr review regard hotel room staff great locat walk three block south reach riverfront block reach water tower north easi one block walk subway red line morn complimentari breakfast substanti muffin coffe complet breakfast want even breakfast server realli nice effici would recommend hotel base sole physic locat room staff chapter two nightmar book room central reserv juli mid septemb arriv rate quot per night four night confirm email incorrect immedi call hotel said made correct email new confirm correct amount receiv correct confirm email done one week later credit card statement arriv old higher amount charg call hotel transfer central reserv resolv explain error liter call liar person reserv told problem help told pay higher amount excus go back call hotel manag get assist left messag get gener manag call back discuss issu take name peopl spoke assur credit account immedi even get call someon account dept confirm credit card etc one week later still credit call gener manag oh might take hour process told pleas give anoth week anoth week pass still credit anoth call manag told credit process even send email confirm agreement credit appeas anoth week pass still see credit definit process week ago yet anoth call gener manag day leav trip chicago told arriv point want see person physic use credit card process credit rememb talk six week still resolv arriv hotel make long stori short gener manag never avail see make attempt schedul time see talk person spoke face face assist gener manag complet unconcern situat made complet inappropri statement realiz boil matter said said today trip flown back home still receiv credit account absolut report hilton corpor custom servic absolut disput entir amount point take littl adventur consider deal hotel', 'trip great got spend time best friend shop site see trip overal great thing hotel stay speed luxuri hotel stay wall wall paper miss faucet leak water stain ceil bathroom furnitur visibl stain fire alarm come wall main bedroom stay corner suit floor room consid one pay room would think pool would free would charg everi singl small amen plan stay apart trip great', 'travel chicago frequent stay mani hotel downtown excit tri swissotel left disappoint actual hotel room nice amaz view staff extrem rude man check us phone acknowledg us done phone call say five word need credit card lobbi bar fireplac cozi hotel inform said close came back hotel night cap last call fine us bar full mani peopl come back night want night cap make last call night end listen mani unhappi peopl complain receiv sympathi employe mani place stay area nice nicer need stay swissotel definit stay look romant weekend away employe ruin experi second walk door', 'room big luxuri befit price tag bed comfort howev bed wall abut elev shaft heard elev run night also held one day confer peopl stuck us long narrow room cramp also night pre confer dinner palm restaur hotel servic slow parti left entre serv steak far cri experi palm', 'fianc travel chicago first time decemb happi hotel friendliest peopl staff bell boy greet us smile gave us lot great advic throughout stay rest staff howev terribl first check instantli discourag front desk person good mood wait leav lobbi travel look excit place eat go sightse ask multipl staff member front desk place go see never got good recommend felt inconveni staff one point front desk person phone wait talk phone famili four came behind us wait talk well even though saw us stand finish phone call ignor us help famili first ye mid still pay guest reason treat like invis much money paid night would rather stay somewher els decid go hotel locat great review experi stay room alright noth special would stay hotel', 'call decemb th p book room upcom weekend getaway taken aback phone pick promptli hung without word think might simpl mistak gave anoth tri woman introduc toni answer phone rush introduct sound incred bore annoy answer phone bare let second go introduct gave snotti hello could open mouth tell never mind never hotel answer call rude like give hotel benefit doubt pin unpleas experi toni howev call back hope stay hotel trip', 'warn food poison alert room dirti shower mold handl shower daughter crack head open elev absolutli terribl made dizzi everi time went hade pasta night put bowl noodl sauc coupl roll well get pay wors sauc must bad meat famili got sick one thing nice locat right michigan avenu second night left went anoth hotel buck cheaper time nicer stay', 'return one night stay knickerbock return came nowher near worth price paid hotel burnham twice hotel half price bathroom unbeliev small smell terribl call front desk twice towel request deliv frankli may well paper towel noth plush enough pillow request extra never deliv room servic cart left outsid door night disappoint stay redeem qualiti hotel seem locat worth', 'air condit noisi fan compressor room start everi min nois wake least first night old fashion system need replac postal servic hotel non work hotel mess concert ticket correctli address transport up ticket hotel gener manag offic recept deni arriv spend day travel ticket agent resolv hotel find reason apolog inconveni concert reason travel chicago els hotel good standard free internet lobbi good view room friendli staff restaur bar book room night togeth stay room rd june', 'stay hotel two teenag daughter du part busi part famili fun trip juli impress locat within walk distanc great restraunt shop inlcud water tower place great mall quit disappoint room cleanline size bedspread filthi thin room decor dire need upgread bathroom fan realli smell badli mold mildew shower actual mold corner tight squees peopl especi bathroom bed pillow quit uncomfort even elev tini could bare fit peopl thank good elev luckili book room pricelin would never paid full price upsid great locat also bewar cheaper take taxi airport airport shuttl millenium promot airport shuttl take cab', 'stay valentin weekend got th floor direct view build next door pay extra pool ice machin floor park nearbi suck chicago pay valet go car glass dusti gross locat notori super sensit scale mini fridg bare touch get bill morn door higher floor better view would star time', 'elev system imposs seem tri improv made wors mani peopl wait minut bail stair well happen sever time read book guess take serious deal breaker futur return unless heard clearli improv also alway think lame pay extra wifi area recommend north michigan avenu lake front area best', 'gener speak noth bad place would clean issu check close mini bar pictur upload much dust nobodi clean least year call housekeep give opportun check someth still situat return room hr later next day move renov room much better star clean addit never time wait line recept wonder counter actual open pleas someth issu ruin everyth', 'place dump book pricelin last time book pricelin hotel chicago got westin love despit paid pricelin ate money alreadi spent call reserv westin went weekend instead regret second disappoint stay millenium knickerbock pay holiday inn price westin could real deal littl locat worth place old unimpress enough hotel near loop near train bu stop need move around citi inexpens spend money millenium wast time stay trap locat worth realli', 'book hotel stay thru yahoo request room bed got hotel room us pre paid said could guarante request onlin could give us avail hotel staff rude condescend got upset final tell room us book onlin bewar may get paid stand promis advertis room', 'stay swissotel three day weekend disappoint see construct arriv inform clearli state websit giant tarp lobbi pretti weird unwelcom room fine bland gener european eleg claim websit lack hot water definit fine though coupl pluse stay swissotel locat good bed comfort room clean good point certainli redeem experi pick place even post construct', 'would recommend stay swissotel chicago travel friend arriv differ time book hotel ad name reserv sinc would arriv first night manag hotel extrem rude told could check sinc could find note name reserv mistak told could sit lobbi hour friend arriv noth tri help stood complain twenti minut believ manag would treat custom way great hotel chicago hotel worth aggrav', 'overal bad experi host meet compani parent came town want stay swissotel thought give anoth tri turn first impress correct least friendli hotel ever even concierg rude disagre could go instead say go somewher els', 'stay one night found hotel concentr confer rather normal guest found hard get room citi particular night paid odd night felt check confer stay hotel guy main door even hold open tri lug bag lobbi que minut check given inform hotel rang recept one stage find busi centr hotel could access internet short ask bring lap top could use internet access room found staff rude help would recommend hotel tourist', 'stay sheraton royal orchid hotel bangkok expect similar experi chicago sheraton wonder stay properti seven year ago look forward repeat experi unfortun expect met past year stay palmer hous loop thought tri modern hotel pro locat chicago river two block michigan avenu rest lobbi river view free wifi provid pleasant work environ buffet breakfast offer custom omelett crepe french toast con check assign citi view room prepaid river view room river view good window see filthi dirti towel use previou guest still hang back bathroom door bathroom unimpress bathtub shower combin worn plumb fixtur set towel provid guest room small one soft chair provid guest room door slam noisili throughout floor hallway block walk nearest l station concierg explain get mercuri theatr print map area guest servic told go hotel one block get starbuck coffe avail downstair link cafe complimentari newspap deliv room final bill folio deliv room night check comput oper link cafe board pass print', 'reserv guarante credit card night past weekend check clerk told us could accommod us night overbook due confer town ask reloc us night would move morn sent us anoth locat assur could accommod us night manag gave us address differ hotel sent us way eventu arriv correct second hotel staff expect letter sheraton transfer someth never given eventu check second properti next afternoon key work found night manag sheraton assur could stay night second hotel place stay despit guarante reserv sheraton addit pay park sheraton find would accommod us despit guarante reserv still shock bad experi', 'suit knickerbock quit nice behavior attitud staff beyond abysm first member staff enter room mid day unannounc apolog realiz fail verifi present tremend problem young woman front desk repli want tone flippant teenag began suspect sever defici manner may evid staff fast forward even follow love meal premis chose turn bit earli pm discov despit best intent bass parti downstair audibl room act prudent restraint decid phone front desk inquir room inadvert annex parti downstair yet met curt quit rude respons sean front desk inform us parti greater prioriti hotel famili dictat music set certain volum one hand appreci honesti truli would prefer least pretend care guest chose stay properti sinc option even decid stay tri watch tv time given circumst staff could easili made neg situat aros quick success also alarm learn slept prior night possibl gang relat shoot took place mere block properti concern like nearbi hotel knickerbock chose enlist type secur measur within lobbi would stay mayb dare someon els foot bill yet better experi road side motel employe train regimen could use seriou revamp better serv interest guest importantli simpl common sens', 'book hotel pricelin week later call hotel directli add stay receptionist confirm reserv confirm gave lower rate night king suit arriv check record reserv whatsoev hotel also fulli book leav tire hungri famili high dri nowher go decent thing happen whole debacl lisa check desk call around sever hotel close find us room seem employe work busi time even end embassi suit night pleasant experi', 'book hotel room night hotel onlin vendor book hotel room contact hotel request room bed told differ convers hotel personnel would room doubl bed arriv given king size bed told noth hotel could guest appar hotel manag saw problem peopl sleep bed staff complet unaccomod add insult injuri met guest obtain room bed walk street day check would recommend hotel anyon custom servic well accept locat hotel great mani hotel offer excel servic high qualiti room stay visit chicago bottom line stay millenium knickerbock', 'stay novemb leisur trip chicago hotel date room good enough front desk staff rude stay prefer swissotel hyatt properti regenc similarli price park hyatt x list boutiqu hotel area well kimpton etc pro hotel open onto michigan avenu close excit eno wine bar great select chees room clean con hotel room make sens first room tini window overlook ledg effect view second room two window look onto brick wall actual view pay everyth internet gym pool avail due renov entir hotel old classic sens ghost stori one front desk staff rude', 'palmer hous beauti lobbi great bar restaur room way small two peopl room king size bed bare move around enough room two suitcas room outdat remind us movi shine noisi expect quiet stay hear everyth neighbor say mention everyth happen hallway request room chang soon check room origin huge squar cut wall expos pipe brick dirt dust oh construct renov start week never stay palmer hous better spend dollar differ hotel', 'letter manag sir madam write give feedback recent stay amalfi guest stay use valet servic oper standard park vehicl return stolen item glove compart much chagrin day valet servic includ proper secur monitor despit premium self park understand park servic sub contract hotel would think worthi hotel would remedi situat case hope staff abl take measur rectifi situat futur guest', 'read lukewarm review hotel went ahead got ambassador membership hedg unpleas normal good experi intercontinent hotel particularli mark hopkin sf call hotel directli confirm reserv design ambassador club arriv hotel separ check line advertis manag duti basic ignor told ambassador club member stuck regular tini room nearli half hour check room deal arrog attitud manag duti gave room modern tower built size regular room mark hopkin built deal torn sheet crack marbl sink spare roll toilet paper locat outsid bathroom insid closet conveni closet door care may break full length mirror attach bathroom door provid key minibar call turndown servic never happen next day final got around fact ambassador club member entitl upgrad room sinc travel medic devic alreadi set tini room declin credit send amen would otherwis entitl ambassador club member would stay hotel next time go chicago better place money includ omni jame fairmont hyatt sheraton monaco crown plaza even holiday inn marriott locat gener area', 'hotel alway help stay caus think like palmer hous dirti cover bed also smallest room hotel sure husband usual come time year busi cta work pleas size room room alway two chair desk usual feet room th floor x approx servic men door alway said welcom time past bell man steal pair sun glass hotel noth loss financi', 'stay palmer hous one night earli januari year check front desk ladi ask show confirm letter reserv bring confirm ask present place check ask print one copi busi center bring confirm bell station get room key told went bell station howev peopl bell station total confus none key bellman nice enough help go ask staff front desk final got check wait lobbi minut peopl point room got small old twin bed could hear peopl next door use bathroom pleasant experi even though paid dollar hotel', 'frequent busi travel often chicago trip time difficult even find hotel downtown chicago one time recent pay one night allegro absolut worth hotel fill capac convention check check slow elev work beyond capac guest morn check elev stop everi singl floor th floor lobbi elev complet full got th floor imagin long must taken guest get downstair room extrem small cramp even though obvious renov recent tv bed decor new high point hotel still rate way overpr small room best thing allegro room servic prompt food good price reason room servic regular hotel book take cab farther citi worth', 'start gm nice guy handl incid anthoni concierg set massag reserv spa request unavail anthoni said knew spa nice set quot price got spa actual seedi nail hair salon saw front window massag hour end massag gave ladi said thank keep chang insist got hotel rate anthoni set call anthoni confirm rate told go pay anthoni differ offer ride hotel sinc go declin short shadi deal place quit taken back gm selman comp night felt swindl big time stay somewher els concierg someth go', 'check in went smoothli advis wall super thin build old room small downsid allow pet could hear poor dog bark morn probabl need go price bad walk distanc major attract overal ok best anoth plu cta close', 'fourth time stay allegro previou time noth good say allegro reaction sour place stay past year first weekend decemb kick holiday season shop start year disappoint check deal number site call allegro quot one price higher line mention told could lower price check desk nice friendli discov room good past punish ask lower price closet hanger place put suitcas one mention wine recept even second day discov even bath mat shower miss took two phone call two hour get new one wrote manag follow stay yet receiv repli needless say look elsewher go citi next time would advis other', 'first room heat system sound like gener room second room stool toilet smear linen notic morn eeewwhh comput scale ink pen work maintain man took min come unplug toilet drip toilet water bathroom carpet room quiet bed pillow comfort bath larg water warm', 'stay amalfi hotel chicago month good expect disappoint paid delux king got nd floor view construct dirti badli rehab bathroom itchi sheet comfort sheet gross old hotel blanket thing previous open bottl mini bar plenti rude inexperienc staff member manag def star staf live chicago stay wide rang place know februari expect great hotel mani avail weekend stay amalfi choos say palmer hous hilton hotel sax sutton place hotel huge wast definit keep look book elsewher worth price let pictur fool also say experi rare mishap hotel look like old day inn undergon slight renvat e new lamp', 'imo amalfi doesnt come close justifi glow comment ta basic holiday inn half room overlook alley load dock hotel flor high garbag pick woke daili nod begin set complimentari breakfast continent buffet everi floor next elev bank room within feet elev hear nois recept bit tacki staff littl rough around edg see singl busi travel valet park expens usual chicago slow ok explor option', 'hotel must origin ordinari downtown hotel nice neighborhood owner paint fix lobbi make upscal overpr boutiqu hotel still ordinari hotel paint job stay want experi stay flophous sleaz remov definit stay chain locat burnham much much nicer hotel', 'usual big fan kimpton hotel place aw would rate poor moment arriv moment left old dark damp hotel slap coat paint make look botiqu carpet dirti tatter patron walk around lobbi barefeet yuck bathroom tini floor look like layer flith call desk ask clean brush told made look way woke first morn find multipl wad gum lobbi tabl told front desk call housekeep call front desk final sever hour someon came clean gum elev slow often one work given time find staff friendli except one waiter breakfast disappoint', 'book hotwir consequ place room bare room walk around luggag view inner courtyard noth wall window room unabl determin weather outsid except either day night longer room coffe applianc either go ostentati dine room go around corner starbuck mcdonald internet access free hour gift shop joke tuck away corner coat check room concierg servic limit hour busi center open busi hour made difficult get work done busi hour would stay ever recommend anyon better stay holiday inn express', 'reserv confirm hand still argu registr desk price reserv tri charg price bill slide door sorri watch room gave understand place old price charg indoor plumb take shower tub fill water drain absolut redickula hilton think step back take look place oper registr fail park price fail plumb fail thank hilton super experi chicago', 'stay palmer half dozen time past ok main drawback check desk alway slow charg use fit center truli annoy addit mani room often walk hundr year find room get elev classic old hotel yesteryear charm room gave recent small laughabl door bathroom could open hit desk chair desk could properli pull hit bed room put tv front bed shove side room make prison cell seem roomi promis one work would ever put someon know hovel sold hotel room', 'stay old tower room nice room servic good room wi fi expens bottl water price room least least water would rate valu sub par restaur menu great food mediocr comparison downtown chicago restaur servic averag especi sinc three tabl use entir restaur summari go h next time comment base previou week resort stay outer bank north carolina earlier year northern california p fit room user per stay per person good deal hotel', 'spent three night chicago properti first say would hard imagin better locat perfectli situat magnific mile close terrif restaur art institut orchestra hall hotel two side histor tower new wing room larger histor side gener look littl tire properti need renov observ junior suit laid strang small bedroom smaller sit room separ corridor larg bathroom mirror sink sink skew right made shave challeng messi descend elev one morn start shake violent could bare stand stop th floor greet extrem worri look hotel employe technician shut experi far power coffe help wake adrenalin rush certainli cure sleepi report group sink stop expos bolt room gener thing work good news staff terrif make feel welcom person person great servic bar realli went extra distanc help wish better properti work', 'great expect hotel fugit wonder lobbi room old style furnitur tv centuri minibar wireless internet wireless adapt enough number room guy ignor era ipad without cabl connect small room small bathroom rude servic room lost credit card number want cash deliveri breakfast dollar robberi busi center cent minut internet connect pay use word excel never', 'leav import document room call ask lost found depart seven time cours week eventu enough ask manag put hold disconnect final deceivingli friendli oper promis would someon call back minut never happen avoid place rip keep later cannot trust word', 'frequent travel chicago gener stay sutton court thought would tri differ boutiqu hotel never stay hotel first room brought standard room glorifi closet leav absolut claustrophob actual smallest hotel room u complain front desk move premium room still quit small manag bathroom tini without vaniti make difficult put toiletri room locat leav much desir room look directli onto el elev subway background nois street pretti desert sunday even say free wi fi great find chain hotel closer michigan aven highli recommend take want nice room great locat check sutton place hotel instead', 'stay hotel day novemb togeth colleagu internet wire avail addit dollar day fridg microwav includ price room two soft full size bed hall way wallpap come wall doesnt believ check th floor close room discount paid dollar night ridicul stay hyatt regenc much cheaper way better restaur main hall nice food tasti although custom took forev food got serv pleas stay away take one plenti altern nearbi', 'arriv thought night would decent place good review etc arriv find websit pictur mislead hotel loung room realli odd dark first night notic blanket bed nasti look resembl someth find street top woke night find bed bug attack us husband bitten bitten way husband leg cover bite ointment benadryl week immedi came home scald cloth also mold around tub insid floor bathroom floor also curl tub view room roof good stay disappoint good thing free breakfast everi floor', 'write regard stay april celebr honeymoon disappoint stay construct go hotel notifi prior stay husband order champagn strawberri room prior arriv call place order never show disappoint surpris lack servic decid forgo order rd time room small drab lack romant set look call request room larg tub similar one photo prior arriv note mind upgrad cost instead tub incred small stay intercontinent citi high expect chicago locat especi consid celebr happi lifetim occas servic amen match', 'use hotel first time chicago price classifi intercontinent consid good room solid view ok virtual everywher els michigan ave servic ok price ridicul everyth wifi well everyth els came jewish hindi wed appet fine main entre small portion meat forgett everyth els dessert ined expens hotel similar rate better room extent would worth person prefer conrad better price better servic', 'older hotel age show room small bit drab bathroom room urgent need upgrad bed comfort though room quiet hotel staff polit realli interest guest even concierg disinterest check irritatingli slow number peopl line realli hotel tjhat promis much promot materi deliv better hotel realli didnt seem tri', 'often visit chicago first stay locat abl secur good rate travelzoo thought room clean nice decor disappoint servic stay saturday night wait minut extra pillow call minut found third shift crew came minut late also receiv incorrect folio door anoth guest stay locat call front dest inform error explain made error would correct open credit card statement found charg three differ room one date visit two week later call hotel guest servic took inform forward account depart receiv messag call bill depart call three time receiv anoth repli back', 'alway interest go high qualiti hotel cannot help think servic valu mayb high expect certaintli locat great swim pool realli nice room gener well appoint oh bed great room well clean littl smelli truth stole watch left room hotel immedi worri financi situat servic notic other site lost stuff hotel know alway possibl realli expect hotel like overal chicago exceed expect intercontinent stay els', 'stay allegro hotel interview posit chicago read review mix sinc properti suggest organ due locat book room true review room extrem small cold heater blew cold air degre weather gener uncomfort closet hung suit doorknob door adjoin room bathroom extrem small although tidi especi clean dusti bed suppos queen realli full quit low sheet hard arriv late order room servic littl space room wait staff approach desk tabl sideway although free wireless plu kept get kick system lie reconnect line record time final top televis stop work littl midnight one even even hour enough suppos star boutiqu hotel stay better star properti posit side staff nice friendli food reason good lobbi realli vibrant martini bar although come hotel guest complain unsual smokey look interest overal though best stay stay', 'overal hotel nice room spaciou well appoint tend age date bathroom particularli averag old wallpap dingi tub crummi showerhead toilet paper roll holder pull wall screw expos conceirg recommend expens mediocr restaur hate make suspect get kickback place otherwis get enough busi breakfast good rel larg european style spread', 'ok feel pay well room get someth show locat michigan ave pay littl could way better peninsula park hyatt shoot omni x better order delux execut suit sub par room small small ice bucket closet bathroom small well lit plu wallpap peel outlet bare cover view thing appeal bed may tire realli excit palmer hous palmer hous nice restaur lockwood quiet distinguish potter loung grown sexi', 'husband enjoy stay hotel allegro room small bathroom ridicul stupid everytim use sink would splash water truli one person time bathroom like airplan bathroom wall thin heard peopl hall sex staff realli rude appreci sign door say disturb day check check time got know door sign state disturb hotel microwav room mini fridg coffe maker either drawer put cloth closet tini four day three night three suit case full cloth place store also hate fact pay fifti park car husand never stay hotel allegro', 'minneapoli hope stay michigan ave hotel arriv told previou guest extend stay room hotel move us anoth hotel mile away less desir locat manag duti unfriendli even state would call secur leav gave us cab fare never stay happen numer guest weekend', 'book amalfi look great boutiqu hotel chicago hotel nice properti clean room nice amen good locat howev book hotel offer upgrad room king room corner king room great check corner room look two brick wall alley night sever homeless individu fight alley would seem place congreg top dumpster alley empti wast depart morn nois crazi loud think nice hotel unfortun aspect due locat staff extrem friendli help', 'check room empti beer bottl dirti underwear closet unclean bathroom manag avail hour take complaint miss show extra time took move anoth room etc final got talk manag complain beer bottl especi child teenag offer send wine chees make inconveni staff somewhat reluct take request extra blanket night kept tell look closet extra blanket ask two blanket deliv one keep call get settl saw comment form prior guest room studi desk taken troubl fill one collect care ht noisi room hear door night thebreakfast item kept run make call get replenish recommend hotel one even discount rate', 'impress hotel look realli nice especi big foyer area room small bathroom need major upgrad green tile like grandmoth hous wall peopl fit tri could hear peopl besid us earli morn everi morn obvioulsi wall thick room look directli brick build outsid close even tell nice outsid assum renov room look felt yucki whole time pay lot money stay noth except', 'stay dozen friend half us got eaten aliv bed bug stay septemb septemb th symptom e crazi itchi come sunday night got home complain hotel basic gonna cover cost dri clean bill honestli reimburs us worth stay hotel', 'stay amalfi juli th juli weekend apprehens leav diesel ford excurs valet amalfi modif engin damag oper correctli explain procedur valet driver felt like complet wast time vehicl return valet driver let idl cool turbo instruct tri start happi final start reliev get back want leav drive away notic top speed record gp mph previou top speed mph done day earlier drive south dakota could pictur fli ferrari scene ferri bueller day imagin crowd chicago traffic found place go fast though take long make happen see refer modifi engin littl later stop lunch notic dent front bumper contact hotel refer claim peopl remedi lesson learn brett', 'went great review tripadvisor locat room amen price via expedia good complaint poor servic everi stage check slow even concierg sarita hopeless staff gener rude also sort gener box bed hum night turn also seem turn air condit final let know major construct site front hotel roadwork truck beep continu everytim revers would stay mayb got good deal back room plenti great hotel nearbi', 'check room empti beer bottl dirti short closet unclean bathroom manag avail hour take complaint front desk ladi said manag lunch break pm miss show navi pier extra time took move anoth room etc final got talk manag complain beer bottl offer send wine chees make inconveni total inappropi sinc children includ teenag gave compens ruin famili holiday staff somewhat reluct take request extra blanket night kept tell look closet extra blanket ask two blanket deliv one keep call get settl night saw fill comment form prior guest room studi desk taken troubl fill one collect care noisi room hear door open close night breakfast item kept run make call get replenish recommend hotel one even discount rate', 'locat clark lake train stop great thing great hotel wall thin much hear giggl earli morn housekeep convers hallway coffe maker room howev free coffe avail lobbi becuas everyon want go lobbi first thing morn final busi center pay use set courtesti internet usag print lastli bathroom micro tini lack counterspac comfort', 'heat room work repair depit numer request room small litter bin remain bin whole stay cleaner made bed noth els return home credit card statement show hotel charg night stay despit pre paid travel agent took hotel month credit card without apolog offer pay numer tran atlant phone call', 'hilton hotel unimpress room incred small refrigir coffe machin coffe tea wifi cost arm plu side starbuck bottom limit open hour lobbi nice locat decent', 'usual stay hotel monaco stay allegro monaco book allegro similar monaco decor less tradit funki interior nearli nice linen high qualiti monaco room decor nice room also smaller main reason would recommend hotel though bathroom old tile floor old sink old toilet remind someth would find men locker room although allegro instal nice mirror make limit counter space dingi apper also layout bathroom terribl toilet close wall toilet paper sit lap sit toilet also room clean well floor room dirti found crumb drawer would recommend stay monaco hard rock soffitel hotel littl less tradit still nice', 'book directli intercontinent special room wed night wed went hotel excit happi got night chang treat rude respect told us room even though confirm number instead show empathi told us go sit figur us husband tux wed gown apolog concern given told go find cab take hotel found room intercontinent ruin wed night tell anyon everyon experi place suppos eleg never treat poorli never stay anoth intercontinent hotel highli recommend contribut place would newli marri coupl steer clear place', 'hotel rather stupid frank horribl attempt retro sheek end look similar saturday night live skit thing sheek function room size shoe box much actual like pedest bathroom sink put make use toliet day also took minut figur turn shower bathroom like closet anyth guest one even everyon could hear everyon pee b c bathroom door door bathroom fan top lot costruct nearbi keep night good note staff realli friendli place realli clean good thing say place would go back', 'room fine comfort peac custom servic call concierg experi someth other left much desir first arriv doorman walk desk greet usual hello welcom instead got name id hello welcom amalfi hotel plain old poor custom servic begin left bad tast mouth decid let go see rest stay', 'stay palmer hous attend confer chicago state build year problem first wi fi avail free cost per hour line indic hilton hotel charg doubl mani hotel free wi fi wi fi wi fi level servic factor could justifi exorbit cost also charg fit center even go use machin busi center hous copi etc bed wall separ us bathroom next room separ us bathroom nois someon took shower pipe sung like old pipe loudli empti wine glass sat outsid someon room door day without pick housekeep concierg desk one person alway line call put hold dealt peopl line staff nice locat beat luxuri price normal servic felt like ripoff year doubt return', 'stay pre construct nois problem other experienc room servic qualiti poor return suit larg enough dirti date worn bed linen stain bathroom appear clean properli public hall area room servic tray sit two day disgust polit request housekeep touch room pick tray never show paid king tut packag suppos includ ticket exhibit record honor cours exhibit sold main reason visit chicago ruin abl see part field museum also polit letter hilton manag never acknowledg disappoint properti avoid hilton gener possibl', 'stay amalfi brief one book hotel base glow review saw trip advisor arriv sat desk amazingli aloof clerk felt like step episod twilight zone room small dark internet work inform check given time frame would back walk neighborhood found anoth hotel like gather belong went one peopl like trendi upscal chi chi locat hotel lurv place like hotel light work internet good view real breakfast go someplac els', 'first expedia com charg addit person per instruct arriv hotel moni includ complimentari breakfast offer hotel servic person check us forgot give back park ticket left gener messag state envelop front desk wait line anoth minut discov whole time person look never said word charg paid park adjac hotel went leav gate would open find park garag offic manag call sever time hotel final someon pick confirm payment allow leav structur hotel beauti bell hop doormen wonder help graciou intern staff rude help', 'place charact give realli style arriv late even first room gave tv work mainten took look figur told wait morn electrician pass ga left real profession phone front desk account tv abl get anoth room second room much like first horribl stripe wall paper dingi old worn carpet bathroom incred small hard use toliet without bang door sink cramp bed comfort either room temp hard regul ac somewhat noisi locat seem conveni train session block away theatr seem near that place may toler night two make long distanc phone call room without call card minut knew would expens expect type rate', 'locat amaz right nordstrom michigan avenu hotel beauti room clean intercontinent ambassador reward club get ambassador suit level ride privat express elev elev took three minut get thirtieth floor check person behind counter rude act lucki get check also languag barrier becuas russian pool spa beauti pay extra fee upkeep want nice hotel way around go omni', 'overview overr hotel premium locat great locat walk distanc cheap cab ride ton great restaur bar sight good invit lobbi pleasant staff though bit snobbi particular night deskman nice bathroom comfort bed desk chair mediocr room exclud bathroom underwhelm design kitchen bar though limit room servic harri caray street free cocktail pm loung right idea wrong execut tini littl room pack peopl line extend door hot water lack thereof everi morn shower water temperatur would waver comfort hot lukewarm pressur pretti low view mine great appar room horribl bad free wi fi ethernet inconst speed requir multipl login everi day even comput move realli aggrav deal iphon also got numer vulner threat warn norton anti viru make wonder secur blackout curtain corner room huge wrap around window awok bright sunlight everi morn mention near total lack privaci night never issu hotel motel ever stay nois hotel sandwich differ bar late night cacophoni yell bar music truck car horn siren huge distract well earli hour morn wear ear plug despit th floor tv crappi hd signal sync audio everi channel remot useless room bar standard inflat price bottl fiji water bedsid insult even think open eleven around corner sell exact bottl fraction cost summari recommend look much nicer websit photo rate yelp bloat least star', 'arriv find sleep futur danc club connect hotel parti stay night anyway hotel would fine plan get rest club open front desk ladi extrem rude peopl call inquir hotel check fine gave corner room sure want bad side', 'room wasveri tini warm give illus control temperatur bathroom small tub plastic retro fit state anoth review crackl feet person find water pressur fine bath ammen good qualiti public area nice good hang basic old hotel updat comment closet true actual indescri hear everyth occur room locat convien mani hotel stay fli midway take orang line cannot go wrong', 'stay amalfi night say read review expect littl bit fine place clean bathroom comfi bed worth money comfi bed free continent breakfast sheet though made us itch reason normal sensit thing breakfast could realli benefit bagel yougurt otherwis earli morn sugar attach muffin danish sweet bread croissant plenti restaur around big chain varieti sort thing also window open climat control devic room problem keep blow air time altern cold warm right bed sign turn see happen air room got uncomfort stale busi center send fax use internet free problem one tini room one comput one person time stay feel like luxuri find place feel like regular hotel heart citi mayb tri red roof inn someth like least know pay', 'say use favorit hotel chicago locat histor gorgeou pool amaz sunday brunch rel low price compar compar hotel exclus benefit ambassador membership fallen disappointingli waysid resound thud let break locat conced still great get corner room histor tower higher th floor view michigan ave river histor gorgeou pool close indefinit ask open hotel staff actual said mayb never amaz sunday brunch zest gone replac dark michael jordan restaur take much lobbi second entranc lobbi way use beauti open lot place sit also longer food bad bad mani restaur citi favor go somewher els eat rel low price compar compar hotel base review everyth els go drake peninsula complet worth extra money downgrad hilton get expect pay intercontinent fallen low pay higher price hilton get wors experi exclus benefit ambassador membership cancel membership disast part membership includ earli check grant avail room readi pm obvious normal check staff overwhelm effect help tri speak manag room wait long line speak someon told husband need membership name nutshel go somewher els ps go argo tea next door instead starbuck hotel way better food coffe', 'book hotel busi trip sinc abl get rate travelzoo figur save compani money also read excel review tripadvisor guarante confirm room reserv two night novemb arriv chicago pm decid go dinner prior check call hotel request late check told problem arriv hotel pm told room move four point sheraton paid major inconveni move complet unaccept confirm room given away told overbook get mani cancel expect check hotel next day good experi would recommend stay ensur reserv inde confirm avoid late check in might room experi design great help room nice comfort felt like home breakfast could stand add bagel healthi factor nice fruit think kink work great hotel need get basic', 'realli excit stay amalfi read sever review onlin unfortun disappoint experi arriv told mistak hotel oversold move anoth hotel amalfi take care hotel cab fare much negoti breakfast travel children inconveni instead get next morn go museum plan get pack suitcas check hotel take cab check back amalfi could head museum also told first night stay would refund well week phone call later still refund even get manag call back amalfi bad central locat close train bu stop mani restaur within walk distanc coctail recept nice select drink appet howev small room place sit night attend one reason pick amalfi queen bed instead doubl seem realli small queen view room alley overal best part stay amalfi night sent anoth hotel wonder view citi nd floor disappoint inde', 'locat good check ok ask non smoke room given floor half smoke half non smoke could smell smoke soon elev door open ask reciev room non smoke floor bring key go lobbi get breakfast could healthi choic sweet roll danish fresh banana ripe room one wash cloth call housekeep never show room turndown servic morn clean call upon arriv back room gone day accus put disturb sign said would come never came said would final told come time want get readi go dinner never greet anyon came went stay peninsula burnham burnham book stay would stay never stay hotel worth night', 'start hotel worst custom servic imposs work everyth problem chronolog order first arriv pm sat check room bed reserv avail offer us room one bed rollaway free charg howev room readi yet final hr later abl get room key rollaway anoth min phone call later rollaway get charg waiv second time go check mon print us bill give us total stop hr road get ga find bank card overdrawn call bank found hotel ran card time bill suppos sit ga station phone hr money final put back account could continu trip home would recommend holiday inn intercontinent day', 'good locat look like good properti seem manag well front desk staff inattent custom slow nice larg suit room plumb fixtur disrepair housekeep staff could report day partial clog shower head drip sink etc clean ok neglect expect intercontinent hotel mani hotel choos area chicago get price', 'husband stay allegro hotel chicago day night recent got room king size bed although room small got problem enough space luggag howev felt bed exactli comfort bed sheet kinda feel rough us wall realli thin could hear neighbour talk occasion flush sound day room clean till afternoon went check front desk told got request room clean shock us thought like hotel room clean except put disturb sign worst upon return hotel night found bag garbag room right next luggag housekeep peopl must forgotten take clean bin unaccept us hotel theatr district rather quiet night although near cta train would rec one stay somewher close magnific mile live night hotel near chicago river get great view stay kimpton hotel san fran next month contempl chang overal good experi wouldnt choos hotel head chicago', 'like problem get room actual reserv call hotel three time email four time order insur actual got room reserv overcharg charg everyth wireless fit center busi center run one hotel ever charg use fit center note intercontinent go charg someth commonli includ advertis fact next charg sheet bed poor custom servic staff commun full sentenc wait hear answer chicago new york littl midwestern patienc', 'reserv king size bed instead given doubl bed room check person must bad hair day unfriendli wall st journal usa today complimentari request room away noisi elev given room next servic elev noisi bother file formal complain tire travel often chicago busi first last intercontinent', 'beauti histor hotel sinc histor build busi look forward stay move room second night loud parti adjac suit escort room complet torn duct work torn apart bathroom lamp fixtur liter fall wall mirror torn wall etc end room th floor much nicer yesterday wait minut elev two separ occas two three elev top floor work two elev skip floor stuck wait ever rais hotel staff told old hotel basic stuff umm old build problem fixabl elev problem anyon care enough fix thumb way stay away go drake knickerbock look old world charm san hassl', 'wife stay amalfi trip visit son friend norway vacat citi excit stay amalfi read review realli disappoint accommod web site photo stori build hous hotel state hotel occupi first floor build rest offic room th floor view blank brick wall feet distant room unremark standard furnish equival holiday inn although close best part citi tuck behind new trump tower open surprisingli sketchi stretch road sidewalk norwegian friend contrast stay rd floor swissotel view lake navi pier', 'husband month old took quick trip chicago stay one night palmer hous read four star hotel guess confus four star hotel ye loung area nice room small set pack play son call upgrad room son could someplac sleep lower level updat make slightli better holiday inn wall paper peel away wall shower dirti never stay', 'experi three room reserv check charg differ rate room screw initi room assign gave us room even clean yet check could get us new key differ room without great difficulti go front desk bell staff went wrong room give us new key room guid say pool th floor sign say th could get pool th floor without go way lobbi go th floor take stair th check front desk staff go credit card assign room receiv bill credit card assign still wrong stay economi hotel lot even come close mani problem hotel one hotel chicago servic close door due experi never stay downtown deal overpr hotel poor servic surround busi bad', 'recent stay hotel allegro chicago illinoi hotel nice pleas take advic stay pay cash room hand credit card incedent next day debit card charg clearli mistak call hotel manag rudest person ever spoken charg told fault paid cash could give bank account rout ss author code could call bank take care clearli smart enough give inform anyon yet someon alreadi taken charg call corpor complain let know situat thing corpor could tell alreadi credit account sorri clearli mistak question manag ask inform alreadi credit account told didnt answer bank account sake stay mani option chicago', 'hotel excel situat visit art institut millennium park old classic hotel main lobbi must see would stay problem hotel date long ago current one built even extens remodel done hard creat space compar expect today mani case wall load bear cannot chang much reason size room king bed space desk loung chair bathroom small littl space spread toiletri also coffe machin room someth come expect virtual hotel day major complaint stay execut loung usual worth pay extra access hotel much cost two breakfast usual hor oeuvr even modest wine modest price sinc current diamond level hilton honor program get access free hilton usual upgrad chain hyatt palmer execut loung order coupl glass wine bartend duti slightli surpris cost glass came two tax tip even surpris wine worst wine tast mani year think even good trader joe cheapest wine tri coupl week ago unfortun get look bottl see although notic fish back cupboard notic coupl group execut loung brought wine understand iot price charg occur wine sit around open time check room servic menu saw offer three red wine glass three variet bar cabernet william hill glass room servic presum time william hill left turn vinegar slightli expens room servic hope lot better condit', 'check hotel stuck airport areusu best mood work upscal hotel encount mani guest check happen want friendli face smooth check desk clerk check properti neither short rude hand key walk away would never go back properti due', 'stay two night regist unfriendli desk attend cold room small closet even hold cloth pack two day room stylishli decor lack nice small touch extra pillow closet attract hotel bar ground level howev went drink door bar lock call inquir sign said open realli told short staf sorri run hotel countri third largest citi amen open whim first last visit kimpton hotel', 'disappoint say least heard rave rave hotel allegro super excit brother law gave us american express gift card decid use night call hotel allegro made reserv saturday night person took reserv sweet assur would problem use gift card sinc inde take american express wait get arriv hotel allegro saturday afternoon tourist alreadi take pic sign front tri get sneek peak ballroom set wed get line check give gift card check card tell neither one work charg card room rate incident well give credit card instead line check hear complaint complaint guest start wonder experi go like guy front desk radio bell man someon luggag lost desk clerk snap bell man entir line see impress get littl shoebox room disappoint see room websit look gloriou bedroom home nicer tini room sink small water splash everywher even evid water floor got room yuck stay night go check morn give american express gift card clerk say system usual take tell call confirm system would take friday swipe card bam work know rude stay hotel allegro would recommend anyon disappoint', 'stay group bachelorett parti disappoint hotel beauti staff rather friendli main problem room sleep situat book room queen bed sever week receiv email day visit state sold happen know upgrad us two suit king pull first meant parti split differ floor second meant two us stuck pull couch picki unreason person worst bed ever slept sunken middl liter roll unless balanc edg bed spring poke back night aw amount money spent expect comfort would stay experi', 'sit th floor room hotel allegro listen convers husband wife room left seem cough today room right someon seem use restroom quit bit hear water run toilet flush also hear footstep room upstair even roadsid motel better insul room stay dozen kimpton hotel far worst room dirti carpet cover spot stain curtain larg brown stain want guess paint peel rip wallpap decor bit garish pepto bismol cover wall green yellow pillow filthi brown white carpet size room fine bed comfort glad earplug avoid listen other toilet flush night locat good downtown theater busi three elev serv storey build run slowli chicago mani nice hotel option mani enjoy quit bit unfortun one even unfortun stuck two night look forward stay kimpton hip comfort attract', 'hotel allegro industri analyst event could expect wors first glanc figur bad kimpton unfortun issu servic peopl excel howev room suck imagin normal hotel room size cramp king size bed add bathroom also size build old hotel smell thing muski cover paint smell bathroom shower modern fixtur remind nyc studio rent peopl colleg paint peel base board carpet new someth wrong would stay marriott renaiss westin els', 'stay much hyatt sure go back anytim soon staff profession help room close star howev fell littl short realli time remodel bathroom toilet older flaw design close lid flush germ freak anyth howev realli want constantli touch anyth toilet hotel fulli book teen convent fccla unfortun anyon els suffer nois night everi direct way describ everi room around us slumber parti come back dinner one night took twenti minut us get room due traffic littl supervis kid would cut line get elev would jump floor mention teen go floor floor visit one anoth absolut ridicul lobbi hyatt night complet zoo second night final enough call complain told hotel fulli awar situat realli anyth could read', 'stay fairmont two saturday row stay disappoint call hotel prior stay time took hotel minut answer phone price expect nicer decor look cheapli done comfort bed mattress soft sheet hard pillow comfort either accomod front desk staff friend also date undoubt add similar comment', 'imagin get first time overlook room suppos readi use towel mouthwash open use left towel floor foot towel dri face slipper although still bag sole broken left tini plastic part way garbag room de facto realis would happen saw pari hilton tv knew god great us idiot go compani abl creat shame us actual', 'famili book five nitght omni chicago upcom spring break took advantag pre paid non cancel offer subsequ receiv bed breakfast offer via email immedi call hotel inquir whether could switch reserv date differ offer call number custom servic repres obnoxi condescend ignor simpli hung look forward vacat sure made right choic hotel paid closer attent review ritz four season peninsula would never treat us way post stay april th', 'complet disappoint problem alarm clock stereo thing broken room constantli emit low chang hiss nois sooo annoy switch damn thing move bed unplug outlet wayyy back buri behind big bed kept hear realiz kept awak hour shower incred hot turn way cold hot turn hot get boil hot grrrrreat get water scald inconveni earli morn need shower hurri danc pain hot water good job omni hallway carpet disgust old walk around think motel floor flood someth box fan run hallway tri dri talk overpr dump', 'look forward stay wed late septemb surpris sign hard time subtl affect husband exampl got lock room time wait minut hallway go spa time get readi wed ceremoni stress lost time keycard would stop work fuse blew power tri get readi happen also come back spa call hallway phone get help luckili right employe randomli walk ask wait long knew problem said call check appar one even call secur get back room set key let thank god wed night husband want order room servic littl pm told room servic close night even though literatur room brag hour dine fact never commun us check feel like qualiti servic amen slip later heard someth lot employe get laid mayb peopl interst provid good servic think would recommend anyon stay fairmont ever btw spa great hang even massag', 'hotel busi oper way beyond mean incompet servic hotel ran hot water saturday elev slow wait minut given event red line train ran everi minut beneath citi street hear thunder room shouldnt keep awak night use stay toward nw airlin bonu point bar ok one cup coffe servic aw free wireless free cabl channel fridg buck day use http hotel com re got buck tax expect locat superb cab servic conveni enough outweigh neg', 'let first start say alway pleas conrad hotel chose conrad chicago disappoint level servic phone call get mainten fix bathroom sink unpleas experi terrac restur front desk awar room emin uncar mod conrad hotel stay star one give star', 'start say employe wonder especi restaur bar employe could nicer appear hotel manag went beyond unfortun end room opinion appear differ pictur worn ratti know uninvit sofa crappi coffe tabl desk area first room given bright construct light shine room men work next build look directli window kid seem ft window specif ask room might decent view switch room virtual light truli worn star hotel seem closer perhap extrem kind star travel busi know differ mere touch cabinet door bar unit liter fell hand complain nice woman housekeep credit made sure door fix asap gave bottl wine compens util dull sens surround next day want give omni shot big mistak unfortun brought friend show great chicago soooo embarrass chosen hotel extrem disappoint well gone first instinct conrad lesson learn', 'hotel well locat servic poor seem cater larg convention servic like moder chain hotel typic fairmont mani specif outlin let say front desk spa room servic got order correct one day housekeep even clean room one day although sent manag inspect room housekeep said clean room yep want come home hr meet offer complimentari breakfast inconveni hotel larg mani time pm would liter long line guest wait elev stay fairmont twice st time attend confer nearbi last time l chose price worth endur poor servic last time', 'choos stay hotel due high rooftop rate hotel rooftop terrac th floor occuppi privat corpor event entir durat stay recommend drink indoor highli insult bartend breakfast buffet order la cart keep mind pay extra breakfast internet also note minibar empti arriv told departur would need call recept order stay omni much better experi dont recommend spend much mediocr hotel', 'well use le meridian hotel chang wors kept remind book packag charg separ everyth includ suppos champagn room upon arriv two phone call three hour later final show tri drink bar even though peopl three server bartend came went talk one acknowledg us ten minut left hotel went street drink bother pay extra citi view may get view sixth floor look street directli plain brick wall could see oh ye valet lost cell phone someon car call home today see found want call back home nice hotel give person inform staff huh money stay hotel chicago price point much much better', 'stay without except swear lie everi day stay bring new problem past month stay time night time problem everi time wrong food room servic room key dont work unrefresh bath towel forgotten dirti room coffe servic unclean ice bucket overnight forgotten room clean inabl connect internet tire keep write problem price chi chi downtown hotel expect final team certainli train custom servic front desk team attitud aria hostess think someth els stuck use hotel sinc adjoin aon would never go back choic good thing food aria outstand', 'bell boy need sulli staff smile place wait min luggag never greet staff boy sure lousi fairmont compar one sf never', 'love locat proxim everyth staff friendli courteou nice year old boy got backpack full goodi moment arriv got free wifi morn drink sign select guest program beat minor issu elev take separ elev trip get room got littl annoy go often otherwis great stay', 'travel chicago quit often stay bunch hotel stay conrad coupl time impress good time receptionist quit cold feel welcom room noisi thin wall could hear exactli next room talk one time tv broken guy came took like hour fix anyway given star hotel realli didnt live expect st time hotel thought might give second tri nd time decid realli come back especi given mani hotel close attende confer also complain hotel guess', 'room book room told get king bed check say queen bed room avail protest avail got room realli full size bed went king bed home full size bed tini broom closet room chicago pleasur paid price normal king bed room full size bed also extrem uncomfort think lop side never rotat mattress would wake bodi ach headach wife even said lost feel arm night good also internet room hard set slow use inconsist gener restart comput least get internet work internet work one day iphon would log realli worth room servic room servic inconsist nonsens morn would take towel even one hung use replac time would replac towel other would also come vastli differ time hotel servic hotel love nickel dime ask fridg room told hotel ever stay regardless mani star ever charg fridg room late checkout charg shuttl airport nonexist front deck gold passport peopl even figur get point end call corpor get point stay plan stay hyatt properti way appar hotel still undergo chang mini bar miss think use fridg instead pay hotel hotel cool bar beauti lobbi area east tower west tower underground amen one use bar extrem expens drink tasti food edibl brag hotel directli main street michigan far right next boat tour room view navi pier room face anoth hotel could see sliver pier hotel walk distanc millennium park bit walk l station though want wonder breakfast place go wildberri randolph st wait eat long time yummi conclus get better room better bed better servic better amen holiday inn express best western save money stay elsewher', 'frustrat hotel post deal promin websit claim said deal avail certain date call make reserv base deal tell avail room avail deal tri condescendingli tell sell mani room deal get say websit great deal small number peopl actual get much great review servic even get past first phone call without frustrat annoy bad form conrad bad form', 'hotel great locat nice infrastructur river north area full great restaur north bridg area great towner decor love nice hold le meridian conrad aspir top tier peninsula four season ritz park hyatt fall short dinner terrac restar outsid day initi impress set select price similar peninsula figur nice day worth tri wow ever disappoint first told could seat stay ok that fine sat waitress made point ask anyth wrong could make right indic glass champagn full per glass consult manag anoth manag heavier fellow dark suit came back said standard puor would glad bring us addit glass bother outcom fact manag servic focus four season peninsula would never happen express displeasur would made right conrad terrac manag ignor', 'stay chicago fairmont four night confer fianc accompani check given room two full size bed despit fact reserv one king size bed instead relax larg luxuri bed imagin forc either sleep separ bed like ward june cleaver either cuddl small full size like two colleg kid fratern hous discov coffe maker work call desk someon look wait two half hour issu plumb includ extrem slow hot water tap bathtub took minut fill toilet stop work twice return one afternoon art museum find maid room sit bed watch tv talk cell phone bellman rude let fianc unload car pack expens camera equip error bill last least saw roach drawer aliv restaur downstair decent locat fairli good sinc confer hyatt next door price find someplac better never ever stay circumst', 'conrad hilton recent took properti fail meridian hotel seem conrad inherit hotel properti work entranc difficult find two elev take lobbi result often line wait problem affect guest room elev locat beyond registr area go hotel coupl time stay find poor elev layout annoy king room would consid small compar chicago hotel although like modern design room quit stark cold also show quit bit wear tear bathroom best part anyon manag tri sit chair work desk uncomfort set experienc view non exist room citi amaz vista disappoint saw coupl walk hall manag tri find room accept room servic breakfast highlight stay excel food high qualiti present sorri write better review would stay chicago incred hotel one', 'allow parti go night book us room run water call secur twice noth parti final came peopl file room file right back minut call back noth done year old son awaken loud music curs get next morn get readi find run water mainten man piddl around half hour time shower ride two hour train ride dirti tire sleep resolv issu keep pass complaint manag supposedli worst stay life poor two year old', 'mayb book thru pricelin treat like second rate guest get room thru fairmont websit busi weekend ryder cup never experi use pricelin night time check girl rude unhelp told option pay upgrad king bed stuck two tini bed ugli room comfort dirt sever place bathroom handicap counter space use iron board toiletri hotel huge capac may renov good look hotel stop lobbi hallway room carpet run come expect fairmont stay mani world far worst mayb low floor updat paid much guest fairmont gold member posit great locat daytim staff help desk two bike borrow handi view could great get higher room check raddison blu street look much nicer', 'conrad right stuff great bed fanci decor beauti lobbi etc howev serious miss boat come custom servic attent detail check went get glass wine minibar discov everyth fridg warm call help cheer told would send engin right away fix meantim said great cold drink proceed send glass wine via room servic without ask would okay paid glass wine minibar bottl would given glass noth said obviou differ call complain made feel cheap money principl next morn bill show eaten someth minibar call said automat sensor minibar must trigger someth duh engin came took entir fridg compart fix took charg also took room servic bill still annoy nobodi bother apolog acknowledg fact overcharg also fix minibar fridg replac anyth guy said take thing cool oh realli warm beer cold tast disgust guess save next person check room idea anoth annoy light mirror bathroom work plug made light bathroom go never would come seem conrad think spend lot money make look beauti without worri custom experi think go room check sta', 'famili four went convent stay earli august promis room two doubl bed arriv earlier told doubl bed short reluctantli agre take room king bed promis roll away bed sleep uncomfort year old bed child roll away littl know charg daili fee bed manag could handl larg group hotel bellhop bartend visibl stress towel one day late night manag would take roll away bed charg least bit accomod disappoint hotel also pool want use pool health club next hotel pay day use famili take littl swim bit ridicul favor want accomod think book hotel convent otherwis go elsewher chicago mani hotel choos pick one never heard back manag issu call email obvious care even told write review websit chicago awesom citi though love', 'want issu travel warn folk might sign weekend deal offer travelzoo time time deal say free breakfast includ price howev tell breakfast consist cup coffe bisquit two moreov need ask ticket lobbi check give automat stay christma notic sever guest bought packag rather unpleas experi hotel nice though consid lousi servic', 'locat hotel great right river michigan ave everyth within walk distanc price though given star hotel expect better wall room connect room side lock door sound room came loud clear heard one neighbor make busi deal phone clearli speak loudli neighbor midnight yell scream came back drunk ask quiet expect work young drunk call secur noth complet annoy nois especi expens busi hotel one unless chicago parti get drunk get sleep stay', 'travel often busi hotel rank low list room strong odor smoke gave headach use smoker room servic mediocr extrem expens hotel disturbingli huge difficult navig way around wait hold twenti minut ask concierg pharmaci locat curtli gave cross street name hung uhhhhh know direct go stain carpet room big gaug wall mayb thermostat shower decent price charg thank glad compani foot bill', 'husband excit stay conrad unfortun would never stay hotel room look nice closer look mold bathroom red stain look like dri blood near sink room servic cost super high cost us burger order french toast pop dessert middl night pipe room made loud vibrat nois kept us awak call front desk took minut someon walk room th floor recept desk noth fix thing continu follow night anytim room us right use shower staff friendli enough help noth tri make stay better problem even coffe pot room definit would stay price worth', 'stay time around mark differ qualiti servic staff rude incompet exampl order wine glass room hotel longer servic mini bar room seem like realli cheap way go type hotel nonetheless staff brought us coffe mug list issu goe unfortun includ low grade room movi option audio video sync rental eventu stop watch minut room clean bathroom sink vent hole black mold clearli hotel pull back amen train suffici staff oh price point hotel stay find newer hotel mani great citi', 'serious overpr room clean comfort stand mid price hotel amen smoke screen noth offer would get much lesser qualiti motel basic would expect holiday inn would gladli forgon scale bathroom cup hot coffe get dress go lobbi purchas charg day internet top night rate bit top bathroom well lit inconveni shower nice size fantast size shower head unfortun twice water pressur low effect lost staff friendli help actual best part stay staff found overpr qualiti room', 'live chicago frequent occas recommend hotel friend busi acquaint recent put candid famili recruit compani conrad good luck hotel le meridien disappoint concern conrad plu side guest abl check earli problem gener like room downsid learn fact room two bed bath tub shower guest move room bath tub found hair clean coffe bar caffein coffe guest ask told would deliv immedi call minut later front desk admit forgotten concierg doorman quit help guest told us front desk personnel sullen unrespons guest gener whelm one five best hotel chicago conrad long way go compet four season peninsula park hyatt', 'nd time stay hyatt regenc chicago first time far expect per night room room nice bed comfort time got great rate travelzoo night room view awar park per night first night got valet yell us said park full clue park point drive around minut look close park garag saturday even final found spot told would block hotel mind outsid luggag carri good servic star hotel got insid appar run nightclub thier lobbi call harddriv cool ye noisi got room issu hvac control room broken first night ok second night blaze hot degre hot sleep miser sent engin determin defin problem open window floor never cool enough kept window open night night window open help would put us anoth room either checkout monday morn bill came tax room second bill internet park bill cool got reciept went way wednesday onlin bank check account find hyatt charg anoth charg reciept checkout say furiou call hotel noth resolv phone call treat someth wipe said give anoth day two see addit author fall settl well could wait friday check account charg clear correct origin amount still author two incorrect amount well charg addit im furiou guess hyatt care gave line wednesday save hassl stay hotel unless extra money play', 'experi fairmont chicago less desir tri fair write review fair fairmont chicago languag pull check felt goug start night park terribl area averag afford disgust put guest park car rental room internet complementari standard sort ultra upgrad internet servic goug goug goug charg internet anymor even wors upgrad servic go onlin everi day day stay cost one updat internet tell upon check sign free premier fairmont club receiv free room internet servic found last day stay issu properti shower pressur good bed hard uncomfort would say mani properti better locat price citi good note aria restur fairmont tremend staff serv best burger fri ever love complimentari naan dip start complimentari orang bark finish', 'arriv friend alreadi visit nearbi art galleri put name reserv told get key front desk arriv front desk staff gave key room put stuff away went meet group return late night soon realiz room friend room place stuff afternoon went speak front desk met anyth right due hour disrupt guest stay room say left stuff unaccept laptop thing brought room mistak final argu head secur minut knock door room left belong ladi answer upset state secur take item room afternoon belong recov secur room howev hullabaloo could avoid commun situat terribl terribl custom servic sent apolog letter champagn chocol cover strawberri room although appreci gestur still excus fact argu continu say anyth', 'beauti hotel lot offer price sheet pillowcas room stain tv remot would function properli valet servic truli need improv pay quit bit overnight park took hour bring car us need leav ask find take long got toss back forth bell hop front desk answer', 'good start front desk will tell custom problem room reserv king suit hotel put us queen suit without tell us front confront manag come clean switch offer us free breakfast would grade room whole problem could avoid would told us truth let us decid still will stay omni retun hotel', 'son join husband work trip plan swim work overheard ladi ask pool would open check though son eager swim soon check pool still close pm gave went even noisi sleepless night face mi ave still heard siren sure nois sound like malfunct hand dryer ceil would sound x hour throughout entir night call front desk next morn told pool open excit son got bath suit got fit center told housekeep pool close construct upon call front desk ladi claim unawar mainten crew action insist said look gentleman call back hour later said pool open pm pm still even seen pool check tomorrow pass time grandpar holiday swim chicago needless say disappoint', 'stay omni year busi person trip trip start quit rocki left un impress awar new polici charg debit card per day incident may incur elect use standard credit card even book paid room advanc desk clerk claim hotel funni put remot employe hare hilton busi debit card never ask addit fund polici one thing spread blame anoth problem someon plan trip dollar dime might encount problem polici knowledg never sort thing use credit card money recess room clean room accoutr mini bar item price list thing label price bottl water ml care tray goodi water imagin snicker bar might cost suit bathroom slide door bedroom bathroom appear broken would move call front desk result noth final pm elect anoth look seem track abl success fix lack respons mainten consid rate suit sad rememb hotel much attent respons seem cut lot corner room stock overal think skip omni get busi seem hilton treat peopl better overal quit sad lot good memori omni back', 'disappoint hotel staff seem hurri unhelp room made pm despit sever request blower hallway blew freez air staff told us noth could done lobbi invit comfort sit room bed comfort cream modern art work style room lack mani amen hotel price rang offer certainli worth rate compar hotel stay chicago', 'excus hotel like cold shower three consecut day tell custom engin look told sooner expect cold shower budget hotel let omni great locat bar nice', 'room dingi run felt like stay cheap motel carpet except worn wallpap peel bathroom grout dingi place felt like redecor year top window would open unusu hig rise hotel air fan ac heat temp control suppos work idea said radient cool whatev call front desk ask floor fan cool room air circul even went far prop door open put fan fan door room feel suffoc much privaci comment food ate everi chanc chicago fantast food much within easi distanc hotel hotel good locat near waterfront millenium park shop dine confer facil averag frustrat basement cell phone recept non exist never stay hotel especi price poor room qualiti', 'gave conrad second tri impress fail miser hotel honor room request express special occas would love room view reserv got view adjac offic build window pay nearli night call manag absolut rude would requir pay least rude lot lot mistak happen request pillow never sent televis sound function e sound tell manag problem horribl condescend care littl better servic hampon inn screw breakfast voucher physic go question said send right never happen absolut ridicul bathroom alway nice room renov sinc last year thank lord nice ambianc bed quit nice well valet guy fantast probabl nicest men within entir hotel also bellman housekeep wonder sweet alway said hi hope wonder day appreci perhap manag team need go back train school learn custom servic breakfast conrad restaur avoid complet servic abysm inept mention slow two differ watress took upward minut get juic look like hate job treat us attitud never check food came food overpr qualiti sever lack got continent breakfast includ muffin burnt small croissant tini cinnamon roll dollar laughabl choos dollar get toast juic spare choos eat elsewher get actual tasti meal money overal manag need learn custom servic mean bend backward custom otherwis busi crumbl conrad crumbl spent way much money terribl servic alreadi sent opinion hilton headquart look hotel next time im chicago', 'staff courteou desk clerk gave one coupon free breakfast instead two second desk clerk gave wrong time breakfast second day caus us miss free period room clean nice view river bed comfort toilet look like belong public restroom tank instead stainless steel valv instead star hotel dresser store cloth wastebasket room cover icebucket icebucket fold luggag stand broken strap locat good close river sever american style eat place nearbi overal disappoint four star hotel expect hyatt regenc', 'famili stay hyatt wacker dr march excit great price got star hotel pricelin unfortun impress past stay hyatt downtown san diego spring break marina chose stay closer home year room clean standard arriv even though paid upgrad ask clean sight see assur would look upon return noth move room clean includ tea son made prior excurs assum even check promis towel us call promptli deliv room servic took minut deliv us knife corkscrew essenti paid felt compel tip even though call ask twice curtain dirti fray vacuum bed skirt foreign stain honor bar fridg goug dirti mirror dirti bed appear jump neat tidi box trash hall old refriger two well disappoint say least buyer remors wish taken train home stay bed compens upgrad given price park tax etc point recommend hyatt anyon husband travel use hyatt busi travel point quit often also expect better star hotel felt compel let know unhappi facil', 'expect experi compar stay olympia seattl decor overal feel hotel much averag inspir biggest disappoint inadequ internet connect room wireless slow hard wire wall work request replac wall wire help hotel better star rate experi pleasantli rememb mediocr experi even bed cover special need intens manag next time tri trump facil thank', 'rave bed bed averag surfac room seem clean howev drop pen behind nightstand discov least inch dust appear repair someth cut away part wall repair job cover wallpap board hole board even complet cover hole imposs decent shower bath extrem water save devic shower tub provid basic trickl water unabl get shampoo hair pressur poor also prepar nickl dime death even charg use coffeemak room realli room servic tack deliveri charg gratuiti sinc waiter stay serv earn gratuiti alreadi charg deliv food park fee outrag night add insult charg hotel patron fee gener public upon pack leav realiz dvd set son brought miss report theft hotel file report secur promis would investig get back within day two week follow apolog even given never stay hotel chicago mani time worst hotel ever stay', 'book room w queen bed night wonder nye rather disappoint bed either world smallest queen actual doubl mention uncomfort springi thing bathroom previous open use q tip lot nois seem carri vent could hear room rather clearli tv audibl high pitch hum nois could get rid unless unplug tv hot water inconsist shower great locat howev next time tri one hotel area like intercontinent marriott might bad pass though quickli busi recommend romant night two', 'chicago hyatt regenc decept alter cancel polici charg full room rate upon cancel ie room cannot cancel recent book phone one night stay directli hotel reserv specialist mention phone hour cancel polici howev tri cancel reserv within timefram robert reserv supervisor said room could cancel time without charg full price room said refer confirm e mail state bottom prepay requir time book non refun clearli agre phone told cancel without charg respons threaten cancel charg full stay would someon cancel go charg full price bottom line hotel decept chang term agreement robert go back custom servic school', 'outmod worn furnish combin poor origin design choic produc drab place stay hotel five star rate need downgrad visit hotel year ago fairmont among classiest brand th floor room expans dark one small window one light work upholsteri fray bathtub faucet produc trickl water room door close unless pull certain way wors manag fill room price list display thing sell one set snack even larg tacki plastic case dresser like sleep old vend machin look pen take phone messag none found review remark hotel need updat think origin design choic also blame instanc someon decid place seri heavi door strang configur sit toilet without leav door toilet cubbi open space accommod leg unusu tall mani great hotel chicago deserv five star fairmont abl compet see profil better idea niftyc', 'experienc bed bug room stay omni chicago hotel magnific mile never receiv return call gener manag sanjay mahajan sever voicemail never return hotel work spread word also heard sever employe clean staff common hotel', 'omni chosen locat whichwork perfectli bed wond everyth seem fairli clean sat tub black mold soap holder crack wall tile tile overhang tub complet around toilet bowl needless say drain tub took shower realli care shower oh ye toilet leak well staff help disappoint travel extens think return need color copi busi meet printer broken man busi center took jump drive anoth part hotel print present deliv room tri book onlin weekend packag got room th floor view window anoth build much', 'pro con pro good locat nice staff clean room con lack bathroom amen get better item holiday inn housekeep great bathroom rug taken room idea never return marbl floor bathroom danger slipperi throw towel ground make sure fall charg item take minibar', 'daughter woke morn want go swim arriv pool water cover white scum attempt use phone pool one white phone one emerg red phone call desk servic glad emerg exit pool area ran hotel employe told problem ask call us pool clean never heard back', 'stay night busi confer food pretti good realli good mint resist room comfort bed great annoy mani issu first internet went coupl hour break confer big deal except need busi second internet avail confer room suppos confer attend would pay extra third chair room low desk awkward posit use comput gave back ach later fourth second night key work ask new one also work ask anoth one thing happen thank front desk ask secur guy meet room go back lobbi third time came back littl later tell wrong room final came back right key fifth tv one remot control chang channel differ one volum sixth comedi channel much cheaper hotel hotel cost much money thing would minor inconveni would expect paid', 'stay hotel week look forward stay top class hotel shock disapoint stay gripe room broken phone broken lightbulb breakfast servic slow impolit hotel ration shampoo one bottl two peopl share refil bottl less half full also share bar soap disappoint hotel paid premium hotel got disappoint stay', 'famili dub omni chicago fawlti tower alway seem someth wrong time room right kitchen odor cook greas waft bedroom night long smell like greasi spoon restaur permeat cloth bedroom window bolt shut get fresh air room amount omni charg room much better ventil system', 'trip annual anniversari trip hotel honor choic king size bed instead receiv two doubl bed serious decreas enjoy stay hyatt two cup coffe complimentari room complimentari coffe anyplac els larg hotel locat busi district appropri pleasur trip employe hyatt friendli help failur deliv reserv room', 'disappoint hotel time seem come qualiti quit bit clientel also seem lower qualiti lobbi quit rambuncti scene one staff seem notic hous keeper bare minimum room day replac use toiletri coffe also left dirti coffe cup room think stay intercontinent next time', 'stay current aspir sleep paper thin wall allow even slightest peep neighbor feel like right bed sleep anyway cheap giant fluffi pillow call housekeep ask help simpli accomodatingli told plea help could would abil suppli reason pillow complet answer hang hyatt may well execut servic lead demis happi', 'expect high book hotel pricelin night amaz deal fact wait minut hot water call front desk tell hot water nonchalantli repli tri run minut forgot tell keep water run shower anyon els expect use shower boyfriend shower wait anoth minut get shower warm make matter wors room servic deliv call said need anoth fork told us would cost fork delivey charg absolut ridicul least star hotel get hot water suppos star hotel guess get paid feel bad peopl actual paid full price', 'issu housekeep hotel manag handl well subject brief staff strike inform guest fact fail tell us strike room never clean call sever hour abl get clean towel overal servic check poor reportedli star hotel', 'great awesom servic serious peopl amaz nice bartend serv last call least told cours drink save place one star serious blah small non luxuri room bed realli uncomfort card rate night even major citi room better awesom waaaay better room nyc night good thing corpor rate room especi big despit review say main problem even th floor guy blow whistl summon cab downstair woke well final got said screw let greet day mayb everyon els alreadi somehow doubt safe ensconc four season', 'omni chosen locat whichwork perfectli bed wond everyth seem fairli clean sat tub black mold soap holder crack wall tile tile overhang tub complet around toilet bowl needless say drain tub took shower realli care shower oh ye toilet leak well staff help disappoint travel extens think return need color copi busi meet printer broken man busi center took jump drive anoth part hotel print present deliv room tri book onlin weekend packag got room th floor view window anoth build much', 'daughter woke morn want go swim arriv pool water cover white scum attempt use phone pool one white phone one emerg red phone call desk servic glad emerg exit pool area ran hotel employe told problem ask call us pool clean never heard back', 'nice big room stinki mildew hallway fair room servic menu weird elev set realli hurt review omni locat great lot option get realli good deal room say', 'thank god got hotel pricelin imagin pay full price place tub moldi dingi toilet flush select tv channel limit say least unless want pay rerun nbc show oh internet set back day breakfast cup coffe croissant two slice honeydew hotel pit custom servic absent walk ridicul lobbi deck like bad late prom one direct upstair check check fast grant hotel big crummi rip never stay steer clear hyatt gener believ', 'gloss nice build friendli staff wild set item minibar somewhat averag hotel particular bed chair least comfort ever encount two night wife practic crip bed pain complain staff immedi offer chanc switch differ room room furnish ident owner omni need stop spend money bath salt room invest basic comfort lie floor tri unkink back think longingli last red roof inn visit', 'hotel chosen husband compani famili came busi trip locat excel great view lake aquarium th floor first impress room nice everyth appear clean lobbi undergo renov entranc otherwis ok lot confer take place wait elev long seem like elev work read anoth review join fairmont presid club wi fi room would free sign club puzzl offer everyon free wi fi park fee exorbit night thank compani pay abl walk millennium park navi pier hotel hotel kid friendli term restaur amen swim pool concierg arrang us swim swissotel next door underground tunnel connect fairmont love swissotel pool nd floor fantast view pool although bed comfort daughter victim bed bug stay unfortun know next day return home appar bed bug bite take day appear daughter share bed bitten side neck hip bite made want claw skin husband son share bed bitten bewar room bed nearest bathroom fool clean room check mattress', 'room spaciou nice color decor bed felt like lie cloud four pillow bed two fiberfil two could choos like better bathroom nice also overal pleas stay show room key get ten p thought good secur issu great locat close downtown would recommend decor classi hotel two frame art bore bedspread lumpi pillow hyatt regenc opposit', 'book hotel great expect famili visit outsid countri want good experi chicago upon arriv hotel exact time indic reserv told downgrad lesser qualiti room travel often never moreov hear singl sorri like usual busi bother receptionist kept tell decreas rate think nice eh like favor decreas rate room gave us cours legal thing sinc sure illeg charg one room give lesser valu one money care want higher level room independ valu know say sinc never happen also famili present want start argu room nice nice thought locat good howev awar might honor reserv even apolog enough go back', 'fairmont hotel gener prefer choic true disappoint check quit slow problemat glitch reserv system local room small oddli arrang felt quit cramp room hard work small desk hotel overal felt quit cold isol lobbi invit feel terribl safe walk around outsid gift shop overpr even downtown hotel food disappoint overal seem greatli overpr meet usual standard fairmont come count bill complet mess requir separ call left straighten', 'line check desk tremend long decid use computer self check option self check gave us size bed got room immedi realiz place smoke room unabl perhap staff unwil move us non smoke room allerg smoke made stay uncomfort wall seem thin could clearli hear convers guest room next us went breakfast seat quickli nearli ten minut server arriv price charg wait unaccept went elsewher also took ten extra minut promis valet get car forti dollar day park expect better', 'suppos star hotel impress akk lobbi nice modern look bellhop outsid help bag open door arriv late night addit walk hotel late one night trash flower strewn lobbi floor seem alway water bottl glass near seat area walk staff clean welcom sight room nice clean provid great view actual locat farther would prefer michigan avenu andi also littl far south area recommend rush street lot fun night', 'first let say tri critic case truth warrant check thing seem fine locat excel woke first morn slightli rumpl bed cover stain hope filthi star hotel qualiti request linen chang heard knock door gentleman let know want done take privaci sign one even came later day room big enough drawer suposedli remodel carpet reach wall toilet paper holder fell constantli shower head broken mirror great water alway hot wall paper thin heard everi convers guest next door noisi could hear everyth includ v wall vent internet work bit call custom servic spent minut phone ask could work reset system call back later hotel give us credit charg point enough enough pack bag check front desk help kudo rocco care friendli staff saw bell hop', 'mean write review omni sure peopl would believ review quit high stay night room fine walk five minut congest thought might flight notic dust everywher tv minibar worst air vent liter hang vent call front desk said would send housekeep minut wait notic thing bathroom door close broken light fixtur toe fingernail bed broken bathroom fixtur place dump hope pictur show could go minut later hotel manag came look room head housekeep shock room move anoth room larg one hotel complet book told stay omni prior say impress last time sad say hotel cut rate day stay explain hotel calib let room like pass inspect', 'bathroom toilet leak water bathroom everi time flush call mainten fix return room discov mainten personnel left nasti mess bathroom toilet seat cover greas dirti cloth bathroom even use guestroom towel clean hand tool love chicago never stay hotel', 'bare averag hotel premium price hotel beauti lobbi fail fail maintain standard beyond lobbi stay conrad dublin ireland hongkong love look forward stay hotel extrem disappoint surpris hotel allow carri conrad name pro eleg lobbi nice decor fresh flower locat locat heart chicago disappoint stain worn carpet hallway room small phone lightbulb room broken breakfast two peopl servic slow impolit hotel ration soap shampoo one bar soap share one bottl shampoo replac two day felt like stay budget hotel cap stay hotel made bill error took three month effort worth correct would stay hotel worth premium price charg', 'hotel great locat friendli staff howev physic condit properti certainli fallen behind competit use regular hotel back year room well maintain old carpet fray door wall paper peel wall tv current construct go lobbi area make imposs get restaur without leav hotel walk outsid door', 'daughter woke morn want go swim arriv pool water cover white scum attempt use phone pool one white phone one emerg red phone call desk servic glad emerg exit pool area ran hotel employe told problem ask call us pool clean never heard back one thing room furnitur mostli child friendli except larg metal glass outdat coffe tabl within minut year old fell hit mouth began bleed need updat piec furnitur', 'hotel good locat contemporari decor beauti flower lobbi room servic good concierg servic also good treat well shower water pressur poor also checkout room bill conveni avail mail us charg rd night room actual prepaid courteous taken care contact hotel bar small uninvit poor select appet food read', 'stay hotel world probabl worst servic ever experienc staff unaccomod hotel provid servic claim would decid tri monaco seem interest close theater seem good rate huge mistak front desk staff condescend even remot help room clean gold fish request came mani hour told would arriv never bother come turn bed late check priviledg guarente book room suddenli becam upon request boy extra minut gave sure help dont wast time money best noth special person like fairmont chicago anyplac woudl better monaco', 'hotel worth moment walk hotel lobbi check staff rude contemptu room servic certainli live pompou self descript websit bathroom porthol slide door odd inconveni fit centr tini poor would come', 'look fun contemporari hotel deliv lobbi nice room mostli clean realli special servic time slow room request found empti water bottl chair', 'bad hotel disappoint diamond member expect slightli room two doubl bed view distraught come ditto continent breakfast execut loung noth fatten pastri bagel cereal low level hampton inn free breakfast put shame loung open busi travel often need gone sit meager breakfast room wifi pain access somehow got stuck plan even though select basic plan get start night hampton inn offer free wifi full servic hilton tower seemingli final two bathroom per one hotel room unseemli wast space especi room meager gold plate bathroom fixtur scream pictur tube tv vs flat panel overal huge disappoint conrad asham', 'refresh chang ordinari love locat servic amen offer hotel room charm window seat water view decor uniqu cheer free wireless internet servic plu staff help attent love goldfish share room would definit stay', 'servic reason well seem reserv check fairli easili locat fine central citi found also tremend drawback interest survey took hotel order obtain internet access hotel ask import qualiti hotel visit respons quiet visit anyth mainli attribut fact put second floor face street awok never return sleep constant street nois screech l train sound though outsid window conduc rest sleep prior import meet check inform hotel clerk dissatisf chuckl said ah citi nois', 'stay jame time go hotel chicago last trip make think time start look option good locat awesom michigan ave trader joe street healthier snack great locat easi walk anywher door staff friendli help overal feel modern upbeat turn servic cooki nice free wifi work vari degre throughout stay bad claim star hotel mean better star onlin star without pool use kiehl toiletri harmoni brand addit larg bottl attach wall get share guest stay room would expect holiday inn gym star hotel ask switch mainli book still kiehl websit descript claim reason went commun bottl rout green hard believ like hotel make effort green still incandesc light bulb housekeep leav light radio turn recycl room etc obvious tri cut cost show room need updat look somewhat tire third floor room quit loud motorcycl tri prove manhood front fault take stair stairwel straight horror movi even though wait one two elev might awhil phone staff fairli rude grant like question toiletri chang feel bad give low rate realli come close expect previou stay start tri new hotel area', 'hotel belong leagu peninsula four season ritz carlton like stay overpr w hotel staff nice attent lobbi cramp two small elev floor sever time elev full time reach floor forc take stair hotel must flood travel websit high review', 'visit busi day confer chicago hotel book solid full hotel allow meet wide array custom everyon complain servic cleanli overal experi locat good hotel tire employe surli mani cool properti choos town never stay think hilton gener', 'excel hotel room servic great great valu place good nearli twice price good locat close l short walk rental car servic restaur area bit disappoint shop great area recommend great theatr restaur museum shop', 'never experienc terribl servic like especi highli rate hotel book hotel room parent anniversari weekend stop earlier week charg room put card gift parent arriv told front desk staff new complet charg correctli parent charg anniversari trip addit father request non smoke room stay reassur time room non smoke parent got room reek smoke ashtray match desk tabletop father cale front desk ask guy front desk ask dad want come remov ashtray match someth would clearli resolv fact put smoke room reassur time room non smoke never', 'expect glamor room walk disappoint housekeep manag must concern attent detail hotel like stay somewher air room go past closet wide old dirti brass fixtur bed littl bigger twin showerhead bare put water hotel might spoil stay marriott stay hotel year severli disappiont free breakfast room chang get stay', 'parent book five night jame locat good review terribl first night defect air condit much sympathi manag staff sent engin three time repair unit insist get cooler rational summer temperatur high filter dirti parent request hotel staff move lower floor queen instead king neither rate discount effort compens inconveni discomfort hotel insist fulli book reluctantli gave room book hotel summer way view room except window build', 'octob rd wife stay sofitel toward end septemb hotel modern room immacul furitur look though came ikea chip mani place light switch difficult find hvac made nois howev bed wonder bathroom larg well maintain housekeep brought us mani towel want restaur small eat less hour restaur around corner call tempo want truli great breakfast tri peninsula hotel howev dine might want return sofitel prior check paid everyth full check ask leav credit card incident upon return home discov although credit card use sofitel author place reduc line credit took sever day remov card great locat reason valu privileg card allow check pm oppos afternoon', 'hotel impress upon enter staff friendli howev felt room date worn look air condit seem work well turn thought would eventu cool first night interrupt phone call one fax happen time time realiz air work fuss control kick next morn mention concierg issu phone think mention issu air appear work see site chicago sever hour hot look forward rest cool room go show room degre call mainteni come check determin unit need motor anoth hour get rest cool room go feel offer made us hotel also surpris wifi free servic stay hilton next trip chicago', 'week long stay hilton south michigan attend meet hotel eleg lobbi meet room loung hotel room could definit use updat would definit say price room room top notch car misplac valet park reserv mess hotel staff show repeatedli throughout week door item room servic new coffe pot laundri would stay properti much better place money close proxim michigan ave big hotel time felt like stay faulti tower', 'never write review felt import state hotel travel choic terribl servic lazi doormen bellmen concierg valet lack respect allow dog bark morn multipl complaint phantom charg room front dest checkout checkin pompu ice cake watch doormen stand watch father tri open door push stroller infant son doorman watch noth girlfriend young look young dress honesti make money treat like cheap poor kid dinner reserv spaiggia want order car pick us concierg exclaim know jean run shoe right mr blank assum dumb realiz star person restraunt wont allow tenni shoe young dissapoint nice look comfort bed great room servic contemporari younger crowd servic terribl', 'stay ritz carlton two week prior comparison sofitel come close deal ritz carlton put right stay two night get one free choos nicer option pro room servic quick minut top bathroom larg bathroom separ shower tub lobbi impress doormen top open door hail cab locat close train station mi ave con top sheet ask other confer confirm top sheet sleep duvet cover room small fan modern decor broken closet door bottom track bent last day husband remov closet door complet could get thing bare storag closet teeni tini anyway bigger tall locker top drawer nightstand open shower horribl water pressur clean staff replac shampoo soap etc call front desk deliv within min clean staff replac duvet cover three night realiz still notic stain made first night made sure leav save water card chang towel bed room end hall staff enter could heard door slam shut hour day charg wi fi chang set tv bright etc', 'recent return trip chicago husband babi anoth coupl babi room hotel quit nice neg experi front desk staff includ manag arriv took hour check request two room floor hotel staff confirm number time prior arriv arriv could accommod us offer noth us make eventu persist gave us half room one three night also ask concierg make us reserv brunch restaur would accommod adult two babi stroller got restaur reserv adult make special arrang fit babi also ask hotel make us appoint person shopper bloomingdal order us save time shop fill form advanc direct shopper arriv appoint bloomingdal advis us receiv applic moment pull togeth request complain manag hotel disappoint advis would send someth room compens someth never arriv make return visit hotel housekeep staff locat room quit nice experi neg', 'stay hotel dave matthew caravan tour would come home night rather dusti dirti outdoor concert closest friend use half bottl shampoo first night second night staff refresh bar soap shampoo inform front desk made apolog said would take care immedi got home night tini tini bar soap hand soap bath shower replac shampoo origin place nice display exact bottl shampoo full yeah hotel great locat navi pier michigan ave grant pro end rather stay hampton inn would recommend hotel anyon', 'stay jame hotel th birthday locat excel shop restaur also loud room horribl small doubl doubl size colleg dorm room plu complet white wall linen absolut color except one accent pillow steril uninvit th floor lobbi elev dark done red balck minim light look like entranc hell haunt hous staff nice accomod would return hotel', 'locat ideal high ceil room appear much larger view great fresh flower bathroom white bed feel like princess', 'ate prime hous restaur last year pick hotel last year food servic prime hous outstand year servic felt rush waitress even ask eat earli pm room hotel felt cramp bed comfort bathroom mainten problem maid servic turndown night good staff hotel friendli help impress qualiti hotel pay', 'degre heat chicago summer suck air condition work mainten men attempt rectifi issu offer portabl fan low speed sound helicopt hoover room request room chang polit unsympathet night front desk attend state possibl hotel capac mayb manag could help morn next day went call receiv pm call front desk one awar problem approxim minut later manag return call state doubl room avail accept glee anyth better room cool degre middl summer parit correct bathroom door new room close thank god boyfriend past shi part relationship room believ first guest complain air condition unfortun continu place guest room offer reufund perk sleepless night sauna hotel need major overhaul', 'stay octob pull cover bed small dark brown insect size grain rice either bed bug cockroach trap glass see attach pictur call front desk houseclean person claim cockroach absolut horribl servic hotel manag respond problem fail follow promis made set asid bug problem caution window quit thin could hear lot street nois made hard night sleep mention worri insect even chang room night tax strongli encourag check altern', 'check sofitel chicago water tower day left hotel cross street start walk eb chestnut look cab still within sight sofitel doorman sight cab approxim one block away attempt hail immedi heard sofitel doorman yell stop heard sound whistl cab slow pick doorman continu yell blow whistl start run direct cab stop quickli enter cab lock door fear physic attack sofitel doorman lock door doorman attempt open door continu accost outsid cab claim hotel custom wait cab suggest right hail cab vicin hotel call jerk allow cab driver depart destin consequ unless enjoy accost hotel doormen pleas attempt hail cab anywher near hotel circumst without first secur permiss doorman lastli rest stay enjoy hotel seek highli pretenti staff prefer speak guest french instead english noth french french languag much prefer commun english visit one best citi best countri world viva la usa', 'valet lexu return smash side mirror admit fault pay fix prove broken hotel wonder room new nice never stay sure inspect car leav', 'stay hotel monaco upgrad suit disappoint room layout shabbi furnitur bump coffe tabl top crash ground make mirror bathroom didnt work tv recept poor overal room wasnt worth spent next time go back trump tower street far superior hotel monaco', 'stay take peac know reserv month ago book room wed night less week fianc call last week confirm room everyth great today call bump us anoth hotel upgrad discount appar problem manag manag convent schedul even want stay anoth kimpton hotel find reserv system reliabl unfortun due confer place stay', 'non smoke room smell badli stale cigarett smoke allow chang room also concierg staff unprofession tell long wind person stori uninterest guest long line form locat great hotel date would still nice place stay custom servic issu', 'stay hilton chicago last week disappoint highlight stay wait minut bellman come get luggag final year old mother year old son gave drag valet park easi task secur guard kind enough hold door valet park attend look ignor us far could tell stand noth let go bag without everyth fall gave son park receipt attend point car park short distanc away year old tell pull asham less signific irrit issu pool part hilton athlet club two lane reserv adult want lap swim basic two adult take rd pool everyon els consign leftov rd ridicul famili unfriendli addit pool close p pool close stay night one singl addit bar soap bottl shampoo coffe stirrer', 'would recommend hotel although good area room small get rather date room extens damag paint bathroom ceil peel wallpap bathroom peel wood work bathroom look like chew mold stain bathroom tile room small room sofa small fade chair ottoman carpet stain also bed comfort top sheet bottom sheet comfort overal satisfi hotel price charg stay hotel area provid much space cleanli valu money paid', 'reserv room adult kid got room arriv corner room extra room night cold abl chang c even though switch went cool strang night loud street morn upload someth infront window stood vertic bed need spend night hotel came year ago better mind area good walk distanc famou shop place good clean fanci sorri next time look quiet hotel chicago', 'law book one night stay new year eve two us stay jame brief thing wrong stay prevent us return advis friend stay shoddi construct room fixtur ceil light miss leav fist size hole wire expos towel rack fell wall without touch bathroom door often came slide mechan gentl use report problem employe simpli put towel rack back wall without properli adher wall upon check record law pay stay though note reserv made us pay gift law extrem upset wrote letter manag manag avail speak us left receiv adequ apolog', 'dislik sofitel much chang week stay grand hyatt first night check suit blast smell bodi odor immedi tire flight went downstair chang room second suit smell bad stay anyway dislik hotel lobbi staff decor especi bed horribl soft flimsi mattress come chicago frequent alway stay grand hyatt never disappoint thought tri place new never back hyatt four season go', 'first stay hotel expect good thing base review reason kept disappoint everi turn noisi room th floor could get room cool stifl warn water mini bar vend machin noth get room might well prison coffe morn start wait day guess conveni workout facil pretti small smallest treadmil could get broken guess cooler water oh stock one day noth way set expect fail deliv towel one day next day essenti forc sign loyalti program avoid riducul charg wireless go door starbuck free fire market moron came approach stay much better less come back', 'wed ceremoni recept sofitel seem though experi judi l read review thought exactli happen happen good news actual event great notabl food absolut incred think everi one guest rave us food goe cake made take cake servic waiter staff also good bad news michel director cater honestli made wed plan process nightmar negoti contract promptli respond email phone call contract sign constant struggl get touch get question answer schedul tast etc frequent took week respond simpl email occasion never return email phone call call second third time assum thing would get better within month even week prior wed actual got even wors michel could get togeth wed coordin assist forc final get thing right know would happen thu michel inabl job would great experi think back experi sofitel unfortun neg thought incred disappoint consid major part best night life', 'stay actual compel write review fall asleep front desk staff brief one chat friend gossip check unprofession room offer high floor th ha check big bag grape left behind previou guest window sill previou guest hair bathtub done call clean room made offer compens upgrad even bottl wine front desk clerk suggest come get key anoth room like time disappoint like kimpton hotel kimpton touch member btw done away amen get free item mini bar', 'reserv rock star suit boyfriend birthday month month advanc arriv hotel monaco told us doubl book room mani email hotel inquir room avail tri make provid us room wonder view river give us ten dollar gift certif restur even use felt taken advantag young doorman make us feel better told us first time rock star suit howev conceirg incred provid us bottl champagn birthday deliv birthday cake order room confus would wonder stay', 'stay chicago time busi first stay chicago hilton pretti much stay hilton properti stay ton hawaii way budapest hilton par clean front desk staff nice chicago drake doubletre guest suit even hilton garden inn superior chicago hilton less expens compar hilton properti chicago room well appoint bathroom room smaller nice tv tini hallway execut floor noisi night long breakfast get like hampton inn star hotel go chicago like hilton brand hotel far better place', 'actual stay hotel yet alreadi disappoint custom servic visit chicago quit often usual stay intercontinent yesterday read onlin articl advertis jame hotel cyber monday special promo state buy gift certif websit hotel match amount jame credit use toward stay none articl gave expir date credit next trip chicago april thought give jame tri travel frequent pet heard liber pet polici today went onlin bought certif one track mind somehow miss part credit expir march realiz mistak immedi call hotel front desk explain predica said chicago april oversea busi ask could extend credit extra month refund gift certif purchas made purchas minut even reciev email confirm yet busi offer hr grace period girl front dest extrem rude basic say bad problem even bother act polit pretend sympathet situat know kind servic expect jame might call wash stay usual hotel tri hotel monaco hear great servic good pet', 'enjoy hotel monaco great locat walk beauti room staff friendli especi enjoy wine recept get meet guest definit stay', 'return jame hotel stay park hyatt stay chicago hotel pennisula four season ritz fairmont etc heard littl jame primehous jame paid room jame mention hotel disappoit room stay doubl bed toilet broke overflow tub didnt drain shower huge bathroom door heavi close broke sever time closet door curtain close drawer space cloth room small non descript much like stay ikea without color window outsid terribl dirti elev dirti small staff howev top notch except help friendli room huge plasma tv nice way hotel star yet room rate close night way line paid mention hotel rate half', 'stay hilton chicago attend confer hotel room suffici coffe maker bed hanger tv etc compliment end restaur rate outrag breakfast buffet use gym hr wifi unaccept pay per night thank good ice free server restaur bar surli well vers english rude comput monitor room silli turn random time night confer incred cold everybodi wear overcoat entir time despit complaint manag fridg room usabl store cold item ice bucket cabl channel flat suck soooo bore spend hour room pay much least provid full channel', 'hotel total overr ye locat awesom plenti nearbi hotel option custom servic lack thereof particularli disappoint pay anywher doormen yet none ever actual open door ladi even hand full housekeep staff figur prefer even left daili note explicitli state tip everi day ask newspap want morn room servic bring anyway state previous locat great locat howev make complet lack custom servic inattent staff would stay', 'read trip advisor review expect except stay impress overal concierg view hotel restur highlight bed although horribl nearli comfort mine home consid extrem fussi person travel busi although dress formalwear also dress felt bit pretenti better option money would gladli stay sutton place sheraton tower trump similar price better stay would ask trip advisor move rate chicago book', 'return night stay hotel request high floor quiet room neither request honor window well insul traffic car horn siren continu night long first night two drunk parti woke us hallway safe room work someon lock arriv one pictur tv remov leav screw stick wall light dim next imposs read small alcov stain bench read light watt room key card work return lobbi recod upon return room work stood tri final succeed help staff bathroom small fan steam cover mirror unless leav bathroom door open clear friday night one small cooki left room second guest suppos split inch diamet cooki sunday phone rang wakeup call request woken concierg know way get hare train gave us longer rout necessari stay much better hotel chicago quieter spaciou eleg worth money definit worth month way live washington dc use citi nois unaccept', 'love hotel trendi part chicago give much comfort feel downtown hotel room well appoint larg qualiti materi wonder without except unfortun servic averag everi way fail deliv laundri import assur deadlin valet deliv car ask twice concierg gave us miser direct got us lost front desk unabl rectifi issu amaz much incompet could happen hour even recogn shortcom one sincer signific apolog poster child bad servic cannot overcom well built well furnish hotel', 'go internet retail last minut hotel left avail shuttl servic first read review know got rip night pricelin folk snipe room albiet got free wifi hotel nice get nice oldi matter much money dump shower head realli low water pressur low decent part town hype bar close check review yelp reason end two doubl bed ask time travel travel make sure get better deal confirm exact need reserv phone person super high hope room neither par busi class although nd floor call execut floor good fit romant coupl wasnt even spaciou enough last minut get away sp tri save money', 'surpris fact extra sheet blanket make hide bed call desk ask said maid could come set bed husband ill want bed set disturb un move bring sheet end sleep mattress bath towel anoth bath towel blanket could given set sheet blanket pay much night sleep bare mattress serious lack concern custom', 'wife brought daughter downtown blowout american girl weekend chose monaco glow review arriv late mayb put second stringer felt unwelcom desk staff like intrus never understand hospit busi inhospit get picki recept desk cleverli design look like vintag loui vuitton trunk need mainten repeat hm initi peel look like use rub down silk screen durabl got room found maid ratti work shoe foot bed yuck still tri figur scenario ash rule spontan combust also disappoint daughter much advertis goldfish mia bellhop apolog shoe explain take away fish turn bed ok said think proper respons hotel like would bring stink c fish make tire year old happi side room nice top decor daughter love like live said bed comfort wife want brand bathroom nice appoint qualiti materi good strong shower except cheap fall apart use toilet paper come kimpton much decent roll cost view toward river great tri get one daughter love upholst wide ledg window close curtain club hous watch world go high citi short nice hotel desk staff night could nicer cost anyth would made maid shoe', 'disappoint stay chicago monoco stay mani time elsewher primarili washington dc accustom great custom servic beverag like water soda wine bar coffe paper morn help bag chicago monoco none thing staff help either request honor staff seem happi got feel bother peopl ask question bellman doorman open door help bag even though travel child request fish bring realli baffl love monoco washington', 'overal decent properti incid hotel like none histori travel recent stay hotel monaco five night check monday march th shortli leav hotel retriev car valet partner notic larg scrape bumper car present upon check request use car durat stay call hotel approxim two hour check direct speak garag manag park one valet compani state would review video car call back within hour verifi car unblemish upon arriv scrape upon departur garag garag manag mike yunan call back email exchang gener manag hotel marco scherer final got back garag manag state would file incid report claim insur compani travel would eventu deni claim garag staff admit fault liabil suppli video state car enter exit garag could verifi damag present upon check check insur repres even told garag surveil locat contradict garag manag end kimpton intouch guest got stuck bill park kimpton properti paint scrape top per day park fee rental car expens sever hour lost time deal issu one gigant headach end trust valet staff hotel take busi elsewher possibl', 'stay enthusiast posit review trip advisor yelp might one million experi serv hairi salad long black hair held lettuc leaf hostag consid guest room tini could submerg thigh much less bodi tub obes dexter endur broken air condition day repair experienc delight inexplic broken toilet fix day posit note tea room servic tast delici employe abund friendli locat great easi get taxi futur would reluctantli stay busi would stay pleasur think someth travel much would appreci hotel season travel would friend said today oh sofitel hilton franc agre', 'stay hotel busi trip conduct busi meet hotel bar custom grab cash wallet secur inform told wait talk twenti minut wait inform continu wait l would never abl report incid despit fact hotel guest unfortun go busi dinner could longer wait long stori short longer felt comfort hotel wish someon anyon would talk sinc phone manag promis call back research incid yet hear back despit promis would call back two day ago expect hotel', 'sister best friend went stay summer said spaciou suit yeah right room could bare walk said there doubl bed yeah well one pull couch bathroom tini tini tini took forev day check peopl blame us throw book window somehow someon knew exactli fell room yeah wouldnt stay', 'stay delux king suit desk work sit eat room servic meal tabl coffe tabl height couch strang futon lower coffe tabl cant forward incred uncomfort sit ridicul room servic meal work comput sinc room configur like delux king suit depict line photo assum design flaw couch futon run throughout properti bed fine bath fine imagin busi travel would rate properti well couch futon seat worst encount modern hotel', 'attend wed chicago sofitel new hum modern w hotel style minimalist great locat howev miss basic less trendi hotel check pm room readi gave key maid still room make wait hallway weekend came back nap pm vacat room still made housekeep line never answer call front desk get someon make room also call housekeep new hairdryer never brought one gave hot youth hotel next visit think prefer classic amen like time housekeep somewhat larger room walk around less trendi hot loud clientel', 'get room promis kind room reserv queen avail squeez adult ladi singl blow bed pile furnitur top tabl get unsatisfactori return recommend tell peopl go chicago stay hotel next visit pari nextspr intend stop world headquart tell think chicago facil', 'first sever day prior stay call spoke length concierg made breakfast order room servic saturday sunday saturday bring breakfast call room servic state never got advanc order concierg final bring brought wrong thing brought wrong order sunday inconvenienc room dine staff order room servic saturday night food limp uninspir order soup arriv without spoon call room dine request spoon told one would forthcom minut later waiter arriv menu explain alreadi food need menu need spoon audac argu respect request return spoon agre anoth minut one bowl cold soup later decid call room dine back request send someon spoon argu express alreadi sent someon spoon explain receiv menu request spoon forthcom anoth minut later spoon final arriv thank charg could argu cold flavorless food addit gross custom servic surli attitud sorri food found room woefulli lack reek exhaust fume much saturday night woke smell specif request book reserv keep away elev right next elev displeasur listen ding night long guest came went', 'central locat loop directli south th day adventist church room look upon wacker drive aforement church chicago river small room virtual storag space attend confer monaco venu provid adequ servic problem first time spent kimpton hotel regist frequent stay program never felt comfort hotel yr old appear clientel target half age rude front deskperson unidentifi gender young peopl stay marriott michigan ave next time', 'check hotel rm next day woke bed bug bite numer arm back report manag assig us rm promis get room inspect taken care insist get cloth launder interestingli one manag secur guy came first complain even offer apolog inconvi miss coupl meet day next day call forgot someth previou room discov room alreadi assign next guest much report', 'gucci sunglass stolen bag th file report hotel secur anxiou hear back disappoint like hotel great time chicago room realli nice bathroom doubl bed comfort hideaway bed great view lake park hotel charg us check earli', 'eleg lobbi comfi bed nice sheet given fanci littl date room th floor view monstrou vent structur locat lobbi heard elev night hilton one charg internet access devic per hour stay middl ohio receiv total access free drink water tri breakfast buffet staff friendli cours tip smile give us cot free ask room fold couch parti use gym pool th floor look nice small pool view water possibl though right grant park tri view firework higher stori luck read', 'got spank deal hotel night good locat loop excel transport option abound gripe come fact obvious put crappi room overlook back build roof build next us toilet room bolt floor need stay loop someth knew go put undesir room would stay', 'husband confer book room thru websit call confirm us night instead easili chang first morn cold cold shower complain next day fine phone work call everi day complain everi day said would fix got back room never dial tone unabl call restaur call car call room servic final last night someon came room fix hotel beauti room great everyon nice even complain nice great gym area also love restaur money could easili find anoth hotel nice work phone', 'call edit exist reserv place hold minut final someon came phone said ill transfer put hold anoth minut final get speak someon go chang ask send revis copi reserv huf act put abl disconnect said one question repli work front desk custom wait thought custom pathet rude hotel better find better employe guest truli enjoy stay', 'stay chicago hilton host confer attend arriv tri find room fit program advertis corpor websit call reserv number client servic repres answer hotel fit center explain inquir room fit advertis websit put hold came back minut later told thing call properti directli got respons ask could reserv treadmil room problem arriv hotel treadmil avail went tour fit room first night found close pm return center next day discov charg per day use fit equip pool track locker room free use treadmil etc pay per day charg note anywher websit guest servic materi room food confer mediocr one room servic meal pretti good one confer lunch session wait staff made much nois hear speaker hvac work well room kept window open three night stay bed comfort nice linen tri get late checkout offer card room woman answer phone would give hour pm rang advertis room best servic receiv folk secur offic hotel safe guest room becam friendli secur offic lock laptop confer session everi time carri hotel visit chicago least year person travel continu stay marriott properti wish done visit', 'hotel definit match rate receptionist unhelp dishonest feel welcom book non smoke room upon arriv receptionist told non smoke room left cours lie argu minut reluctantli gave non smoke room checkout tri charg upgrad fee day request non smoke room complet ridicul go argu receptionist agre take away charg room quit small tv broken call someon fix tv wireless network ban ip address talk tech support tech support quit friendli knowledg help guess bright point stay', 'sister stay nd floor refriger hallway first three night beat old dorm style told concierg go post pictur took tripadvisor thing get remov breakfast dish left outsid room stay floor day two routin night chime make nois suppos comformt relax rather annoy wifi matter tell paid wifi still unabl get lastli sister split bill alreadi paid first night form deposit gave credit room cost citi tax etc night know comfort inn block away significantli cheaper view wonder worth money', 'hype price fact complimentari wine recept everi night doesnt take away fact terribl bed place isnt clean star hotel hallway smell like dog parlor carpet room look like clean well ever decor pillow bed filthi actual stain brown look like sit outsid everyon use put back bed decor hotel nice eclect wasnt enough convinc ever stay bed uncomfort thing everi tri sleep couldnt sleep whole week stay hard lumpi pillow tini final say price holiday inn', 'recent stay chicago triathlon third stay hotel issu visit rd day stay request room servic return thought clean room get bed cut piec glass carpet must first person cut room found dri blood bathroom floor notic disgust notifi staff ask room vacuum bathroom mop return room pm find dri blood still floor make complaint custom servic gotten repli hotel consid price point downtown hotel would think would tri live star rate instead fail miser luckili mani hotel choos downtown chicago', 'gorgeou hotel outsid lobbi howev reach elev thing start look quit dingi bathroom room grout need deep scrub overal appear dirti wireless internet avail addit fee kid even roach motel offer wireless free also fit room avail per day wow thought room rate enough cover use coffe suppli room replenish call next morn request told housekeep area would send kid nearli minut later got cream sugar glad big hurri definit stay next door half cost lot better accommod next time chicago', 'disapoint servic qualiti hotel travel quit frequent chicago never happen star hotel reserv king bed checkin inform king basic offer type compens upgrad arriv room air condition door open rattl night tv work call servic follow day return work pm found room even servic stay somewher els', 'jame consid eleg chic establish lost luster small room fill cheap ikea type furnish tini bathroom flood water escap shower curtain shower flush neighbor room sound like protect levi collaps small elev could handl guest mani us forc walk sever flight stair rather wait extend period time thin window could contain street nois sidewalk convers heard throughout night rather provoc listen coupl next door carous also rather tacki unsettl took minut valet bring car check hotel lost jame sysndic difficult time compet new york soho tri open septemb new yorker toler shabbi incompet', 'first let say front offic peopl hotel monaco wonder locat hotel hope problem furnish quit rundown housekeep help book suit sofa bed chair coffe tabl live room area hard use attach pictur see consider gap sofa lack pillow comfort chair bottom broken invit one assist manag view furnitur slight adjust made rate housekeep order room coffe servic kimpton web site say specif request time housekeep leav us coffe call front desk everi day housekeep neglect fish next last day found float dead top fish bowl request water ad bowl notic go note disregard thing may matter plan spend week like might want comfort bedroom bathroom superior live room bad', 'disappoint stay chicago monoco stay mani time elsewher primarili washington dc accustom great custom servic beverag like water soda wine bar coffe paper morn help bag chicago monoco none thing staff help either request honor staff seem happi got feel bother peopl ask question bellman doorman open door help bag even though travel child request fish bring realli baffl love monoco washington', 'month prior night reserv hilton chicago request room allow lot natur light face open view close build reserv made confer travel agenc confirm request telephon day advanc directli hotel check clerk note record told would difficult find consult chart appear satisfi room assign surpris open door onto room insid one tower tuck dark corner face wall room call desk immedi told hotel sold hard tell room still avail suit request sit tight someon would call one call yield similar result one point told could parlor room sofa bed reduc rate could go see room commit move real hospit worri bad sofa bed could wors room cave end stay dread dark room ask bright room one bed got dark room two bed redeem featur room bathroom tight quarter tini closet two uncomfort low chair desk dark corner light fixtur much brighten thing sinc confer realli want bright environ wake earli start workday cheer offic mid day call e mail instead got cave consequ spent littl time possibl room next time chicago confer absolut stay anoth hotel much better locat hilton chicago look percentag insid tower room place much better chanc bright room well better custom servic shame chicago hilton', 'love brick wall alleyway view ask room face river get room face brick wall realli piss great review expect better came stay hyatt nyc awesom noth hotel blew away wine hour ok hope would someth better food guess wine hour order room servic one night realli anywher eat eat bed watch tv first time come chicago think last thoroughli disappoint', 'hotel monaco luxuri hotel situat heart chicago bloom histor eleg combin modern day amen pleasant experi stay facil perfectli set handl busi travel sight seer convent wed shopper offer top notch servic reserv wed plan even ask good local restaur notic world travel welcom employe abil speak foreign languag guest room offer stylish charm relax even unrelax room spa top notch room servic second none south water kitchen true downtown chicago restaur offer mid west american dish sever signatur cocktail know anytim visit chicago hotel monaco place', 'recent stay hotel monaco must say becom one favorit hotel windi citi past alway stay marriott hilton time thought go boutiqu hotel stay kimpton properti san francisco delight run monaco basic like friendli real peopl atmospher oppos corpor style place use work decent fit center treadmil normal use south water kitchen serv terrif meal even citi great restaur realli dug complimentari coffe high speed internet newspap get tire nickel dime corpor hotel like fact monaco offer bunch freebi especi like afternoon wine servic return monaco great altern', 'hotel never forget life hotel monaco chicago best staff also room also nice whether king delux room tranquil suit room luxori theme base suit one person even super size person like height special tall room day went fast stay becuas much morn would yoga yoga channel would go downstair drink one complimentari coffe read morn newspap go meet would get shoe shine complimentari shoeshin servic come back meet would go fit room workout fulli equip machin want leav hotel decid next time come chicago sure stay hotel monaco chicago', 'hilton chicago awesom room clean hotel staff profession one featur like room internet access wire wireless consid laptop wireless help alot food good qualiti great also flat screen room awesom hotel locaat middl alot restur fin din also enjoy gym much overal enjoy stay hilton return chicago', 'stay hilton chicago definet felt like vacat sleep big wonder bed felt like home accommod hotel beauti especi enjoy gym staff friendli help would reccommend hotel anyon look home away home', 'excel hotel heart chicago room stay great view lake michigan went juli vacat everyth easili acces hotel major attract around loop area also got great deal price would recommend hotel anyon visit chicago right spot busi pleasur', 'travel chicago husband romant weekend away stay sofitel chicago water tower could luxuri room anyth could ever want mini bar air condit also within walk distanc mani site fun restaur staff friendli bed like cloud overal experi worth everi penni', 'stay sofitel chicago water tower hotel husband two kid last weekend definit use hotel futur travel spaciou room modern innov furnitur comfort bed great contrast small dismal room rock hard bed found hotel chain bathroom neat tidi well stock towel person need toilet paper shampoo soap carpet clean stain dingi like hotel room decor astound view window wonder enjoy everi aspect hotel stay courteou staff check eas request room servic check thank make feel right home', 'hotel locat right hustl bustl citi chicago ideal corpor execut term locat hotel offer spectacular view ocean dine room spaciou make eat hotel realli pleasant experi dine guest experi nice ambianc overlook citi picturesqu especi night citi light come room nice spaciou allow guest get work done desk area would strongli recommend hotel corpor execut', 'satisfi stay sofitel chicago water tower servic excel staff help polit bed comfort room spaciou definit return hotel', 'absolut exquisit hotel great locat boast superb amen person trip realli enjoy close shop michigan ave hotel pleasant ambianc staff made feel welcom quickli respond request variou item front desk appreci homey well design interior view citi also nice good food dispos late night wander citi late night meal definit hotel choic return citi', 'stay monaco labor day weekend visit famili chicago one nicest hotel stay life clean comfort pretti room clean staff care need glass famili share drink front desk sent less minut recommend monaco anyon stay chicago area', 'fantast stay hotel beauti decor immacul clean chose place friend recommend plu close busi confer get resourc exemplari four star luxuri treatment downtown chicago charm sure tri rib south water kitchen next door best ever ever your mood unwind sampl even wine tast downstair take walk explor nightlif around great time stay anyplac els', 'beauti hotel great view chicago river short walk best place visit citi unbeliev pleasant relax stay room massag fantast room servic look vacat chicago want experi best citi offer well live luxuri comfort highli recommend hotel would definit come', 'husband satay two night hilton chicago enjoy everi minut bedroom immacul linnen soft also appreci free wifi could stay touch friend stay chicago bathroom quit spaciou love smell shampoo provid like hotel shampoo servic amaz absolut love beauti indoor pool would recommend stay anyon', 'walk hotel greet warm heartedli took inform effici manner got room quickli pleas see bed laid perfectli plenti towel bathroom also happi see shampoo soap provid suffici overal happi stay hotel', 'stay weekend visit friend town littl pricey definit worth staff super friendli pool clean well maintain even realli good veggi burger restaur downstair vegetarian plu paid room lake view gorgeou would definit recommend', 'hotel monaco chicago great hotel room nice great custom servic everi member staff extrem nice like pet friendli even tell allow pet clean prompt servic request food tasti book price reason well sinc four star hotel immacul definit stay next time visit chicago', 'chicago hilton great hotel stay fantast hotel place heart citi find easi walk everyth local colleg great restaur surround citi room clean staff fun help realli say anyth bad place great time great place stay', 'beauti hotel insid outsid room comfort clean hotel made experi visit citi even wonder highli recommend anyon', 'recent husband stay jame chicago night town take music check jame happili surpris custom appreci delici room servic room spotless suppli fresh towel everyth shower spa visit gym known accept pet beforehand would great environ famili lapdog stay jame chicago made night luxuri outing definit stop next time chicago', 'stay jame hotel chicago fantast hotel clean modern everyth hope staff fabul went beyond expect need met recommend hotel friend associ', 'best hotel excel locat stay sofitel chicago water tower husband kid came busi purpos year old kid jump bed realli enjoy atmospher room front desk peopl welcom staff friendli room servic also good room clean bathroom good like decor room french restaur sofitel good enjoy dine sure prefer stay sofitel next time travel chicago', 'stay hotel monaco chicago amaz staff polit well pois eager give help hand short notic someon like never even citi chicago realli gave good feel throughout whole trip room hallway facil except clean tidi whenver went would alway find room perfect night undwind one confer hit mattress sleep stay stop restuar one best american style meal overal hotel monaco place would sure stay given chanc visit chicago second time trueli except', 'jame hotel chicago far one best hotel famili ever pleasur stay room servic best area mention spa hotel die lobbi recept area contemporari great place take famili relax would recommend hotel anyon star', 'sofitel chicago water tower four star hotel minut away magnific mile navi peir museum contemperari art lake michigan upscal boutiqu hotel great tourest great room high end sweet modern diesighn rich arcitechusal legaci great food door din also great veiw drink wine champan cotail amaz bar overal hotel far best hotel ive stay', 'let prefac say absolut love stay hotel chose larg locat realli love walk much incred pleas situat citi coupl block away sever museum shop district husband mainli ventur food great option concierg great help origin book king guestroom upon arriv upgrad delux king guestroom front desk everyon remark friendli help someth look rememb go stay locat room amaz serious amaz chic love headboard bed one littl spot dust found bathroom gorgeou made full use two bathrob closet take anyth snack bar look delici dinner david burk primehous cannot recommend ny ribey highli fantast dessert brown butter corn cake tri replic dish ever sinc got home sad say get chanc tri treatment spa asha definit make point return visit jame chicago made trip chicago memor staff friendli hotel beauti food delici could want', 'recent stay sofitel chicago water tower hotel could pleas hotel sleek eleg lobbi modern stylish room room someth truli special huge soft bed luxuri sheet ever seen felt bathroom beauti cool marbl tile gorgeou glass marbl shower tub enough room crisp lcd tv display tv beauti clear way absolut amaz sound system final make room grand stair case need look dinner hotel restaur call cafe de architect like hotel meld modern sophist classic french techniqu wine list amaz price fantast hotel near magnific mile full dinner includ appet main cours dessert amaz look modern urban chic hotel chicago look sofitel chicago water tower hotel real choic', 'wonder time jame hotel busi chicago room modern tast well kept staff respons effici perfect place unwind work day also provid ideal atmospher work', 'great hotel went weekend wife wonder time hotel one cleanest well kept hotel stay beautiful locat michigan ave downtown chicago overlook grant park beautiful sceneri great staff wonderful food well would recomend hotel anyon look nice vacat go work', 'recent travel chicago busi terrif day night stay sofitel chicago water tower downtown locat perfect gave easi access michigan avenu confer center busi hotel room rather nice comfort king size bed cozi atmospher order room servic dinner came within minut quit pleas serv restaur locat downstair food extrem good realli enjoy go fight traffic find good place eat realli tire meet earlier day troubl go bed comfort mattress woke took shower bathroom definit standard qualiti hotel soap stuff usual plenti towel hand well shower head breakfast buffet restaur free hotel guest breakfast delici start day right busi stuff realli got enjoy chicago met friend came visit hotel quit impress well go back chicago definit stay sofitel', 'great hotel one nicest stay long time wife absolut thrill staff believ kimptonkid program site back next time stop town cannot think better place stay', 'need jame tell impress stay jame chicago hotel came town week long busi confer refer jame friend crisp clean contemporari ambianc made feel like relax vacat rather work luxuri without top room clean comfort standard comfort time enjoy relax massag spa happi hour jbar highli recommend dinner david burk primehous custom servic staff member front desk hous keep bartend excel plan return spring vist look forward anoth phenomen experi', 'went chicago made reserv hotel monaco chicago kimpton hotel decid stay tranquil suit amaz went famili us comfort space room servic great serv quickli cleaner clean quick anoth thing pet friendli thought cool mean could bring dog hotel amaz beuti', 'realli unexpect experi far hotel accommod go week vacat chicago heard sever recommend regard lodg jame chicago mention emphat expect experi comfort luxuri custom satisfact pleasantli surpris level innov forward think employ everi aspect hotel design breathtak modern clean stylish sexi reflect everywher lobbi shop restaur stun guest room famili felt energ smartli sleek environ impress everi turn sophist take hotel decor far tradit hotel experi like move chic exclus downtown apart truli upscal adventur modern luxuri live impress hotel overal approach guest use world resourc offer room recycl avail bicycl guest usag jame offer uniqu perspect place world gentli help guest assist maintain balanc eas eleg respect show area support artist organ chariti program merit well chicago centric packag compil guest make best stay whether weekend week longer jame chicago definit choic accommod whenev revisit chicago fact may visit sole stay jame', 'hilton hotel help us make trip chicago central locat near chi town hot spot also help coordin discount admiss variou attract hilton classi accommod return earliest conveni busi pleasur', 'hilton chicago one best hotel ever good fortun lodg entir life extrem luxiri hotel locat cultur michigan avenu mile overlook grant park lake michigan museum campu addit overlook wonder sight also locat conveni close chicago convent center mccormick place convent center well busi center shop theatr furthermor myriad attract close hotel millenium park buckingham park sear tower amen offer hilton chicago hotel includ wireless internet access guest room inch flat screen televis seren bed two line direct dial phone top hotel pet friendli definit stay', 'would like add comment mayb help other choos wed destin daughter marri may decid special event sofitel water tower amaz alway want ballroom type wed sofitel made happen took care invit cake decor much special day daughter worth everyth go chicago area check regret', 'want stay sleek modern hotel give amen conduct busi jame hotel chicago place superb clean line sophist welcom first sight follow spaciou room luxuri linen natur kiehl bodi shampoo lotion absolut love stay jame hotel downtown chicago bathroom rais sink luxuri amen would want absolut love natur wood feel mingl modern touch felt home clean modern atmospher definit would stay plan stay jame new york well', 'one best hotel ever went see schedul recept parti amaz architectur build interior design room massiv space provid room recommend hotel associ hold import busi meet jame club meet partak nice meal drink bring next point jame best food ever eaten jame privat club feel made elit upper class classi eleg custom servic outstand recommend hotel anyon need hold recept busi meet need day spa star way', 'beauti hotel chicago visit hotel honeymoon wife pet friendli even provid room spa servic would recommend hotel monaco look stay luxuri hotel chicago', 'enjoy stay jame chicago much hotel eleg uber modern room simpli exud class never stay nicer hotel honest hotel featur upscal restaur though within walk distanc mani great dine establish also full servic spa hotel surpris thing jame pet allow dog stay home cool also lot scale amen like valet park hour room servic hour concierg shoe shine servic laundri dri clean hotel locat right magnific mile locat absolut superb liter step away best dine shop world would recommend jame anyon busi look stay upscal luxuri jaunt chicago', 'got back monaco chicago pleasantli surpris husband book trip last minut getaway usual pick bad place haha anyway moment got doormen greet us warmli help get luggag situat busi line littl long move quickli ladi front desk gave us high floor request one good especi sinc seem near full room clean spaciou especi consid citi hotel made lot use concierg sinc last minut realli make plan gave us tip also gave us place go chicago pizza yummi also great near theater district basic thick everyth save cab fare thought coolest thing brought goldfish bowl room trendi husband easili impress realli excit free wine hour free drink afternoon overal realli nice stay four star probabl four half star hotel', 'travel anywher near lake michigan within next year less would highli recommend stay sofitel hotel unbeat eleg fine dine magnific view amen speak excel servic reason price assur get qualiti night rest thing star rate sofitel would sure visit stay noth short eleg comfort locat minut everyth downtown chicago one would hardli want leav fine dine danc even bar leav absolut relax meet social event town sofitel hotel leav want visit moment leav', 'chose stay hilton chicago central locat everyth famili want town locat close expect bed comfort rememb got better night sleep staff friendli hotel ground impecc kept return hilton chicago next time town', 'husband stay jame chicago hotel anniversari place fantast knew soon arriv made right choic room beauti staff attent wonder area hotel great sinc love shop ask definatli back chicago sure back jame chicago betsi louisvil ky', 'great hotel went see museum contemporari art great hotel beat room even hall beauti done great servic', 'hotel beauti modern luxuari feel locat wonder close magnific mile navi pier great place show children vacat option privat park made feel secur car valet nice help also take work everywher go wi fi hotel plu wide select packag includ anyth coupl want get away famili outing place great price due look hotel surpris afford nice place give feel queen king durat stay', 'sofitel water tower wonder place stay husband th anniversari weekend trip chicago got marri citi move away romant return love near sofitel everyth magnific mile outsid door could walk navi pier attract well chicago chang sofitel made feel like home except plush eleg version home stay junior suit great view citi room servic attent call champagn midnight day arriv night leav supper cocktail le bar enjoy talk done day great memori town us say new great memori thank sofitel water tower', 'hotel monaco simpli amaz travel quit bit use gener hotel horribl unimpress room star amen usual mean packet instant coffe room servic serv pm hotel monaco hand impress suit stay stylish cozi hotel person absolut favorit part stay asid amaz meal stair room spa treatment hotel monaco rais bar hotel gener anymor', 'stay superb view window stun look could see beauti grant park room nice airi feel also warm invit bed comfort wireless internet fast effect nice especi busi trip hotel walk distanc museum nice vaca overal thouroughli enjoy stay', 'stay hotel monaco recent fantast got reason price stay especi sinc aaa member plenti perk util room spa treatment even wine wine hour name anoth thing kid realli enjoy upon request staff brought us fish fishbowl room cool staff help friendli stay enjoy would definit recommend hotel monaco anyon downtown chicago area', 'frequent busi meet downtown chicago find hotel monaco chicago give peac mind make meet enjoy might expens averag hotel noth averag hotel exce expect servic food qualiti atmospher head anywher thank make trip chicago best best', 'experi hotel monaco wonder fiance stay two night tranquil suit absolut exquisit wonder room servic practic never leav room except go gym abl yoga trip yoga accessori room surpris hotel definit luxuri anyth need fiance said stay realli nice hotel idea walk door soon walk met charm atmospher luxuri decor admit cheesi may sound felt like queen weekend long time least one problem hotel stay say point complaint hotel monaco definit look forward stay next trip chicago', 'husband recent stay sofitel chicago water tower wed anniversari pleasant stay first moment walk overwhelm classi eleg lobbi casual mention anniversari came back dinner found champagn strawberri await us room staff profession friendli made us feel welcom room immacul furnish plush realli want go home room servic prompt view spectacular definit go make visit yearli repeat', 'hotel gorgeou realli enjoy stay definit return futur staff friendli room clean comfort well decor restaur room servic also except food delici room servic prompt hotel also great locat close everyth anyon may need shop food attract', 'stay jame late last august exceed expect husband chicago busi trip tag time away day day life enter hotel greet acknowledg minut walk door staff member front desk extrem friendli met need time manner patient answer question lobbi clean ambianc impress room also clean could found better room two night peac quiet bed comfort bed type could slip drift awhil sinc stay hotel comfort scratchi thin husband actual comment seen sleep soundli month bathroom also impress water pressur someth mess get perfect heater took time warm even though brought shampoo condition give amen bathroom tri like everyth els exceed expect get chanc check confer room howev husband noth great thing say qualiti facil truli enjoy locat ambianc hotel ever chicago area definit stay hotel met need relax busi pleasur', 'last week stay hilton chicago day night pleas experi soon approach front desk knew right away staff friendli courteou given list local attract museum scienc industri broadcast museum ford center perform art willi tower stay junior suit includ king size bed inch televis non allergen feather pillow varieti amen indoor pool rather larg well gym includ countless treadmil even jog track eat area problem hilton chicago home kitti shea restaur offer authent irish fare conclus wonder time stay wait plan return trip hilton chicago', 'wife stay last weekend honeymoon wonder hotel beauti insid pleas room restur amaz staff nice polit help us need wish could live place togeth one best weekend live plan come back great hotel', 'often travel busi alway tri stay jame modern design lobbi restaur wood glass creat luxuri atmospher streamlin comfort room design give upscal aesthet like penthous loft apart avail comput coffe jame busi center mean lug laptop around hotel jame provid perfect set busi travel cozi place retir even eas breakfast servic room mean stress rush time valuabl love jame', 'husband stay hilton chicago nice stay room larg comfort view lake michigan room gorgeou room servic realli good quick eat room look view awesom pool realli nice didnt get chanc use great locat downtown chicago attract theater museum friendli staff knowledg cant go wrong stay', 'hotel great love interior design room custom servic excel gym spa gorgeou need go chicago hotel would best choic also check websit special offer found great deal', 'hilton chicago amaz close everyth chicago offer could walk lake michigan grant park niketown watertow place etc room nice refresh everi day also allow pet go far get good food differ restaur right overal experi', 'upon enter hotel monaco chicago could see beauti classic eleg build old fashion furnish wonder view polish wood decor entor hotel first skeptic doubt carri hotel gone enter room fresh flower amaz chicago view greet stay enjoy free time loung pool wind everi night comfort massag would recommend hotel pure eleg wonder custom servic fantast amen', 'think sofitel chicago water tower upscal place wed best best staff help made feel confid wed would success chef prepar lavish sit dinner appet dessert also wonder pastri chef bake wed cake tabl decor good tast could perfect bar also set way want even champagn fountain guest wonder experi stay hotel felt pamper room like suit mini bar terri cloth bathrob bathroom look wed chicago area look disappoint', 'jame chicago hotel locat right heart one downtown chicago wonder hotel mani classi earth boutiqu view breath take hotel warm feel hotel staff excel hotel situat right magnific mile minut away world famou shop dine fun age jame modern luxuri jame defin hotel would recommend go back year come', 'stay hilton chicago cousin wed servic impecc staff attent respect care interrupt guest make known serv dinner chicken wellington die chicken perfect moist pastri crust flaki crispi even pakistani dinner option guest amen great open bar night mimosa brunch buffet better would love wed', 'first trip chicago fianc stay night anniversari pleasantli surpris hotel servic receiv personnel past luxuri hotel paid much receiv much less room spaciou comfort sleek spent come time hotel bar le bar enjoy specialti martini second none also enjoy dinner hotel cafe de architect receiv servic best servic quit time travel lover recommend air romanc packag best star', 'stay sofitel great love locat moment arriv experinc great attend help front desk thought room eleg clean well comfort room servic excllent friendli checkout breez couldnt ask anyth hotel stay', 'wife recent stay hilton chicago vacat recommend enough hotel locat right michigan avenu downtown chicago right next ton great restaur store room spaciou eleg modern stylish without crazi garish especi like big flat screen tv comfi bed sleep hotel room often far relax problem fall asleep highli recommend hilton chicago definit stay', 'heard friend talk hotel monaco chicago doubt first howev arriv amaz locat near mani shop place museum theatr mani other place town visit old famili friend plan stay room long howev room still amazingli clean well kept entir day stay fell asleep quick bed woke readi anoth day staff place amaz even got good direct sadli didnt know area well plan meet peopl one day spend day room recov long night room servic best ever hotel highli impress hotel good room good servic abl great time friend famili bring place nearbi head back hotel mani time', 'stay sever differ hotel chicago jame best everyth need walk distanc find conveni stay staff concierg desk polit offer assist willingli room alway clean bed linen better nice sheet bed thank search around somewher stay travel found favorit', 'famili chose stay chicago hilton last trip citi want someth luxuri central locat without pay exorbit price honestli say made excel decis pick hilton staff treat us well room clean roomi love seren bed hotel stun like step back time love chicago hilton close numer attract weather love great walk navi pier sear tower adler planetarium definit stay hilton next time chicago', 'stay hilton chicago pleasur arriv departur staff super friendli help room clean locat fantast walk track especi nice touch highli recommend', 'downtown chicago hilton best combin thing look hotel perfect locat us like shop us prefer tourist attract stay hilton mean essenti never concern alway room clean impecc neat staff friendli capabl wireless access big flat screen tv ad plu best pet friendli hotel someth unusu bigger citi diamond hotel thank chicago hilton great stay', 'made chicago wonder stay room gorgeou came littl hand delux room suppli everyth need even ask thank much back tidi room well', 'stay jame one bedroom apart two week chicago visit daughter pre arriv assist incred help acquir necess forgot pack left room later week treat asha massag lengthi list delici spa servic afterward smell wonder relax year room clean modern yet warm comfort dark wood tone lush bed certainli stay futur', 'ask better home base check downtown chicago hotel sofitel right heart action allow friend hit club enjoy local cuisin downtown famou room comfi two queen mattress stuf duvet chic decor bar downstair bit pricey made comfort sleek staf attent bartend made excel cocktail one night feel like go head downstair eat cafe de architect amaz array choic mostli french persuas would definit book', 'wife recent stay hotel fun anniversari weekend away kid upon check pleasantli surpris decor locat mani downtown attract attent staff season travel busi consid somewhat savvi come servic accommod hotel certainli deliv account wife intend eat hotel restaur review menu thought would give tri wow servic outstand food amaz truli enjoy dine experi would hesit recommend hotel anyon meet', 'decid stay jame last weekend kid reserv famili adventur paul frank special offer hotel entic visitor see local museum aquarium end receiv chicago citi pass ultim paid ticket chicago children museum kid ball end day milk cooki turn servic special pair pajama daughter ador great weekend kid focu adult certainli forgotten sinc great breakfast room next morn', 'husband snag great deal weekend trip chicago decid recommend friend stay palmer hous hilton word use describ amaz walk lobbi feel like step back time simpli breath take sure check ceil never seen one beauti outsid europ check without issu assign love room comfort bed encount hotel everyth walk distanc palmer hous hope find better locat explor downtown chicago everyth perfect stay would stay anywher els chicago', 'inter continent great hotel staff friendli accomid great room clean readi time indoor swim pool perfect consid chicago weather eno simpli amaz wine select second none turkey pumpkin curri zest die', 'great place stay visit chicago husband went holiday see famili stay hotel could ask nicer peopl everyon alway smile helpful usual stay ramada never stay anywher intercontinent chicago hotel casey l skinner', 'hotel absolut beauti eleg comfort relax stay easi get airport close shop felt like king castl surround luxuri beauti would recommend hotel anyon', 'husband recent chose palmer hous hilton rare coupl getaway usual life escap truli provid someth said modern amen combin aesthet drawn grander luxuri time let ever elus access wheelchair user bonu need feel like must lug half usual household us thing like alarm clock hairdryer iron board alreadi electron media even avail rent comfort bed control room felt need search elsewher coffe excel room servic beck call remind plan leav room take advantag chicago cultur close proxim often hotel overpr way get make bed morn hilton true vacat thank', 'amalfi hotel chicago wonder hotel opportun stay busi wish could stay longer staff nice help realli treat like vip help question might room beauti decor wish could hire design home room access person dvd cd collect say room even leav order someth televis nice shower aveda product get microfib robe slipper suppli stay night also abl use laptop room sinc wifi throughout hotel bed comfort everyth clean morn treat great complimentari breakfast order massag ye order came room even leav comfi hotel far best stay travel lot busi would know alway high expect stay hotel pleas say expect far exceed recommend hotel everyon know stay chicago area definit back make reserv longer stay time want leav would rate hotel star', 'hotel made royalti deck top luxuri could dream amaz experi locat right middl everyth chicago pull best attribut citi one fun fill experi custom servic fantast respons polit request fix complaint without complaint beauti experi would certainli', 'travel chicago need place stay highli recommend hotel allegro chicago visit time visit chicago first time busi trip friend refer hotel allegro said pet friendli huge plu hate leav kitten muffin pet sitter everi time travel busi upon arriv met friendli valet treat like custom matter walk saw hotel like seen lobbi decor modern furnitur paint look like place could relax enter check saw staircas look like testament staircas titan frankli amaz even enter room yet room queen delux room amaz bed blue headboard never seen color work togeth well serious contempl live room servic except promptli brought food order later want get drink enjoy bar conveni locat adjac hotel specif stay much experienc mention visit hotel allegro summari allow pet servic amaz decor superb conveni situat next dine establish could person ask', 'friend visit amalfi hotel last week chicago found great place sophist luxuri lot attent detail decor wonder custom servic bed comfort room servic great gym fulli enjoy view hotel room beauti night citi scape morn free continent breakfast delici wonder experi amalfi hotel chicago eager visit', 'top class treatment choos hotel allegro year buis travel vacat never happi servic hotel hotel allegro search mani hotel websit look perfect hotel spend honeymoon hotel allegro seem like right choic soon walk elabor lobbi area like big shot wallstreet servic excel best part allow anim treat littl dog johnni like royalti everyth could ever need hotel room spa servic workout center even made sure drink amentit readi monday night bear game give rate id give mani time highli recommend hotel allegro chicago illinoi back', 'last month husband stay intercontinent chicago town imt although busi servic excel profession staff alway smile happi help intercontinent conveni locat near michigan avenu best store restaur town view room great room alway clean arriv home night decor nice bed extrem comfort ate hotel restaur zest food great far one best hotel visit definit back', 'night ago stay hotel allegro theater district chicago heard amaz thing great food friendli staff upon arriv servic front desk bellman fantast treat stay time room cozi comfort bed help sleep jet lag order breakfast next morn room servic bring meal brought minut order delici would recommend accommod anyon travel famili stay chicago room reason price short distanc lot great site next time come chicago definit stay', 'admit littl leeri visit chicago due mild agoraphobia famili member reserv room hotel allegro chicago fear slightli assuag friend mine stay hotel noth posit thing say new found optim mind went forward journey confid say let moment step lobbi felt home concierg call bellboy move luggag taxi room check process fast effici room incred homey feel less like hotel room like guest room millionair mansion high comfort level coupl prompt servic request item extra pillow towel realli help allevi apprehens stay chicago provid secur place stay night whenev feel like particip group cours room second overal feel hotel found spend less downtim room wander around build overal cozi certain old world feel lend feel less like hotel like mansion time never overwhelmingli crowd peopl encount incred friendli yet intrus usual enjoy stay hotel love allegro chicago', 'amaz swept away walk hotel gorgeou staff nice help hotel clean food delici stay two night first night went lockwood restaur blown away food best food chicago atmospher classi warm wait staff precis decor room look like hotel eleg invit cannot wait go back true escap daili life', 'return relax stay intercontinent chicago say servic phenomen maid concierg everyon staff treat us like royalti quit treat feel special room gorgeou view citi breathtak luxuri mattress bed made comfort peac slumber found marbl bathroom stun impecc clean wife pleas light make mirror enjoy reliabl wi fi connect stay din zest wow offer extens wine menu full array gourmet food option tri famou wiener schnitzel scrumptiou wife share chocol lava cake say oh cake die realli best ever morn spent time work dinner junior olymp swim pool follow exhilar round cardio hotel dedic cardio room trip sauna well deserv refug overal stay intercontinent chicago noth short fabul luxuri hotel complet finest amen care staff look forward stay intercontinent hope soon', 'visit chicago christen fianc impress hotel moment check lobbi except modern color furnish front desk staff pleasant help especi susan quickli suggest reserv tabl us keefer steakhous late dinner room fabul extrem comfort king size bed dual head shower breathtakingli beauti view citi ask great night sleep awok great free breakfast right outsid room next enjoy coupl massag treat facial fianc took short run citi day full shop retir room order room servic time delici unfortun check next day could stay forev fulli recommend amalfi hotel chicago everyon interest superior stay truli beauti well appoint hotel', 'recent travel chicago busi treat stay intercontinent chicago employ truli say someth compani will go extra mile make time away famili friend comfort relax possibl greet seri smile face employ hotel eager help check amazingli lavish lobbi escort hotel staff assist bag room room drip tast stylish room made accommod amen offer mini bar larg flat screen televis entir home offic setup bare leav room would want amaz view lake entir citi amaz experi gladli come back', 'hotel allegro chicago beauti place origin dread chicago due fact busi play soon saw insid hotel stun expect stay place made busi trip feel like get away vacat servic amaz everybodi friendli saw room jaw drop room fit king design wall eleg bed extraordinarili comfi think next busi trip go bring wife kid give kimpton hotel star', 'amalfi hotel chicago far one best experi definit felt comfort home luxuri five star establish forgotten favorit cd put sleep night mention front front desk clerk told huge collect cd avail guest low behold favorit cd also laptop cooper come find offer everi guest full access amaz fulli function busi center visit chicago stay amalfi hotel', 'palmer hous hilton incred break real world lobbi throwback grand era travel imagin peopl step train steamer trunk lobbi lux gild soar ceil staf friendli accommod employe room plush bed furnish seren dream topper extra comfort room decor modern sleek world tacki furnish hotel conveni fulli stock busi center pool fit room workout area someth accommod solo busi famili travel', 'realli enjoy stay palmer hous hilton chicago weekend stay want someth close state street conveni theatr district museum michigan ave shop grand old hotel everi amen one could wish lobbi fabul hotel also nice restaur room nice king size bed pretti cozi hotel employe nice help us would definit recommend hotel want grand hotel type experi reason price mani amen conveni spot downtown chicago definit feel special', 'wow mani hotel busi man seen fair share garbag dump hotel wow hotel great staff prompt room extrem clean everyth ran like well oil machin particularli impress fact front desk give free toiletri thing usual pay stupid toothbrush realli enjoy stay intercontintent worri chicago area reput bad hotel turn great next time boss fli chicago know stay', 'husband stay hotel allegro chicago celebr nd wed anniversari past weekend hotel perfect combin sophist glamour moment arriv concierg staff friendli accommod throughout weekend stay hotel provid mani interest fun thing impress overal setup hotel lobbi dine area room special touch class made weekend excit full luxuri decor room modern eclect hue blue white light compliment set mood bar loung area excel servic view room perfectli captur excit downtown chicago addit husband extra pleas learn aaa member would receiv room rate weekend overal amen experi stay hotel allegro chicago made us feel like movi star pamper taken care weekend classi establish one would definit choos stay', 'amalifa hotel chicago extrem pleasant excit hotel experi taken away design decor build except custom servic definit return anoth stay', 'great locat chicago downtown staff profession warm room spaciou clean nice complimentartri breakfast definit stay next time chicago', 'intercontinent chicago hotel one finest hotel stay long time atmospher upon arriv one eleg beauti staff welcom us cater everi need room plush romant interior decor breathtak definit star rate would think twice come back receiv highest recommend', 'wife spent honeymoon chicago summer time stay hotel allegro knew would posit experi day one actual book reserv staff knowledg courteou whole process quick easi painless upon actual check day honeymoon custom servic staff made us feel home eas room beauti spa servic excel five star two thumb', 'anyon travel chicago would strongli recommend palmer hous hilton spent two night hotel recent busi trip impress eleg feel look hotel guest room doubl bed first sight room perfect decor doubl bed look comfi cozi room also came high speed internet person listen option great featur tire travel like sinc hurri two day stay time wander around town food problem hotel offer place dine simpli snack good thing bar loung open late night assur great qualiti food drink tour citi hotel quit close park museum lot shop place need place stay view hotel pretti good well among hotel spent time palmer hous hilton top list', 'recent stay amalfi chicago wife busi trip decid combin busi pleasur made long weekend stay busi conclud enjoy luxuri room spa servic stay superb one bedroom suit incompar view surround citi individu attent check reserv except better usual receiv concierg servic amalfi actual deliv promis weekend relax enjoy due excel train staff amen offer site hotel design modern sophist decor delight sens lot color clean line made great impress felt modern comfort breakfast serv floor room wife especi appreci avail fresh fruit yogurt european descent enjoy croissant whole grain muffin real butter marmalad also brought standard poodl sterl amalfi one luxuri hotel allow pet accommod understand pet part famili purchas pet pamper packag allow sterl day reunit even sterl slept room usual foot bed contribut feel home away pet lover big plu final transport corpor jet arrang eas hotel bring assist us trip handl arrang normal allow us bit privaci scarc us abl anoth appreci bonu stay thank amalfi superb experi', 'everyth experienc hotel grand hotel stun architectur amaz moment walk palmer hous greet friendli help staff room world detail overlook comfort bed amaz bathroom breathtak view chicago look extravag hotel next visit windi citi would defin recommend stay experi chicago like never', 'fianc taken trip chicago want stay someplac close downtown chose amalfi hotel locat conveni everyth need place phenomen chose romant getaway packag town day best choic ever hotel super clean chic bed comfort staff superb abl bring dog also realli import us first day gone day dog came back room coupl massag masseus come straight room realli relax stress reliev great massag went keefer steakhous hotel gave us gift certif food fantast also great continent breakfast also eat rocket grill nice well night pretti similar went day great time hotel recommend place client go windi citi', 'stay palmer hous hilton wonder attract hotel go financ first time chicago locat hotel perfectli place downtown chicago took advantag hilton bed breakfast special upon check friday afternoon went lockwood restaur go room weekend stay one bedroom suit king size bed hotel spotless never hotel room clean portion food perfect everyth provid point would recommend hotel anyon go visit chicago first time staff profession let feel like king queen', 'husband stay amalfi everi year anniversari love servic wonder staff friendli hotel good cuisin option tasti hotel close proxim downtown fun thing go room comfort quiet perfect relax definit keep come back', 'wife stay allegro weekend busi trip impress hospit wife much mayb much enjoy hous spa room servic bit slow overal great hotel would stay', 'stay standard hotel wife suggest stay upscal hotel weekend chicago skeptic say least stay amalfi hotel may never stay regular motel right bat instead foot counter snooti worker kid start two day ago individu desk check peopl gasp clue got steakhous packag deal site keefer steakhous restaur food highest qualiti cook perfect room spaciou robe slipper stock mini bar mattress comfi whole room clean staff amaz problem bring extra towel pillow wife morn continent breakfast serv floor instead herd lobbi love caus love breakfast crowd unfortun hotel close lot shop wife heaven howev spent larg portion day magnific mile attempt max credit card whole trip believ made special atmospher hotel staff would recommend amalfi anyon visit chicago', 'wife stay weekend absolut love atmospher chic upscal opinion get pay brand name amen without break bank wife even got bring dog aka man would definit stay would recommend anyon stay chicago area', 'visit chicago busi ask associ stay sever recommend hotel allegro stay honestli say agre luxuri bed technolog amen everyth thought place find comfort hotel actual home know stay everi time busi citi anyon know hear', 'friend chicago last month look reson price hotel decent neighborhood well came hotel allegro immedi fell love everyth color staff architectur price amaz found better hotel servic impecc talk star hotel someon star budget friend plan stay next year return wait', 'beauti hotel histor featur hotel make absolut amaz hotel offer mani great guest accommod enjoy spaciou tidi room staff friendli help profession concierg went way make sure knew area hotel especi enjoy servic lockwood restaur server excel food delici must say hotel exceed expect stay awesom', 'hotel allegro chicago underst luxuri love minimalist decor linen qualiti exquisit beat locat either locat heart theatr district walk distanc great restaur chicago also offer room spa servic pure decad chose indulg eucalyptu mani pedi far priciest manicur pedicur life dollar wonder experi eucalyptu treatment left hand feet feel soft yet refresh time highli recommend hotel want experi finer thingsthi gorgeou citi offer', 'hotel allow experi best chicago central downtown locat perfect boyfriend come go pleas whether day night great get away spot relax away work probabl one best bed ever slept italian food serv harri carey remind live itali overal complet amaz experi wait book next stay', 'glad decid stay intercontinent chicago first trip citi staff attent felt like person take care locat great right magnific mile close major attract suit well appoint clean even look behind furnitur dust find hotel luxuri sheet towel soft bed comfort next time travel chicago definit stay intercontinent', 'intercontinent chicago pay room pay experi let elabor bit reluct pay premium locat amen like novic travel chicago saw mass glut cheap accommod suburb origin set sight price power signal sheer discount option drew bit research realis distanc cost price transit chicagoland area free far use car use price prohibit knew origin go drive sting use automobil park congest toll road etc get shove onto taxi fare auto rental ultim end look place well connect mass transit mass transit cost meant stay focal point downtown advantag origin drew intercontinent intercontinent much right room right place decor room amen avail guest unsurpass travel intern busi eas could transact foreign currenc draw currenc exchang right premis fact massag dri clean event plan avail hous huge plu work get tie knot also leav littl time chore abil grab massag suit finish relief top event plan put intercontinent top abl coordin comprehens tour chicago complet busi manag person life weight shoulder someth forget end newcom chicago stay time crunch intercontinent pricetag room downtown seem prohibit factor conveni save margin cost noth end intercontinent price competit downtown option also make stay downtown conveni thrill', 'amalfi hotel chicago perfect romant get away husband spent weekend away kid must say impress staff accomod especi enjoy room spa servic recommend amalfi anyon want nice hotel downtown chicago area within walk distanc shop great custom servic luxuri accomod', 'last weekend wife decid take weekend trip chicago look hotel interest price relax getaway heart downtown research came amalfi hotel chicago spark interest locat fact offer room spa treatment locat chicago river north area close magnific mile get shop done stay rel close hotel also sightse chicago river one mani chicago boat tour fantast long day town came back hotel induldg room spa treatment wife got whole work facial manicur pedicur hot stone massag therapi enjoy deep tissu massag get rid pain walk around day dinner went downstair enjoy fabul dinner harri caray italian steakhous best steak ever hand finish dinner want go back room relax hop comfort king size bed put movi room dvd player beauti inch hdtv anyon look nice relax getaway great citi chicago would recommend amalfi hotel chicago anyon offer anyth could ever want luxuri hotel plu', 'palmer hous hlton hotel nicest hotel stay chicago went chicago busi trip meet arriv walk lobbi beauti hardli wait see room room nice bathroom immacul meet clark meet room even nice want take tour hotel day conveni hotel lot major attract like grant park lake michigan mag mile shop heaven navi pier never realli like normal stress meet love chicago new favorit hotel stay town', 'first time chicago tell realli made feel like million buck took taxi straight airport greet door kind gentlemen offer help luggag assist check counter made way room spectacularli bright well lit order food food delici staff fantast short stay chicago would stay hotel room day', 'recent busi trip chicago pleasur stay hotel allegro lobbi gave good first impress clean modern design feel custom servic great proceed counter check within minut key room told check infam restaur tire flight check room room great king size bed flat screen tv standard desk design furnitur unpack check email hook wi fi quick painless good night sleep earli wake next day busi meet decid tri restaur breakfast omelet fruit restaur great food perfect wish time stay enjoy lunch nevertheless duti call concierg taxi wait right breakfast work would recommend hotel anyon visit chicago one best ever stay multipl busi trip', 'famili seven day stay intercontinent chicago hotel could ever imagin intercontinent fantast previou hotel visit wonder amen excel hour room servic access person trainer even dri clean servic mention famili realli enjoy dine contemporari american cuisin hotel zest restaur serv excel meal worth everi dime reason price favorit point intercontinent chicago provid entri right windi citi famili immedi access transport shop citi attract great time travel chicago enjoy time felt secur know nice clean eleg safe hotel travel back whenev done tour citi day intercontinent must stay recommend anyon plan visit chicago', 'went famili includ dog marley pet friendli realli enjoy place huge room suit center downtown close shop entertain also seem would great place wed host event defin come back next time need come chicago defin fine four star hotel', 'extravag exuber experi stay hotel allegro enjoy intox view made get away much relax well except room servic room decor well par much enjoy complimentari tea would highli recommend hotel allegro must stay vacat get away', 'recent stay amalfi hotel chicago chicago illinoi must say stay hotel like stay high end hotel celebr spa packag room servic hotel decor extrem beauti would recommend hotel anyon look treat like star take reserv also great restaur right insid build whatev need accommod heaven earth would recommend anyon stay hotel even one day worth', 'amalfi hotel chicago sever factor make one best hotel chicago area experi forget long time proxim best spot chicago make visitor delight close magnifici mile shop area also close loop merchandis mart michigan avenu make fantast locat great layout lot space guest room includ flat screen hd tv beauti recept free snack drink even hotel provid free breakfast hour fit centr alway open busi hotel smoke polici also free internet facil room servic air condit laundri dryclean multilingu staff make commun easi spa servic heat confer facil satelit tv brail elev pet allow concierg desk offer best wine avail must add wine great hotel pride make feel like royalti staff pleasant door men alway will lend hand hotel place prioriti cleanli room alway clean hotel make possibl relax go shop best store close eat best restaur parti club enter form patnership offer great deal everi type custom would definit recommend place', 'intercontinent chicago conveni locat near midway airport commut short easi room great view lake room servic avail hour day room came coffeemak got complimentari coffe tea great go morn cup coffe busi center internet fax machin copi machin avail use hour day one favorit thing fit center masseur exactli need relax food eno best ever ate especi chocol never want leav great hotel experi would stay', 'hotel great citi great personnel work room expect hotel servic abund leav room complain fine diner cannot go wrong enjoy peac meal relax hotel truli one hotel meet room busi center leav unfinish work worri stay addit spaciou swim pool thing need reliev stress view room breathtak would definit recommend stay', 'money amalfi hotel place way thread count egyptian linen hour fit center hotel anyth would need want room equip free wi fi plasma televis multi head shower much much anyth fine dine wine work comput busi center equip comput free use long night bar get complimentari breakfast floor servic great well recommend hotel one busi profession young singl look good time plan come back soon', 'review first class hotel intercontinent chicago locat chicago famou magnific mile near restaur shop entertain histor landmark servic hotel first class accommod unbeat hotel also featur realli fabul amen includ nice indoor swim pool fine dine hour busi center valet park extra ordinari luxuri hotel make stay chicago joy offer number option rate select packag deal avail visit websit photo galleri virtual tour', 'stay hotel allegro chicago amaz experi staff help consider alway tend need suit extrem clean amen could ask want leav room nice end hotel situat great area go see site hotel wonder room servic realli great area suggest everyon come stay chicago', 'one pleasur hotel ive ever stay beauti concours amaz food amalfi realli exce standard room spa servic relax tang wine incred highli recommend hotel give stay star', 'beauti hotel wonder view din select one best seen chicago stay mani place downtown chicago noth match singl mother two children concept day care facil site great children well shop area great select right outsid door biggest thing say custom servic great everyth need give hotel', 'come chicago three sister relax weekend shop spa day hotel allegro chicago fill everi bit checklist arriv immedi check shown room doubl doubl delux room gorgeou well taken care clean comfort well decor luxuri hotel also spa perfect even leav hotel relax spa day hotel great staff alway attent need favorit part complimentari tea cofe coffe addict get caffein fix time everi day great stay hotel allegro chicago want great servic relax luxuri hotel heart chicago hustl bustl', 'husband stay palmer hous hilton chicago anniversari hotel beauti luxuri one would expect hilton brand hotel major citi servic excel check check go smoothli locat hotel ideal us plan attend theater visit lincoln park zoo picnic lake close hotel price reason locat luxuri accommod also enjoy hotel restaur loung highli recommend', 'stay famili chicago famili vacat say wow fantast experi around first hotel magnific lobbi entreway jaw drop say least everyon dealt desk clerk clean staff doormen except cordial friendli room fantast perfect busi person stay famili recreat new seren bed hilton offer die one rest night sleep year kid love ipod dock room wife love th fact kid could keep bedroom ice cold like like could keep warmer usual wifi ultra cheap fast highli recommend palmer hous hilton', 'amalfi hotel becom absolut favorit place stay visit chicago place realli know treat guest serv complimentari breakfast everi floor even ipod dock station room want watch movi borrow collect took advantag free wi fi plush bathrob stay tri spa servic offer wonder experi staff realli made feel comfort stay definit stay next trip chicago', 'intercontinent hotel truli hidden treasur nestl deep sky scrape steel epicent downtown chicago hotel tast modern day luxuri old time charm tile indoor pool surround high romanesqu arch ceil rich mahogani furnitur lace curtain suit intercontinent built satisfi tast even harden travel book well advanc one sought retreat chicago', 'wife stay amalfi hotel chicago last august weekend visit chicago hotel locat w kinzi st well known river north district got hotel promis gentl staff luxuri room breathtak view magnific meal select wine also use well equip gymnasium paid tax two night think good price take account excel condit got would recommend amalfi hotel anybodi good tast visit chicago', 'palmer hous hilton chicago far best experi ever away home moment walk elegantli appoint lobbi never want leav multipl ballroom board room privat dine room make perfect site wed busi event look leisur activ two bar lockwood wine cellar indoor pool staff profession friendli help room servic excel hotel conveni place sever major attract citi', 'palmer hous hilton recommend friend visit chicago previou summer happi locat abl visit nearbi lake michigan millennium park beauti room good size right amount luxuri price use room servic much everyth order', 'intercontinent chicago hotel absolut magnific room utmost standard get treat respect staff alway matter hotel beauti surround beauti light beauti skyscrap give two dumb ever chicago intercontinent chicago place stay', 'palmer hous hilton hotel busi leisur travel stay hotel busi say wow one main thing like hotel indoor pool love abl go swim even though decemb degre outsid also hotel offer wireless room realli came handi keep work meet dine lockwood restaur bar food amaz hotel one thing minor neg pet allow origin room next door bark dog hotel staff fantast switch room deal hotel fantast look forward next time get stay', 'go chicago last month want nice hotel close restaur shop research believ intercontinent would suit need sure disappoint decis hotel lot histor charm despit larger hotel servic top shelf room larg mean extrem well appoint comfort kid love big swim pool hotel offer impress locat magnific mile hotel also nice restaur site food good like hotel restaur provid perfect custom servic dollar dollar intercontinent chicago great deal stay', 'recent pleasur spend three night hotel allegro chicago attend corpor meet say room beauti renov hotel stylish understat stay one moder price room yet found amen premium room hotel room spaciou furnish retro modern style fulli stock refresh center wet bar lcd hd tv amongst standard item allegro center everyth chicago loop financi district chicago theatr district great shop slate street fine din avail adjac hotel suggest lunch club fit room well equip clean profession friendli servic ice cake stay allegro next visit chicago area definit includ stay hotel allegro chicago', 'palmer hous hilton locat heart theatr financi shop district downtown chicago walk distanc museum shop govern corpor build locat make perfect visit chicago room luxuri super comfort bed soft sheet room clean quit nice look hotel restaur amaz hotel would defin exceed expect whether busi travel vacat', 'husband stay palmer hous hilton last month celebr anniversari wonder hotel great weekend larg thank palmer hous everi amen could want right hotel fingertip locat perfect right downtown chicago stay one one bedroom king suit exquisit eleg beauti easili luxuri suit ever stay servic impecc everi employe encount pleasant eager accomod need express anniversari dinner lockwood restaur hotel delici definit return palmer hous hilton next special weekend getaway', 'intercontinent chicago locat heart downtown chicago illinoi north michigan avenu magnific mile hotel locat within moment minut navi pier millennium park magnific mile shop intercontinent chicago boast modern fit center featur free weight cardio room dri sauna well masseur busi knock door hotel hour busi center provid high speed internet access fax photocopi servic accommod intercontinent chicago eleg touch histor decor room breath take view chicago well room mini bar terri cloth bath robe size desk high speed internet access inch hi def lcd televis overal qualiti properti stun condit staff intercontinent chicago welcom care demonstr profound custom servic base', 'fiance look modern upscal venu wed recept found perfect locat jame ballroom person attent detail step handl care lock date excit ever thank staff jame make day even special', 'husband visit hotel way home honeymoon nice hotel valet park expens per night rather high opt park car pool nice water warm front desk nice help ever visit chicago would stay', 'palmer hous hilton hotel take luxuri whole new level exist room beauti decor class superior qualiti furnitur hotel restaur lockwood consist delici french italian cuisin locat prime area downtown shop area hotel suit pristin guest will settl less look stay stay luxuri give palmer hous hilton tri one best best chicago stay one rememb', 'excel vacat destin clean room mani nice featur superb locat proxim local attract staff alway friendli eager help highli recommend anyon look travel area', 'amalfi hotel chicago minut navi pier michigan avenu chicago opera theater hous blue hottest night club per night expect best staff accomod arriv weekend stay greet pleasant surpris wall art eclect style reach room abl relax peac numer pillow choos use spa trip come back first item list busi offic great last minut emerg work thank good cocktail hour breakfast delici alreadi told friend napervil next time town stay amalfi instead commut realli miss atlanta girl', 'make obligatori trip chicago area visit famili decid make fun teenag member group reserv coupl room hard rock hotel chicago great decis room upscal reason price great amen accord younger member famili cool wait come back', 'say hard rock hotel chicago cool place stay first got get check fast ladi counter nice well spoken bellhop bag room fast room hip cool music item place realli love beatl art bathroom room minut got call front desk ask like room also ask would interest thing like spa treatment need use busi room need thing ship suppli help get work done call concierg realli good pizza place around gave inform awesom place left came back night town understand wee bit pizza night get drift got back room bed comfort feel right sleep good night sleep morn order breakfast realli philli chees steak make anyth want anytim day check bag feel rest relax thank hard rock rock', 'ambassador east hotel chicago fantast scale hotel stay visit windi citi fiance enjoy one king room recent stay staff except friendli help best ever dealt travel valet park alway perk room nice amen would want high end hotel bed extrem comfort cabl tv cours hbo includ alway someth watch wireless internet signal excel troubl get onlin dinner hotel restaur twice stay food fantast great atmospher well usual hotel restaur one night stay one worth go back overal incred stay hope stay ambassador east next time chicago', 'amaz beauti stay two night room immacul staff extrem nice welcom food delici fix perfect entir hotel clean warm invit definit stay recommend friend travel area', 'hard rock hotel must visit matter citi hard rock hotel place stay fill fun uniqu trait room dine hotel place great view everi locat especi chicago servic incred food decor hotel staff help feel right home better home', 'best hotel stay visit chicago travel lot busi vacat talbott hotel cozi yet state hotel handsom eleg mention modern featur use home avail room brought wife last busi trip stay one bedroom suit even want leav room concierg especi help find us romant place go dinner', 'came back awesom terrif hotel last week say love wife week due busi meet right step hotel knew busi vacat well spent custom servic great employe even guid us toward room introduc fantast lit room bed flat screen tv even free internet access wife love kept use free shampoo bodi bath soap head lobbi confer got lost ask one peopl work meet might held lead door impress fit center went everyday great restaur call c hous situat nice next hotel lobbi nice steak wife salad thought trip realli worth stay welcom affinia chicago highli recommend whenev visit chicago stay regret', 'magnific mile chicago great place visit stay affinia chicago made much better locat awesom great shop spot moment away get navi pier cinch accommod wonder hotel let complet custom stay way choos pillow impress overal', 'rate talbott hotel cheaper expect reason book room prepar servic room similar experienc past quit pleas stay room neat clean hall quiet night traffic nois muffl point problem sleep either ask one question servic desk answer nice good normal hotel worker bit snippi especi night overal problem talbott hotel would stay area second time', 'first walk beauti decor lobbi affinia chicago hotel greet name concierg tell taken liberti custom room profil book stay show room pay care attent bag ensur lift finger sure enough pillow selct dream pillow menu sit proudli atop queen domain way cover softest bedspread make wonder liter drag cloud fit bed notic display champagn cupcak atop dresser experi kit come complet ipod shuffl download favorit workout track yoga mat namast unabl resist urg inspect bathroom find marbl tile invis glass shower jacuzzi line candl vanilla deep enough bath walru feel girlish run water test go dinner hotel restraunt c hous offer delici seafood menu make think dine king paradis least eat caribbean hmm brought date', 'affinia manhattan fantast husband stay went visit sister love room one best hotel bed ever slept view incred manhattan one beauti place ever staff help well problem go way help would suggest hotel anybodi', 'realli love stay talbott room amaz bathroom picki hotel bathroom ampl room stuff bonu staff treat realli well friendli afraid get littl lost sinc first trip chicago staff help navig downtown area rush st michigan ave close hotel remind stay europ room servic hour bonu mostli night place ever stay visit chicago singl woman travel strang citi hotel made feel safe comfort', 'husband recent stay hard rock hotel chicago fantast experi stay one extrem suit let tell beauti furnitur paint amaz view die staff treat us realli well met need especi love spa stay week could stay lot longer comfort welcom make sure recommend hotel friend back next time chicago thank much', 'ambassador east hotel hello current visit ambassador east hotel realli enjoy day weekend stay hotel first time hotel reserv king size suit insid room nice view chicago gold coast realli need get work done busi trip room perfect situat could easili relax king size bed watch hbo enorm size flat screen tv free also work nice wooden desk room desk lamp wifi modem nice laptop abl use good workstat room finish work time check complimentari fit room lastli left next day one finest breakfast dish pump room restaur overal ambassador east hotel hotel realli worth stay', 'pleasant staff housekeep averag breakfast room clean staff made sure fresh linnen bedbug free would definit stay', 'husband came ambassador east hotel sister wed hotel help profession help us coordin wed guest arriv impress organ help us check get guest situat even nice enough let us leav guest gift bag guest room room clean beauti appoint view citi held rehears dinner groomsman parti pump room gorgeou bar complet celebr photo wall sister marri church downtown held recept larg banquet hall hotel great shuttl guest help us arrang dinner dj wed decor great time ambassador east hotel highli recommend', 'town visit cousin stay three night wonder hotel close shop want cousin grant person guid k cousin janic amen unbeliev servic great upmost hospit would recomend everyon great kid adult room view spectacular bed comfi room emacul', 'excel staff custom servic clean spotless eleg luxuri beauti ocean view bed comfort relax give five star', 'recent week stay affinia hotel definit say come back offer mani room amen servic comfort relax place enjoy experi affinia hotel amaz custom offer would recommend affinia hotel anyon look nice place stay', 'look uniqu hip experi hotel offer conveni locat downtown chicago choic hotel obviou hard rock hotel chicago wonder whether hard rock hotel schmaltzi clich hard rock hotel chicago modern trendi hip air musician came rock among stori detail find elsewher exampl one interest perk free itun download got ten guest fun place host event jack daniel th birthday', 'husband recent stay hard rock hotel chicago wait go back hotel locat downtown chicago seem heart citi close everyth hard rock hotel forti stori high view room simpli breathtak room spotless featur modern luxuri decor furnish bed heavenli hotel staff friendli upbeat extrem help ask direct restaur recommend spot highli recommend hard rock hotel chicago would stay heartbeat', 'visit rel chicago want stay hotel emphas luxuri also environment friendli talbott seem fit bill also help notic posit review onlin figur go wrong happi report posit review true first check breez love onlin reserv system easi use inform present quick accur arriv chicago greet tim door immedi felt like want like receptionist polit heard visit chicago first time upgrad delux king execut king score room advertis luxuri conveni also except clean import paranoid germ bed bug importantli though got good night sleeep bed pillow super soft firm enough help support back also use equinox fit club wow club anoth great amen talbott easili beat hotel skimpi workout center check quick easi painless hotel get highest recommend facil immacul modern recent upgrad staff ultra friendli compet locat perfect need', 'luxuri worth money look relax unwind great hotel one choos staff great friendli dont forget hour room servic great treat', 'enjoy stay talbott hotel expens side worth got talbott tradit packag two peopl includ breakfast credit check day room huge bed soft comfort includ aveda bath product plu book also nice fit area pool use stay one thing thought realli cool forward messag hotel room phone cell phone boyfriend also like ihom audio system locat hotel conveni well close sever great restaur block coast like best hotel make honest effort neg impact environ need one first hotel green seal overal great stay talbott hotel', 'ambassador east hotel busi certainli strive keep custom satisfi upon entranc ambassador east greet warmli staff incred pleasant accommod top knotch food serv award win pump room die servic fast friendli', 'first husband realli excit famili enjoy rex experi packag figur would great deal packag even though hotel felt ritzi us travel four children two night downtown chicago fun realiz talbott transcend ritzi look truli embrac famili friendli thoroughli enjoy', 'mani posit stay hotel north end magnific mile room spaciou beauti appoint great attent detail qualiti servic excel staff profession locat perfect great view chicago mani room staff seem care qualiti stay moment greet upon arriv moment got taxi leav nice rooftop bar restaur perfect lite meal refresh cocktail great view citi realli neg would recommend boutiqu hotel anyon stay chicago area', 'recent stay hard rock hotel chicago town busi enjoy stay much stay room king bed comfort room thing need stay nice thing think parti floor quiet quickli enough room even internet connect also dinner one night china grill amaz meal overal great stay return next time chicago', 'hard rock hotel chicago great altern ordinari hotel hotel decor huge varieti music memorabilia make stay worth hotel often visit mani talent artist includ singer dancer actor etc staff polit help alway pleasant room clean nice decor common area hallway would highli recommend hotel anyon stay area', 'travel chicago recent giant german shepard dog rex pick hard rock hotel perfect locat close friend warmli recommend pet friendli servic truli incred even web cam could check rex dinner even friendli staff member took walk could make home meet day room realli rock pardon pun noth like cheap plastic lamin stain carpet decor common place allow pet easi chair look good afraid rex would snack seem like guitar chew toy came pet packag better would definit recommend hard rock hotel friend whether travel without pet', 'pleasur enjoy stay affinia chicago hotel found conveni locat e superior street near mani local attract room modern chic urban feel pillow menu awesom partner differ prefer choic made easier sleep like home hotel room layout comfort spaciou right touch make stay perfect believ amen avail guest beagl betsi enjoy stay jet set pet care center pamper much comfort know could bring could enjoy stay without stress concern come travel pet ownership anoth featur person enjoy walk tour kit includ ipod shuffl pre load workout playlist deck card guidebook includ walk tour comfort item like towel map felt like import guest sure everyon felt way check room highli recommend anyon opportun travel area affinia hotel', 'review hard rock hotel find hard rock hotel locat chicago extrodinari scenari hotel extrem clean shine furnitur room breathtak hungri visit hotel see excel provid dinner tabl hotel also host event ballet fun bar dj name hotel definit worth definit visit book reserv soon possibl forget camera', 'set import meet client hard rock hotel chicago fli chicago special trip checkout music scene discuss busi compani natur want stay client realli seem like room felt paul reed smith room cramp day long meet sq ft panic contact hrh staff actual anoth bigger room avail quickli move meet birdland room rest day meet rous success birdland room sq ft new client hrh client want stay everi time fli futur busi meet us', 'stay hotel one best ever locat servic accommod outstand lobbi area beauti room room enough space difficult find chicago hotel gripe room littl dark sure stay small upper class hotel like talbott involv pay premium well worth servic time everyon seem friendli inform room servic took bit longer would like howev food good qualiti anoth nice touch gym pass provid guest equinox fit center final locat perfect locat beauti area citi near gold coast mani good restaur person favorit mine mario nice italian place nearbi overal experi hotel good minor flaw part insignific', 'husband arriv night stay th wed anniversari book execut guest room upon arriv inform would upgrad us beauti junior suit wonder unexpect plu beauti plan weekend front desk manag profession made us feel warmli welcom chicago affinia gorgeou hotel friendli staff love food great atmospher mention feather pillow bed fantast also allow bring belov shi tzu experienc jet set pet stay groom perfect daycar servic felt complet comfort beauti weekend thank affinia hotel would visit hotel', 'love stay hard rock hotel chicago amazingli friendli atmospher give option bring pet dog friendli hotel cost night dog stay beat cost pay kennel keep dog neighbor watch love option also give anim gift bag fill treat food bowl doggi clean bag higli reccomend hotel look place bring four leg friend travel', 'affinia hotel beauti great locat servic top notch room comfort spaciou look hotel modern feel warm cozi restaur amaz thoroughli enjoy stay would definit go back plan trip chicago check place', 'upon arriv hard rock hotel chicago immedi impress staff friendli check us quickli import long trip room immacul decor clean modern style bed comfort includ linen felt high qualiti unlik get hotel made great night sleep perhap impress part stay hard rock hotel parti like rottweil packag ad reserv addit fee abl bring pet provid treat toy best pet cam left dog room pet cam abl watch throughout day iphon great place stay highli recommend anyon want travel pet', 'fantast hotel luxuri excel locat fun atmospher room spaciou well decor staff alway help courteou whether travel busi fun highli recommend hard rock hotel chicago stay wife recent short weekend break want enjoy music fun hard rock certainli deliv look hotel central locat within easi reach main tourist spot citi howev superb food site best entertain could wish bare need leav hotel well leav hotel see sight know mean wife particularli enjoy gym spa facil includ relax massag hotel surpass expect everi possibl way sure stay next time visit windi citi', 'thank ambassador east hotel provid realli great experi famili never leav dog home travel long time sinc abl find place calib allow pet staff even spent time coo cute dog ask local cloth boutiqu husband like fit room nice clean plenti extra towel avail colder expect wind blow water concierg knew exactli go jacket scarv definit stay next time visit chicago would make trip stay welcom felt stay hotel', 'recent complet first visit chicago pleasantli surpris affinia chicago hotel stay hotel gone great length offer extra servic guest includ individu pillow choic complimentari kit item design enhanc citi visit fine dine two site restaur one roof top amaz citi view would recommend hotel anyon visit chicago', 'start well stay ambassador east hotel realiz favorit hotel ever room amaz food great pump room bar awesom love hotel ever chicago ambassador east hotel place go', 'stay affinia last weekend ideal wait return town brief person trip want clean love room near shop downtown affinia fit bill locat perfect one block magnific mile decor modern sleek room impecc clean even pillow menu price pretti reason definit back', 'ambassador east hotel locat downtown chicago one best hotel ever stay wife went citi weekend getaway found ambassador east hotel book websit rate reason high class luxuri provid pleas know allow pet decid go citi last minut find anyon watch dog weekend pleas friendli staff felt like hotel put extra emphasi know custom nice place chicago imperson pleas stay would recommend anyon look place stay downtown area star', 'affinia chicago wonder place stay husband stay week visit famili amaz time room well organ comfort staff friendli food amaz defiantli go back next year', 'stay hard rock hotel one best bet ever make travel stay one last time visit chicago wonder room amaz one stay great view citi bed comfort everyth realli clean neat wi fi realli fast alway avail like fact could get guitar front desk jam room pair headphon chanc use spa could tell realli nice relax go base bar coupl time drink cool atmospher great drink choos rock shop pretti cool bought bunch shirt bring back home famili friend overal think one coolest hotel could stay experi definit differ hotel stay', 'upon arriv ambassador east hotel chicago immedi impress courtesi attent staff moment check left staff front desk roomkeep extememli pleasant accomod sinc two daughter us book tradit doubl room room nice comfort bed great view plenti room four us say five us girl want leav home without chichi teacup chihuahua fortun amabassador east allow small pet pet waiver made everybodi happi locat great well convient locat easi get lakeshor drive close museum look forward next visit chicago stay', 'hotel everyth look mom girl weekend shop trip need place stay long day talbott hotel incred room clean spaciou everyth need hotel check easi guest servic folk awesom even gave us tip great restaur area highli recommend hotel next trip chicago', 'atmospher talbott hotel welcom first walk employe friendli greet first arriv hotel seem luxuri even lobbi right away excit stay stay doubl queen room friend room spaciou enough bed comfort tri room servic fit club close spa conveni also love room individu climat control neat also handi ihom room usual stuck use regular alarm clock radio hotel like stay hotel anoth time wonder experi', 'husband decid plan romant get away one year anniversari stumbl upon talbott hotel chicago decid book person romanc packag stay arriv hotel staff friendli approach person key card receiv upon check wonder touch night would return suit find linen turn rose petal scatter bed person concierg even help plan special outing husband see chicago cub basebal game would recommend hotel anyon plan weekend away', 'best choic husband could chosen visit hotel stun view around best part near water perfectli happi enjoy luxuri room comfort decor husband enjoy solac found free gym everyth clean invot especi pump room much histori one rooom overal great relax vacat away kid would definit return ambassador next time area', 'look eleg hotel downtown chicago stay ambassador east hotel comfort beauti larg room like home away home perfect place busi person small pet bring would give place four star would definit stay', 'hotel absolut dream stay pick better hotel spend luxuri enjoy set room space offer room decor extrem eleg locat great well honestli felt like spa price reason well would definetli recommend hotel everyon know ever get chanc spend night definetli choos suit room', 'classi decent seren word clearli defin total stay talbott hotel heart chicago hustl bustl citi littl affect conduc atmospher relax provid posh hotel loung welcom flash smile everi angl staff bell boy manag polit help respons need room servic classi cap bed comfort back home make talbott home away home wife enjoy rex experi learnt lot citi chicago got offer believ return kid talbott famili orient friendli kid felt safe anytim chicago talbott gonna home away home', 'talbot hotel eleg place take wife husband weekend getaway person romant packag fabul upon check open room door found romant atmospher rose pedal luxuri bathrob felt like honey moon', 'affinia hotel chicago superb room servic exemplari food even know start chef obvious knew especi love seafood person favorit shrimp asid love beauti hotel definetli bargain price price would probabl get good star hotel felt night star hotel europ great bang buck would recommend anybodi look relax great hotel great amen great citi friend actual went back love know', 'wow love ambassador east hotel chicago close great sight chicago like navi pier lake michigan fabul dine hotel classi room furnish tradit cozi manner entir famili love even dog also pet friendli ambassador east hotel love restaur pump room great someth pleas even pickiest eater famili get away ask see larger suit suit gorgeou wait tell friend place next busi trip chicago book hotel perfect confer room love servic definit come back', 'experinc hard rock hotel chicago fantast rate wonder servic great staff view wonder', 'search perfect hotel chicago getaway knew came hard rock hotel hotel see except accommod hotel offer book reserv right away arriv hotel astonish beauti big build ground kept greet warmli front staff receiv room key within minut also given help pointer nearbi attract restaur took elev room open door jaw drop view chicago skylin impecc relax went bar cocktail impress fast courteou servic receiv cocktail hour decid unwind let tell bed must sent heaven one best night sleep long time highli recommend hard rock stay mani around us definit top list hope enjoy much wait return ashley b', 'stay talbott wonder experi servic upscal hotel beyond expect gold coast locat close michigan ave museum mani site chicago offer visit chicago highli recommend talbott', 'friendli staff clean build room hotel locat nearbi everyth interest see staff will help give direct knowledg citi room beauti design well lit spaciou comfort', 'took famili affinia chicago short vacat last summer fabul kid say favorit part pool fact amus park realli close wife realli stoke spaffina pamper realli made feel special attent pet also dog left home would stoke pet amen attent hotel also connect ton hotel stash award let earn point lot hotel also favorit part famili happi content left free go underground wonderbar nice cocktail', 'short time vacat rent room ambassador east hotel say quit impress experienc would referr other look stay hotel given locat hotel comfort spacey nice staff alway polit aid whenev need trust nicest person world say lot food good locat great everyth easili access given luxuri hotel well kept', 'plan summer vacat want travel somewher new chicago mind fast citi life got flight chicago arriv hard rock hotel grand spent total day night luxuri exot locat right around corner shop dine venu room servic drool food delici could hardli pictur feel satisfi met friend offer tour around town enjoy stay come back sooner later', 'g best hotel ever stay variou hotel area servic realli suckish evan one hotel stay mold sandwhich bed gross could realli got sick hotel perfect locat right beach club ohh pump room best food evr hotel evan got take pictur queen ann never regret come hotel love hotel much bridemaid stay walk distanc popular food place club place least', 'stay ambassador east hotel pleasant one love abl take quick stroll michigan ave shop also love pump room fun place hang enjoy blood mari front desk staff wonder check sinc reserv lost found room immedi even though citi book thought room clean well maintain shampoo great decid take home look forward anoth stay ambassador east spring return chicago', 'recent stay talbott hotel chicago famili three absolut love definit return custom servic staff front desk fantast help help us decid activ restaur visit stay night want go room servic food hotel restaur delici servic quick also love commit environ clear mani award thank talbott wonder stay', 'great hotel staff friendli corteou profession made feel like return guest room clean slept well comfi bed complimentari workout deal nearbi healthclub took advantag sever time sinc cold run outsid issu batteri tv remot die howev call front desk remedi situat minut star', 'got marri chicago area pass weeknd guest stay ambassador east hotel noth nice thing say husband mother terribl picki stay hotel met need room decor nice funni hotel smell pump room fun place men hang watch sport ever area sure book room ambassador east hotel', 'write recent stay ambassador east hotel want let know wonder team work everyon check check help person made mundan busi trip pleasur one hotel spotless comfort restaur one chicago finest realli offer finest qualiti product servic complaint internet access free would like mention one person particular sofi work front desk went beyond make stay smooth possibl even help taxi servic local recommend shall look forward return next month thank p gradi', 'stun bay chicago find equal ambassador east hotel hotel feel like luxuri built everyth wonder room servic confer room besid activ neighborhood chicago ambassador east close enough action beauti sight chicago offer overal servic hotel wonder felt like treat king room neat regal relax especi like bathroom clean sooth pump room also great place excel dine stay complet enjoy maintain high level product overal stay fantast worth everi penni would return ambassador east hotel heartbeat given opportun', 'got back trip chicago th birthday could impress hotel servic excel especi maid servic room clean fresh towel brought daili front desk staff profession friendli staff ever dealt travl locat excel within walk distanc best restaur store highli recommend affinia perfect famili vacat', 'moment step ambassador east hotel much impress entir staff extrem help pleasant bell staff escort husband right suit suit beyond belief atmospher classi romant husband previous arrang bottl champagn wait room arriv travel chicago new york romant weekend get away dinner night hotel restaur pump hous pleas dinner start soup salad main cours meal dessert reason price littl local shop next day well rest night wonder comfort king size bed everi interact staff postit experi enjoy weekend get away would definit return ambassador east hotel next time chicago illinoi star', 'stay two night meet upscal chain hotel clean servic good hotel front desk employe kind knowledg room decent size soft mattress restaur good seafood bit expens would come back', 'first book reserv hotel honestli know expect mean kind music person first real experi music theme hotel upon stay howev convinc made right choic stay dine accommod excel serv probabl best food ever eaten hotel intellig place downtown chicago walk far see street perform take majesti citi room book excel view skylin could easili sat hour marvel citi sprawl whole hard rock music aspect hotel ice cake stay stay would', 'talbott hotel fantast stay busi found met everi need high speed internet access work flawlessli allow much work comfort luxuri appoint room realli like exercis day meet access fit club next door conveni last point work green consult firm l hotel environment credenti dovetail perfectli mission guilt free luxuri', 'hard rock hotel chicago locat comfort rockabl stay hard rock hotel chicago recent found amaz locat perfect walk distanc magnific mile navi pier lake michigan short ride bu cab sport stadium shedd aquarium museum scienc industri food although pricey great spa site need littl time relax recoup rockin pet get royal treatment complet gift would highli recommend hard rock hotel chicago', 'although much overpr opinion hotel spotless staff courteou spa servic god send rel flexibl locat travel sight see didnt spend major buck tri get around citi love go back anniversari', 'hotel fantast stay way chicago toward arizona could believ great qualiti hotel thought vega suit realli polit staff great housekeep amaz price way tell manag much love hotel even offer extra night safe say trip delay roughli hour', 'enjoy stay ambassador east hotel chicago staff friendli help time check way checkout hotel clean well maintain bed comfort hotel restaur loung cozi nice way unwind long day thing unhappi fact internet servic complimentari hotel reccomend hotel stay next trip chicago', 'omni chicago hotel high qualiti hotel hotel comfort high tech place relax everyth could possibl want relax workout feel luxuri must stay hotel give five star', 'look luxuari look conrad best chicago busi stay much longer anticip cowork suggest hotel boy glad locat perfect close everyth best part conrad smoke free hotel back soon satisfi', 'husband stay omni attend wed took place delight luxuri room accomod wonder everyon concierg housekeep friendli profession extrem pleas whole experi look forward next trip chicago stay way wed absolut gorgeou', 'great hotel beauti sceneri staff wonder room comfort spaciou even dock station ipod', 'husband stay short get away weekend love conveni locat close navi pier michigan ave staff help room great definit worth everi penni would recommend hotel anyon visit chicago', 'new fianc told busi trip chicago quit annoy mostli insist come made want come weekend wonder hotel mother told hotel husband stay summer love bum weekend decor wonder staff massag made spent time spa asian restaur ask better experi defin come next busi trip', 'conrad chicago far best experi ever travel leisur room beauti decor comfort food restaur exquisit mention perfect servic resort employe impress quick care staff person need natur fit freak pleas learn massiv fit area th floor best avail guest time day night resort conveni locat larg shop area far walk scope shop memor part stay look citi dark see gorgeou chicago look lit relax watch citi come life disappoint pack leav time make way back chicago better believ stay conrad chicago recommend resort everyon know lot travel', 'overal hotel beauti servic great employe friendli alway will help room north end great view citi chicago river bed big fluffi pillow comfort relax downfal park fit room park littl pricey side exactli close hotel one would think hotel huge room may feel like get daili exercis walk room fit center depend room locat', 'recent travel chicago busi confer lucki enough stay hyatt regenc chicago whole experi wonder room spaciou beauti bed comfort problem fall asleep normal hotel staff polit courteou delici breakfast restaur went confer smile face', 'wife check hotel rough flight lo angel decid treat nice hotel visit recent graduat son disappoint locat could better afford easi access chicago cultur shop michigan avenu long day explor citi enjoy fantast dinner terrac overlook citi halibut cook right waiter made us feel welcom friendli convers overal would recommend hotel anyon travel chicago', 'fantast hotel upscal luxuri great locat room spaciou comfort staff goe way treat guest like royalti room tast decor clean bed comfort even bathroom die husband great time loung enjoy mani amen would definit recommend hotel everyon wait get back', 'great hotel staff friendli help room perfect shape clean beauti setup definetli go hotel mani time area would definetli recommend', 'experi hyatt regenc chicago simpli amaz wonder stay husband husband allergi problem nearli everywher go worri talk desk clerk abl provid us hyatt allergi friendli room reliev room beauti furnitur room actual clean pure tea tree oil comfort stay ever top husband spend time room work busi high speed internet provid conveni took full advantag hour room servic definit stay vacat simpli stay hotel room', 'never thought abl stay hotel feel complet home mother two children one sever asthma allergi spent time hospit emerg room live room past two half year sister get marri chicago extrem anxiou front desk associ rosa wonder told allergi friendli room perfum harsh clean chemic dread industri standard feather pillow book room still realli worri ethan breath easili beauti room home mayb even littl better air purif system room smell fresh husband took daughter big bar nacho never stop talk total cool order room servic son man answer phone patient accommod son lot food allergi pretti much order menu specif detail alway littl humbl staff treat order grace though special order time actual abl enjoy sister wed problem stay short come back first famili vacat sinc ethan born thank hyatt regenc chicago make famili visit possibl posit', 'room beauti staff friendli help love conrad chicago locat seem close lot place want visit chicago great conrad hotel made famili stay much except', 'return first stay remodel fairmont chicago millennium park say fabul modern decor style hit minut walk front desk work art stay anyth standard guestroom modern decor beauti artwork relax hotel room ever stay bathroom like person spa marbl tile classic modern time rainfal showerhead die peopl time sure check fit center spa great new equip work sweat pamper bodi could ever need await spa wish could stay longer next time sure add coupl day trip sure even think go outsid door', 'wow say girlfriend recent went littl excurs chicago girl weekend stay beauti hotel room beauti decor comfort modern style bed comfort cozi softest bed ever felt hotel bed view amaz could even see lake michigan suit dine hotel trip best time aria restaur eleg yet fun clean great atmospher staff extrem profession courteou go way ensur stay pleasur moment walk door highli recommend must see next time visit area', 'went stay hotel last year got say great authent experi dine restaur clean fantast room comfort friendli staff locat perfect close walk shop look outsid night beauti afford recommend place anyon plan stay next time come town', 'hyatt regenc chicago hotel perfecti locat center downtown chicago whether go busi pleasur perfect place room larg beauti ball room took breath away wi fi connect perfect work need show navi pier perfect need break hotel noth hyatt wish hyatt regenc everi citi busi trip', 'recent wed omni hotel chicago pleas decis use hotel wed recept venu first hard one worri hotel would imperson met staff omni certain way go staff attent friendli felt wed import thing hotel highli recommend omni hotel chicago bride dissapoint', 'omni chicago hotel one beauti hotel ever oppertun visit desk clerk help feel like celebr visit workout room great lot room feel cramp also great indoor pool spa also come sundeck get nice tan need vacat place stay', 'husband stay hyatt regenc chicago celebr ten year anniversari could pick better locat price hotel realli afford coupl tight budget flat screen televis comfort bed favorit mine husband love stetson steakhous hour stay fit gym realli leav hotel stay basic everyth need walk phone call away ever travel area would first pick wonder stay hotel get four thumb husband wonder ten year celebr', 'great experi stay conrad chicago servic top notch price good everyth servic outstand would definit stay area would suggest anyon look good qualiti hotel great locat right next shop north bridg', 'conrad chicago plan flew tire check confad chicago first got creepi employ floor filthi got room th level dash toward elev suit case hand enter start see beauti place wall polish wood even small ac heater unit good ting made place great carpet velveteen true luxuri hotel found room greet golden door nob live paradis got room perfect room perfect degre shock find confrot bed perfect leather pillow huge blanket think could get better look bathroom perfect stone gold water actual good tast like grape shock fell uncontenti drown caus face fell toilet woke wont believ fast assist save life back floor guess say window swim pool huge olymp size swim pool great got beach suit went heat think leav swimmer pretti nice rich peopl alright though littl big stuck much came dinner time perfect must say extrem satisfi visit time fli back cam plan took go miss hotel', 'stay weekend trip chicago come back stay great place front desk clerk help also love view nice quiet place upto date super clean def stay highli recommend', 'truli enjoy stay omni chicago hotel stay suit clean extrem nice reason rate husband spent quit bit time indoor pool person prefer lay sundeck servic excel friendli need met promptli would definit recommend hotel anyon look great experi downtown chicago area', 'recent stay fairmont chicago millennium park travel busi incred experi friend stay year ago show photo believ amaz renov love modern decor style main reason choos hotel call fairmont pure room mani aw allergi attack travel optimist could actual make truli hypoallergen allergi free room say felt great entir stay enjoy delici bottl wine incred chees appet eno treat get amaz food wine without even walk hotel hotel truli beauti everyth would expect high end big citi hotel stay fairmont chicago millennium park disappoint us respect disappoint reason go back chicago anytim soon feel make reserv anoth visit near futur', 'hotel nice servic great everyon friendli room eleg classi bed comfort room also flat screen tv bose sound system bad overal great experi pleasant staff perfectli comfort room left well rest happi', 'realli enjoy stay beauti hotel entir staff help polit great suggest eat etc within walk distanc mani great chicago locat like navi pier art institut room clean bed comfort would recommend hotel anyon look great home away home chicago', 'locat right heart downtown chicago visit hotel busi trip first thing notic friendli staff clean room even compar luxuri hotel see night layov meet decid stop terrac get drink got mojito must say impress share mojito one better one retir back room found sound system excel bed soft tv appear burn overal give five five staff help friendli whole time atmospher perfect wish could stay longer', 'stay conrad chicago hotel last winter famili happier choic staff polit helpful room comfort felt like home love area chicago hotel wasnt alot crim around felt safe new citi', 'husband stay hyatt regenc attend famili wed chicago moment enter beauti lobbi treat return friend room readi upon arriv impress view onlin locat conveni access chicago shop dine area dine seston chop hous highli recommend staff hotel profession work make stay grand experi hyatt regenc chicago place stay return windi citi', 'fairmont chicago great choic wife resist eleg aria restaur accommod room impecc clean citi view utterli amaz moment check staff produc posit atmospher genuin hospit wife even suggest wed recept beauti ball room overal would rate fairmont chicago', 'girlfriend stay hyatt chicago shop trip citi june found great deal orbitz com decid give tri locat perfect michigan avenu chicago river easi walk mag mile get shop without pay cab rent car hotel right next palm restaur within walk distanc sever place eat fanci china grill yum afford corner bakeri room recent remodel clean spaciou lucki get room good view sure ask view offic build next door lobbi typic hyatt big spaciou lot plant servic good around excel experi great deal', 'quit simpli hyatt regenc chicago busi travel best friend recent attend seminar chicago stay hyatt say impress would understat central locat heart downtown hyatt perfect art ultim guest satisfact arriv staff goe overdr make feel like guest huge hotel room big elegantli furnish percent cotton linen room came equip flat screen tv wi fi high speed internet room servic quit extens menu went way accomod also car rental site restaur cocktail bar hour dine room state art confer room high tech featur also cater limo servic staff multilingu concierg servic profession pamper head toe part hotel definit worth price definit return busi travel tourist want pamper regret could stay much longer', 'talbott hotel classi profession luxuri love staff nice respect treat like royalti check greet peopl work behind front desk offer tour hotel took bag put room take tour even escort room right done nice modern look room spaciou clean unlik hotel area recommend hotel famili friend would recommend anyon go stay area', 'go chicago one weekend graduat ceremoni cousin sudden trip even time book hotel hand show chicago ask taxi driver take nearest good hotel took omni chicago hotel impress clean problem get room even though reserv staff friendli entir time hotel short two night clean servic top notch', 'omni chicago hotel delight stay second step place take breath away modern antiqu twist room spaciou comfort clean everi member staff courteou polit proud place work happi often see room servic phenomen visit chicago amaz stay omni hotel made visit much better luxuri pool ad plu well also enjoy gym facil definit stay omni hotel next visit', 'look luxuri downtown chicago experi conrad chicago place stay room equip comfort bed dress luxuri bed inch flat screen televis spa like bathroom marbl vaniti soak tub view downtown chicago take breath away hotel mani amen enjoy includ great restaur bar high speed internet fit facil laundri servic hotel great place stay would recommend anyon look high qualiti place stay downtown chicago', 'husband visit fairmont chicago millennium park honeymoon custom servic amaz time book packeg time check everyth absolut amaz peopl profici respect thought fairmont loung wine room bar restaur decid want go first put bag head wine room total delici also got free wine honeymoon glass wine hit spa excel everyth smell like honeysuckl everyon smile time stay gold room although littl bit smaller thought would definit satisfi huge king bed even bigger pillow husband relax fluffi white bath robe sip champagn watch sparkl light citi wonder experi never forget four thumb', 'luxuri comfort combin give wonder sens relax guest omni chicago hotel room cleanest well furnish ever seen four diamond hotel loung accommod late hour perfect relax day work workout room absolut huge treadmil tv watch work fantast overal experi omni amaz definit come back next time chicago', 'omni chicago hotel amaz littl get away right magnific mile chicago hotel warm homey well modern fill amen bed comfort flat screen televis room least time stay windi citi spa provid relax getaway well indoor pool provid someth fun age custom servic excel garag secur unlimit priviledg made nice abl access car much want without penalti well worth plan stay', 'stay omni chicago hotel recent great experi husband would highli recommend hotel anyon visit downtown chicago frequent travel use stay well maintain luxuri properti mani amen omni chicago definit fit bill first hotel suit stay one premium suit accommod definit luxuri premium bed nice robe use choic pillow use hypo allergen one believ could also chosen foam feather pleas find tv plasma found hotel upgrad plasma wish use one old fashion type tv anymor use plasma home actual two tv suit also addit amen appreci high speed internet access wet bar indoor swim pool two gorgeou sundeck relax outsid locat perfect right midst miracl mile much practic omni doorstep also treat windi citi massag done comfort luxuri suit masseus excel use high qualiti product sensit skin extrem relax pleas find could get omni easi us see omni came highli recommend also want mention staff help friendli recommend sever excel area restaur howev think best meal omni restaur husband rave bone ribey carrot soup lake eri silver bass extens wine list easili abl choos wine love staff guidanc lastli hotel staff also highli recommend visit nearbi art institut chicago highlight trip love multipl museum close omni frequent visitor omni futur definit get room massag go pass recommend friend famili choos omni great chicago experi', 'omni chicago hotel busi woman travel great deal month therefor accommod must meet highest standard book stay omni chicago hotel locat refer magnific mile greater chicago area magnific beauti red brick sky scraper inde breath take sight upon entranc fell warmth hospit welcom staff impress hotel special rate offer prime busi hour guest room rang everyth presidenti suit governor suit accept humbl room would need spend much time day stay insid night amen satisfactori enjoy spaciou exercis room would take quick dip pool tour hotel niec plan wed happen live close hotel chagal ballroom eleg enough occas reek pure luxuri given adequ map direct busi conduct throughout citi life saver experi favor would definit stay recommend anyon', 'recent made busi trip chicago stay downtown fairmont hotel visit aroma harmoni massag experi greatli reliev stress busi meet day candac work wonder neck muscl especi amen sought trip time limit howev entir staff hotel treat valu guest defin stay hotel area highli recommend spa', 'husband stay conrad chicago st anniversari trip wonder experi thank staff hotel great locat mani place eat social within walk distanc room also clean quiet staff help accommod request definit stay next time visit chicago also stay must eat restaur fabul food', 'hyatt regenc chicago wonder hotel husband recent stay summer vacat better staff polit help room clean best bed ever slept mention view amaz rate hotel definit give five star next time town definit stay', 'atmospher hotel truli remark modern feel room well design bed averag hotel room bed mean pillow top bed made alreadi relax comfort stay much enjoy', 'travel busi famili join stay fairmont chicago millennium park breathtakingli beauti plush rate room though cheapest choic quit reason fabul amen room decor eleg modern wife say spa divin guest hotel abl live luxuri everi room equip complementari coffe access high speed internet bathrob inch flat screen televis enjoy gorgeou citi view live good life fairmont chicago millennium park', 'fairmont chicago millenium park hotel provid rich beauti cultur atmospher stay felt like royalti unparallel design scheme beauti tranquil view mood entir stay one bliss guest servic depart second none staff throughout hotel obvious concern pleas custom make stay wonder possibl deal staff member fairmont felt guest place food drink select vast fit king definit recommend fairmont chicago millenium park friend colleagu also greatli look forward next stay', 'husband got marri love atmospher suit felt like home away home nice pool room clean staff courteou thank much great job wed ami c lo angela california', 'hyatt regenc chicago wonder experi husband travel area vacat check simpli relax beauti atrium go room delight room clean ultra modern furnish sleek comfort furnitur realli impress us room spaciou stun river front view press time make dinner decid bistro sound like best option turn great choic food simpli fabul dinner abl tri fit center end make gym home seem inadequ need rest base chicago vacat definit stay', 'husband stay omni chicago hotel last weekend felt compel write review wonder hotel say impress cleanli beauti decor hotel mention friendliest help staff ever encount frequent stay hotel busi never wonder experi omni chicago hotel minut walk beauti front door time check absolut treat like royalti one hotel would definit rate star sure absolut back futur', 'moment step hotel felt like walk castl everyon serv check done matter second receptionist friendli one bag still insist help carri room love sinc quit long flight made sure everyth need wish happi stay hyatt regenc chicago settl rest call room servic order dinner provid quickli tast like someth star restaur overal experi posit would glad return hyatt upon next visit', 'hyatt regenc chicago hotel offer pda kiosk check great also offer hypo allergen room air purif system gave us much delight stay enjoy stay fit gym ihom stereo ipod dock station flat screen tv video demand wi fi concierg staff help assist us find excel award win dine popular attract area enjoy stay definetli return hotel futur famili busi trip', 'hyatt regenc chicago one beauti hotel ever stay stay day two night room amaz view clean furnish beauti staff kind help concierg staff kind help find enjoy thing chicago overal beauti hotel beauti citi', 'amaz hotel first great part locat close great shop citi offer view terrac suit night breathtak look chicago even florist bought wife rose menu lobbi everyth fantast room clean arriv everi time came back day use fit center look nice howev visit bar return chicago', 'three night stay fairmont chicago millennium park perfect way end weekend hotel classi warm atmospher color tone pleas mind sooth eye staff readi help notic alway greet cheer smile myspa getaway life time complaint would bed cover bit stiff new clean soft bed whisk away deep slumber time well worth money know next stay much longer', 'stay omni chicago hotel wonder last minut busi trip downtown chicago first place look look pictur show onlin room facil simpli fell love place indoor pool outdoor sun deck massag place realli could possibl need whether vacat need littl stress reliev busi week mean even high speed wireless internet would definit recommend omni chicago hotel want great place stay near downtown chicago', 'write review tire bodi walk door fairmont felt like walk heaven gate lobbi majest staff friendli instantli energ front desk staff help quick find reserv get bag room nice inform health club spa oh wonder spa treatment offer incred took advantag sooth pedicur visit first well massag amaz size meet confer room use afternoon room clean bed better one home food downstair restaur smell good tire meet instead room servic went food mouth water delici wait staff hospit take great pride everyth even wake call friendli stay great want go back soon', 'husband recent travel chicago mini vacat stay omni chicago hotel downtown area hotel simpli beauti time walk front door day left treat royalti never treat well greet staff sincer seem love job stay superior corner suit view citi amaz thing ever seen room spaciou clean king size bed extrem comfort room seem like hotel feel home separ live room area wonder husband sat one night stare window skylin mesmer order room servic long day shop hotel conveni lot great shop everyth walk distanc food die eat star fine dine restaur manag go drink loung loung classi feel relax yet sophist even receiv massag room conveni home internet tv even think use want get away everyday live romant vacat husband ever taken cannot express happi stay hotel option glad decid stay rate room inexpens amount luxuri abl experi experi priceless definit share experi anyon everyon recommend hotel', 'omni chicago hotel offer great amen comfort expect luxuri hotel particularli speedi easi wireless internet access nice size plasma tv window big enough give spectacular view citi skylin reclin great sofa comfort luxuri live room sleep king size bed either feather foam pillow particularli relax take bath shower spaciou bathroom room massag appoint add addit relax aspect stay even exercis kit within room extra convinc howev vast fit center worthi use well whirlpool jacuzzi indoor swim pool sunbath easi activ achiev via two rooftop sundeck nice aspect common find abil small pet stay hotel omni chicago great way add bit luxuri type vacat particularli want separ pet within area', 'went chicago busi last year pleasur stay luxuri hyatt regenc hotel opt busi plan although mani differ room descript avail choos allergi friendli monarch suit state suit way presidenti suit suit perfect blend busi comfort equip wi fi gener inch televis spaciou work area two queen size bed sink feel tension eas bodi dine stetson chop shop restaur meal portion gener well prepar staff curtiou accommod breakfast opt meal brought room start busi day delici hot meal strong gourmet coffe would highli recommend wonder anyon plan overnight chicago stay', 'locat hotel superb room spaciou view spectacular staff hotel treat famili upmost respect one front desk staff even help five year old tie shoe wait porter stay advis friend', 'recent stay fairmont chicago millennium park everyth desir luxuri shop weekend chicago love contemporari style room complet modern conveni like inch flat screen televis ipod dock station appreci walk distanc chicago premier shop area concierg extrem help book dinner reserv bellman excel provid privat car servic servic receiv myspa best world dinner aria restaur delici short fairmont chicago millennium park perfect luxuri vacat meet need', 'recent stay hyatt regenc downtown chicago stay wonder thank friendli staff need research work free wi fi made easi bed nice soft even pillow fluffi abl put valuabl room safe local restaur amaz recommend friend stay futur', 'spent weekend wife love much sever week ago work trip book compani show staff big client choic wife said want come chicago knew place take hotel remodel complet redesign thing move around make flow public space work better two room seen showplac amaz hotel part luxuri chain easi see offer full room servic conveni hour everi eat area great whether busi pleasur beat luxuri hotel luxuri featur expect wife stun', 'omni chicago hand best hotel opinion chicago area neat freak need worri cleanli best keep room tidi check easi fast staff hotel courteou friendli forgot hair dryer thank one mani perk hotel provid one room small benefit compar luciou pool dreami massag offer never massag like favorti thing omni high speed wireless internet avail guest abl work onlin area hotel save lot time offic still lot work get done also love tv provid room big plasma beauti crisp pictur even home needless say spent night loung comfort bed watch movi fall asleep wake newspap deliv hotel door morn come back omni next trip chicago promis', 'hotel absolut amaz paid stay hotel cost arm leg get crappi servic return howev comfort friendli vacat fact vacat start lodg good vacat poor lodg bed comfort clean upscal still homey enough relax servic staff top view room absolut gorgeou must commend cleanli nice place stay worth everi penni definit come back', 'hotel amaz would recommend everyon stay least one night chanc stay first honeymoon accommod expect plu floor friendli staff definit went extra mile make everyth perfect without hassl restaur fairmont amaz well stay hotel food wine best portray make choic stay thing would differ schedul stay twice long relax alreadi book anoth stay next year enjoy much', 'wife book delux access room beauti hotel three night wonder photo hotel justic ideal stay room spaciou clean bathroom sparkl everi amen one could imagin bed felt like deliv view downtown chicago spectacular top hotel staff extrem help explain best rout restaur want eat even went far secur us reserv place knew would busi believ everyth good read visit chicago stay conrad chicago', 'recent stay hyatt regenc chicago busi extend stay weekend love accommod exceed expect bed comfort room big enough shower relax great meal chop shop coffe delici j express fit center clean inspir recommend hotel other area', 'husband recent visit fairmont chicago millennium park hotel one busi trip sometim go see new place splurg mini vacat hard work worri like return littl souvenir asid love citi chicago hotel amaz gotten quit late even flight houston tire staff genuin friendli profession prompt quickli check knew beauti room tire realli take bed asleep minut bed quit welcom next morn abl realli take beauti featur hotel gorgeou everyth clean wonder decor lobbi somehow make sleepi eye night love later even decid eat sushi restaur sushi one husband favorit tend picki pass test accord also enjoy glass wine well everyth tast great excel qualiti two night stay downfal one occas enough towel use lot towel suppos howev simpl phone call prompt quick deliveri fluffi addit one howev minor bump road entir enjoy relax stay overal love go mayb next time talk husband take advantag spa wink', 'visit conrad chicago heart downtown luxuri experi bar none lobbi immacul fill ream class style room beauti adorn especi like flat screen tv wire internet never happi wireless connect nice find hotel know guest need fast reliabl internet connect includ addit charg view room magnific downtown chicago night restaur spectacular terrac place weather permit cannot get breathtak view abl relax gentl breez even dine finest gourmet food forget visit health fit center select aerob anaerob workout equip staff attent everi need concierg get whatev need ask place stay chicago want pamper luxuri', 'husband went chicago three night quick get away chose fairmont chicago millennium park locat heart citi downtown chicago hotel eleg modern bed extrem comfort abl wake music ipod would definit stay', 'famili vacat chicago stay omni chicago hotel upon arriv greet happili kid receiv free bagpack stay love staff great alway greet us walk hotel even rememb name locat hotel amaz right magnific mile realli enjoy stay kid love indoor pool would definit stay chanc would recommend anyon know go chicago area', 'hyatt regenc chicago hotel delight stay never chicago locat fantast sort differ room non smoke smoke hypo allergen room never seen mani option room room stay well worth nightli price locat close activ husband plan vacat never treat much like royalti chicago hyatt regenc', 'windi citi fairmont hotel one chicago best recent renov bring modern day luxuri fine dine atmospher hotel delux suit view breath take hotel accommod guest matter desir fabul restaur th floor din best look great chicago area next time windi citi come stay us pamper fine staff', 'conrad chicago one nicer hotel pleasur stay recent room well furnish brightli lit point garish conveni locat plu', 'recent chicago busi base proxim aesthet decid reserv room conrad hotel chicago delight everi aspect two night stay everi conceiv amen avail plasma flat screen wire wireless internet connect avail abl stay constant contact offic enviabl lap luxuri room comfort clean warm invit home away home chicago area reserv room conrad hotel resort disappoint', 'hotel incred better stay hotel life definit come next time chicago room eleg modern color scheme staff member friendli will lend hand bed surprisingli comfort interest cover tv hd step hotel stay cool martini bar spent hour one night enjoy especi live jazz band', 'stay sheraton chicago hotel tower wonder stay tradit guest room slept good abl get meet well rest thank sheraton bobbi', 'famili realli enjoy hotel weekend chicago check quick easi staff friendli help room clean bed comfort great view chicago next time come chicago definit stay', 'stay sheraton chicago hotel tower recent trip chicago great stay room beauti bed comfort view citi fantast room overlook river citi felt like luxuri vacat hotel differ restaur ate chicago burger compani delici burger juici price great indoor pool great way relax entertain kid sightse activ overal wonder stay', 'sister got marri last summer stay sheraton hotel delight billi kid exhaust long flight san francisco good thing found perfect place relax kid ador indoor pool billi stop talk beauti jog path even pamper take advantag massag therapi big day recept dinner shula steakhous fun delici would definit recommend hotel one chicago extend visit', 'husband love hotel staff friendli food room servic menu reason price got extra free coffeepot room immedi ask highli recommend', 'hotel best hotel ever opinion realli enjoy everyth thing also mani differ reason like hotel entranc everi detail insid way room everyth seem pocess kind style forget modern feel complet astonish build pick one compar one realli would go one like person would see believ lot modern design thank review real', 'upon enter homewood suit greet incred friendli staff breath taken beauti hotel saw room immedi reliev provid amen need week long busi stay refriger microwav stove dishwash flat panel tv best hotel site fit center abl work extra calori consum delici complimentari breakfast resist omelett hotel heart chicago must say citi view room priceless definit recommend', 'first check check process smooth take time front desk friendli kind make sure know room way room spot chair tabl seat visit guest prefer room room self spaciou clean pool area clean neat alway towel never seem run servic beyond except would recommend stay homewood suit hilton chicago downtown anyon', 'stay beauti millennium knickerbock hotel locat scenic downtown chicago close shop local attract like shedd aquarium even navi pier hotel featur luxuri amen like ball room room massag took advantag woman man continent breakfast avail nomin fee unless purchas packag deal upscal restaur nix would definit book suit highli recommend hotel friend famili', 'travel often whenev travel prefer stay hilton properti alway satisfi stay hilton locat howev never stay homewood suit locat properti awesom great satisf arriv lobbi area excel greet front desk staff wonder room great condit absolut complaint figur properti like recogn great job staff definit return futur', 'famili stay visit chicago perfect locat mani thing want easi get around safe neighborhood great accomod staff friendli went extra mile make sure everyth need bed comfort would definit stay', 'stay homewood suit absolut one greatest stay away home locat right heart downtown chicago within river north shop district love shop need magnific room layout kitchen room fulli equipt anyth need nice flat screen breakfast buffet fantast complimentari dinner wine dinner wine enjoy comfort heat indoor pool relax would recommend suit everyon know', 'boyfriend want spend four day weekend downtown chicago touristi thing shop magnifici mile see shedd aquarium go museum scienc industri homewood suit conveni locat near thing luxuri treat weekend even swam rooftop indoor pool also nice amen suit could prepar meal day staff friendli courteou even gave extra pillow request would definit stay', 'work softwar market firm job requir travel least day per year spend larg amount time hotel normal write review hotel homewood suit hilton beyond let start matter room top notch noth better walk clean beauti room long day travel bed among best ever slept hotel rest room nice make feel home price low look similar room area hotel everyth els least expens get pay get much locat better want go world class restaur within walk distanc want great shop experi walk distanc anyth els want chanc within walk distanc overal one best hotel ever stay', 'stay busi trip chicago first staff friendli help knowledg thing area need find someth king bed room clean cozi view great definit hotel stay work take back chicago', 'famili recent attend wed chicago stay swissotel much nicer expect use stay mid class hotel far one nicest place stay bed comfort crib provid infant son great qualiti concern would get ricketi crib bed sheet soft want take home definit go back hotel next time chicago', 'may concern name jami brown recent guest juli th juli th staff made stay comfort didnt want leav kitchen room complimentari groceri shop servic made rethink leav togeth didnt feel like cook complimentari welcom home dinner glass wine help clear mind paper work look forward free wireless internet access room sit pool help get done help get lap well realli ask anyth felt like queen never though could feel way stay hotel thank much treat kindli gladli visit soon pleasur way less busi sincer jami brown', 'must say hotel absolut beauti wife blown away penthous fit center pool way nd floor well design room great linen pillow bathroom nice chang pace bore hotel bathroom usual see overal excel experi great view close everyth could want chicago', 'stay sheraton chicago hotel tower coupl night ago servic excel soon step door grab bag help choos best hotel room love servic room gorgeou highli recommend anyon price bad other love experi sure next time area visit', 'nice hotel better expect hot breakfast great morn dinner night goe beyond even free wine room pretti good size well furnish clean like view room use fit center although everyth would like adequ say pool realli nice offer pretti sweet view staff friendli help first time chicago abl point right direct save frustrat would definit recommend hotel', 'homewood suit hilton downtown chicago one comfort afford hotel windi citi ask doorman discov guest suit entir establish featur two room layout fulli equip kitchen full size refriger caus doubl take stove lcd televis definit place home away home chicago mind blow hotel extravag rate low night pay stay septemb atmospher warm cozi staff friendli profession', 'wife stay sheraton chicago hotel tower prove perfect complement time spent visit explor windi citi upon arriv immedi welcom beauti design first floor lobbi friendli demeanor desk bell servic staff seemingli time clean well furnish room beauti peac view lake michigan term accommod never person stay hotel could complement first night wife took advantag messag therapi session swam lap heat indoor swim pool follow time apart relax time chi bar enliven laid back atmospher retir room help remark wife qualiti room bed particular comfort night sleep woke time thank spot wake call desk staff quick bite eat lb bistro head sight see overal recommend sheraton chicago hotel tower enough far custom concern place stay chicago area look accommod best custom servic atmospher amen recommend', 'first time visit chicago would say definit go back air water show realli enjoy importantli hotel stay millennium knickerbock accommod human guest pet first reluct give us accommod pet dog surpris turn way experienc deni reserv dog realli frustrat nice still hotel pet friendli would definit recommend hotel friend plan visit chicago', 'stay hotel weekend thought realli nice bed extrem comfort room clean room also beauti view everyth could possibl need want leav room definitli worth price would go back clientel also help', 'hotel one superior hotel price reason benefit fantast husband got packag let us get hotel view view amaz wake see lake michigan site miss room alway clean got back shop bloomingdal place chicago custom servic top notch friendli', 'downtown chicago multitud avail hotel howev youv decid step away ordinari fantast way get away book stay homewood suit combin luxuri afford evid soon youv enter glamour lobbi downtown homewood suit locat near attract make chicago divers cultur rich town world known hotel offer free fit center high speed wireless internet well complimentari buffet breakfast member hilton famili ensur utmost qualiti servic observ million custom around world', 'absolut gorgeou hotel amaz view citi especi night room luxuri extrem comfort bed desk chair larg bathroom comfort chair read lamp also area snack coffe maker includ starbuck coffe would definit come back', 'would first like say invit room wife enjoy warmer color cleanli excel staff made feel away home yet relax right downtown perfect locat suit quiet well surpris wife shop packag hit thank homewood suit hilton chicago downtown', 'absolut love stay swissotel chicago entir hotel eleg luxuri feel room absolut stun first spotless clean design beauti gorgeou artwork wall even design modern averag hotel decor separ bath separ shower love huge lcd flat screen tv high speed wireless internet avail even ipod dock station great listen music conveni sinc brought ipod view window chicago beauti servic quick everyon friendli problem sure custom servic hotel would fix quick could tell top prioriti guest happi satisfact even two restaur hotel loung wait go back hotel felt like luxuri vacat', 'thank sheraton tower invit enjoy indoor pool guest hotel recent know skylin chicago could beauti afternoon pool enjoy back soon look forward see chicago', 'stay sheraton chicago hotel tower three day chicago busi quit possibl best hotel experi ever say lot consid fact stay hotel quit frequent staff extrem friendli accommod made sure absolut everyth could want need friendli came genuin manner fake forc like employe room die bed soft room extrem clean well kept cannot speak highli enough qualiti mattress bed mattress bed got best three night sleep ever view downtown chicago absolut amaz room way citi light sparkl stole heart made want move chicago food amaz also made point eat three hotel restaur visit bar favorit restaur three shula steak hous chi bar hotel bar amazingli design drink great would rate experi nowher els downtown chicago compar sheraton', 'know begin write someth neg millenium knickerbock hotel chicago everyth hotel fantast outsid build hotel lobbi way room clean plush room place stay hotel eat eleg dine area great breakfast first thing morn plenti around town take shop spree michigan ave head one museum pier look around whatev decid go wrong place wonder', 'stay last weekend septemb bear vs packer monday night game room rock pretti big flat screen super soft bed room clean stylish staff courteou check check favorit part amaz bathroom way better mine home definit great escap weekend would recommend hotel anyon look relax', 'eleg modern hotel great staff locat wonder health club locat hotel everyth need get complet workout stay due wonder experi decent price', 'ask stay swissotel chicago immedi went websit check found decent noth realli stood actual went eye open amaz custom servic receiv except everi whim detail ask help perfectli room neatli fix arriv clean everi day ask towel maid happi help ever area know exactli stay swissotel', 'homewood suit hilton chicago downtown wonder hotel hotel eleg classi offer best hotel offer complimentari breakfast delici meal wine afternoon suit real design upscal look wonder cozi yet grace hotel leav experi lifeltim would recommend awesom hotel anyon look beauti yet comfort hotel experi', 'stay swissotel chicago busi nice staff help room clean would stay heart beat', 'first let say wonder wife refer hotel friend travel chicago mani time mani experi good bad differ hotel amaz knickerbock felt like royalti first step properti everyon will make stay remember hotel made routin trip chicago dream vacat wait return', 'ever hotel stay sheraton chicago hotel tower beauti hotel ever seen hotel ever need want pick room decor great tast room refresh center high speed internet inch televis coffer maker great coffe starbuck could get suit presidenti suit room ever need room squar feet look chicago river plenti activ great fit center big indoor heat pool sauna wonder want sight see area walk navi pier art institut come back hungri eat eleg steakhous best food ever ate drink great bar creat burger chicago burger compani staff friendli super help hotel cleanest ever seen come big thumb great hotel', 'walk beauti hotel knew would wonder stay chicago walk around citi day alway excit relax cleanli superbl comfort place servic friendli especi like locat treat', 'complet unfamiliar chicago need place stay husband work day pick sheraton chicago hotel tower base sole internet site wow get lucki beauti hotel amen could hope terrif food within walk distanc sever interest place includ art institut chicago ashley concierg desk particularli help guid chicago newbi best place eat and see heartili recommend sheraton chicago hotel tower', 'compani host seminar millennium knickerbock hotel chicago il particip seminar stay one luxuri room hotel room incred view downtown chicago style room modern husband abl stay back room enjoy larg flat screen televis attend seminar one hotel meet room saturday night compani held ball crystal ballroom food excel hotel chef best server polit right fill drink bring us food dinner overal stay millennium knickerbock hotel forev memori fun fill weekend great food clean room excel maid servic hotel personnel polit will fulfil everi need want definit stay', 'sheraton chicago hotel tower everyth could ask hotel meticul clean orderli still perfectli warm comfort room big spaciou bed soft like heaven test room servic sure would like everyth els perfect hotel staff nice spectacular view room look citi night magic restur easi access hotel especi recommend shula steak hous overal fantast stay sheraton hotel would definit stay', 'gorgeou hotel moment step insid warm color lobbi made us feel welcom sheraton chicago heavenli bed made view room much better top great restaur ask hotel starbuck coffe room extra touch guarante back everi time visit chicago', 'husband wonder time swissotel chicago husband went trade fair got classic doubl room two night definit worth money clean comfort chic new fixtur view pier magnific staff help prompt request extra towel pillow right next riversid restaur river pretti', 'stay millennium knickerbock last week realli wonder first staff excel need address quickli smile hotel realli perfect launch pad us take everyth chicago offer shop michigan avenu step room decid go shedd aquarium packag start day realli wonder breakfast hotel thoroughli enjoy access pass aquarium cool long day sightse quick stop wonder martini bar nice come back room eleg comfort sanctuari busi citi top incred shower ever use even better green say millennium knickerbock huge part made vacat wonder memor highli recommend', 'hotel worth everi cent experienc chicago luxuri stay town confer colleagu never leav hotel much anyth fine dine entertain name knickerbock got definit return wife frequent chicago visit famili', 'want downtown experi lifetim histor live bring back chicago earli look dine experi comfort stay servic immacul think thing get better walk away one excit citi america chicago fine dine late night rendezv excit nightlif sure excit whim met walk away memori lifetim believ valu custom josh', 'beauti view awesom servic husband stay swissotel chicago meet old friend colleg chicago time never stay hotel first architectur feel hotel amaz beauti view corner suit breathtak accomod flawless fact could apart like set rather cold hotel room made differ big tub bath entertain system work area everyth place make stay like home awesom view chicago skylin took advantag execut club dessert breakfast dinner one night palm restaur delici food definit stay swissotel next time visit chicago', 'enjoy pleasant night stay millennium knickerbock hotel chicago il hotel beauti insid felt celebr stay staff especi kind profession husband never felt comfort pleas transport us sinc flew chicago anniversari shedd aquarium packag excel bonu highli recommend hotel everyon go visit chicago', 'entranc room spaciou modern yet eleg easi get around mani place middl action chicago drink exot tickl tast bud inde one best vacat weekend getaway spot', 'stay millennium knickerbock hotel fun weekend chicago standard room nice king size bed nice comfort love hotel white sheet know clean realli like simpl modern decor especi huge upholst headboard nice fixtur bathroom granit counter bathroom much nicer bathroom home staff friendli realli judg servic problem complaint reason interact staff much overal nice hotel great locat definit stay next visit', 'hotel give lot reason price great downtown locat lot ad bonus love even cocktail hour free alcohol beverag appet also complimentari breakfast complimentari dinner fit center clean want leav room spaciou suit kitchen includ took advantag free groceri deliveri bed comfort room look like recent renov thing realli stood teamwork wonder staff back homewood suit next time come chicago', 'moment walk impress staff courteou knowledg atmospher welcom hotel spaciou glamor without look overindulg room nice comfort beauti view everyth would need kitchen found pool gym fantast could truli relax stay definit book anoth stay hotel', 'realli enjoy stay hotel separ live room bedroom made feel like rent nice furnish apart instead hotel room kitchen comfort sinc could prepar meal wish refriger microwav must sinc never finish meal go eat felt eas rather detatch feel hotel would recommend stay hotel want feel comfort welcom sophist atmospher', 'spent week millennium knickerbock hotel plesant stay first walk room clean bathroom decent size decorum pleasant room servic good view amaz would recomend stay', 'stay hilton like live luxuri day never want go back home much less leav hotel stay could work facil swim ad charg fact charg wifi morn breakfast groceri shop servic lobbi alway complimentari coffe tea soda meal felt like queen hotel deserv highest mark servic', 'stay millennium knickerbock night busi trip conveni locat block away offic visit everyth els matter lobbi absolut beauti staff beyond courteou extrem help room eleg spaciou instantli felt right home larg flat screen tv nice touch tv option mani head downstair bar drink amaz well kept well nice everybodi first time ask bartend area around gave great advic place check great experi next time area definit stay recommend millennium knickerbock anyon travel chicago', 'frequent travel busi pleasur clean comfort accommod reason price import homewood suit chicago provid room spaciou immacul kept tool could need prepar meal full size kitchen busi work day wonder abl kick back front huge flat screen televis relax spectacular backdrop citi outsid definit book room next time chicago definit continu stay homewood suit citi', 'sheraton chicago hotel tower favorit place stay chicago travel chicago often visit son train u navi make everi stay feel like luxoriu vacat indoor pool sauna amaz never miss workout gym fulli equip dine lb bistro must tri egg benedict staff friendli price reason hotel statur', 'swissotel chicago delight visit locat downtown chicago hotel nine differ style room accommod serv everyon tast children friendli room well exquisit presidenti suit room except view downtown chicago hotel also penthous fit center pool entertain place stop eat palm geneva lobbi loung', 'hotel wonder room clean staff courteou food provid restaur except best hotel stay ive experienc highli suggest hotel other', 'sheraton chicago hotel tower awesom place stay noth bad great valu bed comfort room nice open pool great food great famili love stay would recommend everyon know', 'enter lobbi millennium knickerbock hotel immedi see special place go pamper staff friendli help seem genuin happi assist way check process smooth friendli expect enter room decor catch eye luxuri yet stuffi describ restroom tub larg made marbl whole room tast made make feel special yet home highli recommend millennium knickerbock hotel anybodi look escap', 'hotel discrimin busi travel offer spaciou room eleg refin cozi area complet chair fireplac perfect place entertain client discuss strategi busi meet colleagu restaur offer locat impress perspect client eleg refin heart downtown chicago', 'stay sheraton chicago hotel two night must say servic render quit impress attent friendli staff member room stay spaciou husband hotel restaur serv delici steak tast order classic fillet mignon cook perfect would definit stay hotel ever come back chicago would absolut highli recommend friend famili', 'home away home suit amaz great view citi food deliou serv excel staff love heat pool top floor relax long day meet great place stay chicago', 'knickerbock hotel one favorit hotel visit wife util park play packag gave us amaz room complimentari valet servic great kit plan weekend around well worth price wish go back room top notch hotel staff excel one employe craig help us find way around citi show knickerbock realli care guest love visit sure', 'stay swissotel downtown chicago much typic stay much experi hotel locat great area get local attract hotel mani amaz accommod dispos two gourmet site restaur loung relax get great food room size bed among comfort ever find final servic award win anyth alreadi swissotel fingertip assist overal would highli recommend hotel anyon look typic hotel', 'everyth would would expect top notch hotel exceed servic trendi decor easi access dine gave us second wind pick day sight see hotel definit place want come back time left day night wife wish time enjoy restaur time delight swiss flare one thing enjoy see water window feel pamper come graciou hotel staff hotel number mind', 'stay millennium knickerbock hotel total three day stay wonder time room impecc clean well pillow sheet bed larg extrem comfort staff though honest opinion made stay pleasant peopl check waiter restaur got best custom servic hotel also conveni locat within walk distanc shop center would definit recommend hotel anyon stay around area chicago', 'accompani husband busi trip chicago back septemb stay millennium knickerbock hotel place absolut ooz old fashion charm also plenti shop opportun within walk distanc shop husband work get better love servic receiv ambianc grand old hotel definit stay', 'hungri tire check chicago sheraton nice clerk front desk got us check effici warm smile made us dinner reserv shula give us time shower chang arrang bellhop take bag room us servic enjoy steak bottl wine recommend waiter shula truli love meal return room delight find towel replenish bed turn enjoy view room turn rest night sleep incred comfort bed kudo chicago sheraton get everyth right', 'swissotel chicago far best hotel ever stay chicago clean modern staff friendli even larg famili cranki kid late hour room fantast beat price room fantast view room look skylin breathtak especi night best part hotel locat locat within walk distanc mani fun attract includ navi pier sear tower stay wonder wait go back', 'perfect place coupl get away locat better three block navi pier magnific mile realli romant servic awesom clean quiet big room comfort atmospher huge bathroom great experi would definit stay', 'ever go visit chicago need place stay recommend hotel hotel made stay chicago one alway rememb room big luxuri everybodi friendli show fabul display custom servic room servic alway got said would nice hour could get anyth whenev want price hotel stay unbeat especi got great servic save lot compar rate hotel area two restaur exquisit ever go chicago area need hotel stay recommend hotel', 'sheraton chicago hotel tower magnific grand hotel size room view citi phenomen night citi light sight majest hotel employe wonder well worth pay stay place hotel much offer great dine fantast gym set us realli like stay fit matter wife left recent alreadi plan stay next trip big thumb run place help us enjoy stay', 'homewood suit one favorit hotel chicago great place stay famili last time famili visit chicago stay pick shedd aquarium packag amaz time aquarium great save lot money buy packag also appreci fact room kitchen two realli picki children nice abl cook least option also enjoy mani neat facil homewood suit chicago downtown nice pool great workout room breakfast buffet wine beer dinner even stay anywher els visit windi citi', 'enjoy stay swissotel downtown chicago eleg classi servic impecc famili friendli us spaciou room kid room smoke polici short walk away shop entertain whole famili enjoy virtual citi tour help us decid want see food delici go outsid hotel find good food visit chicago come back luxuri experi reason price linda davi', 'swissotel chicago hotel aspir tourist paradis hotel grand luxuri rather stay return home end trip realli magnific suggest true get massag room flat screen v ipod dock heck even gym truth realli pay much thing realli need swissotel attempt lure illus grandeur realli get holiday inn style room fanci wallpap abil play tune mp player overpr dine option avail palm restaur claim serv excel lobster yet order size craw fish left tast burnt fifti dollar bill mouth hotel hide behind velvet curtain hope facad reveal', 'stay husband homewood suit chicago want someth nice anniversari thought hilton solid name brand expect pleasant stay unfortun case staff rude check took minut lobbi smell muski gross room like hilton hotel stay carpet atroci color vomit room smell smoke even though advertis smoke free long brown hair bed gross call rude staff ask linen chang gave us huge attitud even get start poorli shower bathtub work nice anniversari went total awri due crummi hotel could give star would', 'recent stay sheraton chicago hotel first time stay hotel sorri say last time stay one main issu hotel amount nois wall must thin lie bed night could hear neighbor next room talk although could quit make word convers could definit hear voic murmer addit awaken sever time peopl convers hallway walk door presum way room admittedli light sleeper ridicul decid stay suggest check bill care check check mine found charg rate higher one suppos charg wait line front desk someon help front desk servic woefulli slow final ask speak supervisor error could correct final though told upon check room recent updat cannot believ statement accur room appear rather date furnish decor carpet appear somewhat worn round stay hotel disappoint next time arrang stay elsewher', 'amount money per night millennium knickerbock hotel charg one would least expect room work bathroom toilet flush sink drip towel rough cheap look call front desk ask mainten sink toilet staff indiffer hour anyon arriv fix bathroom fixtur arriv unabl stop drip sink disappoint stay', 'stay away hotel month back wife decid get nice pamper away home weekend look differ option weekend decid go sheraton chicago hotel tower claim experi extraordinari sound great arriv hotel met buy close front door nobodi help bag front desk clerk explain room yet readi goto bar complemenatri drink wait hour room final start relax well upon enter room smell someth horribl overwhelm front desk inform us room would bring air freshner pack bag head x hotel abl get pamper weekend away home', 'plan fun time kid summer book kid suit swissotel chicago fun time exactli upon arriv weekend getaway find reserv made onlin confirm held hand kid suit mean thing appar none kid suit avail kid suit suppos thing keep kid happi room color video game etc one front desk could explain us kid suit avail whatev took regular suit promis would move soon one becam avail guess spent whole weekend room ye staff apolog one seem overli concern children dissapoint compens extra offer make us less cranki fact none hotel staff friendli room clean spend lot time hotel book room staff impress feel like treat well', 'realli high hope homewood suit stay week long busi trip last month consid price technic hilton would expect someth beyond typic cut rate bargain motel start good stuff hotel downtown bad stuff first everyon rude sure manag intent hire rude peopl poison cultur insid hotel grind otherwis decent peopl cynic pulp bellboy scowl lobbi rough luggag scowl tip likewis receptionist seem fluster head call supervisor twice check reserv appar new much experi use comput excus turn would two minut process decent hotel minut tedium sadli room better servic hot water sink work shower lukewarm one bulb dead light fixtur sink complimentari mood light guess tv bust sure lcd espn logo bottom right corner screen burn stay everi channel top bed smell funni call front desk least phone work ask fresh sheet person talk said right never came eventu gave woke next morn back pain bed firm marshmallow left room made way chilli hallway complimentari buffet liter food bad even cereal tast stale look around everyon din room appear similar experi sight two dozen disappoint peopl sip weak coffe prod water scrambl egg plastic fork sight becom refuge camp expens hotel plain sad worst part thing next four day', 'chose stay millennium knickerbock hotel recent trip chicago heard good review boy review wrong terribl servic moment walk door greet receptionist like even room readi got even though got requir check time allow go room filthi even clean know hold towel shampoo soap bathroom worst part bug tub place disgust place ever suppos one nicest nicest price charg recommend stay stay risk', 'grant hotel seem nice pleas stay custom servic horribl request towel washcloth sever time receiv linen replac either much paid stay think least get iron request iron addit fail amen mistakenli charg twice stay reimburs entir week later next time choos visit chicago swissotel last place think stay', 'stay three night recent hilton homewood suit downtown chicago overal rate establish highli person front desk disorgan took minut even find reserv final got key desk person thrust keycard like happi rid get better got suit bed poorli made found coupl long blond hair one pillow room stuffi swear might even vagu pet smell shower clean notabl hard water stain shower door bathroom sink small continu drip also carpet seem fresh even high traffic dirt notic also visit small gym workout area disappoint also limit equip poor repair floor even slipperi made definit trip hazard indoor pool look good dip water felt bit slimi good smell amen unfriendli servic sub standard cleanli make hotel one would definit recommend anyon pair sky high room rate place earn repeat guest', 'superhigh bill millennium knickerbock hotel chicago wife decid take weekend getaway celebr anniversari told wife would take care everyth book millennium knickerbock great locat reason price star hotel spa featur hotel lobi seem nice enough staff seem fine problem us start went room sinu problem notic smell room wife say anyth want go flow ruin weekend find remot televis call tri good sport disappoint realiz hotel pool hot tub swim relax hot tub one reason go vacat upon check hit dollar fee smoke room wife smoke noth could get smoke fee bad enough hit fee miss remot control', 'know hotel ever got high rate other hotel price fingerprint wall stain bathroom funki loud peopl hallway earli morn park valet time consum thing elev back furnitur breakfast better skip protein less stuff offer oh sure hilton woope pay privileg sleep saw coupl bed bug took shower morn seem wash away back hilton homewood suit rather stay somewher outsid citi save money think happier well', 'stay homewood suit downtown chicago last week extrem disappoint experi breakfast buffet minim seem frequent restock came downstair minut end breakfast period find half food option complet deplet also milk provid coffe cereal warm kept counter would better bring food also layout room extrem awkward move furnitur around abl watch tv move back could make dinner comfort use room way could bare close door bedroom past corner bed would expect hilton brand hotel suit', 'husband plan romant getway past sever month look forward spend end summer chicago howev excit soon turn disappoint frustrat upon arriv hotel quit charm walk door everyth went wrong gentleman check us could find reserv quit impati rude show confirm paper manag make accomond us much discuss back forth towel room check took least hour sever phone call towel sent room needless say extrem tire want noth take warm shower turn paid total cost front would left check anoth hotel', 'recent stay sheraton chicago hotel tower way go back check took long time mani peopl arriv confer singl staff member recept desk room bare passabl bathroom seem need good clean room look like seen better day long ever price pay think allow access work facil want outrag per day charg top small pool hot tub want spend time top promis discount rate honor end stay despit assur well check end argu manag check sinc catch flight resolut happen yet still wait respons call letter chicago lot better hotel offer price per night paid worth even shula enough make want return', 'stay sheraton chicago hotel busi meet absolut horribl experi arriv exhaust seri delay flight told room readi readi pm kid wait lobbi minut final call desk told king room chang room two queen bed fine whatev get room unload bag find c work call desk clerk tell sold move could discount room apolog noth im exhaust deal degre room went check next morn find one even bother appli discount apolog never receiv poor custom servic life com back', 'recent chicago busi chose stay swissotel chicago hotel sell stylish sophist luxuri say center citi would better anywher els impress interior find border clinic modern tast guess stylish might modern peopl mind mine also luxuri mean plush hard clinic made way recept hardli encount friendli custom servic boast websit organ execut suit plan work time hotel room thought extra space would come handi proceed check girl desk told smack gum reserv hand book confirm told first spell name wrong even though spell proceed tell due confer execut suit alreadi alloc would happi assign lake view room correct wrong step room ask sure give away room tri compens someth better said realli need space would use room offic final said corner king room avail want switch follow even would welcom room ok although disappoint cold clinic felt attempt make use hotel servic found sadli lack comment servic high speed wireless avail room unless will pay fee cabl connect also per day fee border extort free wifi lobbi requir sit near door open constantli let freez blast air plu deal nois bustl peopl constantli come phone room servic arriv request extra pillow towel wait hour arriv fit center pool look forward use close clean went breakfast next morn consist continent item would expect money would say money better spent elsewher', 'recent stay swissotel chicago husband two children room comfort think best choic hotel children main reason dine hous restaur children option dine option bit inform anyon children know want take sit restaur certain time especi true sinc travel arriv hotel tire children hand want eat quick meal put bed howev real option locat fanci restaur certainli famili friendli option hotel kid friendli packag', 'recent guest sheraton chicago hotel tower immens dissatisfi arriv find lost reserv told book solid even though produc copi reserv confirm nearli hour argu front desk clerk final ask hotel manag step help search databas found cancel howev type room reserv ask suit go stay hotel sever day given box bed made apolog lose reserv offer altern compens unfortun town confer everyon area complet book choic accept offer begrudgingli accept intent contact corpor offic post review stay hotel help anyth even error', 'stay hotel would certainli expect hilton especi due price paid room way hotel portray upon arriv hotel found one receptionist work busi text mobil phone check wait min check made feel like inconvenienc final got room appal non smoke reserv room stank smoke sever visibl cigarett burn comfort carpet call recept confirm non smoke room advis argu receptionist room min agre switch room anoth one one enter new room found stank smoke exhaust flight decid would sort recept morn bad idea curl went sleep awok go bathroom around notic leg cover red welt immedi rush back bedroom back cover find bed team bed bug pack stuff check night howev refund refus sinc contact head offic await respons stay', 'sheraton chicago hotel tower one wors hotel stay everyth lobbi staff room experi horribl walk lobbi lobbi fowl smell similar rotten egg staff much better especi room servic took minut make request towel baggag handler gave rude servic check refus provid servic room stay ill maintain look like noth like pictur window dirti see anyth outsid window room smell like someon soil room ant crawl tabletop give suggest hotel avoid hotel togeth even cheap motel better standard hotel', 'book room swissotel chicago thought price reason base price howev end cost plan pay park amen servic good consid market luxuri hotel one help us bring bag difficult time staff cold would say averag experi luxuri like claim', 'one night stay millennium knickerbock hotel chicago must say love chicago never go back hotel problem start park lot yup even got littl park avail area fill garbag broken glass kid hang look troubl upon first entranc hotel seem nice chang got elev go room elev made kind nois door slam shut arm tri get bag hall smell smoke carpet warn dirti look room found one curtain would pull close heater whistl call front desk ask assist fresh pillow hung begin terribl stay guest hall bang wall night long maid start run vacuum seem feel best way hit vacuum wall pass could check soon enough call around found anoth hotel stay remaind trip', 'worth price unfortun experi stay hilton homewood suit downtown chicago stay famili vacat wish would save money went somewher els hotel expens think might throw bonus way like complimentari park chanc addit price tag also pay park per night stay motel park would free staff nice regist ladi counter act like help interf internet chat time rude perhap bad day someth doubt arriv room key card work go back downstair get fix interrupt preciou free time actual work room nice featur like kitchen applianc flat screen televis go vacat cook though televis get mani channel pay want watch movi cours tri log facebook say hello friend hotel room complimentari internet access slow hardli worth use get better connect starbuck offer complimentari dinner breakfast noth write home better food mcdonald food pretti cold choic limit traffic around hotel hideou hotel downtown definit tell bunch one way street around make get confus room pretti clean say lot hotel wide varieti price rang look hotel chicago say save money go somewher els better stay best western mani hotel cost less', 'husband arriv swissotel chicago celebr th wed anniversari automat thought experi would nice pictur websit hotel brochur intrigu us boy wee wrong upon arriv given advertis check time room readi wait hour bag hand check twice see room readi staff less warm time frown mumbl peopl desk hotel lobbi tire final arriv room expect take nap hit citi reserv premier corner king thought suppos abl see lake river skylin yeah right saw brick side side build addit water shower littl pressur call front desk phone rang time someon answer husband said think knew peopl call request better room said none avail howev upgrad room would pay sort upgrad fee could believ husband felt agit fear might make thing even wors us like turn air threw jean head fro coffe shop around corner given us refug return hour later water pressur fix room clean bed plush overal experi especi rude staff good let say next th anniversari stay swissotel tell other stay', 'stay sheraton chicago hotel tower recent complet dissatisfi arriv clerk rude guest final got thing figur went room river right outsid constantli heard boat pass bathroom disgust mention small pleasant experi sheraton chicago hotel tower', 'atroci stori wife californian met student univers chicago celebr th anniversari decid travel back windi citi revisit place frequent first fall love came lodg knew want suit littl els matter want revisit citi intend spend much time room result spend much time research hotel big mistak stay homewood suit could wors room mention took full two hour prepar even though book month advanc filthi wife found dead cockroach bathroom staff rude indiffer chocol includ romanc packag could cost hotel dollar clean staff fail show front desk offer apolog littl els suffic say check earli never seen poorli manag hotel truli shame stay away', 'worst high price hotel ever stay busi meet chicago heard good review co worker thought would nice place stay littl upset experi swissotel chicago front desk clerk rude check valet park great brought suv around front quarter size dent passeng size door hotel refus pay damag room beauti besid faint mildew smell room room servic great pleas busi meet took place st gallen room meet took littl disrupt turn construct go time hard hear announc meet hotel beauti stay great expect may want book somewher els busi meet attend chicago', 'swissotel chicago let shini bright light windi citi fool hotel provid luxuri experi stay might expect firstli provid applianc room gadget rel low qualiti exampl window curtain small bedroom window nearli broke support tri open citi view bedroom bed king size make rattl nois everi turn bodi make coars bad fall asleep suck regard room servic hotel worker friendli talk stubborn way want get done get pay check ye basic room servic order friendli overal hotel much notic flaw top posit hotel bare minimum said would recommend hotel anyon around downtown chicago area need least averag hotel servic howev sub par servic qualiti okay hotel could suitabl howev consid price better look elsewher hotel room', 'husband made reserv sheraton chicago hotel tower much need weekend getaway took work earli friday beat traffic hotel quickli found ampl park drove around sever time look space park adjoin lot walk busi side street gain access hotel upon check inform floor room locat process carpet clean decid sinc prepaid credit card go make best situat took elev smell like urin room see carpet clean machin unattend hallway hope sake safeti children stay floor walk room first thought much humid room seem one guest use microwav heat sort spici curri cusin overwhelm scent burnt curri mix chemic smell carpet shampoo much us call desk manag ask could chang room rude inform us hotel complet book due sever wed roar carpet clean machin came wall could hear anyth els husband said decid get refund card leav hotel aw experi', 'sheraton chicago hotel tower nice place stay need place stay quick notic certainli exceed expect tout websit starpoint system somewhat complic help frequent travel chic fussi overstat room clean although bed cover wrinkl bathroom counter water lie appear though clean sinc last guest hand lotion shampoo sampl soap sampl bathroom short two towel took two call housekeep get fix cheap might better adject check simpl much hassl overal sheraton chicago hotel tower fine pinch next time research hotel littl better make decis reserv room', 'stay homewood suit downtown chicago without doubt one worst hotel experi live week long confer although reserv made month advanc suit arriv result stay anoth hotel first night room readi disappoint cleanli limit kitchen bare larg enough move around utensil cook pool open limit hour bother bring swimsuit night kept awak nois come adjac room traffic outsid overal experi stay overpr suit book ever', 'went stay millenium hotel chicago first rural midwest surpris price gener kind accept assur cousin visit chicago said normal check servic seem fine get check room seem ok coupl hour later ladi come room hotel employe ladi turn cross check room went complain turn doubl book room full full room type standard well superior room rather simpli upgrad one us mistak ask one us would like move argu minut budg option one us fork extra corner superior ladi name sharon decid split differ gave move get new room minut later nobodi sharon help move get bed thrown togeth made bathroom clean garbag kleenex go check use call pm answer call minut final got hold someon told state room said would someon right away wait minut ladi come uniform hell job clean switch garbag wipe whole bathroom vaccuum around switch bed told minut say two word clean stay night check never go back ryan iowa', 'high hope book stay knickerbock hotel chicago short week ago arriv known thing would expect host desk rude seem put final got check arriv room found temperatur room far hot air condition turn hot muggi day would nice enter cool room turn air condition quit time room cool sinc arriv earli afternoon decid order room servic nix restaur hotel order gooey tripl decker grill chees expect best grill chees sandwich ever eaten final arriv hour later cold chees far gooey also come bowl tomato bisqu soup needless say also cold qualiti food way much pay meal meet client stop martini bar drink waitress rude seem overwhelm amount peopl serv needless say took forev get drink heard patron grumbl amount time took drink arriv well final got drink order french martini took drink immedi mouth pucker far much pineappl juic make tart would think would made perfect far even final went back room found temperatur cold due air condition turn miser night check glad done knickerbock hotel', 'might classi look hotel downtown chicago locat bad room definit hit miss rang super basic afford room presidenti huge suit presid could probabl even afford mani differ room option wonder difficulti honor exact reserv check past pm hotel decent pool health club extra per day mani servic hotel imagin price stay multipl hundr thing would includ addit check staff bit snobbi unhelp realli would expect great servic high price stay return chicago definit tri stay somewher els', 'sheraton chicago hotel tower hotel person wish relax getaway upon enter hotel impress warm invit place one encount staff chang point view immedi person assist us knowledg duti provid overal attent requir expect everyth hotel exud class sophist train staff conduct immedi order match classi look hotel interact custom truli diappoint fact stay hotel substandard look forward wonder stay establish hope issu mention earlier resolv howev plan return hotel', 'disappoint hotel stay swissotel enjoy much servic describ aloof warmth prolong checkin procedur woman repeatedli ask provid inform given minut ago precis inde room servic took forev pick good sign way busi good food arriv late cold man tri replac took anoth hour never given price reduct free dessert anyth apolog cleanli must next godli knock door despit fact doorknock request servic late sleeper disappoint stay hotel clearli help build chain reput', 'chicago favorit citi visit want share special citi new love book us room swissotel advertis close downtown close museum chicago want share new love inde close museum get either shop district chicago art institut long walk full detour easi grab cab room seem luxuri decor bed uncomfort room clean room servic slow food arriv cold total experi way expens got think ever experienc level nois grand hotel swissotel seem would recommend swissotel disappoint nois cold food cost much', 'walk millennium knickerbock hotel first thought wow yellow good kind yellow like sunni day ugli yellow would want wash pretti white blous room fairli descent although yellow theme seem leak victorian feel lobbi turn modern feel room bathroom would like see less yellow mayb bit fanci feel lobbi room', 'famili stay sheraton chicago hotel tower belief stay would star experi farthest thing truth staff rude unhelp hotel larg get lost dont help staff find room card would get us start overal took hour get us room enter room notic foul smell overlook happi final abl rest wife went bathroom amaz appear dog hair tub tile floor begin bad stay room minut knock door happen chicago polic report smell marijuana come room famili put seri embarras question actual luggag person belong search small amount marijuana found drawer dresser never touch come find video surveil clean ladi arrest possess marijuana needless say stay sheraton chicago hotel tower worst part vacat would recommend anyon stay place', 'arriv millennium knickerbock hotel chicago shock poor danger neighborhood situat chicago hope addit look noth like pictur websit paint fade chip foul odor lobbi staff speak wait minut front desk someon final came said reserv name long trip sure know aggrav final got manag knew work comput properli brought reserv got room small smell like smoke carpet sever stain either wine blood also walk room hallway cockroach walk right path like own place top seem everyon stay hotel gangster gambler ladi night heard lot frighteningli loud love make argument ensu even televis could mask nightmar oh yeah shower hot water complain desk said fault would fix next week ask discount said refund could leav whenev want', 'oh good got one worst place stay downtown chicago went well enough check went downhil much left desir biggest problem huge turd toilet kid guess maid rather busi day took break forgot know price charg type thing unaccept everyth els actual room expect nois bit use though convent colleg age kid stay floor us ask move anoth room get us anoth room took nearli hour second room work well us risk stay plu pool avail realli wish would mention websit look forward day beauti place wonder locat need work custom servic reconsid stay homewood suit hilton chicago downtown', 'busi chicago decid choos thought would relax hotel treat bit known woman front desk roll eye ask complimentari appl cider advertis told sign idiot kind voic bad sign far away read without glass asham ask anyth front desk room horribl decor noth special ugli steal furnitur pattern color say luxuri went relax pool laptop get work done unfortun pool overrun five rowdi kid parent sight would report front desk shame aforement appl cider incid thank god left laptop case would ruin water splash free breakfast tast like cardboard someth akin free breakfast night hotel tri made feel sick ate good thing experi leav overpr motel behind go work', 'sore disappoint sheraton chicago outsid look like great hotel guess insid clean enough decor realli bore frumpi expect look websit front desk staff nice enough first ask wifi password told pay extra mean come pay buck night wifi extra ladi check us got littl snippi said say make reserv note self let husband book hotel without check first amen offeredd thing start wrong foot anyhow guess posit hotel locat lakeview room seem pretti safe impress price stay big citi hotel half price better linen better restaur got room clean reason hour stay two night get bed made fresh towel guess unpleas thing odd smell musti per se mayb like chemic use cover mildewi smell gener seem lke declin staff know kind lackadais stay', 'stay millennium knickerbock hotel chicago contempl poor qualiti experienc felt need document amen plush servic staff lack upon check reserv lost took minut manag make arraing stay offer upgrad comp way room servic poor job clean room left wet towl bath room use coffe filter left coffe pot clean sure sheet chang check bell hop drop laptop destroy hard drive leav scrambl recov report spent day creat overal neg experi left wonder train thier staff proper way attend custom relunct stay assur focus traing staff better', 'hotel certainli seem look beauti hotel actual far even book room onlin rather difficult abl reach repres upon call contact number gener come bad decis despit look mistak wont make either', 'although millennium knickerbock hotel chicago claim afford upscal hotel heart chicago somewhat expens start per night special discount rate avail budget consciou travel room modern look littl less cozi one might prefer carpet room littl outdat somewhat dirti area view room great could hotel seem understaf heat unit room hard adjust right temperatur although hotel locat chicago famou michigan avenu taxi ride hare airport taxi ride midway airport rather pricey option chose drive valet park charg hefti budget friendli even though millennium knickerbock hotel chicago close major chicago attract averag hotel mani level', 'stay swissotel chicago experienc worst custom servic hotel front desk extrem rude check even seem tri hurri us fit center alway pack never abl get machin pool area eat restaur felt overpr meal eleg look last issu hotel valet park took awhil get car actual pull wrong car around anoth minut wait sort issu worst part far custom servic although hotel look nice worth stay way felt treat base money spend next time chicago stay somewher els', 'place absolut foul minut walk knew make reserv mistak person counter would bare make eye contact act like ask huge favor order check room request room doubl bed avail told made reserv request doubl bed request guarante point make reserv got room room total gross decor date carpet torn spot whole place smell musti moldi bathroom spot stain hesit think true cleanli sheet complimentari fit area joke one broken treadmil coupl mismatch dumbbel thank thank definit return', 'thought go romant chicago weekend turn lacklust swissotel chicago per websit seem tout luxuri destin well much surpris first reserv mess instead get classic room view put guess classic king view noth write home call front desk complain situat told noth could sinc hotel book solid ask could happen got confirm clerk simpli said probabl glitch sorri anyth els help point hung phone knew romant weekend view go happen check told manag happen said noth sorri expect littl custom servic sinc think luxuri destin', 'went homewood suit chicago part hilton famou hotel gotta say worst hotel ever fact homewood suit worst hotel face planet check room room look like hotel built bad shape fact room look bad want leav hotel earli also got check employe work hotel saw one employe rung bell room ignor could hotel worst servic suppos ignor one thing hate hotel logo look like actual logo look like logo chang look like someth babi could draw never go hotel even million year matter hotel never recommend anyon everyth hotel offer', 'stay swissotel chicago night vacat girlfriend plan stay night origin beauti could make poor servic receiv front desk associ walk despit guest wait check still stood wait minut person desk chat phone someon clearli relat hotel lean counter final got attent got phone act like one fault needless say stay', 'stay hotel friend book night stay one weekend visit friend chicago though bit prici decid knickerbock great locat room look larg well kept flight delay arriv hour design check time howev despit call hotel advanc notifi delay arriv gave us hard time wait hour allow room concierg manag extrem rude us made seem like huge inconveni arriv late top maid servic terribl thing seem make bed vacuum fresh towel etc want stay third night forc order avoid ridicul cancel fee hotel way much money servic provid better stay motel', 'stay millennium knickerbock hotel chicago one worst visit ever experienc room readi right away wait hour lobbi final made room found moldi shower dirti floor room servic took hour half come room went pool day crowd room sit side experi definit pleasant one make matter even wors bill twice room husband luckili caught left never come back millennium knickerbock hotel', 'want stay hotel sinc heard histor highli disappoint stay room given dirti went back front desk inquir disregard concern took long time get new room whole time unprofession make feel welcom stay hotel night sinc peopl room around mine unruli make nois night long left night demand refund', 'stay millennium knickerbock hotel chicago standard guest room room renov chang make much differ room small felt like sleep deck boat decor drab noth special room excit bathrob slipper came room assum would bathrob pair slipper us one bathrob one pair slipper call front desk ask second set treat like tri scam hotel refus send would matter sent second set bathrob scratchi gave rash stain slipper hotel guest expect treat respect enjoy stay paid sever disappoint', 'husband sore disappoint hotel request non smoke room right hit stinch stale cigarett open door front desk respons need final get move new room water pressur shower hardli enough get shampoo hair bed lumpi disappoint workout room small decid swim lap instead got pool look like maintain week needless say make mistak stay homewood suit', 'husband stay hotel suppos romant weekend far could hear televis neighbor room call front desk complain person answer phone extrem rude unabl relax also room clean definit smell cigarett smoke bed hard rock return aw place', 'millennium hotel knickerbock sound fine websit pretti realiti hype overpr realiti good fantasi packag cater offer joke pick better food half price dozen place chicago area room cleaner linger unpleas odor cleaner use aggrav sinus call complain nasal voic clerk blew room look small cozi book onlin get person realiz tini tri fit insid one make think sardin mention smell like clean solut also found hair supposedli clean bed made wonder thorough housekeep staff fact look like room compar small get better price far better room hilton', 'whatev stay homewood suit downtown chicago made mistak terribl bed linen obvious clean even stain comfort housekeep staff absolut care good job room clean twice week stay even barest minimum effort seem go even empti trash can suit kitchen aw hope save money cook room one broken eye stove nasti greasi microwav seem better idea eat avoid unpleas surpris lacklust hous food hear good thing breakfast offer anyway avoid place like plagu know certainli never go back', 'stay sheraton chicago hotel tower decemb last year one worst hotel experi ever first went check complet ignor staff rude seem better thing help check got room way rd floor room dirti clean back lobbi seem feel big deal gave anoth room went back check new room dirti also pubic hair bed bathroom appear maid went room pick trash made bed clean say yuck next visit lobbi staff gave attitud transfer anoth room extrem poor custom servic gross room felt like stay night roach motel night sheraton advis stay away', 'sheraton chicago place want experi chicago custom servic provid idea even shuttl bring around town food restaur hotel serv mediocr burger fri make attempt emul chicago cultur million hotel chicago one averag room fairli decent size lack amen like wi fi mini bar view noth special concierg anyth respons phone call', 'vacat highlight four day stay homewood suit hilton chicago downtown believ would best part trip discov unfold nightmar love room fifteenth floor voic eman phone inform us pend fire alarm procedur follow anyon tenth floor instruct go bathroom wet towel place bottom close door use elev wait instruct nervous wait twenti minut without commun voic phone decid exit via stair realiz late enter stairwel door behind lock continu travel downward backdrop music siren loud muffl speaker obvious rescu without physic injuri yet emot damag choos hotel rang ten floor less', 'homewood suit hilton group hotel locat downtown chicago though close mani sight visit extens construct go michigan avenu everi morn awaken right sound jackhamm bulldoz reserv basic suit though arriv pm well past check time room readi minut manag apolog offer sort compens inconveni suit readi nice quickli discov hot water bathroom reloc anoth room apolog offer compens troubl final settl free welcom dinner recept wine beer food okay frazzl issu check anyth would tast good point staff suggest complementari groceri shop servic though good idea sinc alreadi tire unfortun took three hour final deliv groceri suit bill far expect disappoint experi homewood suit understand problem may aris fact manag noth make us unaccept would suggest hotel friend visit chicago', 'stay knickerbock hotel last time visit chicago live illinoi colleg colleg budget trip citi involv share room one cheaper hotel away downtown visit back decid would treat nicer stay use book room knickerbock everyth look nice got price paid realli expect someth far beyond got mayb dress right carri right luggag front desk clerk unnecessarili snooti check hotel tri make guest feel welcom stay cheap hotel colleg front desk employe alway friendli check would give good tip best way get fun thing citi even want ask tip front desk want deal eye roll import bother attitud got check guess locat conveni hotel use visit realli thought part money spend nice hotel would pay pleasant custom servic experi look obvious afford stay hotel alreadi book paid room even custom servic number one goal make money pretti high list make pay custom feel unwelcom good way secur return busi doubt stay', 'millennium knickerbock hotel seen better day fond memori stay consid finest hotel book room celebr special occas found highli price great properti look five suit found one upholst furnitur like room carpet clean refriger drip water balconi litter cigarett butt final settl room bellman friendli apologet price turn around walk sent letter manag return home month never receiv answer plenti place spend money leav hotel', 'consid sever hotel area famili final decid unfortun homewood suit long weekend vacat overal experi left much desir breakfast buffet consist cold scrambl egg greasi pastri linen one bed seem dirti told hotel staff ask replac woman roll eye unprofession attitud would come back ever', 'realli high hope hotel locat seem great price unfortunatley get pay despit locat near miracl mile navi pier mani redeem qualiti staff rude arriv late long drive detroit found nobodi lobbi help us check final got check room clean trash left last peopl told clean staff gone home night get morn plan see chicago attract like field museum could hardli find anyon help us go websit advertis lot special packag found absolut way purchas final check charg room extra clean fee clean request first night ridicul', 'impress stay millennium knickerbock hotel chicago check two peopl ahead appar take one front desk agent minut process guest issu room regard seem wrong room type room type request nervou reserv sure enough superior corner room avail hotel tri compens complimentari breakfast drink bar still annoy reserv room type avail also annoy everi littl thing upcharg hotel want internet upcharg want extra pillow upcharg extra coffe room upcharg bad enough get treatment airlin ride hotel nickl dime annoy aggrav back would strongli recommend travel bewar book', 'stay swissotel chicago holiday recent say definit get pay initi attract inexpens price luxuri promis sore mistaken first problem got told doubl book suit reserv gave discount downgrad regular room left decid keep open mind settl husband went palm restaur husband food allergi got order wrong send back three time time ask fix storm angrili would return huff dinner went back room sit bed knew would long night mattress hard blanket bad smell went restroom toilet clean previou patron husband grab blanket car use instead smelli one want bother desk staff cold recept walk tri massag servic next day massag therapist unprofession press realli hurt back perhap distract text throughout session lunch tri geneva restaur hotel food cook way decid eat anyway got food poison hour later got sick done went desk demand refund next two night go sleep one night made formal complaint manag seem act like fault unreason lot argu final refund us went differ hotel worst place ever stay think super motel would luxuri', 'swissotel chicago mediocr hotel servic alway poor room servic food alway come cold unless suppos cold come warm would rather stay super place', 'hotel overpr one pay money luxuri fall far short consid price charg go hotel restaur expect certain mark ye make money price charg food okay make littl sens got went room thought would nice color great view delux bed got sheet might come full price section target cheap expens either think could found someth qualiti less ish night paid', 'one better experi first arriv hotel tri get room key discov fresh key wait half hour someon ran get key bad lobbi look slight disrepair final got room found burnt light bulb unmad bed room ok size one person would probabl get bit crowd view window amaz took away bad overal felt like owner hotel stop care mainten took four hour final come fix light even get housekeep entir stay recommend hotel anyon area hope make get act togeth', 'want everyon know aw experi sheraton chicago hotel tower arriv hotel clerk check us said reserv system call earlier day confirm speak duti manag inform reserv cancel earlier day hotel complet book later found convent hotel price room risen dramat believ cancel reserv could make money one go back hotel', 'receiv type room reserv cleanli seem issu maid staff carpet debri bathroom need attent room servic adequ great wall seem paper heard one neighbor tv night neighbor late enjoy', 'book room sheraton chicago hotel tower somewhat reluctantli enthusiast spend room see lacklust photo websit pleasantli surpris arriv lobbi look stuffi onlin unfortun hope dash arriv room say discov newli issu key work wait ten minut someon final came let room pain small know better would thought stay red roof inn sweet sleeper bed stiff scratchi sheet cheap motel thin coverlet disappoint continu enter bathroom found reek smoke also outfit cheapest trim possibl stay two night surpris find sort charg ad room respons charg demand movi empti mini bar smoke bathroom hah stop payment credit card certainli submit horrif experi', 'recent misfortun stay swissotel chicago hotel illinoi one wors travel experi ever first shuttl suppos pick us air port late hour bu final came driver nice enough clearli first day job sinc got lost go back hotel final got hotel seem reserv nd room wife stay one room teenag girl usual stay room rude clerk corner noth help us forc pack one room would rent anoth room vacanc left hotel larg occup rate slow everyth els room servic late everytim order hotel restaur never wait less min qualiti room fair enough imposs get room servic could get fresh towel day suppos stay week left day found differ hotel stay would recommend place anyon stay away', 'price would think would top qualiti hotel nowher close servic check slow unfriendli room even wors small dirti smell like stale cigarett smoke even though request non smoke room cover bed stain hair bathroom floor curtain rod fall wall everyth look tire desper need remodel also appreci pay wifi premium hotel offer free overal one worst hotel stay long time consid price terribl', 'realli expect lot qualiti chain like sheraton recent stay downtown locat chicago somewhat disappoint start check specif request room singl king size bed told front desk uncertain term ok rather rude banker convent go happi doubl bed room left could get lousi drink voucher inconveni room ok noth special though clean staff must faint aroma old washrag still air internet jack work took two hour mainten guy come fix apolog given price realli expect way custom servic sheraton guess realli better anyon els day', 'recent stay homewood suit hilton chicago downtown found lack qualiti servic room nice well furnish servic lack area complimentari servic includ fast speed wireless internet access cardio fit indoor pool groceri shop servic coffe tea hot chocol cider day long lobbi hour conveni shop howev wireless internet spotti best realli slow speed time indoor pool far cold opinion cardio equip left unclean groceri shop servic alright although bit slow side final coffe hot chocol hour conveni shop cold overal poor qualiti rate hotel scale would give best', 'hilton famili would outrag hear recent stay e nightmar palmer hous hilton arriv day nation restaur associ tade show hope beat crowd settl long week trade show busi arriv greet realli snarl clerk ladi one realli call beast aggress rude get go made snide comment number bag downhil guarante confirm reserv mysteri cancel indic one contact call center seek cancel inform brenda never cancel reserv origin book room one one colleagu colleagu chang reserv come one day later huf puf final said oh okay read wrong room room given away someon els arriv earlier day hilton honor member someon drop lot money chain furiou said perhap someon els found room anoth hotel wait check left front desk gone minut come back smirk face inform make decis would satisfactori first option stay hotel outsid chicago downtown closer airport could go anoth room smaller smoke one potenti promis upgrad day outrag sorri certainli option horribl end take smoke room bare spent time due strong cigarett smell addit upgrad stay offer anyth make troubl screw hotel manag bother return call net outcom never stay hotel think shred hilton honor card make mistak deal properti sorri thank read hope help someon book joke hotel', 'recent stay amalfi hotel chicago although visit fun citi quit often somewhat disappoint servic nois hotel call luxuri boutiqu begin experi design somewhat put offish cool realli grasp wonder thing chicago although look attract seem like may recent arriv la far room inde luxuri nice light decor howev nois adjoin room unbeliev kept us night like wall thin construct greatest want hear neighbor especi honeymoon whatev probabl stay locat great cocktail fine luxuri pit weari travel san francisco', 'recent stay hotel long ago sure look nice realli smoke screen went clerk check rude ask nearbi attract abruptli cut tell need go find phone book ask someon els also encod key wrong redon finali get room discov mess sheet thrown floor curtain wide open top toliet flush horribl call front desk maid come fix told break whatev thoguh clean night progress awaken sound someon beat door guy said room baffl went straight lobbi got clear given wrong room take one day bull check earli next morn stay differ hotel remaind visit chicago would recommend hotel anyon', 'although intercontinent chicago hotel locat magnific mile entir experi guest anyth believ magnific end hotel entranc check check impress rang lacklust horrif first error reserv got room found neither phone internet connect work trudg registr desk wait line least twenti minut ask help first night spent nearli total sleepless due tv nois come next room sure whether due excess inconsider neighbor thin wall dog tire next morn even though hung disturb sign door handl barg maid bright eye bushi tail scrubber hand follow rude awaken jar blood curdl shriek wife upon enter bathroom take shower greet incred larg roach breakfast actual meal partook hotel serv cold somewhat tasteless routin ignor concierg alway seem person call whenev need tri leav hotel equal difficult check cours gross error bill caus us delay effort depart get intercontinent chicago believ best part experi guest', 'wife recent stay allegro hotel chicago extrem disappoint claim luxuri hotel air condit unit work ice maker refridger unbear slow phone issu front desk person end assur us problem would taken care noon ever show asid mani kid run around think straight two cent would tell anyon consid stay allegro pass look option', 'busi trip chicago back unfortun luck stay intercontinent chicago hotel say unfortun first moment walk experi poor front desk made wait long time resolv issu reserv receptionist made reserv room alreadi compani account insist suppli person credit card room understand precaut travel lot usual encount situat taken care sever phone call later taken room nice glad final bell hope short quick throw hand ask tip even though done noth groan entir time take room happi stay two night run front desk got impress one want deal hope stay suggest avoid', 'hotel overpr get stay amalfi hotel chicago advertis luxuri hotel locat downtown chicago sinc downtown chicago mean street nois keep night view also suffer nicer room avail better view markup stay outrag room decent clean linen nice air condit get hotel day anyth particularli luxuri hotel make stand price paid room certainli expect let', 'though grand brand hotel seem disappoint certain front staff seem snooti arrog request upgrad fulfil repetit request initi room small cost paid would expect coffe maker free internet servic least even regular b bs offer levi charg everyth complet rip thing match grandeur cleanli locat good staff made stay unpleas', 'stay palmer hous hilton less satisfactori would expect much high end hotel room way price servic less satisfactori one point left dirti towel floor pick room servic came still side thing cup left desk plan use later gone coffe towel also never replac also astound internet servic come price room rather nomin fee pay much room hope least complimentari wifi stay palmer hous hilton left much wish stay', 'overal hotel okay though problem price accommod mention websit accur supposedli luxuri mattress comfort mattress hotel offer noth much afford hotel differ palmer hous hilton lobbi normal afford lobbi go hotel fanci lobbi go get good night sleep want sight see go elsewher like said overal hotel okay worth price', 'amalfi hotel advertis luxuri boutiqu hotel expect experi somewhat better averag unfortun case room book clean particular bathroom look someon done minim amount clean last guest hair corner room lead think floor swept clean addit although room suppos non smoke room could still detect odor cigarett smoke say staff courteou hotel well situat term mani restaur site shop within walk distanc howev given cost room experi cleanli room would stay amalfi hotel', 'intercontinent chicago magnific mile outsid hotel name say pretti magnific despit set filthiest section citi cost room start night would think would compet park attend delay import client due latenc issu reserv room enough top room servic nerv bring room temperatur pasta bottl champagn seal previous broken free cork needless say last time hotel ever grace much anoth dollar bill account would highli recommend anoth hotel better accommod', 'unimpress qualiti hotel overal look place mar felt like poor mainten given suppos luxuri hotel charg rate level disappoint impress snooti attitud taken hotel staff', 'intercontinent chicago great experi expect first arriv front desk staff could find reserv system tri make book higher pay room end ask manag conveni abl locat room rate expect top notch servic class appar servic reserv elit dote found long wait time place order room servic need concierg price pay stay would thought would cater person touch servic', 'first step foot hotel propeti could tell neg place see apperd vice lord aroung properti person problem affel anoth gang way act drink hotel cheepest wine could securati purpous like hell angel concert walk hotel oder hit smell like cretan type burn wood smell later find smell rock cocin look pool find watter scatebord around place high class biz man decid leav', 'former chicagoan appal amalfi hotel chicago first expect luxuri hospit neither receiv experi design suppos like person concierg experi ed terribl felt like tri pressur stay day want understand say time talk fast final got room disappoint qualiti furnitur room cleanli ask maid come give clean towel towel bathroom damp top bed messili done could done better job bed home angri point pay lot money everi night stay amalfi expect greet wet towel need use wi fi download import document internet surprisingli slow even basic hotel motel could offer better mayb even faster internet access final check amalfi made sure suppos person concierg knew problem room hotel glad see amalfi get smaller mirror drove away', 'amalfi hotel chicago advertis famili friendli yet arriv children anyth famili friendli staff seem mif stuck wait person check worri kid would ruin obvious realli expens furnitur wait guest singl coupl without children seem annoy everi time pass kid tri keep entertain check might best place stay kid two even though advertis give great big thumb fals advertis amalfi', 'husband three year old son arriv palmer hous hilton last friday weekend stay hotel look eleg onlin includ inform also indic child friendli check staff cold seem quit annoy son mere say hi ask name person help us one elev broken long wait elev hallway appear bit dirti made way room room decent delux websit indic would comfort view good long day sight see play saturday son tire elect return room room servic dinner children menu room servic restaur room servic came kitchen order adult meal food arriv hour later cold unapp wait anoth hour although hotel look love servic good staff cold snooti except clean staff nice might ok coupl busi travel stay children comfort motel might better', 'hotel dizzi bold color pattern everywher smell pet allow hotel also extrem dirti pet allow mold room bathroom pet hair everywher kid love pool claim kid friendli without one kid bore food basic everi day variat menu pictur websit room must reserv travel club room even remot resembl pictur old bait switch reserv famili room open door room realiz websit pictur websit describ kept mouth shut fear retali hotel worker definit recommend hotel', 'upon enter hotel room palmer hous hilton immedi turn nose foul odor come bathroom place bag poorli made bed walk bathroom find last visitor fail flush toilet immedi call room servic ask new room apologet told room avail would send someon right handl mess oh around half hour wait angri maid knock door seem irrit deal mess look one deal room clean turn ask tip hesit angrili storm room thought thing would run smoother tri relax ipod ye use ipod room howev fail mention constant white nois signal poor noth could compar remot control heat air abl get button remot work temperatur seem chang want hot air would slowli get colder vise versa give nice televis program decid retir bed egyptian sheet right say found earli check new hotel within next hour valu back rent room hotel', 'upon arriv hotel allegro chicago wait help bellman minut wait outsid towncar bellman end assist drop two suitcas push cart lobbi front desk servic rep busi phone approch rais finger hold finish call reciev key enter room realiz check dirti room call front desk ask new room desk rep previous check told wern anymor avail room told need come back lobbi approch desk heard yell housekeep told would minut wait room would readi energi complain point travel plane past hour sat lobbi wait room clean wait watch anoth person check given room without reserv upgrad suit extra charg given suit went minut later desk rep came let know room readi went back room previous enter clean toliet paper towel call back desk rep said hous keep would thier way item stay alreadi horribl enough chang went retaur connect hotel end wait minut reserv made seat meal ok noth like expect read onlin honestli say never return hotel restaur', 'husband went amalfi hotel expect first class servic first got learn given room anoth guest abl get suit like book room servic took forev food subpar supposedli planner help explor area request one never saw hide hair planner spa staff seem incompet posit thing say amalfi hotel room stylish advertis give hotel two star', 'unsatisfi stay allegro front desk clerk seem put walk window give confirm number let us know room readi yet came surpris sinc arriv late day check alreadi began wait hour check abl get room featur request inform request guarante room servic also slow appear understaf final got someon answer phone everyth want food took etern reach room order exactli right either kind servic expect upscal hotel', 'chicago palmer hous disappoint chose hilton hotel definit live standard set name first impress neg one greet rather rude staff room might luxuri year ago gener impress clean regularli could use littl freshen bathroom obvious newer shower difficult use water pressur absolut horribl food serv room servic hotel restaur sound delici care craft menu high price made expect delic cuisin food simpli deliv promis everyth tast bland portion ridicul small locat hotel might seem like advantag sinc downtown chicago nearbi mani tourist attract howev window room protect constant nois car go overal hotel would decent advertis luxuri hotel use hilton name price rang', 'aw experi staff rude unhelp took forev check took even find reserv got room margin clean complain said full could anyth would never go back obvious worri custom servic', 'wife much look forward stay hotel allegro chicago look forward romant getaway say hotel allegro disappoint us pet friendli hotel knew go shock fact found pet hair around room given carpet even amount bed cover shock price pay call front desk took hour someon housekeep stop past room flair guess imagin right flair mani color use bright blue bed mute yellow designi wallpap neither wife found relax imagin mani would realli put overal experi check minu book look return time soon', 'oh like dank museum four star hotel read mani review hotel sure husband disappoint spend th wed anniversari heart chicago luxuri hotel review sound great feel awkward write fair place major disappoint locat superb imag onlin must taken year ago decor visit look old fade notic dirt everywher fabric furnitur stain baseboard woodwork scratch dirti seem smell mold mildew permeat entir hotel even though food great linen glasswar silverwar sparkl sort help candl lit focu much dreari wash dine facil realiz experienc histori would actual mean stay hotel live past bare two star hotel recommend stay', 'stay five day definit never go back architectur kind cool custom servic poor know much peopl get paid must think enough breakfast continent alright overpr hotel felt realli crowd servic imperson mani better place stay chicago', 'recent stay amalfi hotel chicago gone wors apart price stay slow respons time hotel staff total let food could found mani attract area inde leav hotel best part experi', 'amalfi hotel beauti websit interior decor wife got given key room even clean internet access promis hotel websit catch busi intend wife thought dark design detail room made feel claustrophob like sleep insid salvador dali paint hotel worth money especi sinc spent time enjoy citi someth casual comfort would better would probabl cleaner', 'hotel look absolut love outsid experi went downhil walk light poor creat dark gloomi atmospher mood accompani less friendli staff member made check seem like noth huge hassl would recommend hotel anyon look quiet night nice stay definit would stay', 'pleas recent stay palmer hous hilton room readi upon arriv room given request request room queen size bed lower floor given air condit room function properli could turn room overpow fragranc smell made sinus act wonder happen room got make housekeep staff use much air freshen doorman avail cart lug suitcas drag feet go get one lose sight point sinc contain valuabl irreplac item luckili anoth guest saw predica offer assist room evid previou occup left behind overlook housekeep staff promis send someon take care debri call front desk final gave look forward stay conclud simpli live advertis poor valu money spent stay', 'genuin surpris stay hotel wall paper thin could hear convers next room someth would expect higher class hotel room also smaller would expect price given minim toiletri towel guest room someth made difficult two peopl get readi morn request new towel took entir day get around fulfil request check process frustrat mostli due unhappi clerk behind counter know bad day happen mood time either way unpleas pain deal overal pleasant experi think next time choos anoth hotel stay visit chicago', 'websit wow enough book onlin although never use hotel high expect visit hotel famili recent trip chicago disappoint first problem enough staff desk wait long time get check final got room bed unmad clean suppli bathroom maid finish room left stuff behind cours call desk right away got new room huge hassl next problem dog person hall one knew pet friendli hotel envis well control non bark pet anim bark repeatedli kid tri go sleep call desk twice eventu bark stop think dog gave sound like desk staff knew crown disast least kid husband remot control tv dead manag get taken care ice cake hotel look great actual great cannot recommend anyon', 'let websit fool stay amalfi hotel chicago last busi trip probabl one worst star hotel ever stay websit make place look like star hotel par star want gener first room nice clean look pictur room check dingi paint peel wall carpet look like vacuum sinc god know sinc stay one night decid ask differ room although know ask differ room would made differ consid lack hospit recept desk arriv two receptionist chat acknowledg prompt servic wait minut although one line acknowledg talk hotel matter difficult especi picki person chat work co worker complet ignor make client wait minut show seriou lack profession favor go stay marriott want servic unless price tempt get pay', 'palmer hous hilton look good pictur outsid actual disast hotel went lobbi dirti room clean smell thoroughli smoke request pillow ladi phone scof said send took hour pillow hotel good exampl pay alway get return', 'stay intercontinent chicago visit set daughter wed nina daughter state place higher echilon get hitch well understand upon arriv check met nina bar innov light supper food like airlin food cold waiter annoy face could clearli see readi food taken yet final came check thought light supper pricey suppos meet sale manag erin lobbi pm sharp sharp enough worker came us state erin emerg abl meet us tonight well great night supper would obvious wast money spent guarente sincer mr mr scott grander louisvil ky', 'stay allegro two day big prolem one thing satisfi light dark room also bathroom light good open curtain complain recept said fix get respons disappoint never come back', 'back hotel sever reason began check staff rude uptight reserv lost system seem think strain time find room ok bed hard uncomfort room next door tv turn loudli call ask could chang room told option offer solut food restaur extrem overpr cook request overal wish chosen differ hotel stay chicago', 'travel chicago busi look forward spend vacat time citi want best accommod trip research decid palmer hous hilton sound like perfect place stay way perfect perfectli aw read posit review check hotel websit expect luxuri room notch ordinari howev standard guest room hotel websit describ delux bland gener remind room stay budget chain hotel pricier histor hotel one carpet look dingi wear shoe slipper time walk gap curtain made imposs block sunlight morn horrend view brick wall window addit sink bathroom drip constantli annoy night long everyth cost extra includ gym pool spa restaur price outrag hotel overpr overr definit subpar recommend worst enemi', 'daughter want spend weekend chicago st birthday recent want find best hotel experi look hotel websit realli like hotel allegro insist suppli organ fare room spa servic book us friday saturday night upon arriv demeanor hotel staff rude distant enough warrant verbal complaint enough make daughter feel uneasi check took least minut due sever staf head room tri optimist room much smaller photo hotel site suggest sink faucet bathroom leaki enough make constantli irrit sound stock towel never replac stay made sure spend much time explor citi possibl avoid go back hotel huge disappoint custom daughter birthday girl highli discourag anyon stay hotel much better choic chicago area', 'although architectur hotel quaint posit teribl hotel guest servic unhelp best inbuild resturaunt unsanitari untast room small cramp seem sheet clean last year stay distast never intend return except ask money back', 'recent stay amalfi hotel chicago disappoint right begin girl front desk busi talk one friend final get wait rude seem bother wait room wasnt expect dingi dirti seem like old hotel look nice hotel seem like qualiti expect cheap motel', 'sinc first visit windi citi want stay somewher central uniqu read mani great review regard kimpton brand gave go go end go sore disappoint arriv ladi front desk nice two kid us need crib month babi told problem unfortun took hour get us crib lurch next notic bug bug near fridg area yike call downstair complain switch differ room floor request met minut later time tire flight first impress want throw towel custom servic lack want get settl go grab bit citi wait around new room crib expect high price think hard book kimpton hotel', 'husband stay hotel allegro chicago past summer needless say return hotel overpr get upon arriv hotel staff unfriendli could help question bed uncomfort fulli stock honor bar stock choic shower even work book king suit jacuzzi end get king room jacuzzi would recommend place', 'never written review share experi chicago intercontinent hotel book weekend hotel wife birthday never stay luxuri hotel thought would great experi us horror start first got counter clerk mix room point got realli snooti get room maid clean yet wait around went hotel restaur food terribl overpr final room finish view promis non exist top maid terribl job clean toilet dirti actual found stain stain sheet wast money point concierg even offer refund discount never', 'intercontinent chicago hotel terribl first continent breakfast joke food unhealthi unsatisfactori first night expect maid come clean room came back site see find room condit left never go back hotel', 'need find last minut hotel stay night came one first price one night extrem high worker front desk kind treat like second rate list prioriti got room got settl smell cigarett air condition make loud sound didnt get much sleep also restroom dirti frankli disgust bed old uncomfort tv work overal disappoint hotel', 'amalfi hotel chicago one worst hotel ever stay travel lot job happen hotel compani pay four star hotel yeah right wish could give neg star even know begin normal review tri outlin aspect stood overwhelmingli bad anyhow goe begin custom servic stank think seen rude servic peopl well custom servic stuff nightmar reserv still wait minut ye count someon pay attent final chew gum visibl uniform name tag clearli want took one glanc reserv enter anyth comput told accept date alreadi pass date reserv written day furiou minut shout match equal incompet manag left angri could scream final grudgingli accept name reserv comput could book room room first glanc appear clean closer inspect reveal black mold bathroom ceil sink tap gush rusti look brown water minibar pick remnant look like sever year mattress mysteri disgust yellow stain pillowcas also look yellow decid begin see thing alreadi upset place extrem sleepless night paper wall neighbor appar eleph easili say would never go back hotel ever somebodi pay', 'hotel ok best money first park price exorbit know park premium locat price much high also servic hotel poor felt like room servic took long consid price servic poor gener staff palmer hous seem interest help richer known custom us addit feel mani fee includ fee internet also room clean bed nice nois could hear peopl walk would say averag experi hotel consid price mayb think twice palmer hous', 'visit hotel allegro chicago vacat daughter book room excit websit allud lavish interior amen far superior surround hotel particularli excit fit center work regular basi would give vacat let start say staff rude dissappoint could respect tire travel long way book hotel stay week expens seem matter despit fact travel small child well noth accommod woman front desk even refus rude take call answer question nearbi restaraunt insist even though work know area tope fit center construct never got use worst hotel experi life never go back sandi', 'wife guest hotel allego chicago long weekend getaway septemb check hotel websit long book quit excit trip arriv hotel staff inform us room request unavail brought us differ room smell quit moldi ask move anoth room wife asthma polit told unabl switch time room particularli well clean found previou guest hair bathroom sink floor film dust televis set type complain went explor citi assum would worst nighttim tri sleep discov bed sag terribl middl wall thin everi nearbi convers could heard perfectli toss turn half night morn hope quick workout might help energ us day discov well fit center describ websit realli anticip treadmil dilapid weight rack concierg never around lobbi sign alway said right back ask question actual somewhat cold rude toward us second night without incid luckili except terribl bed third night woken three time hotel staff tri enter room clean despit disturb sign would recommend hotel', 'hotel poor custom servic worri keep everyth date perfect look hotel rare worri custom guest ask room servic clean took long time get respons disappoint', 'visit start wrong foot enter lobbi struggl carri luggag instead help group hotel employe stood watch laugh us troubl locat reserv room tini pay night room expect abl walk around bed also tini wall thin could hear neighbor talk next door hotel probabl beauti classi seem outdat due repair stay', 'recent horribl stay intercontinent hotel chicago first arriv impress architectur locat thing went downhil hurri front desk staff extrem rude upon check even though reserv room two queen bed told king bed room avail time noth could room nightmar smell like ashtray clear bed dire need replac also huge problem televis would automat turn everi minut complain problem littl done hotel staff eventu bring new sheet qualiti margin improv overal disappoint stay intercontinent hotel chicago pictur seen onlin expect wonder hotel actual got par would typic find rundown interst motel', 'recent visit chicago stay hotel allegro chicago first enjoy welcom check hotel hotel price roof use sleep eat breakfast food serv par felt like cheap free lunch room crowd wast basket bag toilet paper row half way finish check felt hous keeper gave us dirti look went room feel safe hide valuabl kept busi sign door one would enter take stuff room appear websit actual opposit look like regular motel inn paid way would actual motel inn appreci none electr outlet work phone dead whole durat trip would recommend hotel anyon', 'would stay hotel room fowl odor seem though carpet never clean neighborhood also less desir housekeep seem snoop around clean room say front desk staff friendli albeit slightli dimwit', 'decent place stay peopl nice enough yet atmospher expect room spaciou welcom mani place eat yet food pricey averag would stay possibl feel like could find better option better price', 'recent stay hotel allegro chicago wife busi thought take could see citi well chicago great allegro much mean look nice great lobbi servic great though clerk younger girl seem bit rude like bother interrupt day want book weekend bell hop took bag room none gentli wife watch threw luggag floor room bad till actual ask tip room okay bed sort rough made odd plastic rub nois everi time move next day wife went return find room clean trip chicago nice moment outsid hotel hotel allegro seem like spent much appear neglect staff better stay', 'recent stay intercontinent chicago magnific mile littl underwhelm conveni locat compens fact properti old definit need updat renov definit need nois control everyth everybodi could heard insid room hear plumb guest room particularli annoy fit facil realli hype unfortun free use least includ book choic park pretti expens realli need use overal dissappoint great locat match great accommod', 'wife excit visit shop chicago magnific mile michigan ave chose intercontinent hotel reput locat man oh man disappoint check smooth enough even though hotel busi seem well got readi go shop went visit concierg lobbi ask suggest bargain six peopl line wait problem sinc timet final got ask shop miracl mile point door said right door ask suggest best store bargain roll eye say thing believ abrupt left concierg stand want return shop went well fun return room want look restaur night rather ask concierg find hotel directori room call housekeep depart told directori offic ask could check vacant room one said hotel full vacant room hung thought would look restaur yellow page guess guess phone book room figur could go get drink bar hotel theme loung ask bartend suggest went bar three custom sat bar got drink ask bartend restaur suggest cell phone rang answer went end bar talk twenti minut later still phone tire hungri wife went back room order pizza deliv pizza hut although hotel nice enough furnish comfort indiffer staff keep ever come back big thumb intercontinent chicago need look word hospit dictionari', 'famili chicago friend wed ask around find hotel nice afford point direct intercontinent chicago hotel hotel appear nice amen room servic wifi clean room unfortun turn appear deceiv begin desk clerk downright rude uncar said room avail make arrang get late place go hotel nearbi kid starv ask anyth could said ask someon els busi talk manag bit fuss manag apolog move us room night appar expect would normal amen hotel stay standard room even clean wifi work order room servic never came even sever complaint end either got home found hotel charg us room servic overal frustrat experi stay', 'hotel good name good locat chicago unfortun unsatisfi hotel luxuri hotel pay luxuri price expect get money worth unfortun case intercontinent firstli room surprisingli small unclean could probabl use renov upgrad furnitur suppos luxuri hotel expens worri carpet part room seem dirti also troubl get room temperatur want sure problem air condit room problem whole hotel build old suppos lot problem old secondli disappoint qualiti servic hotel staff thought somewhat rude inattent thirdli hotel lot addit expens felt like want overcharg everi chanc got use fit amen internet etc alreadi pay much hotel room get irrit feel nickel dime everi chanc get hotel nice look build terrif locat realli think worth expens mani hotel chicago choos much better', 'pictur websit sure deceiv real life palmer hous hilton nearli pretti made clean staff still arriv room made us wait outsid still clean grant minut sometim guest messi thought weird thing would put trip charg us mini bar fee even drink one told us would pay liquor anyway also get wake call us time miss tour bu whole day trip spend extra buck cab fee could see citi way plan good tour guid got lost husband lost key room one point trip desk gave hard time get new one terribl certainli stay', 'recent stay hotel allegro chicago busi trip say displeas servic receiv stay even though websit boast staff beck call found rude bed extrem uncomfort nois level high awaken guest next room sever time even though complain front desk resolv issu definit would recommend hotel stay differ hotel area', 'hotel expect would websit pictur portray hotel much better condit actual amen look price hotel good valu offer aaa membership get good discount like hotel staff friendli help question area prompt respond request understand lot guest stay need staff hand cannot provid hotel guest qualiti servic think stay hotel anytim soon', 'highli disappoint choic stay amalfi hotel chicago travel busi last minut felt lucki get reserv highli rate hotel initi impress desk clerk thought lucki wait sever question local attract act though bother custom lobbi direct rack brochur locat near concierg went back lean counter plu side room love call room servic pm told close even though menu said serv pm decid go rather fight issu next day tone pool bar restaur etc staff seem gener feel guest lucki enough stay chic hotel like part atmospher instead actual employe job except housekeep staff call extra pillow anoth blanket door minut made ask anyth els need leav bottom line book room intent relax day two busi complet decid even though hotel beauti nice locat atmospher invit rather go somewher felt like money appreci instead stay somewher seem care', 'servic subpar room need better clean check counter longer expect decid use traine check definit fun long flight clean towel room bill return room servic charg order', 'problem start book intercontinent chicago onlin hotel site got server error somehow manag get reserv wish look elsewher great chicago street fill plenti option server error continu check let holiday weekend far mani other must pushi convention troubl get serv hotel enorm give sens comfort health facil also big noisi crowd internet access day kind surpris go around corner starbuck next time pick intim place nearbi without mani server error', 'experi amalfi hotel chicago pleasant first arriv hotel greet experi design friendliest peopl also husband toss turn night uncomfort bed price would expect luxuri experi', 'wife decid stay amalfi visit friend chicago stay would recommend luxuri hotel friend amalfi claim stay begin warm greet receiv exact opposit front desk clerk rude sigh roll eye anytim ask question becam agit ask pet friendli room appar extra work sinc chang reserv add dog bring last minut room pet floor alright noth spectacular unfortun slight scent cover dog urin proceed dinner keefer restaur wait addit minut past reserv time suspicion segreg upon casual attir oppos eleg environ promin throughout restaur next day could get wireless room work correctli finish work friend hous wife call extra towel pillow took half hour receiv also order breakfast breakfast bed favorit egg show long black hair set stay day manag stay stay', 'misfortun book amalfi hotel chicago week ago joke start housekeep staff must strike understaf know made bed room could done better year old ditto bathroom water spot soap scum ugh hair kind sink tub floor gross request non smoke either listen care room linen smell like old ashtray beauti view ruin water spot outsid forgiv insid sticki stay one night holiday inn room avail clean never', 'recent stay palmer hous hilton busi trip chicago best make sure futur employe compani stay reserv made earli check arrang due travel arrang travel companion get citi earli hour morn arrang earli check without pay night fuss rais agre assum would fine got howev room avail us hour refus keep bag forc chang cloth wash public restroom offic build first meet took place cart bag around us offer insincer apolog offer comp us anyth inconveni rest stay one night noth prais guess bug would count posit would definit never recommend anyon stay', 'husband stay hotel weekend sept plan vacat impress hotel exterior love look forward enjoy view room first start wonder made right choic one wait help us bag carri luggag room hotel middl shift chang seem like someth supposedli world class hotel abl avoid good room nice view sat bed like sit cloud shower pleasant bad room small bed king size request felt cramp uncomfort throughout stay stay less luxuri hotel much spaciou abl provid us request size bed restaur option accept although servic excel describ perhap expect miracl would chang mind hotel disappoint room servic check rest weekend somewhat taint usual enjoy partak room servic decid sub par first day would eat rest weekend next time look hotel chicago area', 'first made reserv palmer hous hilton excit gorgeou pictur display websit littl know go total disast first husband find place first time chicago would call direct kept put hold husband final arriv bu boy extrem rude man handl luggag held hand impati expect tip talk arrog front desk clerk littl pushi husband stay one night attend sister wed kept tri sell suit need regular guest room room okay decor ornat forc jack price take worth even nerv tri say purchas item snack bar order movi never even heard complet unprofession never repeat never stay hotel ever', 'amalfi hotel chicago portray luxuri comfort place stay arriv hotel parti minut wait check treat like cattl abl check privat counter websit highlight felt though sit bank teller rather check wait process take seemingli forev reserv complet wrong end settl doubl non smoke room reserv smoke king room room request assur avail complet unaccept high price supposedli high end luxuri hotel compens switch room audrey experi design help even call upon enter room smell urin stale booz recommend save hand money check chain hotel area amalfi hotel chicago wast time money far concern especi could stay cheaper chain hotel get better treatment comfort waist time stay', 'arriv hotel minut prior check time recommend get notic coupl two peopl wait line check ten minut later stand suitcas woman front desk inform us comput due recent updat softwar told us wait comput boot back ask could drop suitcas room said need electron activ card comput activ card final anoth minut later comput final got room where luxuri wait minut room also need chang name hotel servic leav allegro', 'agre intercontinent chicago nice hotel outsid nice place stay plan visit chicago ambienc hotel look bland also amen cheaper hotel get excel dine experi somewher less', 'intern chicago magnific mile shroud glamour underneath facad fade away classic architectur landmark translat old bore found hotel via googl regret ever sinc room size small unaccommod one newer room everyth free except gym free price paid know hotel overpr qualiti size room get would recommend stay', 'hotel allegro locat chicago loop provid wife one worst hotel experi recent memori order weekend liquid therapi packag hour prior note websit surpris arriv name nowher found system room accommod restaur noth prepar us appar anoth coupl alreadi reserv last avail slot weekend away turn weekend hell ask take smaller room origin book never offer us replac dine option receipt credit card statement show reserv made time never stay', 'affinia hotel chicago one interest hotel ever stay everyth look nice fanci though peopl work must project chicago custom servic worst ever experienc life went check first wait minut worker desk stop person convers check us women counter final acknowledg us smack gum upset treat us like inconvenienc room servic brought us cold egg breakfast attitud staff overal extrem rude would never go back hope place get staff makeov want stay busi', 'stay ambassador east hotel past summer day worst hotel experi ever firstli sheet bed seem one previou guest left look dingi plain dirti second went function one night came back late realli tire next morn henc slept late put disturb sign door room servic still came knock door ask come clean obvious room servic ladi read third worst check allow valet park gave key hope get back car one piec well next morn ask car retriev big dent driver door mustang livid valet guy insist got like end get door repair thing like food even disappoint warn everyon think twice make reserv', 'ambassador hotel locat downtown chicago right lakeshor drive heart hotel industri downtown would recommend look one hotel want place stay downtown rate hotel indic would top line place stay fact pretti unpleas experi start someon obvious new employe check us problem except fact person one duti difficulti check us one assist check went room bit disappoint pictur accur depict size room tini offer littl room store luggag way bed comfort call room servic extra pillow took hour arriv stay hotel anytim futur', 'wife stay abassador east hotel august attend air water show chicago call ahead ensur sw view would allow us watch airshow room weather permit us watch one nearbi beach upon arriv hotel room west side hotel even singl king request appar hotel overbook king room event weekend downgrad queen room room small underwhelm dirti linen furnish old worn feel hotel pack weekend visit staff obvious prepar cater larg crowd concierg recept desk continu busi hotel restaur slow long wait main lobbi common area throughout hotel also undergo renov make get around fight crowd peopl even difficult luckli weather nice airshow enjoy stay abassador futur trip hope current renov provid much need lift hotel current worn vibe', 'never use ambassador east hotel first appear get dark dreari type set exterior hotel desper need repair custom servic good would expect spend hard earn money hotel room hotel spend averag amount money room smaller averag hotel room felt rush check enjoy experi', 'experi ambassador east hotel truli terribl went chicago husband children attend wed hotel recommend wed parti terribl choic despit special discount got wed hotel turn expens compar nearbi hotel staff amen also unfriendli children kid absolut terrifi sever member staff scowl yell reason place also formal stiff decor lot breakabl expens item son narrowli avoid break vase ill temper bellhop nearli ran luggag cart overal would say displeas staff hotel attitud toward children expens hotel plu side window excel view citi still would return', 'expect luxuri hotel pay attent detail room realli thoroughli clean found hairbal bed mirror streak etc desk staff took forev even acknowledg check three two phone nobodi even made eye contact minut gave vaguest answer pretti basic question neighborhood think know find starbuck internet ridicul slow whole two day', 'hard rock hotel boat best high scale accommod busi pleasur stay fail disclos expens stay servic tend heavili influenc wealth patron servic redili avail friendli make room furnish attract old furnish laundri servic leav desir sheet gray tint room smell tobacco recent stay hard rock hotel disappoint servic cleanli room bathroom bed stay hotel memor rest isnt pay', 'recent stay affina chicago hotel realli dissappoint arriv desk clerk realli slow check feel like turtl could check faster final check room th floor elev ride seem take forev arriv room first glanc look great look everyth finger smudg glass tabl figur mayb room cleanin must accident touch went c hous supper even wait seem like forev meal good waitress uptight way back room ask front desk set wake call next morn grate set would nice actual get though next morn surprisingli work realiz receiv wake call upset let know overal experi worth star hotel given price qualiti rate affina chicago hotel given would expect better servic', 'terribl experi famili affinia chicago first reserv room queen size bed receiv king size bed cot got room found hair ball floor cat previous stay absolut terror affinia never go back', 'hype rave review talbott hotel seem would mistak stay way around talbott hotel websit claim opul accommod impecc servic unexpect delight last time check opul bit differ mean easili outdon senil year old landlord colleg apart impecc code rude unfriendli unexpect delight fun faint obviou stain sheet hotel overal stay simpli worth money hassl involv make correct reserv lot less could treat rude mediocr stay casual environ', 'name hard rock might trigger imag hip rocker sore disappoint stay websit allud musician parti look hob nob rich famou hard rock fall short hotel put kitchi show decor lobbi around properti noth excit servic mediocr room clean stay hotel last year long weekend chicago much look forward fun excit romanc pick somewher els save money', 'terribl time talbott plan vacat chicago call ahead made reserv stay went check told reserv know credit card charg argu guy work final option gave speak someon els thank knew use comput go room terribl smell beer feet could believ complain told spray air freshen go visit famili got back room key work complain helpless employe told magnet strip must came contact magnet could believ mental guy one night reserv could take anymor went spent rest vacat aunt hous would recommend talbott anyon', 'heard good thing regard plush accomid talbott hotel chicago thought would special treat take year old daughter spend weekend mom shop enjoy bit chicago excit night life found talbott hotel websit decid american girl packag offer look price sound reason book room two us excit spend time togeth arriv hotel check friday afternoon make us wait minut tri find reserv inform room avail anoth hour blame shortag maid day manag find us tabl one cafe good start special weekend final allow go room found doll size travel bed includ packag room disappoint daughter look forward find bed bring us surpris imagin rest weekend went fairli smoothli manag good time togeth even though servic quit claim websit would go talbott hotel probabl', 'hotel seem take everyth luxuri forc throat first place attack directli insid pocket place look alright lobbi need place stay midweek convent sightseer chicago far much spend place sleep night clearli ambassador east hotel taken account recess mention least minut airport traffic chicago traffic stress enough without worri quickli airport reach particularli front desk forget give wakeup call', 'dollar cheapest room avail hard rock hotel chicago would assum would access wifi yet case told could internet book site didnt ladi recept idea talk ask around internet access gener', 'origin made reserv weekend getaway look websit read romant weekend getaway never area stay ambassador hotel realli know expect pictur onlin made look invit turn upon arriv park valet break end park car unless felt like leav line traffic went downhil bed sheet footprint bathroom odor figur end get differ room mediocr needless say stay', 'look high end hotel magnific mile affinia chicago best option first central locat conveni quit hike navi pier hotel claim offici hotel shop mile secondli hotel small room miniscul comparison hotel area thirdli one restaur one loung offer menu seem bit bizarr high end hotel final affinia one rude staff ever wit luxuri hotel one expect courtesi outrag price readi attitud snobberi greet affinia', 'warn stay talbott hotel go histori one worst experi stay hotel excit weekend getaway friend receiv posit recommend look websit decid stay talbott promot breakfast credit per day breakfast favorit meal alreadi look like great time upon arriv greet employe known told us rude made sexual advanc one ladi group talk manag incid outsid assur us would take care issu even upgrad us king suit instead doubl size room origin reserv someon blindfold took one room would sworn motel luxuri hotel chicago linen stain room smell smoke anoth odor similar old cat pee truli disgust night town came back disgust room get sleep next morn excit breakfast highli recommend hotel guest say one worst breakfast ever eaten toast stale egg made powder instead real egg juic serv sour would never recommend place stay would suggest red roof inn place anytim', 'select talbott recent famili vacat chicago chose hotel close proxim navi pier otherwis central locat retrospect phrase locat locat locat appar appli hotel good thing locat great everyth happen insid hotel bad upon arriv room readi clerk could nicer whole situat told us simpli would wait without offer sort help luggag timet room would readi final arriv room sheet clean call housekeep prove difficult speak spanish second day trip housekeep never show clean room despit presenc pleas servic sign hung door stay room servic long afternoon michigan ave food final arriv full hour place order cold good despit poor impress manag unwil compromis price checkout call corpor headquart answer call center mumbai receiv busi', 'return long weekend chicago wife stay affinia hotel even begin describ aw experi arriv pm thursday check pm room readi wait til pm could even get room insid room smell like ash tray obvious someon deactiv smoke detector somehow smoke room decid go earli dinner arriv back room around pm key work go way back lobbi get new one next morn maid start knock door morn would tri clean room earli disturb sign door rest stay earli wakeup went downstair request differ room due terribl smell one assign front desk employe gave condescend look sigh ask eventu get new room enjoy demeanor encount new room fairli nice rest stay rel unev bad tast mouth like stay', 'hard rock stick restaur recent stay hard rock hotel chicago think go back good besid wait hour room readi check time receptionist rude seem care delay see state room still understand took long sheet look pick floor return bed bathroom look somebodi use leav detail complain seem get anywher offer small discount hotel bar experi like book motel return hard rock', 'stay hard rock hotel chicago last year say satisfi experi feel live advertis accommod sub par best chanc catch show music loud sound guy work resembl amateur person rate star would recommend hotel friend', 'read good review affinia hotel chicago husband decid spend two night celebr th anniversari unfortun hotel miss mark us expect find bedbug underneath mattress star hotel husband bad experi bedbug rule alway check underneath mattress settl night hotel brought attent front desk staff practic accus us plant bug humili disappoint way situat handl needless say made decis pack bag went elsewher celebr anniversari written letter hotel chain hope respons situat also report incid credit card compani alert refut charg one night affinia charg account miss cancel deadlin', 'heard good thing ambassador east decid stay vacat husband mistak first charg abl use internet given day especi much pay room champagn cheap could spent get bottl king room small doubl room anyway bed realli hard crude made mayb someon new staff know make bed besid sheet starch militari stiff uncomfort ask might get new sheet staff incred rude told basic stuck way appal anyway gave shot stay night mediocr luster room design sleep well particularli enjoy especi appar wed go build could hear parti mean talk opposit peac tri appeal staff room move away parti said move us romanc packag jip kind fun realiz handl anymor call manag next morn fought coupl hour want cancel second night stay said still charg percentag tell everyth happen displeas final got charg us left go stay anoth hotel actual relax', 'hard rock hotel chicago good tri portray first ill start say websit confus hard navig also rude custom servic dont seem happi answer question price outrag expens offer ridicul hard rock hotel good rep behind name hard rock hotel chicago includ', 'daughter broken heart daughter love american girl birthday want go american girl doll chicago six month eight year old count day day left chicago could experi lifetim arriv talbot hotel reserv american doll girl packag find given room away go move us town bad enough spend hour find american girl carriag ride cancel book anoth one daughter sulk trip spent time go thing thing instead abl walk daughter cri sleep first night could tell heart broken', 'realli excit book night hard rock hotel chicago actual beyond budget husband need weekend away decid splurg occas worst wast money ever room smaller pictur onlin look like maid vacuum carpet visit hotel restaur angel king one night dinner drink overpr husband steak cook wrong order medium receiv well done steak end trip glad leav staf sunday morn checkout line long wait line minut could check chicago fun citi next time return choos differ hotel suggest', 'hope would pleasant stay turn nightmar first sign troubl affinia find reserv add room servic deliv cold food long wait mini bar well stock internet servic slow unus top street nois seem penetr thin wall eas make get good night sleep nearli imposs final discov valet park premium servic dent fender scratch door paint car highli recommend go elsewher visit chicago', 'extrem disappoint stay hotel look like pictur portray onlin book onlin think perfect place go arriv room without view even though paid room smell musti clean garbag chang prior person found small ant bathroom near shower call complain someon came hour later use bug spray overal hotel great locat would never visit staff overli friendli help room seem onlin', 'hotel tout luxuri locat chicago talbot poor think motel hilton price carpet threadbar wall paper thin worri mini bar constantli random room check privaci sleep unheard price charg averag price two peopl seem like money spent remodel exquisit lobbi happen stay could better spent better insul date furnish guest room guess talbot concern first impress return guest', 'terribl experi stay wall thin kept night parti go suit next mine talk manag sever time noth done may peopl contact thought staff standoffish rude unpleas experi especi given cost stay', 'hi bad experi hotel room bad smell dim light bed sheet properli clean also carpet dirti though ac work properli would recommend hotel friend satisfi problem hot cold water bathroom pleas go hotel seem nice pictur actual differ', 'chose talbott hotel primarili locat quickli discov locat good thing although websit good job sell servic amen found sever lack mention reservationist book romant weekend getaway us anniversari ask promis king room howev check told front desk clerk king room avail could either take doubl queen room pay significantli suit took key doubl queen room way upon arriv floor found rowdi group young girl run hallway squeal play turn hotel offer american girl visit nearbi store turn romant getaway room center block room reserv girl scout troop american girl trip went back downstair request move anoth room told doubl queen room current avail explain anniversari ambianc exactli look clerk roll eye told us help us anyth els sorri back upstair went tire travel decid order room servic dinner pasta arriv bare warm mediocr flavor ate anyway prepar bed use bathroom discov toilet room continu cycl water flush jiggl handl time poke around tank get water stop run took three hour mainten staff member make way room fix problem next morn shower discov hair dryer work properli pull wet hair back clip went day upon return expect find room made fresh touch call downstair someon sent clean time left dinner nobodi arriv room made day night girl scout sat hallway giggl sing well ask sever time quiet want listen chaperon nowher seen call desk told us would take care girl continu parti hallway anyway nobodi came shoo away next morn turn hairdryer expect work report difficulti day stuck wear clip check made mental note select anoth hotel area next trip hotel potenti staff care enough experi allow recommend travel', 'stay affnia hotel chicago extrem unsatisfi would recommend everyon avoid hotel paid overal night cheap small untidi room grant stay hotel similar qualiti never paid much one could believ saw walk room tini small patch mold wall paint breakfast order terribl certainli good wifi connect horrend slow want spend big buck hotel fine spend', 'affinia chicago one worst hotel ever stay life treat poorli guest front desk unaccommod ask smoke free room made error reserv bellhop avail strang reason move luggag elev long hallway room alreadi bad stay order room servic took hour half deliv air condit room would say everyth stay complet miser travel chicago kind busi hope decid choos hotel quit surpris like chicago citi stay definit made trip quit neg experi', 'go day person trip chicago decid indulg bit time around chose stay talbot upscal hotel heart downtown chicago start pleas hundr pay day expect impecc hotel first check process bad somehow took nearli minut find reserv place nearli month advanc custom servic claim next went room found room servic clean forc wait call maid entir reclean room strewn use towel summari ye fanci hotel ye nice accommod servic experienc simpli par hotel price', 'recent stay talbott hotel chicago left citi empti pocket book book packag deal onlin although servic absolut terrif realiz amen pay includ person key card room servic menu could done room key name print well menu name print thing becom extra amen cost much money basic felt overcharg call extra includ packag purchas one thing traffic pretti horribl check seem like could somehow made simpler', 'husband recent went chicago aunt funer familiar area ask recommed stay two night would town told stay ambassador east hotel wish could say experi good one sadli one disappoint travel experi upon check quickli shown room enter king suit strong musti smell greet us side first thought sensit hour room simpli request move smell overwhelm front desk said would happi move us room avail suit two doubl bed rather king bed suit origin reserv exactli want realli choic refus transfer new room get settl discov electr outlet near sink bathroom work bother husband much annoy need mirror use hair dryer curl iron etc absolut want switch room yet simpli make due hair next bed also gave us two towel kind bathroom request washcloth small hand towel day time housekeep staff seem incred annoy request paid stay hotel impress custom servic lacklust room par ever chicago favor stay somewher els', 'talbott hotel place stay staff treat like welcom pay higher price snub room classier fancier standard motel room servic take hour constant traffic construct outsid cost far luxuri best thing stay hotel bathroom towel', 'wife stay ambassador east hotel last month son wed got nobodi help us bag took forev valet car wait minut get car park expect tip found rude final get room notic crumb floor dirti bathroom extrem disappoint room servic recommend place anyon', 'affinia chicago obvious cater wed guest corpor host busi confer repres one group larg number guest revenu affinia expect measur custom servic expect great accommod even high price arriv reserv lost took forev concierg tell us room instead given avail furnish room cheapli made clean obvious superfici view directli concret wall hotel l shape corridor call fresh linen toiletri rude phone attend told someon would essenti time two hour later someon came dine hall recept area realli nice unless larg group expect enjoy stay affinia even could price worth', 'arriv check process fairli quick howev staff seem bad mood around seem take time got room tri use person comput look attract pay day wifi total wast money speed internet extrem slow free workout area also expect sinc free didnt complain overal would never stay hotel recommend', 'high hope ambassador east hotel realli seem like nice enough place reason close beach access arriv hotel tuesday afternoon immedi surpris state disrepair build could actual see two member hotel mainten park lot sit truck noth walk nobodi greet nobodi offer take bag hotel furnitur look quaint outdat fine cover dust went counter check disinterest girl work bare glanc paper slid key avoid eye contact type comput got room despit specif ask nonsmok distinct smell cigarett insid hallway paid extra upgrad room extrem disappoint condit insid drink glass filthi towel smell mold actual trash left bathroom trash televis basic crt look fifteen year old channel guid though suppos need one six channel heard good thing food ambassador east hotel ala respit room servic order took forti minut arriv steak cold cook beyond well done elsewher hotel thing better everywher went pool bar staff hasti rude complet uninterest nowher particularli clean well decor realli want like ambassador east hotel unfortun best part stay check', 'first time stay hard rock hotel chicago noth hate entir experi build maintain howev staff rude inept point make custom feel physic ill outsid appear fine dandi room repuls soon bellboy threw luggag onto room ground verbal demand tip notic insect kind scurri around room pungent smell like human excrement could say anyth bellboy taken tip fled immedi went front desk made wait half hour complet wast time soon report problem told room avail would make howev say could stay night free charg next morn set leav decid would tri breakfast hope find one redeem qualiti let tell breakfast tast like space food dirt mold worst breakfast ever entir life overal employe arrog callou work ethic year old child cannot cook room poorli maintain howev good refund money', 'recent trip chicago stay ambassador east hotel locat downtown say pleas stay one request room one king size bed call reserv howev arriv hotel lobbi clerk said king size bed left settl two doubl size bed told clerk king size promis made reserv shrug shoulder got room found small suppos small refriger room although bother complain gave wrong bed night seem sort convent held hotel figur convent attende like stay earli morn made way much nois call front desk sever time complain nois time assur would deal nois racket never dissip final gave get sleep go back lobbi trip end complain poor servic given manag said felt sorri troubl hotel offer refund consol troubl left ambassador east vow ever return chigaco would never stay place', 'husband plan st year wed anniversari want go back spend chicago first met spend sever minut frustratingli navig talbott hotel websit final abl complet reserv long weekend long flight chicago readi check shower lay hotel room howev arriv unfriendli clerk behind counter notifi us reserv provid confirm email said must mistak room reserv alreadi occupi begrudgingli found us new room seem like hour wait carri bag room immedi hit rancid smell cigarett smoke soon open door sever allerg smoke end get refund locat much accommod friendli hotel', 'would reccomend stay hard rock hotel chicago want good deal good night sleep stay hard rock hotel chicago two night past juli select king citi view room room dark ugli black carpet view anoth build right next door great view upper level floor elev incred slow hotel pretti loud peopl room next mine parti night long hard get sleep first night call complain front desk promis someth never end call two time manag someth room next door quiet hour loud rest night hotel expens price mani special amen continent breakfast wifi includ sign day servic day overal would recommend stay hard rock hotel chicago way overpr get', 'visit chicago famili sever time never horribl hotel experi staff rude unhelp overcharg card spend whole morn phone tri get final fix mistak hotel live expect either insid dingi need clean room look like bunch chain smoker thrown crazi parti room cigarett burn sheet stain floor hole wall look like someon punch request anoth room margin better term cleanli kept night nois neighbor yell hang hallway plenti place stay chicago avoid hard rock cost', 'wife stay affinia chicago last week studio suit worth extra payment absolut nightmar begin room list overs noth sort previous stay hotel regular guest room squar feet smaller believ extra space closet use unless plan live two son us make extra sleep space oldest son slept couch woke multipl time time complain bug move around must umcomfort also sat couch day like rock room servic horribl took minut deliv pillow wife around pm wait famili would never go back hotel highli recommend also stay well away', 'recent stay talbott hotel chicago miser visit began wrong foot locat reserv reserv code email confirm insist find system final agre scrap reserv start process lengthi train new girl take reserv room origin reserv king avail wait minut clean doubl room tire travel hassl front desk decid stay order room servic took hour half food arriv final deliv cold exactli order cranki tire starv ate could mini bar poor select item went bed room spaciou stale smell someon smoke next morn complain want chang room woman front desk bother tri make thing right way decid check go anoth hotel remaind stay chicago never wast time money talbott', 'husband recent spent night ambassador east hotel never stay hotel steep price paid stay expect friendli staff clean room get first room clean found bug room sheet look like recent chang report inform hotel staff anyth help us staff unfriendli also clean towel use bathroom', 'book weekend chicago stay hard rock hotel chicago locat well good review found onlin howev experi hard rock hotel fell short expect arriv well hour check time told room yet readi left awkwardli wait around anoth half hour want leav hotel settl hotel staff interact seem gener uninterest job appreci hip hotel popular younger crowd excess amount nois floor stay throughout night half past four morn quiet two call front desk make complaint issu fairli light sleeper woke sever time throughout night would recommend bring earplug also light sleeper would like get decent sleep overal hotel look nice felt experi worth amount paid room', 'staff talbott hotel complet unrespons told bunch drunken teenag play ding dong ditch sheet smell funni arriv chang time two week stay room servic slow clean crew replac soap notic content mini bar diminish everi time maid servic room', 'talbott hotel claim chicago premier small luxuri hotel stay experienc servic environ hotel gener say confid true arriv rather high expect due claim made hotel review post websit immedi disappoint one came car collect bag forc lug insid doorman polit fail even open door leav fend tri carri bag insid atmospher expect light poor leav lobbi dark look like dingi set glossi veneer attempt hide degener state build carpet look dirti vacuum wash quit time corner wall met ceil visibl water damag arriv front desk forc wait five minut someon came help check went room disappoint bed uncomfort ran shower ten minut without ever receiv hot water night order room servic food took minut get room final arriv cold fit center small select machin caus long line wait use would certainli recommend hotel friend probabl enemi either stay away', 'recent stay room trendi talbott hotel look nice outsid decid whirl soon walk notic alot hotel employe usual larg hotel swarm servic peopl readi lend hand tire need nice room approach front desk notic someth odd food sit right front front desk peopl talk differ item bagel muffin left breakfast rush crumb everywher especi suppos exchang cash room key let say profession room averag bathroom carri kind brand would like see wi fi connect walk hall ice talk lack custom servic stay sub par noth special', 'ambassador east hotel terribl place stay room old dirti though clean remodel year hotel staff friendli accomod wast money crappi old hotel full rude employe', 'hotel place downtown chicago make realli loud hard sleep night citi nois come outsid room realiti also smaller look pictur stay hotel weekend trip husband suppos get room king size bad instead got two singl bed stuff realli nice either seem like make favor talk', 'husband stay hard rock hotel chicago month back particularli impress custom servic arriv check front desk clerk quit rude unfriendli short ask citi attract thing room great either rather small weird smell stay', 'book room hotel expect great accommod consid price disappoint room look nice found extra blanket closet heat system dysfunct came back room meet found still clean even though late afternoon ask replac towel late come would expect shuttl sort airport especi sinc websit advertis close distanc instead call taxi late plane taxi stuck traffic best experi', 'ambassador east hotel pretti girl bad heart stay night noti may problem servic expens cold hotel first room sevic poorli help bag boy insist tip also drope bag chef cook terriabl steak spent dollar suppost rare came burnt room pay bed like sack rock top cover smell like smoke never give ambassador east hotel anoth chanc', 'stay hard rock hotel chicago recent convent attend first trip chicago idea expect hotel came recommend colleagu high expect check took bit longer would like experienc comput problem staff front desk call main reserv line confirm reserv get room strong cigarett odor spite fact non smoke room went front desk request room chang given comput problem took hour staff quit surli posit attitud spite difficulti expect high profil establish new room suit origin book significantli fresher smell hook laptop dismay discov wi fi servic made reserv onlin take advantag free wi fi onlin ressi part comput problem wi fi servic fortun starbuck street avail wi fi grant loung starbuck jammi like could hotel room connect work necessari make sacrific determin let comput problem color opinion hotel someth necessarili control local manag howev hair bathroom sink wet washcloth floor behind toilet definit control local manag quick call housekeep got promis give room street starbuck promis arriv back room stray bit previou custom dna dust bunni popul erad chanc relax room minor detail stood carpet start get worn place edg furnitur ding person pet peev insid drawer rough unfinish wood dislik littl splinter caus run cloth would expect higher qualiti furnitur hotel thing consid stay toler water pressur good quiet enough night get decent sleep wi fi still morn check earli spent time enjoy latt free wi fi starbuck', 'recent stay talbott hotel night could disappoint terribl experi long wait check room sinc room readi even though arriv way check time front desk rude given smoke room request non smoke room servic left lot desir food took forev arriv cold unappet staff hotel help unfriendli toilet paper room room noisi could hear peopl next door open door watch tv talk room dingi small musti odor needless say stay recommend hotel anyon els stay away hotel worth money', 'stay affina chicago anniversari hotel great locat make poor custom servic rude staff look like clean crew forgot vacuum last guest sinc hair carpet spent money would normal hope luxuri experi left unsatisfi', 'trip chicago complet delight despit stay affinia hotel rate actual higher use new york citi natur assum would get nicer establish could wrong place focus gimmick set apart competit uunfortun set apart strictli neg way dream pillow menu experi kit complet flop dream pillow menu hotel offer patron seem great pillow choic stuf hypoallergen select happili chose fluffi pillow got room laid giant poof dust came first thought imagin stood hit pillow edg bed dust came particl fli around room sneez disgust grit sunglass sit night stand call desk sent replac pillow pillow kind music pillow pluge mp player sleep uncomfort cord night gener staff pleasant tri accommod apolog good enough filthi pillow anoth fail gimmick offer experi kit given keep collect map actual nice walk tour guid mark handi deck card open miss two card place lack attent detail one thing lack attent pillow alreadi enough point certain would never stay establish run walk away place', 'recent stay hard rock hotel chicago il start experi bad room filthi towel front desk noth rectifi situat never stay could dissatisfi', 'week ago stay hard rock hotel chicago hotel bust get go arriv lobbi wait sever minut front desk clerk show could hear talk back minut got desk short us help wander around hall look room got room thought weekend go get better room modern nice design hotel go though soon start explor room clear room parti night bathroom smell vomit bath tub small shard glass broken bottl call worker clean thought still remain settl sleep loud nois come room next door hour final made call front desk complain woman said rock band room finish show chicago stay next night recommend hotel anyon hard rock hotel right least bed feel like', 'recent stay hard rock hotel chicago labor day weekend huge mistak got room everyth seem okay went bathroom steadi drip nois come bathroom sink matter hard turn knob would stop none usual bath soap stock toilet paper also seem housekeep swept everyth behind toilet saw wad hair scrap tissu behind bowl call front desk ask send someon stock bathroom clean wait turn air condit kind warm c start blow hot muski air room smell horribl made anoth phone call front desk complain ask switch room told avail doubl bed near elev frustrat odor steadi drip hear choic take move new room larg damp spot near window smell strongli beer light bathroom would turn front desk sent someon room fix problem final hour later abl relax settl hard rock definit use reason stay', 'hard rock hotel chicago promis upscal accommod uniqu experi fail deliv unless cours uniqu experi includ kept awak night parti room next door plan stay chanc meet favorit celebr musician sore disappoint list celebr fact would rare find anyon b list either parti keep awak favorit band practic next concert parti held musician even abl gain work local coffe bar wall room thin hear everi wrong note play promis art deco must chang definit room truli look like concert held carpet smell like shampoo beer bathroom let say clean correct descript qualiti servic amen sever lack guest greet warmth disdain bother complain nois next door either part uniqu experi part hard rock hotel descript appear accur great locat chicago easi find real hotel stay rest trip', 'mani high qualiti hotel chicago mani high qualiti hotel magnific mile affinia chicago neo classic style non classic servic combin troubl establish reserv friday th amd arriv pm check room one hour post check time noth apolog offer upgrad discount noth season travel share disappoint top list', 'stay hotel labor day weekend pretti aw staff rel friendli posit aspect stop bed rock hard uncomfort thermostat work properli air condition alway degre warmer colder want even though think day internet ridicul bought need download powerpoint work send email ungodli slow bare better dialup end find starbuck use wifi could actual get someth done minibar overpr expect aw experi definit stay', 'hello recent stay affinia hotel chicago unhappi learn addit charg upon arriv made reserv phone mention internet park fee arriv told fee valet park per day plu anoth internet plain ridicul rememb stay futur mani fine hotel charg fee', 'suppos fun weekend getaway girl chicago turn complet disast first problem aros arriv airport car hotel concierg suppos arrang pick group small town car chanc could fit knew end get taxi van take us hotel arriv three room spread differ floor despit request room near finagl final abl get us room floor unfortun one room even clean meant wait around staff never seem sens urgenc voic concern offer apolog inconveni creat second morn woken loud nois sound like funritur rearrang room us despit call front desk sound seem continu minut also know hotel sooo pet friendli one morn woke find huge dog turd outsid room door understand allow pet realli peopl need clean anim dog free floor hard rock hotel chicago may beauti decor offer great room servic terribl staff rude still get dog poo hallway definit stay', 'ambassador east particularli crappi properti given numer qualiti hotel around gold coast unfortun saw amaz rate decid book experi remind get pay lobbi gorgeou appear match photo websit room assign run look noth like photo post websit look like someon put quick coat paint wall furnitur old fixtur bathroom rusti room also smell must mildew room air condit advertis window unit sound like last leg singl night anywher longer would request refund pleas stay part town favor book one numer properti around hampton inn hilton garden inn nearbi clean often special offer properti area save potenti unpleas stay', 'recent stay ambassador east hotel two night visit noth short disappoint expect wonder romant weekend fianc specif chose hotel prefer boutiqu hotel extra attent staff uniqu atmospher expect ambassador met room small frankli outdat bathroom smell musti c room two set polar cold wall noth muffl sound adjac room loud night good night sleep imposs staff indiffer favor avoid hotel frankli worth steep price mediocr charact sinc far better accommod boutiqu hotel chicago know back place', 'book reserv talbott hotel hope find luxuri excel servic actual got far less first arriv check woman desk impolit look rather bore took minut even find reserv comput system go detail mess room key give second set final got room first thing notic smell stale air room liter smell like room without fresh air year soon discov bathroom toilet leak well everi time flush toilet water would trickl base onto floor talk concern report desk fellow answer promis someon would right away fix one show next day earli morn might add later call room servic ask bottl wine took half hour deliv room even chill time show either lukewarm overal experi pleasant recommend book hotel', 'extremli unhappi recent stay affinia chicago arriv check reserv made confirm week earlier comput wait minut lobbi room clean whole time desk clerk gave dirti look text non stop cell phone offic phone rang hook toilet paper restroom trash room never go back dont wast money', 'talbott definit worth price pay realli look forward stay sinc recent renov good locat unfortun live hype recent renov appar mean redon last decad last year tire look also disappoint food servic hit miss expect better hotel calib bottom line better place better valu stay elsewher', 'truli sort person write neg review establish time spent affinia hotel chicago forc first trip chicago sinc boy wife excit arriv begin short weekend getaway soon check hotel first must say counter help far less help appar confus person sign us extrem match came work hotel comput total inept custom servic said reserv room week earlier proceed explain us hotel make mistak kind must mistaken reserv hotel final manag arriv insist present straiten confus room lead much smaller lead believ even clean last occup call front demand manag walk room see condit place shown anoth room time like point noth one saw contact work act one would expect hotel reput affinia list televis inch black white could get channel food room servic brought cold lifeless bland clean person knock door morn everi morn even disturb sign door ever slight smell mold vomit pass hallway everi time wife lift room blunt truli hope ceo compani read note fire entir staff gut build thoroughli publicli flog downtown park never step door affinia', 'recent stay affinia hotel chicago one worst experi ever high end hotel chicago confer thought would enjoy experi somewher pleasant relax return hotel definit place restaur mediocr best despit high price repeatedli got food bland overcook lukewarm room fine noth special think comfort hotel downtown chicago big part discomfort dissatisfact hotel though jet set pet program hard find decent relax hotel like also accept dog mani employe rude adopt mutt energet love peopl photogen dog scar face got terrier look multipl peopl mock said point groom ask want sleep bed room know fairli high end hotel would hope better servic regardless class associ dog hope least treat dog board well experi overal frustrat unsatisfactori especi price give good mark spa servic realli appreci pillow menu feel like particularli luxuri indulg experi especi given custom servic', 'stay hilton chicago recent busi trip elect go execut suit upgrad say upgrad bare anyth get normal price paid expect much better acommod arriv around night check delay flight get concierg servic stop find odd hour stop servic like especi expect guest check yet beyond took minut get room first room mix miss key card extrem frustrat tire present give next morn speak next morn complimentari breakfast joke want stale muffin bad cup coffe breakfast stay next super find wireless internet room actual pay top everyth els horribl connect angonizingli slow speed stay hilton chicago everi even though frequent chicago top list horribl hotel experi long shot', 'arriv find room readi despit past pm check time offer compens real apolog shunt side wait took good hour half time need read meet apolog card room adequ clean better though spars furnish price feel welcom decor reminisc bad night spent hot south coastal motel encount sever problem site amen room staff tri help occas rare abl make headway even complain third night rowdi neighbor seem apathi clueless bare conceal surli abysm lack servic hotel bar elect eat everi night declin tri room servic unimpress everi offer far would use hotel busi person trip', 'hilton chicago locat prime real estat downtown chicago age grace hotel around countri open period time hotel maintain appear luxuri made icon luxuri accord st centuri standard lack form fit center hilton among major hotel chicago forc patron go elsewher quick workout even nomin fee wireless internet use hotel room rare point outrag park fee guest discourag towner make hilton destin guest room differ hilton anywher mean unless stay admittedli fantast execut suit pay premium prosaic hotel experi', 'first look hotel monaco chicago kimpton hotel websit hotel look pleas great place stay visit chicago problem began call make reserv woman answer rude say least question spa servic rush sound like read brochur decid let one person ruin experi hotel made reserv soon chicago front desk servic pleasant arriv room seem clean mysteri stain bedsheet got dress went bar area drink appet took thirti minut worker approach order yet two parti walk serv right away baffl consid dress nice fairli good mood consid first trip chicago needless say stay hotel', 'jame chicago would one worst hotel ever life even though notic design place extrem artist servic qualiti hotel condit horribl gave room blanket dirti look use moment ago figur hotel busi start notic furnitur came cost servic televis work extrem disapoint especi come rigor day work want relax sadli settl work instead fritter time note got next disapoint wifi bust absolut noth stare furnitur stare wall never go jame hotel ever', 'recent stay jame hotel chicago reveal recent updat hotel facelift although room public area look nice hotel still need seriou work first room clean arriv non smoke room seriou odor cigarett smoke ask new room clean odor free involv manag request grant new room better first glanc sever lack could get temperatur properli regul room alway either hot cold two night stay hotel command rate jame expect room temperatur comfort taken grant someth constant battl mattress horribl uncomfort room updat jame skip new mattress worn point indent get lie sort sink hole matter basic comfort issu luxuri hotel last least found hotel loud time stay spite calm decor nois level raucou conduc good night sleep unhappi accommod jame chicago would recommend avoid hotel even though conveni locat happier anywher els', 'sofitel chicago water tower seemingli good idea theori mani drawback first glanc appear quit luxuri grand shortcom cannot overlook hotel quit tall come stori nois adjoin floor room sometim quit annoy staff member littl tri amelior situat dissatisfi guest seem plea help go unnot hotel tri adopt french flavor effort fall short real french influenc found name restaur bar hotel conveni locat heart citi locat also add less cozi feel establish complaint guest room nois appli hotel gener citi traffic nois detract abil fulli enjoy one stay overal would recommend hotel make differ choic', 'made reserv softiel chicago expect ultim luxuri softiel fail deliv everyth ok spend money qualiti hotel ok want ok check day inn first problem reserv ask room near top floor room actual fifth floor desk clerk less help fix eventu got fix certainli feel like valu guest process later went ask direct inform desk clerk cold abrupt us room quit nice shower deliv adequ water pressur second day stay housekeep refil soap coffe also fail empti one wastebasket minor know pay luxuri experi kind expect luxuri hotel nice staff realli deliv would stay get nice clean room laquinta price staff much help', 'stay last august truli glad never stay websit great job creat illus room much smaller seem websit thought monaco walk distanc nightclub isnt wireless internet free extrem slow classi hotel isnt pool per night site park way expens guest would recommend hotel anyon', 'need place stay busi confer chicago higher price review onlin plu four star convinc grant hotel beauti look deceiv pictur onlin show beauti white linen mine bit grey restaur cafe de architect amaz food plu servic aw wait twenti minut glass water remot work tv air condition far loud hotel must host convent could hear music night housekeep good happen infrequ call twice fresh towel want type experi stay lower end hotel experi less money', 'book room hilton chicago two night stay weekend upon arriv reserv could found even provid hotel confirm number still avail fortun anoth reserv shown space avail us settl room night long flight bad odor come bathroom appar clean solut use taint clean arriv needless say poor experi one night hesit ever stay hotel let hilton around pleas consid someplac els hilton chicago', 'jame hotel chicago look nice websit look deceiv employe extrem rude room disgust would definit advis stay', 'recent stay sofitel hotel chicago water tower quit disappoint excit great locat east chestnut street downtown mediocr hotel price per night tax view room top park garag dumpster ye view downtown distanc pretti disappoint bed seem polyest luxuri cotton mani lower level hotel featur late order room servic thursday night wait minut minut longer quot order salad thought lettuc bit limp sit long overal disappoint overpr stay sofitel chicago water tower', 'disappoint hotel front desk clerk rude person call took min get phone arriv room bed made last guest towel dirti call front desk made come back twelveth floor new room assign twelveth floor downstair clerk treat though done someth wrong arriv new room found bathroom less clean hair floor toilet shower shower curtain mildew dri toothpast spit mirror allergi start bother immedi upon enter room check filter air condition look like never clean comfort stain carpet look like never saw vacuum wait accept room went dinner prove bad room lettuc salad brown slimmi steak rare ask medium mention tast like rotten meat veggi look like cook week earlier potato shrivel dri top whole experi went turn lamp final room electrocut ambul come get day hospit stay', 'hotel rate four diamond aaa one would think hilton chicago would like stay palac royalti royal thing hotel howev royal nightmar known moment walk wife go becom bigger headach worth first soon arriv check hotel clerk older nineteen twenti red flag start go clerk extrem rude lazi act like chore even get text cell phone bad enough clerk pretti much ignor blatantli stare wife breast even wear anyth could consid skimpi cold wear turtl neck sweater larg fur line coat divert atent sever time final got room key surpris learn one help us luggag clerk said break okay annoy manag easi enough final got third floor suit reserv month look forward rest long trip surpris mention disgust horror alreadi coupl suppos room bed make took half hour coupl room front desk wife get straighten appar night clerk bother follow polici taken reserv comput give friend leav print card day clerk could describ chao final given anoth room next floor thank got wife went use bathroom drop luggag bed hear clink sound bent look one bag could hit see empti beer bottl stick bed call back give clerk piec mind heard wife cri wall bathroom sever roach crawl around notic someth els sink made us leav sink plain sight use condom far less thrill stomr back downstair demand money back desk manag return ever went talk us take anoth room free charg make troubl room thank clean bug trash disgust item lay around despit lot smaller promis view room decid make due wife went get clean long trip pull laptop use call high speed internet access even bother use dial went least three time fast speed get quick call desk inform person respons internet gone day noth could done moment instead worri went get someth eat onsit din area yet met rude peopl either stare wife chest forgot half order argu seem like forev get everyth found found bland cold even bother tri anyth els final straw got thing found anoth hotel know would hire bunch rude employe bare high school clean room know hotel deserv four diamond unless neg place shut way know run decent hotel', 'famili went hotel holiday last month bad hotel got imediatli check went room view window brick wall realli even ask lasi front desk said put us room view caus book one upgrad also wife light sleeper train kept night anoth thing alot ad boast hot tub room true room normal tub tub stopper could take shower room also small compar hotel around price', 'stay hilton chicago quit unpleas might ask well ill tell towel scratchi servic terribl terribl mean even desk check also order breakfast lunch dinner room servic receiv wrong order meal felt littl sick lunch final bill charg stuff want ask overal hotel bad unpleas other give half star', 'recent stay jame chicago return anytim soon staff unfriendli say least price outrag also fan fact allow pet guest enough space gym lack varieti equip limit option sever ultim unimpress servic whole would recommend avoid establish', 'stay sofitel one less pleasur experi chicago upon enter one offer take luggag forc carri check desk front desk staff friendli welcom room smaller expect smell fake sued decid drink food le bar upon enter immedi notic dimli lit room could bare see bartend face drink alright food sub par compar expect hour readi bed return room lay mattress surpris stiff nois higher expect well thank one night stay', 'husband reserv room onlin chicago hilton look quit day away home work unfortun found look first room smaller appear onlin photo floor look like clean check area room stay thin wall could hear convers guest side staff horribl ask turn servic never receiv would recommend hotel anyon chicago great place visit long stay hilton', 'found stay hotel monaco chicago less satisfactori lure fanci websit promis world servic amen turn facad pictur websit show grand five star lobbi one would assum room match receiv room way could bare afford found luxuri local motel mention pet friendli let tell code smelli faint urin smell throughout entir hotel awak night incess bark would stay', 'recent stay jame hotel chicago trust never pay premium price expect first rate servic whole experi disast though short live b c could stay anoth second arriv hotel wait receptionist finish play phone servic room readi wait lobbi baggag final got room exactli call clean bad pictur websit nice enough furnitur fall apart probabl walmart plenti space averag person bed smaller said mention uncomfort order room servic bring us wrong order took hour wall also paper thin got littl sleep heater help block nois stop work middl night next morn sore uncomfort bed hungri tire cold check even coffe stay away', 'husband recent stay stay hilton chicago horribl experi arriv front desk clerk phone sound like person call even acknowledg us least five minut got room went lay bed notic black hair pillow paranoid hotel dirti pull back sheet move pillow around notic sever hair call new sheet said would send right actual took nearli minut second night decid tri irish pub hotel call kitti shea husband love pub food shepherd pie aw wateri flavor cheap server seem annoy complain offer taken check great trip chicago hilton definit highlight trip overal rude servic dirti room bad food spend money elsewher', 'stay monaco chicago back april town busi hotel recommend friend mine spent weekend idea friend talk complimentari morn coffe weak fit room dimli lit thought cloth mail back use suppos overnight laundri servic suit spill wine room adequ nowher near seen elsewher price point recent renov must slang everyth stiff smell industri adhes mattress room incred firm slept poorli travel expect experi similar better experi home hotel receiv excel servic comfort accomod except usual back anytim soon', 'famili stay hotel monaco hotel chicago septemb complaint room complain staff gener check ladi desk rude children take littl loud daytim never spoke directli kid way clean crew next morn even knock door open door children still sleep shower thank god husband alreadi confer hotel beauti staff make horribl experi louisiana resid', 'initi excit found employ send chicago busi could never imagin frustrat irrit would heap inept staff jame chicago arriv reserv could found system although made word manag duti mr chad montgomeri given room previous agre upon rate anyon make mistak angri point room bland colorless spite jame boast attent design detail room mostli clean see stain bed convinc wash room last occup attend stress busi meet dine room night complet cold undercook food serv sloppi disgruntl waitstaff afterward decid relax spa treatment order assur would enjoy asha purifi shower ritual would primarili take place room shower okay think must allerg jojoba oil provid broke hive bodi next came room portion shower five foulest smell candl lit room guess suppos make smell good began choke odor minut walk room masseus direct lie bed next portion hand wander littl much like sure certain area massag menu close ever consid stay jame chicago beg reconsid hand posit thing say hotel suitcas full neg includ pend court case masseus guarante would regret stay know', 'hotel locat mile train station quit hike travel luggag kid seem cash guest arriv privat car charg exorbit park valet fee room featur either doubl king size bed queen bed want littl extra leg room bed price jump doubl king size stiff room kind view pay healthi surcharg', 'consist disappoint throughout stay jame heard other agreeabl workabl right even nice place figur would problem book guestroom long weekend visit long distanc girlfriend accord websit immers date bath cut edg contemporari furnish warm tone well arriv felt like ikea showroom close time busi day everyth front bit askew staff busi distract inattent everi way keen show bother handl bag far much convinc commit comfort also thought room quit pathet price look distinctli like someon roll around bed got bathroom fixtur felt littl bit gross smell strongli inexplic men cologn nobodi care complain suggest mayb stuck nose would go away well horribl headach time ladi arriv ruin entir first even chicago price could stay week economi hotel gotten person item treat bedbug still save money would treat like pest needless say look elsewher go back chicago may frequent patron luxuri hotel know wast money', 'jame hotel chicago huge let expect truli spectacular experi websit appear absolut fabul state art hotel well famili bad experi start right walk door turn room reserv given someon els man front desk extrem rude wait hour hous keep servic prepar new room us room odd smell ask towel hand soap alreadi room one thing good place fabul gym feel paid way much got next time look stay somewher els', 'decid spend extra money book room monaco websit pictur beauti room view wast cash say least although request room view citi must given worst room place maid servic skip room second day call towel least twice someon final came room food outrag expens even lukewarm two star hotel qualiti', 'disappoint stay jame strict gluten free diet told hotel restaur could accomod need time sat meal would explain dietari need waiter time end send plate back gluten item includ wife sleep apnea made reserv made sure ask room avail outlet near bed could plug cpap machin assur problem howev arriv hotel request room chang outlet near bed wait lobbi sometim room move yet finish benig clean overal entir horrif stay expect hotel suppos calib next time visit chicago stay anoth hotel', 'hotel monaco claim boutiqu chicago luxuri hotel certainli neither luxuri stylish pictur post websit impli guest go stay room amaz view certainli case custom decor might cutesi charm actual quit tacki outdat bathroom musti smell meet cleanli standard hotel claim one top hotel u fool snappi websit select photo hotel live bill disappoint expect anyth run mill experi mere averag hotel', 'book room two month advanc hotel sofitel chicago watertow confirm reserv twice arriv find front desk staff record reserv room avail much expens room reserv ask speak manag took half hour turn final give room rate promis offer compensatori discount bonus inconveni room smell dog otherwis okay worth rate though websit realli make hotel seem upscal clean well decor room style would expect lobbi staff respons request move anoth room obviou dog smell could mean clean properli met contempt move get apolog stay', 'look true luxuri experi hotel monaco chicago place go stay visit friend decid treat luxuri experi get check pleasant experi wait long front desk staff unfriendli unhelp room ok roach anyth small cramp mirror headboard bed tacki motel fanci hotel hous clean servic realli pushi tri clean room morn ask come back later gave whole minut came back get extra towel like pull teeth know thought go steal room servic food order fine took forev deliv half cold time receiv call front desk complain apolog offer compens send new food restaur hotel bother tri price ridicul menu limit room servic experi assur worth hassel realli disench experi plu dollar night receiv mediocr accomed poor servic spend hard earn money somewher els', 'travel hotel famili vacat chose hotel pet friendli upon arriv smell pet friendli dog greet attack dog constant bark throughout night breakfast found hair egg would recommend hotel', 'stay two night hilton chicago last time stay arriv could believ hotel offer free park want least pay stay night websit also tout clean linen room clean believ linen clean problem pillow etc know peopl allergi also later found hotel allow pet think anoth part symptom like clean hotel without allergi attack suggest opt somewher els stay like nickel dime end park bewar hidden cost tri somewher els futur worth money sneez night', 'stay sofitel chicago water tower hotel coupl week ago chicago night must say impress exampl hotel tri hard littl result except inflat bill start hotel lobbi total gaudi sculptur artwork seem meaningless guess suppos give air style room ok suppos certainli worth premium price paid hotel food present like kind amaz french cuisin food arrang nice tast unremark overpr final verdict avoid hotel possibl simpli worth', 'wife recent stay hotel monaco chicago experi return hotel market luxuri expect get big bang buck disappoint say least first stay king delux room uncomfort small space use poorli wife could walk around bed time littl space decor seem rather date best qualiti although said room woudl readi wait hour past room readi although staff offer complimentari drink apolog seem terribl upset apologet inconveni caus nois night citi horribl even radio room could hear traffic pedestrian street well past midnight hotel would move us differ room felt paid luxuri hotel got motel definit back anytim soon', 'jame chicago hotel one worst hotel ever stay good thing locat downtown forc stay longer receptionist rude snobbi room dirti towel found numer small insect room furthermor gym spa close noth done manag accommod inconveni next time take busi elsewher', 'hilton chicago boast one great fall clich hotel mani differ room suppos array choic king two bathroom lakesid view suit look good paper get bill pay huge fee seem like nice upgrad give noth return staff nice stay hotel go way seek staff casual dine atmospher might nice colleg coupl look getaway cheap next time stay chicago look elsewher', 'hotel monaco hotel say charact found decor tacki hard time relax room design clash color contemporari furnitur found fact member kimpton reward club get free wi fi access annoy least pet friendli polici room smell like wet dog canin guest hall kept us night howl perhap dog would howl less hour room servic faster wait hour half order mean get dinner want pm midnight would stay view locat great money better place stay chicago', 'wife book room hilton chicago three weekend ago downtown hotel well known brand knew go pay littl addit price expect get qualiti hotel expect minutia luxuri howev case hilton chicago first reserv room king size bed avail stuck queen size bed get reduc price made reserv expect accommod ask second chang room key twice room key use supposedli lost charg front desk told us go room find key work come back stair get new key get back highli unprofession realli need look key system lastli told end stay charg room knew accur alway check case two week later check credit card addit two hundr dollar charg card call argu twenti minut took card suffic say stay', 'stay sofitel definit expect staff less nice wait sever minut notic first reserv could found provid spare room hotel fairli neat howev got room onto bed found bed noisi sit made squeak nois unpleas immedi call front desk inform concern told go back downstair settl thing got downstair provid anoth room number howev wait half hour anoth room clean prepar well review hotel highli disappoint amount time spend get settl room', 'hotel locat hard fin locat chicago dine room dinner uncomfort crowd room servic hard reach overal pleasant hotel stay', 'wish express dissatisfact stay sofitel chicago water tower husband plan trip chicago tenth wed anniversari gone great expens fli parent california could time grandchildren husband gone honeymoon got deploy iraq week got marri everyon excit mark reserv one junior suit gone chicago tourist look forward view offer unfortun got room view disappoint request non smoke room assign one obviou us someon smoke asthmat becam ill ask move anoth room told room even downgrad avail noth done tri make health husband check within hour arriv romant anniversari weekend imagin spend special time think th anniversari alway memori tarnish', 'arriv sofitel chicago water tower hotel greet rude snuberi room reserv doubl book instead suit expect given much smaller guest room instead concierg cockroach dine left wish fast food bar left bad tast mouth cheap liquor hot beer', 'hotel one better one stay room seemingli nice first stay day seem like clean staff never came clean sheet three day call request chang also wall seem paper thin hear go adjac room interf sleep ate primehous restaur also ask well done steak steak still pretti pink insid lack flavor definit hotel would recommend anyon', 'stay hotel night high hope see star hotel seem quit eleg base pictur seen upon enter build easili see clean high class lobbi nice everyth seem howev soon made room complet differ everyth previou dirti visibl yellow stain wall around restroom room complet organ hotel room also linger smell last tenant call front desk issu sent someon fix left hotel two hour upon return still unreason amount time fix glare error smell also complet disappear done tire decid deal rest stay focu enjoy vacat chicago instead hope shallow exterior fool other like fool', 'realli wish could say like hotel whole experi plain aw first warn sign made reserv person spoke place reserv absolut idea first tri book wrong hotel final got sort hotel actual want book wrong date read right date call back two day later confirm found given wrong date hilton get fix alreadi bad feel stay came actual stay hotel peopl check desk downright rude room suppos non smoke room room smell strongli cigarett smoke hotel staff refus believ let chang room one smell cigarett howev might well stay first room short towel took four call period hour front desk get sheet chang made obviou crumb fresh stain litter ye abl get fresh sheet like towel took sever hour deliv sinc pet friendli hotel lucki got stuck room next room fill yappi littl dog wall paper thin could hear night bark complain staff refus believ said wall room thick abl hear anyth next door yeah right excit use pool like room clean recent tri fit center half equip broken tri cut stay short cours hotel work even refus comp stay gross deal never stay hilton sure let everyon know nightmar stay', 'made regular busi trip chicago decid stay hotel monaco chicago sinc fairli new friend stay lobbi quit small surpris name like monaco matter fact found furnish quit drab boy took luggag show suit two room spaciou would like entertain room bedroom standard televis imagin expect h ordinari cabl night would expect inch set bath ordinari noth special bed big king view take lake unfortun magic mile well starv time eat restaur well appoint hope food good order lamb chop potato au gratin mint sauc fair hope rest trip si better accomad would give hotel two half would return', 'made reserv hilton chicago believ go stay classi hotel mani amen unfortun stay hilton chicago went downhil moment check one clerk front desk sever guest alreadi wait ahead final got check locat room discov neither room key work make way back front desk final made room appear nice enough went use bathroom found toilet clog manag move new room complain much still hassl final settl abl relax rest even look forward sleep next morn front desk call wake call request needless say overal experi hotel left much desir choos accommod next trip chicago', 'hotel sofitel chicago water tower bill star luxuri hotel luxuri evid eye behold fill trite modern art modular cheap look furnitur look straight latest ikea catalogu floor hunk glass one ugliest hotel ever seen urban chic design equal comfort seat bed furnitur made design floor actual use room servic expens slow food eventu get mediocr qualiti flavor hotel featur two bar cafe de architect bar simpli name le bar cutesi french name trendi modern outfit good hotel bar make excel servic fair price friendli compet staff make bar great none find either bar cafe de architect also restaur offer season menu featur contemporari cuisin french root mean small portion larg price question qualiti even old standbi filet mignon stand reput come littl dri hunk meat rather succul steak pass one look comfort enjoy stay downtown chicago water tower dri', 'stay jame chicago last weekend honestli say go afford next trip jame chicago terribl overpr staff cold disconnect chair room look like someth ikea love chicago hotel definit one better place stay believ would better happier stay holiday inn alway get pay', 'sofitel luxuri hotel recent check short stay chicago water tower origin plan stay week busi conclud day decid share water tower simpli put offer reason stay hotel quit love elegantli dress impress littl put forth sway acquaint crow first night spectacl meal quit crowd think weekend next night food mediocr third orderd room servic call twice even care food think would wise think twice stay choic put quit show show end still hungri found', 'jame chicago luxuri nice hotel advertis want stay hotel wife insist ok book ticket cost one room could get new honeycomb android tablet dual core processor price point room stylish though look nice tv bed fine although quit understand wifi comput would even need wifi comput think experi jame chicago bit expect mean food avail tasti wait long line get ticket also hope brows internet comput wifi like bread without fill make sandwich', 'famili stay hotel walk lobbi expect good experi made way counter greet realli knew may bad experi custom servic person rude wait minut got room look like someon check high chair request still spot food rest room water counter littl toilet paper got settl went dine room supper disappoint servic food qualiti price paid luckili stay one day one day long', 'stay hotel like jame price point expect certain level qualiti pay well dollar room think unreason expect qualiti room also certain level standard servic perhap hotel renam lebron jame much class twice pretenti hand babi powder thrown face would refresh break level servic receiv lebron jame night hell began clerk bellboy whatev front desk fake assum intend british accent end unholi meld australian new england british accent make fanci skill made way past mr belveder room disappoint size unusu small also faint scent cigarett strong one could definit smell smoke accept sleep deep throb sound began eman wall sound technic mechan like air conditin malfunct despit mani reassur front desk throb continu throughout night demand man front desk come rectifi situat immedi could tell never came', 'husband stay sofitel chicago water tower three night last month celebr anniversari decid splurg prestig suit accord websit given either citi park view neither instead room overlook dirti field spars tree woman check us room rude impati man help bag got room bed unkempt floor seriou need vacuum bathroom dirti dri toothpast sink husband request given anoth room prefer clean one clerk told us room avail given chanc would stay hotel even offer free night', 'busi trip come chicago want stay someplac realli nice caus never made reserv jame two week advanc safe side arriv record big deal right said would take care get room right away two hour later still sit lobbi final get room tri relax everyth nice decid take shower went bathroom towel wash cloth noth call front desk ask hour later someon came one mayb realli busi final get shower handl broken went front desk ask new room start impli broke said everyth fine room earlier day must done someth leav hotel easiest decis made whole trip two thumb', 'busi associ job chicago want stay somewher featur research onlin came hotel moncaco decid stay night arriv notic busi part citi bright light staff upstiff offer much hospit room view citi light kept room bright even curtain close bed appear soft offer much comfort paid expect', 'travel chicago stay sofitel chestnut street though hotel beauti comfort advertis suggest servic sever lack arriv late night one peac dreami night sleep woke dawn reserv room one lower floor unawar construct happen area complain inform construct request anoth room complaint total disregard told room whole hotel avail explain nois bothersom treat rude woman front desk actual ask thought could make worker stop understand staff control nois howev know construct inform time book inform would sway decis treat rude bring attent stay', 'stay sofitel husband weekend never stay staff rude room dirti decor ugli garish avoid cost', 'stay wife visit famili chicago decid stay jame stay jame new york happili came good expect mistak room look noth like one pictur websit bathroom dirti bed furnitur dishevel also musti odor room call front desk complain quit rude end leav stay differ hotel durat stay', 'staff jame chicago hotel seem determin make stay horribl one enter establish check ignor clerk let half dozen peopl front even acknowledg think room servic would better relax room wait food time reach room cold wrong order disgust went pool find close mainten restaur hotel recommend one star none regular channel tv bad stay jame hotel chicago', 'went jame hotel chicago truli expect luxuri experi exactli like advertis gorgeou chair staff desk focus job clean well decor hotel room much wallet dismay found quit opposit arriv hotel late flight delay found clerk read magazin must fascin articl took full minut look ask reserv would make one said one gave voucher print check said singl room alreadi rent went say would pay extra two three person room wish stay night grudgingli accept two person option jet lag set desper need get sleep clerk offer walk room say look tire tri navig hotel would much easier got sleep accept follow new room carri briefcas appar time hand free usher room set briefcas insid said need anyth phone next bed would give direct line room servic without dial anyth thank close door look around fulli saw stay supposedli two person suit two twin bed apart cover ruffl blanket sheet clean staff obvious recent quick look around area found bathroom toilet paper soap even complementari one left behind got readi bed look around tv remot turn batteri instead turn light roll sheet blanket turn insid tri find cleaner option morn walk lobbi ask check enough hotel one night clerk morn cheer blond cheer ask room number hand bill room extra note baggag servic ask said anyon carri bag room file baggag servic ask consid reason charg carri suitcas room two floor ride elev said unusu unheard offer chang mere hand slip phone number name reason disagr say manag would handl complaint clerk sign left wallet lighter head throb headach lack sleep', 'eww sicken affair hotel monaco chicago stuffi masterpiec hotel done wrong stay recent room reek pretend elit class fill room serious afraid even lie sheet fear charg hefti linen fee stay chicago week stay hotel monaco one night', 'sofitel chicago water tower downtown area advertis four star luxuri hotel howev modern architectur conveni locat seem reliabl perk room servic avail hour day offer limit varieti item often letharg servic two bar locat premis appeal first insid patron receiv qualiti servic expect complet absenc privaci kind guest room rel spaciou clean lack adequ toiletri person item interfer guest routin obtain addit towel groom product much difficult travel search relax hassl free experi reliabl custom servic book room probabl viabl option', 'visit chicago area chose hotel monaco chicago stay one premier luxuri hotel chicago held high expect quickli disappoint reciev problem began soon arriv attend friendli smile suppos symbol kimpton went room discov given paid situat got wors rather apolog error credit card receipt hand blame indescrp room told room reserv paid two month unavail would reciev refund price differ two room could believ top u hotel suppos commit excel could make blunder choic retreat back room pleasantli pleas amen reciev stay beauti hotel chicago loop go expect treat respect profession', 'book trip sever month advanc greatli look forward stay hotel monaco chicago howev experi significantli differ expect follow reason first one person front desk arriv person preoccupi someth comput presenc acknowledg sever minut got room beauti drape window one entir wall found incred dusti bump slightli caus cloud dust emerg found distast overal good stay two inconveni made us question amount money paid', 'sofitel chicago water tower horribl first tip would bad experi call ahead make sure ok check hour concierg would avail arriv find even record reserv much inappropri argu found reserv assur would fine check got dirti room without work wifi tv took call get fresh towel turn heat could sleep comfort next day call get complimentari room servic decent hotel provid free record us even check quick check credit card compani charg alreadi pend wrong amount final left disgust got much better hotel fancyp hotel suit complementari airport shuttl award win prefer member reward club overal servic sofitel rude room unsatisfactori restaur sub par well kept clean futur would never stay wold definit pick reput hotel proven track record like fancyp hotel suit person favorit', 'high hope hilton chicago sad say disapoint outrag expens two peopl one night expect pay park car offer free wi fi instead pay get internet room wait pm check even though flight morn rent car airport hotel offer transport stress hilton chicago hotel bar either doubt stay', 'peopl think hilton think luxuri know wish half right upon arriv inform incompet staff lost reserv entir auspici start find anoth room grant new room oh scenic view broadsid adjac build fine will let slide want difficult follow day stay got littl harder ignor minor problem make hilton undeserv term luxuri hotel noisi neighbor rude staff state bathroom towel anyth go upon checkout doubt sheet chang even next time ignor hype stay somewher cheaper servic possibl wors', 'got check arriv room first thing notic light come flip switch upon enter room clean dust collect back tv stand behind window sill stain carpet request wireless internet servic entir first night mattress hard make uncomfort night jacuzzi order also ask move differ room inform other avail', 'stay hilton chicago back juli luxuri hotel place meet expect starter arriv fifteen minut earli check told room readi least anoth hour use hotel room readi well check time sinc wait decid grab drink one hotel restaur kitti shea well must use whole hour wait drink final got room ok although great price view anyth speak even though paid view extra towel request call room servic twice receiv anoth two time air condition work fee internet ridicul phone servic terribl could bare use internet phone next time chicago area stay hilton recommend hotel peopl want wast money', 'upon first inspect sofitel chicago water tower look like excel place spend day heart downtown chicago appear certainli deceiv best sum sofitel noth fanci holiday inn certainli show hotel part chain even intern one custom servic poor unless look like tip someon furnitur throughout establish look feel like cane ikea room dirti first walk air feel stale view certainli crack none worth luxuri price even worthi luxuri name certainli stay', 'stay hotel last vacat windi citi although hotel look nice servic terribl staff rude unprofession help room servic close pm plan get hungri time also even though stay whole week ask new towel extra toiletri never go back place', 'stay schicago hilton day night confer say normal easi go amen cleanli like howev experi hilton aw take time actual write review truli stay hotel arriv room clear carpet vacuum figuer okay carpet saw bathroom although bathroom superfici indic housekeep recent clean e paper band toilet paper cap drink glass etc clear actual clean took place spot probabl urin toilet seat kid remnant lip smudg glass know peopl work mani year hotel industri alway warn lazi housekeep make thing appear clean fact make effort keep thing sanitari well hilton proof call downstair complain sent chambermaid hour later frankli found room disgust hotel outsid room cavern unwelcom aw echo lobbi area creat migrain induc din rare eager leav place got home wash cloth whether worn skeevi accomod pleas favor stay clean hotel', 'stay hotel chicago first absolut horrifi experi first staff incred rude could live busi person would get cell phone check want pull hair room also horrid smell like sex cigar smoke bad convinc politician check use cheap affair also look dri snot shower curtain mark word never stay dump', 'busi need get rest next day wall thin could carri neighbor room till beauti build room lot smaller expect staff friendli person front desk person even welcom hotel think back', 'jame chicago stuffi uninvit hotel look comfort home stay room like boardroom bedroom definit child friendli hotel restaur site also modern scream pretenti would vacat especi children afraid touch anyth whole hotel', 'book american girl place packag fairmont chicago millennium park told room nice view appar idea nice view anoth build end get smoke room book non smoke cost us night told staff incred rude restaur would never recommend come reason whatsoev', 'recent stay hyatt regenc chicago hotel downtown chicago three day experienc worst servic life made reserv hand upon arriv room alreadi book took us nearli two hour actual get room given wrong key enter room sheet stain seem cherri kool aid go assum night town bum money three homeless men outsid hotel arriv room hope nice hot shower found note door sorri note explain hot water earli next morn awoken housekeep dnd sign door decid wake go breakfast come find car broken park garag file polic report polic ask manag video surveil unfortun us surveil memori record anymor needless say left earli next day never return dread hotel ever', 'starter troubl reach front desk everi time call would ring endlessli final reach someon snooti impolit altogeth unhelp south know anyth chicago hope staff would help guid around larg metropolitan area busi realli look forward wi fi access busi activ would go uninterrupt unfortun case multipl log attempt end go local internet bar attract room hotel complet utter lack servic deliv expect disappoint', 'stay fairmont chicago millennium park good experi room clean haphazardli fashion pleasant walk call servic desk towel brought room took exceedingli long amount time brought woman deliv towel rude stay fairmont chicago millennium park', 'friend stay hyatt regenc chicago weekend visit mutual friend birthday hotel first glanc nice charm quickli found case room reek smoke first step bathroom filthi look though clean week mold around toilet film mirror also larg stain carpet room immedi call front desk tell smelli unkempt room women front desk rude assur us smell smoke permit hotel also told room clean day sever minut argu manag move anoth room took hour clean room avail time sit lobbi baggag one made avail us food order restaur horribl way price waiter rude stop tabl twice whole time staff hotel seem unhappi barley even acknowledg guest never stay would never recommend hotel one', 'expect bit hyatt regenc chicago stay recent appal condit room stay linen clean toilet paper roll nearli empti spare left lock door function turndown servic left chocol pillow think took piec alreadi nearli empti toilet paper leav spare would stay travel bewar', 'recent busi trip chicago unfortun circumst stay fairmont chicago millennium park hotel upon entranc lobbi beauti hotel seem nice howev approach check counter woman work ters rude book wrong kind room ask chang snub made feel like tremend imposit accommod half hour final receiv correct room linen bed cheap qualiti scratchi musti smell also bathroom clean properli still trash wast basket includ condom shampoo also coffe pot room coffe call front desk ask told free would like charg coffe account found hotel shock highli recommend one stay', 'wife stay omni hotel chicago custom train nearbi hospit end stay night servic aw first come room mildewi smell air fortun enough bring potpourri spray us incas continent breakfast morn terribl well egg runni coffe hot make matter even wors room servic attend get room middl afternoon wife back explor citi simpli unaccept standard', 'recent stay omni chicago hotel aw arriv room readi two hour later final clean enter saw brought cot request son ask never brought mattress uncomfort like share son ac even work terribl hot room next morn ate continent breakfast leav bad cereal low qualiti yogurt burnt flavorless muffin would recommend hotel anyon', 'fairmont chicago millennium park one overpr hotel stay night one would expect travel wife expect pay cost room alreadi outrag hit anoth charg stay even king bed figur one person cost bed averag although much everyth cost arm leg unbeliev much charg everyth see peopl pay like normal blew away amount money pay per night basi chicago longer one night definit would stay somewher els guess live learn shame learn high bill averag accommod', 'hyatt regenc chicago seem like nice place stay like much renov cheap poorli done bathroom faucet leaki carpet bump staff rude tri find good cab servic guy behind front desk made wait minut finish phone call least call someon els help babi travel lite gave us wrong size diaper go find anyway hotel locat heart citi meant found unsavori charact way', 'conrad chicago michelin rate hotel expect great servic wonder accommod well one part correct room inde nice furnish servic terribl concierg unabl find room reserv reserv onlin even email confirm help get new room order room servic wait time long food came cold mean understand would take time get food prepar room realli price paid definit worth would never use hotel', 'origin chosen conrad chicago hotel locat near shop center within walk distanc howev later learn made poor choic upon arriv lobbi seem nice check clerk although reach hotel room dissapoint find one bedroom suit famili went back demand anoth room two queen size bed clerk twenti minut wait period abl find us suitabl room upon enter room notic hot turn air condit wait thirti minut room remain muggi humid call front desk complain ask repair man anoth room promis repairman within ten minut hour later call remin repairman shown promis speedi repair wait discov room soap towel still damp call front lobbi said sorri inconveni one first level go get troubl argu bring end wound go get return room wait anoth minut repair man shown call within minut repairman came manag fix air condition final abl get peac rest well room cool night went notic anoth problem air condition began make wretch screech bang sound also emit strang odor upon check front desk demand anoth room late night repair avail room left fed hotel poor servic promptli left check nearbi hotel recommend conrad chicago anyon want enjoy time', 'horribl experi stay omni chicago hotel last saturday night first plasma tv room broken staff said room avail particularli apologet either secondli supposedli non smoke hotel ex smoker tell peopl smoke room recent addit indoor swim pool close due high chlorin level realli disappoint look forward use pool final check suppos noon maid knock door ask would soon thought quit intrus never ever stay place', 'whenev decid stay fairmont chicago millennium park thing mind idea take time relax enjoy time husband howev hotel choic best right front desk arriv problem reserv room reserv occupi switch room much smaller origin one hotel give us discount paid larg room want hotel name put guest kind situat wont reserv room', 'last week book delux suit omni chicago hotel weekend stay chicago took retreat relax packag deal wait check intoler long let peopl check dog allerg dog sure fur dander got spread room insist escort room everi time came like go break anoth guest room someth swear anytim room watch like hawk ask need anyth know time anyon think someth went pool full scream children went bed could hear televis next room wall wors even let smoke privaci room reliev stress threaten throw street gave hundr hard earn dollar go outsid probabl dog went piddl also site restaur expens given alreadi pay arm leg room food free stay wast money', 'boyfriend check room omni chicago irrit see bed look rumpl kid jump first issu glass bathroom lipstick smear saw dead thank good roach behind toilet given hotel night stay friend decid deal order munchi kitchen chip stale dip smell sour come back conveni store beer fresh munchi abl enjoy stay would recommend place anyon', 'enjoy stay omni chicago hotel firstli man front desk extrem unhelp problem reserv gave famili lot hassl secondli final got reserv sort air condit unit room would go degre consid paid well per night romanc packag reserv standard head back omni chicago hotel time soon', 'realli look forward nice relax stay end long vacat unfortun moment arriv omni staff belliger extrem rude lost reserv refus give us rate book tire would gone differ hotel right hindsight final got check made wait needlessli minut lobbi decid go pool tini kind dirti walk way suit noth internet access realli slow never stay save headach book somewher els', 'recent stay fairmont chicago millennium park visit unpleas hotel loud staff rude fanci light design distract snobbi peopl stay peopl work seem hate job hotel food old seem like make peopl stay bed hard uncomfort bad experi look like nice place spend vacat', 'room pretti locat great hotel big staff take care everyth heat room loud make difficult sleep gym big enough hotel park garag expens hotel mani guest lobbi loud relax get great servic hotel bar bar ran bar snack mani peopl bar area later ask direct restaur dinner reserv hotel staff ask know could get next morn clean staff tri get still room', 'would never stay hotel call four diamond hotel cannot even provid basic amen servic would comfort stay run motel bathroom clean properli sheet stain', 'recent stay hyatt regenc chicago hotel although stay varieti time busi pleasur experi time particularli poor right check day left felt like constantli around unfriendli peopl want work job room dirti whole time even though maid came everi day tri sleep night loud hallway sleep next visit chicago stay hyatt regenc', 'stay omni chicago hotel recent noth disappoint luxuri hotel obvious spend much money market convinc peopl luxuri enough actual make hotel comfort arriv hotel room devoid towel call front desk took three hour two call final get fresh towel deliv top went connect internet room wifi signal weak forc go hall connect laptop exorbit price charg one night superior corner suit could stay week holiday inn stay wish', 'wife stay conrad chicago hilton week back confer windi citi wife decid come shop first let say typic love stay hotel chanc get spend away home comfi hotel bed said place terribl room slight odor kind fishi smell peopl front desk rude us found soil pair women panti bed gross mention got home bug bite leg worri brought bedbug home us could take trip back would terribl place shame conrad hilton shame', 'great differ hyatt regenc hotel normal hotel thing like hotel smoke section non smoke section realli close get realli uncomfort crowd area peopl smoke lung even though hotel realli glamour nice bar nice restaur great music still good stay like peopl smoke besid', 'whilst doubt good locat hotel fall short area notabl cleanli although lobbi clean corridor floor well room dust line carpet floor hallway room bed emit unpleas odor sheet chang time furnish nice modern variou blemish upon close inspect bathroom rel clean except shower view nice particular room servic rel quick food restaur averag cleanli issu time glass stain waiter promptli apolog return new glass still inexcus advertis high class hotel make mistak stay', 'extrem disappoint stay omni chicago hotel hot summer day turn shower drip hot water came call complain assur someon would room fix shower show use felt person spoke rude accept respons talk stupid wait minut bell hop came show use shower servic person could get shower work either apolog problem expect tip complain give one nobodi came told could switch differ room pack belong move anoth floor shower work room view citi first room look brick wall plu parti next room loud kept night complain hotel staff told vip could anyth nois hotel overpr stay miser go omni hotel stay night motel better servic', 'overpr best word describ conrad chicago hotel may downtown chicago room view although ask non smoke room reek smoke elev slow one work stay stain pillow leg one chair room broken dead bug bath tub given towel night stay credit card bill twice took week revers extra charg recommend hotel', 'got home stay fairmont chicago millennium park hotel famili chacago week hotel closest need walk door horrid odor like public bathroom check clerk irrit uncoop would let us go room entir famili yet final got room bed made room uninvit bed felt like sleep rock first dread night got went downstair eat breakfast food tast look like vomit rest week stay like live hell fairmont chicago millennium park hotel definit good place stay actual probabl worst hotel ever stay', 'experi fairmont chicago millennium park horribl wife road trip new york stop reserv fairmont chicago millennium park hotel arriv non smoke room avail book wife pregnant time recept staff sympathi wife handl smell room ask refund go stay somewher els refus rude unhelp stay night first thing next morn leav look differ hotel never stay hotel', 'conrad chicago hotel worst servic ever dealt got execut room king size bed got sheet stain type chocol mud call front desk took hour come chang pillow menu tri select half ipod dock work either also room servic server short deliv food luke warm hotel worst chicago would never recommend go', 'imagin fli windi citi busi long flight mani delay get cab hotel much hype conrad expect fall soft bed love view chicago skylin window exactli imagin delay flight terribl cab ride opposit turn got lobbi late person counter busi talk cellphon approach even hang go thought whole charli sheen thing overblown care late meet next day tri check say find reserv despit fact receipt final check even bother bellhop help bag cheap room standard treat custom level respect get room open door someon els room somehow given wrong room activ key person room wors yet occup pass drunk bed cloth strewn room carri bag back downstair get check right room final get room miss pillow serious maid notic bed made someon must room seen one pillow episod exemplari rest stay needless say neither busi use servic conrad chicago', 'wife stay hyatt regenc chicago coupl week ago defiantli go back custom servic horribl well appar worker want either arriv hotel told us room still clean wait hour gave us key got room bed even properli made cafe alway crowd peopl take two hour get food end go home two day plan', 'recent weekend stay fairmont chicago millennium park hotel disappoint chose hotel scour variou hotel websit area look websit expect averag felt websit led one believ upscal upon arriv check shown room first glanc everyth seem fine room settl room began notic gener lack cleanli notic spiderweb corner lack cleanli bathroom also advertis pod dock station room howev work call bring replac guest call item check ensur work properli guest check found restaur site crowd loud mention unus long wait serv meal inquir menu item waiter seem lack knowledg menu item overal experi good next time area chose anoth hotel stay', 'stay hyatt regenc experi never ever forget good way check actual pretti easi clerk pleasant went room look around seem ok first bush flop bed ohhhhh noooooo bed hard militari bunk armi day tire pass cours woke back ach great figur hot soak tub would help back plug tub turn hot water full forc pour shower gel put foot expect real heat water bare lukewarm call front desk help clerk apolog frustrat point turn tv switch air put hand vent see cold air saw someth slimi insid vent look like wet gray chunk goop someth take anymor went front desk complain clerk seem though guy someth kept smile apolog empathi use hear goop ac offer free night way stay place ever', 'decid spend littl extra stay hotel visit son chicago make mistak room smaller appear web creativ photographi place dirti stay best western cleaner air condition super loud wall paper thin peopl next room must parti despit three call front desk secur fail stop rucku also thought front desk staff rude usual hyatt hilton etc staff polit tri accommod peopl particularli person seem interrupt work rather reason posit hotel locat make neg experi save money stay somewher els', 'husband recent stay conrad chicago three night thursday saturday let say less pleas experi chose stay king bed delux room averag three hundr dollar night sore disappoint accommod upon entri room look though clean thoroughli rug look dirti crumb someth dresser room size averag three hundr dollar night expect suit type room major annoy loud peopl came midnight even long went bed could hear peopl come hallway yell run total unaccept suppos high end hotel expect loud guest mayb everi night ridicul servic also extrem sub par wait minut check girl counter busi talk anoth employe go work one day put hous clean sign door maid liter walk complet disregard sign even bother knock unlock door came right scare glad get shower chang sum never stay conrad never recommend anyon els money hundr much better hotel stay chicago', 'recent stay fairmont chicago millennium park hotel one absolut wors travel experi ever one main reason origin book stay fairmont properti offer special pure room suit suppos hypoallergen suffer extrem allergi realli hate thought less pristin hotel room happi pay extra room suppos special design guest environment sensit tell right save money got room immedi detect distinct smell cigarett smoke mold add gross factor took look around notic dust lamp light fixtur well dirt carpet comfort bed look messi well someon recent use bed hastili threw comfort back way go stay room made way back check desk polit inform problem room woman front desk told room avail practic got yell match grudgingli start type away comput make wait anoth twenti minut final inform could put anoth room would four hour wait four hour absolut ridicul hotel much less one constantli tout sort promis superior custom servic ever treat custom way recommend fairmont ever stay', 'experi fairmont chicago millennium park hotel terribl arriv exactli check time told room would readi anoth hour chose wait patient hotel bar found disappoint sat minut bar tender serv drink receiv warm room final readi horrifi find hair bathtub mysteri spot bed call housekeep staff rude maid sent chang sheet act annoy mutter breath whole time chang sheet clean bathroom hassl would normal expect least complimentari beverag offer found even use internet locat involv rather exorbit fee hour period shock stay varieti higher end hotel never ask pay extra wifi access overal highli disappoint stay return fairmont chicago millennium park hotel time soon', 'anniversari year wife stay conrad suburb stay nice hotel citi big deal us expens expect best money definit best money even good deal either problem began right bat got room greet musti smell seem hang throughout entireti room like walk dusti attic sat watch tv turn even connect cabl anyth kept chang channel noth static white nois even look anoth remot left thing went night chicago come back smell seem gotten wors final ask hotel manag come room move us differ room explan smell singl stay troubl worth', 'stay omni chicago hotel honestli say take time book room ahead time next visit chicago thrill see beauti hotel first seem like would nice place outsid hotel pristin room filthi request non smoke room obvious smoke could still smell stale smoke air fact told entir hotel suppos non smoke hallway smell like cigarett well top room servic brought us wrong item check saw still tri chage us item even sent back would also point michigan avenu bad spot hotel claim high class right outsid hotel drug dealer prostitut even go ga station p scare leav hotel pool close first night convent hotel hold thu keep us use hot tub look forward price room would say place definit disappoint learn lesson check room agre stay next time place get star', 'hyatt regenc hotel good ole downtown chicago hypo allergen room usual intend well even worst case allergen suffer well got room one first thing wife sneez four time upon set channel scan recept came fuzzi around interatt ethernet featur lost confus work provid us first fee pool bad shape maid seem come go intercommun qualiti knock knock knock let em right start vacuum one fluoresc bulb ceil dimmer other gideon bibl crib note room mention hotel like oh geez', 'idea consid four star hotel omni chicago age show great ambianc way room dingi plain worn look say room switch origin room terribl musti odor like mildew permeat first room given serious brought tear eye staff seem rather indiffer dilemma final agre switch us anoth room new one smell clearli past prime housekeep nonexist call back day trip empti trash towel forget leav towel guest one complain kind money spent weekend expect least littl luxuri special treatment receiv neither return omni chicago', 'recent stay hyatt regenc chicago il boy surpris hotel look nice outsid smell river noxiou fact smell bad one night made difficult sleep even think eat enough bathroom room look like clean month stain fresh towel toward end stay saw mous ground floor could imagin critter may lurk wall', 'chicago mani wonder luxuri hotel tourist busi travel visit windi citi howev conrad hotel resort one avoid descript promis clean accommod luxuri amen deep soak tub reliti room fall short expect open door suit find musti smell room similar old neglect closet bit disappoint decid ignor fact hope take nice long soak travel made way bathroom find larg deep bathtub hard water stain give dingi look hardli expect price paid accommod corner bathroom found remind peviou guest clump blond hair maid servic seem lack deter enjoy stay decid watch televis inch flat screen promis unfortun batteri remot control dead call front desk wit end complain issu greet desk clerk sassi attitud seem doubt everi word overal would definit recommend conrad hotel resort chicago room dirti staff unfriendli ammen far next stay chicago definit stay elsewher', 'husband recent stay fairmont chicago millennium park expect pleasant experi turn stress visit specif reserv non smoke king room paid price reserv upon arriv hotel non smoke room avail repres check desk help option accept smoke room two queen bed live bed situat truli feel accept room infus cigarett smoke complet wrong area room feel nauseou stale smell cannot help think smell follow around day check add insult injuri hotel staff sympathet situat someth think specif train offer compens partial refund relat perk make great inconveni two staff member actual act inconveni ask anyth could although paid breakfast packag eager leav immedi morn dine elsewher addit expens pardon pun could sit dine morn bad tast mouth hotel lack custom servic hope corpor offic respond complaint thu far receiv satisfact needless say visit properti fact longer go patron brand hotel', 'disappoint hotel first checkin desk understaf wait forev get line check final got room open door found someon els alreadi ye front desk clerk actual check us occupi room basic gave us key someon els room went back clerk check us skip still present line got us annoy stare peopl wait told problem howev alreadi help anoth guest checkin made us wait done person help us apolog mix went back room find took long time good minut came back said room avail type book one left lower floor view hotel offer us discount regular price got new room found room taken room overlook load dock back hotel briefli consid leav go anoth hotel late alreadi decid make cours garbag truck came around made sort nois pick dumpster drop back somewher around deliveri truck start show make beep beep backup sound sort nois much good night sleep suppos say room look nice nois load dock care gave check morn find anoth hotel definit go back ever', 'never stay lure hotel pictur show fabul suit instead arriv find cheap furnitur smell old chees call front desk see anoth room avail put hold five minut one came back line end go front desk ignor given assist interrupt front desk clerk seem person call clerk apolog look attitud request anoth room mine smell like old chees inform room avail would send housekeep housekeep spray febreez couch left tri relax turn tv bedroom sat bed saw someth scurri pillow check corner mattress found bedbug pack bag left get refund room complain went town marriott much better stay', 'name conrad luxuri hilton hotel illicit noth imag pure eleg luxuri howev conrad chicago il obvious receiv memo upon enter hotel greet hotel staff addit offer help desk receptionist beyond rude snide remark toward wife set tone rest stay get card final offer help luggag young man help us could bare handl luggag strang somehow found strength time collect tip receiv tip deserv scof groan breath walk away upon first look room beauti howev closer inspect reveal room clean sinc last visitor left hair sink around toilet even use bar soap bathtub fact met apolog hotel staff instead told preposter room inde clean highest standard two hour later someon came room investig saw mess left offer menial apolog still anoth two hour later housekeep arriv level incompet even extend valet park garag incred display stupid visit valet actual brought wrong car half tempt take car brought certainli incred make model better judgment prevail inform valet mistak repli sorri dude read ticket wrong know smoke car smell strongli smoke smell melt seat luckili locat rush help get terror conrad chicago mani better hotel chicago pleas spend money elsewher', 'recent stay omni chicago hotel wast money room typic standard room unless want pay unreason amount one premier room servic staff noth rave unless ideal idea servic wait lobbi minut wait anybodi help carri heavi luggag room sorri say short think money would better spent stay hojo', 'wife live western suburb chicago anniversari book night fairmont base recommend friend staff hotel quit friendli help locat ideal night citi accommod expect starter request non smoke room receiv howev hallway lead room distinct smell smoke certainli turn us room certainli adequ bathroom light distinct flicker complementari shampoo includ latter may seem like minor offens one expect hotel report qualiti final cost park seem somewhat inflat even chicago standard summari fairmont decent qualiti hotel price sure could done better', 'advertis luxuri hotel conrad chicago goug grand wife decid splurg fabul decad weekend chicago tenth anniversari look sever hotel magnific mile territori downtown chicago select conrad conrad websit impress us immedi pictur room love promis suppos world class spa sever amen huge flat screen televis plan watch much tv call make reserv navig ridicul autom phone system greet rather irrit sound young woman figur unabl make reserv via autom system case pick delux king size bed room two night mid septemb wife ooh aaah pictur room onlin impress view cost pretti penni would normal spend town accomid happi worth unfortun happi short live arriv conrad valet park breez accident grab wife purs unload luggag spent hour panic bellhop final locat front desk pleasant adam reserv room two doubl bed via autom phone system explain error woman counter abl get us king size room addit cost time arriv room bit haggard still look forward stay end found view back alley servic corridor much skylin overal room clean love though housekeep seem unduli slow hate picki drip dri way extra towel sent spa limit hour well somehow amidst manag anniversari dream away hotel far luxuri servic even sheet extravag thread count would recommend conrad chicago would absolut save money next time spend activ sightse chicago expect outstand hospit found better mid rang price hotel would also clean room clean much wallet', 'never chicago look forward sightse busi confer compani arrang stay omni chicago hotel locat center magnific mile arriv hotel gave pleas impress put luggag inquir reserv told room readi yet hour delay tri lose temper pleasantli ask could anoth room told convent go hotel everi room fill would left compani account hotel stay somewher els pay pocket servic employe behind counter flippantli told take seat went back talk gum chew co worker pick luggag plop cushi chair wobbl leg front left side broken pick luggag move anoth chair two hour pass given room walk room first thing smell cigarett smoke mad explicitli ask non smoke room furiou feel like go back downstair deal idiot behind counter tri long flight sigh tip bellboy slam door room thought mayb could use air condit freshen room went turn work tire angri went sleep think never stay hotel', 'recent opportun stay conrad chicago hotel locat north rush street part hilton hotel chain confid would posit experi unfortun time walk door time check plagu noth problem walk hotel greet concierg usual bad sign read newspap announc hold reserv desk clerk unabl find confirm number agre match number system could find room reserv final assign room smaller origin request bad odor disappoint room decor room smell stale smoke even though non smoke floor bedspread threadbar soap bathroom keep check make sure realli conrad chicago sure way hilton chain oper continu problem throughout stay ask wake call minut late scurri around could make busi meet order breakfast brought room never show water shower never reach anyth lukewarm shower short unsatisfi decid check conrad chicago day earlier origin plan dissatisfi hotel way attempt resolv problem issu upon return home wrote letter hotel manag never receiv repli refus acknowledg problem stay conrad chicago avoid hilton hotel futur', 'latest busi trip wife recent stay omni chicago hotel chicago illinoi one delux suit unfortun think speak us fulli satisfi hotel hotel advertis luxuri level accommod room resembl one see pictur servic certainli sub par one plan stay establish expect servic goe beyond fresh towel bathroom check first air condit room seem need new filter first turn air come seem musti second fit center open pm peopl like exercis dinner certainli problem especi consid take much fit center avail around clock midnight well similar reason would recommend hotel one look luxuri accommod', 'husband realli look forward spend anniversari conrad hotel price pay expect luxuri hotel amen unfortun quit opposit upon arriv greet rude incompet receptionist could find reserv due fact kept misspel name refus apolog final find act fault spell room turn okay except stain pillow case ruin experi ate restaur site less impress food alright noth world felt could gotten better meal elsewher conrad big disappoint us', 'hyatt regenc chicago basic cater guest want feel like stay nice hotel soon enter lobbi word come look amen make big deal fact bedsheet undergo special de germifi process know simpl wash machin good enough sort thing appeal folk enjoy picki narcissist identifi trait rich meanwhil hotel even offer free wireless essenti featur busi travel like obvious intend consum though guess surpris', 'recent displeasur stay conrad chicago although hotel came recommend variou onlin websit experi anyth pleasent first tell check time pm well arriv hotel pm check discov room readi wait nearli hour room readi decid go settl carpet room smell old musti addit bathroom cleanest state numer notic chip scratch dent furnitur although bed comfort get musti smell come carpet difficult get air condit set comfort temperatur good night sleep experi worst ever far anyth worth write home', 'ever stay hotel conrad chicago worst hotel imagin first price get pay paid one night room even tv ridicul bathroom work nasti bed sheet seem like use peopl slept smell bad experi conrad chicago pleas ask reconsid get room hotel get better servic accommod even star motel', 'wife went chicago enjoy weekend stay hyatt regenc hyatt regenc chicago ruin famili holiday weekend first diamond platinum member need reserv room atleast day advanc pay extra welcom credit option give credit day use rest forefeit talk manag said use next visit manag hotel full cheap mind peopl know hotel let use wi fi free hyatt regenc manag ask us pay use wi fi bewar place want enjoy weekend chicago hyatt regenc last place consid stay thank sam', 'stay away hyatt regenc chicago recent spend weekend chicago busi expect hotel provid experi beyond seedi dive bad part town ala left disappoint arriv afternoon flight delay readi rest hour start even unfortun room readi readi hour earlier perhap inclement weather delay flight also delay hotel staff event advis wait bar creativ name big bar seem annoy want water seem understand choic spent time hideous noisi establish want relax room wait hour check back front desk room readi yet room repli astonish seem longer reserv came pass know boy behind desk certainli unabl enlighten explain simpli wait room clean furnish renov whatev make readi word noth almighti comput spake guest found nonsens final say matter request manag unavail presum staff yet manag get readi either final admit defeat slunk hotel fewer regret would imagin find better place spend night park bench surround pimp thiev would invit point found anoth hotel better price better staf room readi custom look experi like book room hyatt regenc chicago want place sleep look elsewher', 'realli excit visit chicago first time hotel recommend conrad chicago locat rush street want hotel conveni locat downtown site conrad chicago disappoint respect howev everyth els hotel could classifi sub par rang rude check clerk roach freeli roam room hotel deserv anyon recommend list first problem rude desk clerk check ask three form identif place ask driver licens ask twenti question reason trip chicago reluctantli gave room key ask bell cap help bag said want wait one would abl help minut feel like wait drag bag room find room key work instead drag everyth back decid use cell phone call front desk cell phone signal hall way believ middl downtown chicago hotel signal final flag someon housekeep staff let room immedi saw problem two roach scamper carpet went bathroom towel wash cloth went turn tv work one lamp miss light bulb believ happen conrad chicago motel six sat bed mattress soft lumpi readi cri spend lot money hotel dump call front desk ask anoth room refus say gotten special rate allow room chang insist give towel fix tv put light bulb lamp someon spray get rid roach agre told would take awhil sever key personnel call sick stay conrad chicago nightmar begin end would recommend hotel anyon', 'hotel rather far airport traffic took hour get time tire readi check room stood line forev one person work front desk begin noisi outsid peopl constantli walk around guess locat middl downtown area could least make wall thicker want hear everyth go neighbor room bathroom clean one towel hole toilet ran night kept peopl street restaur food horribl would rather buy food street vendor pay ridicul high price charg burger overal disappoint stay conrad chicago', 'first check hotel websit review complet sure would great hotel would great time total disappoint got first ask nonsmok room hate odor fact gave non smoke room smell wors smoke one smelli bad way smell like sweat dirti laundri someth like tri enjoy view window dusti dirti decid get room went pool wasnt expect either noth pictur went back room call room servic complain smell dirt gave anoth room smell even wors freak gave deodor toler bed uncomfort bathroom eww say hotel', 'reserv check chicago conrad arriv wife told hotel oversold would take doubl room rather king special weekend wife big disappoint offer free dinner accept restaur dark food fairli good tub bathroom clog hair call mainten repair took hour resolv overal would pick hotel make sure commit met room excel condit feel good valu', 'stay fairmont chicago millennium park hotel far worst hotel stay ever would recommend hotel anyon promis would abl relax spa area dirti relax got room order room servic took minut bring order highli dissatisfi', 'hotel full drunk lobbi full crowd night bar way busi peopl stumbl hotel hour night yell hallway make lot nois staff littl say awar nois level book room threaten make reserv peopl lobbi noth say ask water view got citi view peopl front desk accomod overal horribl experi', 'stay famili stay weekend trip staff rude act like bother room look nice photograph got room look like dust age overal bad servic worth money', 'hyatt regenc hotel chicago worst hotel ever went book non smoke room onlin went ahead gave room smoke allow go room smell heavi smoke smell realli bad call front desk issu said noth like record refus exchang room also blood stain bed sheet carpet also dirti would never book hyatt', 'recent stay fairmont chicago millemmium park hotel appal servic receiv supposedli high end hotel arriv wait lobbi minut someon came front desk check appar desk clerk person phone call boyfriend know go final given key non smoke room away vend area much chagrin room right next vend area heard guest go back forth ice machin nearli midnight room obvious room smoker blanket bed pillow reak cigarett smoke cours complain told room avail book everi room confer welcom check go anoth hotel fitful night sleep awok children run hallway parent sight shower cold pressur given two towel one launder could wait check inform manag duti complaint told would recommend hotel anyon would go onlin write review anyon interest would see cannot understand highli rate hotel could far mark', 'omni chicago hotel pretti advertis first realli difficult get locat town chicago fail mention traffic nightmar final make hotel wait like minut front desk take care arriv one person desk peopl check thought wait time ridicul make matter wors need internet connect day technic problem internet work room two hour later manag get work connect still slow part hotel might look nice servic meet expect disappoint never stay go back chicago rate would give star', 'fairmont chicago millennium park hotel suppos romant get away turn nightmar got room done offer anyth drink eat meantim wait well minut said would finish clerk front desk twa text cell phone rude total time manag said would take care issu upgrad room done wait long room believ dirti towel bathroom televis work wait repair guy fix plu hotel fail mention convent go spa repair mad write owner let know realli made mad taken vacat year expect fairmont luxuri cater need even concierg snicker boot like wear doc marten make mad even think fairmont least time chicago enjoy even though hotel lame', 'omni chicago hotel one word dread hotel heart citi traffic chaotic servic terribl want wait room half hour place go throughout whole week bed made bathroom never clean hotel help look nice place dine fun place visit give info activ go chicago hotel list top worst hotel america wast time money stay omni chicago hotel', 'dissapoint stay fairmont chicago millennium park look web site convinc go perfect place famili spend time gaze site chicago boy wrong first arriv check one insight desk final minut approach apolog wait tri check told mixup room origin request occupi given less spaciou room one bed wife share kid told would voucher meal day wife love sushi figur use done qualiti food mediocr told us voucher would work sushi bar worst display custom servic ever receiv never stay', 'never stay conrad chicago employe rude begin ask extra towel ladi front desk look like inconveniec bar staff much better maid never came chang sheet stay go', 'want star hotel star servic make sure book next chicago stay fairmont chicago millennium park check hotel wait desk ten minut line greet thank patienc anyth similar room fine noth glamor outstand internet cost day outrag consid price hotel thing push edg howev valet park want car morn wait minut acknowledg valet talk ignor altogeth servic charg night went complain front desk said sometim valet get overwhelm exercis patienc exercis patienc check hotel', 'recent stay hyatt regenc chicago sever disappoint qualiti facil staff start room provid adequ sound barrier room hope spend quiet even long day busi meet hope spend quiet night neighbor howev watch imagin real hous wive new jersey marathon full volum destroy chanc peac ambianc ask concierg address issu seem concern text job visit gym found state art stayfittm gym consist noth coupl treadmil weight yoga mat water cooler quit warm workout towel stain tatter final hypo allergen featur tout websit render null presenc dust ball bed', 'first get room lower floor garbag pick make ton nois wake bother go breakfast time either restaur open earli final open breakfast arriv cold late noth like congeal egg start day fit center towel cup water also hot mani peopl sweat much congeal breakfast realli pleasant entir three day visit like tri room servic night servic slow food warm arriv high speed internet high speed would connect furnitur run worn pool towel alway avail gener price paid would expect better servic better maintain premis', 'stay fairmont chicago millennium hotel short one although intend five day last two husband arriv met valet knick mercedez clerk concierg phone nearli full minut notic stand front check lug luggag upstair room find someon alreadi return lobbi dismay hotel doubl book room anoth minut haggl whatnot abl move better room bed unbear shower look like hadnt clean properli room smell cigarrett although supposedli non smoke room tire jet lag complain went sleep howev hard us voic could heard thoughout night due paper thin wall room need ambien go sleep woke backach continent breakfast bathroom day maid conveni forgot clean room husband enough decid go hyatt']\n",
            "1600\n"
          ],
          "name": "stdout"
        }
      ]
    },
    {
      "cell_type": "code",
      "metadata": {
        "id": "vXMKJMoPQYTT",
        "colab": {
          "base_uri": "https://localhost:8080/"
        },
        "outputId": "dab5cac3-fa69-4c8c-f1e5-50f92fe77507"
      },
      "source": [
        "import pandas as pd\n",
        "import nltk\n",
        "from nltk.corpus import stopwords\n",
        "import re\n",
        "from nltk.stem import PorterStemmer\n",
        "nltk.download('stopwords')\n",
        "stop_words = stopwords.words('english')\n",
        "stemmer = PorterStemmer()"
      ],
      "execution_count": null,
      "outputs": [
        {
          "output_type": "stream",
          "text": [
            "[nltk_data] Downloading package stopwords to /root/nltk_data...\n",
            "[nltk_data]   Package stopwords is already up-to-date!\n"
          ],
          "name": "stdout"
        }
      ]
    },
    {
      "cell_type": "code",
      "metadata": {
        "id": "fJ2K5WSVNknx"
      },
      "source": [
        "# define a method for data cleaning\n",
        "def dataClean(resource):\n",
        "  review_df = pd.DataFrame.from_records(data=resource, columns = ['review', 'labels'])\n",
        "  review_df['review_lower'] = review_df['review'].apply(lambda x: x.lower()) # change to lowercase\n",
        "  review_df['review_without_stopwords'] = review_df['review_lower'].apply(lambda x: ' '.join([word for word in x.split() if word not in (stop_words)])) # remove stopwords\n",
        "  review_df['review_stem'] = review_df['review_without_stopwords'].apply(lambda x: \" \".join([stemmer.stem(i) for i in re.sub(\"[^a-zA-Z]\", \" \", x).split() if i not in stop_words]).lower())# stemming\n",
        "  voc = list(review_df['review_stem'])\n",
        "  return voc\n",
        "  #print(review_df)"
      ],
      "execution_count": null,
      "outputs": []
    },
    {
      "cell_type": "code",
      "metadata": {
        "id": "0BtrDYu-KFZa",
        "colab": {
          "base_uri": "https://localhost:8080/"
        },
        "outputId": "141e097b-6a82-41ef-b588-27710acd0942"
      },
      "source": [
        "# pos tagging, adding feature\n",
        "nltk.download('punkt')\n",
        "nltk.download('averaged_perceptron_tagger')"
      ],
      "execution_count": null,
      "outputs": [
        {
          "output_type": "stream",
          "text": [
            "[nltk_data] Downloading package punkt to /root/nltk_data...\n",
            "[nltk_data]   Package punkt is already up-to-date!\n",
            "[nltk_data] Downloading package averaged_perceptron_tagger to\n",
            "[nltk_data]     /root/nltk_data...\n",
            "[nltk_data]   Package averaged_perceptron_tagger is already up-to-\n",
            "[nltk_data]       date!\n"
          ],
          "name": "stdout"
        },
        {
          "output_type": "execute_result",
          "data": {
            "text/plain": [
              "True"
            ]
          },
          "metadata": {
            "tags": []
          },
          "execution_count": 108
        }
      ]
    },
    {
      "cell_type": "code",
      "metadata": {
        "id": "RzpeV27SKNsP"
      },
      "source": [
        "from textblob import TextBlob\n",
        "def pos(review_without_stopwords):\n",
        "    return TextBlob(review_without_stopwords).tags"
      ],
      "execution_count": null,
      "outputs": []
    },
    {
      "cell_type": "code",
      "metadata": {
        "id": "kLRzFXAqKRKw",
        "colab": {
          "base_uri": "https://localhost:8080/",
          "height": 754
        },
        "outputId": "e784ba6a-6aec-408c-da52-ac50dfdeb802"
      },
      "source": [
        "from textblob import TextBlob\n",
        "def pos(review_without_stopwords):\n",
        "    return TextBlob(review_without_stopwords).tags\n",
        "review_df['review_pos'] = review_df.review_lemmatized.apply(pos)\n",
        "review_df['pos'] = review_df['review_pos'].map(lambda x:\" \".join([\"/\".join(x) for x in x ]) )\n",
        "review_df.head()"
      ],
      "execution_count": null,
      "outputs": [
        {
          "output_type": "execute_result",
          "data": {
            "text/html": [
              "<div>\n",
              "<style scoped>\n",
              "    .dataframe tbody tr th:only-of-type {\n",
              "        vertical-align: middle;\n",
              "    }\n",
              "\n",
              "    .dataframe tbody tr th {\n",
              "        vertical-align: top;\n",
              "    }\n",
              "\n",
              "    .dataframe thead th {\n",
              "        text-align: right;\n",
              "    }\n",
              "</style>\n",
              "<table border=\"1\" class=\"dataframe\">\n",
              "  <thead>\n",
              "    <tr style=\"text-align: right;\">\n",
              "      <th></th>\n",
              "      <th>review</th>\n",
              "      <th>labels</th>\n",
              "      <th>length</th>\n",
              "      <th>number of char</th>\n",
              "      <th>number of words</th>\n",
              "      <th>review_remove_num</th>\n",
              "      <th>review_lower</th>\n",
              "      <th>number of sentence</th>\n",
              "      <th>aver sentence char</th>\n",
              "      <th>number of punctuation</th>\n",
              "      <th>number of stop words</th>\n",
              "      <th>review_without_stopwords</th>\n",
              "      <th>review_stem_x</th>\n",
              "      <th>review_lemmatized</th>\n",
              "      <th>review_bigram</th>\n",
              "      <th>review_stem_y</th>\n",
              "      <th>pos</th>\n",
              "      <th>review_pos</th>\n",
              "    </tr>\n",
              "  </thead>\n",
              "  <tbody>\n",
              "    <tr>\n",
              "      <th>0</th>\n",
              "      <td>My wife and I stayed for 2 nights and loved it...</td>\n",
              "      <td>1</td>\n",
              "      <td>1410</td>\n",
              "      <td>1410</td>\n",
              "      <td>263</td>\n",
              "      <td>My wife and I stayed for  nights and loved it....</td>\n",
              "      <td>my wife and i stayed for 2 nights and loved it...</td>\n",
              "      <td>16</td>\n",
              "      <td>16.0</td>\n",
              "      <td>18</td>\n",
              "      <td>482</td>\n",
              "      <td>wife stayed 2 nights loved it. stay booked us ...</td>\n",
              "      <td>wife stay night love stay book us virgin atlan...</td>\n",
              "      <td>wife stay 2 night love it stay book u virgin a...</td>\n",
              "      <td>[(1, queen), (airline, knew), (also, serve), (...</td>\n",
              "      <td>[(wife, NN), (stay, VB), (night, NN), (love, V...</td>\n",
              "      <td>wife/NN stay/VB 2/CD night/NN love/NN it/PRP s...</td>\n",
              "      <td>[(wife, NN), (stay, VB), (2, CD), (night, NN),...</td>\n",
              "    </tr>\n",
              "    <tr>\n",
              "      <th>1</th>\n",
              "      <td>After reading some of the most recent reviews ...</td>\n",
              "      <td>1</td>\n",
              "      <td>745</td>\n",
              "      <td>745</td>\n",
              "      <td>142</td>\n",
              "      <td>After reading some of the most recent reviews ...</td>\n",
              "      <td>after reading some of the most recent reviews ...</td>\n",
              "      <td>13</td>\n",
              "      <td>11.0</td>\n",
              "      <td>26</td>\n",
              "      <td>267</td>\n",
              "      <td>reading recent reviews really perplexed. know ...</td>\n",
              "      <td>read recent review realli perplex know expect ...</td>\n",
              "      <td>read recent review really perplex know expect ...</td>\n",
              "      <td>[(avoid, expensive), (beat, location), (believ...</td>\n",
              "      <td>[(read, JJ), (recent, JJ), (review, NN), (real...</td>\n",
              "      <td>read/JJ recent/JJ review/NN really/RB perplex/...</td>\n",
              "      <td>[(read, JJ), (recent, JJ), (review, NN), (real...</td>\n",
              "    </tr>\n",
              "    <tr>\n",
              "      <th>2</th>\n",
              "      <td>Stayed here for two days while attending Lollo...</td>\n",
              "      <td>1</td>\n",
              "      <td>386</td>\n",
              "      <td>386</td>\n",
              "      <td>64</td>\n",
              "      <td>Stayed here for two days while attending Lollo...</td>\n",
              "      <td>stayed here for two days while attending lollo...</td>\n",
              "      <td>7</td>\n",
              "      <td>9.0</td>\n",
              "      <td>11</td>\n",
              "      <td>140</td>\n",
              "      <td>stayed two days attending lollopalooza music f...</td>\n",
              "      <td>stay two day attend lollopalooza music festiv ...</td>\n",
              "      <td>stay two day attend lollopalooza music festiva...</td>\n",
              "      <td>[(attend, lollopalooza), (attraction, king), (...</td>\n",
              "      <td>[(stay, JJ), (two, CD), (day, NN), (attend, VB...</td>\n",
              "      <td>stay/JJ two/CD day/NN attend/VB lollopalooza/J...</td>\n",
              "      <td>[(stay, JJ), (two, CD), (day, NN), (attend, VB...</td>\n",
              "    </tr>\n",
              "    <tr>\n",
              "      <th>3</th>\n",
              "      <td>I booked this hotel for $75 on Hotwire with mi...</td>\n",
              "      <td>1</td>\n",
              "      <td>1158</td>\n",
              "      <td>1158</td>\n",
              "      <td>216</td>\n",
              "      <td>I booked this hotel for $ on Hotwire with mid-...</td>\n",
              "      <td>i booked this hotel for $75 on hotwire with mi...</td>\n",
              "      <td>30</td>\n",
              "      <td>7.0</td>\n",
              "      <td>43</td>\n",
              "      <td>412</td>\n",
              "      <td>booked hotel $75 hotwire mid-level expectation...</td>\n",
              "      <td>book hotel hotwir mid level expect one night t...</td>\n",
              "      <td>book hotel 75 hotwire midlevel expectation one...</td>\n",
              "      <td>[(1045, pm), (12, hour), (2, bed), (3rd, party...</td>\n",
              "      <td>[(book, NN), (hotel, NN), (hotwir, NN), (mid, ...</td>\n",
              "      <td>book/NN hotel/NN 75/CD hotwire/NN midlevel/NN ...</td>\n",
              "      <td>[(book, NN), (hotel, NN), (75, CD), (hotwire, ...</td>\n",
              "    </tr>\n",
              "    <tr>\n",
              "      <th>4</th>\n",
              "      <td>My wife and I decided to spend three days in C...</td>\n",
              "      <td>1</td>\n",
              "      <td>522</td>\n",
              "      <td>522</td>\n",
              "      <td>100</td>\n",
              "      <td>My wife and I decided to spend three days in C...</td>\n",
              "      <td>my wife and i decided to spend three days in c...</td>\n",
              "      <td>7</td>\n",
              "      <td>14.0</td>\n",
              "      <td>17</td>\n",
              "      <td>179</td>\n",
              "      <td>wife decided spend three days chicago last sum...</td>\n",
              "      <td>wife decid spend three day chicago last summer...</td>\n",
              "      <td>wife decide spend three day chicago last summe...</td>\n",
              "      <td>[(able, get), (affraid, stay), (anywhere, palm...</td>\n",
              "      <td>[(wife, NN), (decid, NNS), (spend, VBP), (thre...</td>\n",
              "      <td>wife/NN decide/VB spend/JJ three/CD day/NN chi...</td>\n",
              "      <td>[(wife, NN), (decide, VB), (spend, JJ), (three...</td>\n",
              "    </tr>\n",
              "  </tbody>\n",
              "</table>\n",
              "</div>"
            ],
            "text/plain": [
              "                                              review  ...                                         review_pos\n",
              "0  My wife and I stayed for 2 nights and loved it...  ...  [(wife, NN), (stay, VB), (2, CD), (night, NN),...\n",
              "1  After reading some of the most recent reviews ...  ...  [(read, JJ), (recent, JJ), (review, NN), (real...\n",
              "2  Stayed here for two days while attending Lollo...  ...  [(stay, JJ), (two, CD), (day, NN), (attend, VB...\n",
              "3  I booked this hotel for $75 on Hotwire with mi...  ...  [(book, NN), (hotel, NN), (75, CD), (hotwire, ...\n",
              "4  My wife and I decided to spend three days in C...  ...  [(wife, NN), (decide, VB), (spend, JJ), (three...\n",
              "\n",
              "[5 rows x 18 columns]"
            ]
          },
          "metadata": {
            "tags": []
          },
          "execution_count": 199
        }
      ]
    },
    {
      "cell_type": "code",
      "metadata": {
        "id": "C4IVO3g2WTX-",
        "colab": {
          "base_uri": "https://localhost:8080/",
          "height": 754
        },
        "outputId": "e649334d-697f-4de4-d13c-8472fb56f973"
      },
      "source": [
        "review_df['original_review'] = review_df.review_lower.apply(pos)\n",
        "review_df.head()"
      ],
      "execution_count": null,
      "outputs": [
        {
          "output_type": "execute_result",
          "data": {
            "text/html": [
              "<div>\n",
              "<style scoped>\n",
              "    .dataframe tbody tr th:only-of-type {\n",
              "        vertical-align: middle;\n",
              "    }\n",
              "\n",
              "    .dataframe tbody tr th {\n",
              "        vertical-align: top;\n",
              "    }\n",
              "\n",
              "    .dataframe thead th {\n",
              "        text-align: right;\n",
              "    }\n",
              "</style>\n",
              "<table border=\"1\" class=\"dataframe\">\n",
              "  <thead>\n",
              "    <tr style=\"text-align: right;\">\n",
              "      <th></th>\n",
              "      <th>review</th>\n",
              "      <th>labels</th>\n",
              "      <th>length</th>\n",
              "      <th>number of char</th>\n",
              "      <th>number of words</th>\n",
              "      <th>review_remove_num</th>\n",
              "      <th>review_lower</th>\n",
              "      <th>number of sentence</th>\n",
              "      <th>aver sentence char</th>\n",
              "      <th>number of punctuation</th>\n",
              "      <th>number of stop words</th>\n",
              "      <th>review_without_stopwords</th>\n",
              "      <th>review_stem_x</th>\n",
              "      <th>review_lemmatized</th>\n",
              "      <th>review_bigram</th>\n",
              "      <th>review_stem_y</th>\n",
              "      <th>pos</th>\n",
              "      <th>review_pos</th>\n",
              "      <th>original_review</th>\n",
              "    </tr>\n",
              "  </thead>\n",
              "  <tbody>\n",
              "    <tr>\n",
              "      <th>0</th>\n",
              "      <td>My wife and I stayed for 2 nights and loved it...</td>\n",
              "      <td>1</td>\n",
              "      <td>1410</td>\n",
              "      <td>1410</td>\n",
              "      <td>263</td>\n",
              "      <td>My wife and I stayed for  nights and loved it....</td>\n",
              "      <td>my wife and i stayed for 2 nights and loved it...</td>\n",
              "      <td>16</td>\n",
              "      <td>16.0</td>\n",
              "      <td>18</td>\n",
              "      <td>482</td>\n",
              "      <td>wife stayed 2 nights loved it. stay booked us ...</td>\n",
              "      <td>wife stay night love stay book us virgin atlan...</td>\n",
              "      <td>wife stay 2 night love it stay book u virgin a...</td>\n",
              "      <td>[(1, queen), (airline, knew), (also, serve), (...</td>\n",
              "      <td>[(wife, NN), (stay, VB), (night, NN), (love, V...</td>\n",
              "      <td>wife/NN stay/VB 2/CD night/NN love/NN it/PRP s...</td>\n",
              "      <td>[(wife, NN), (stay, VB), (2, CD), (night, NN),...</td>\n",
              "      <td>[(my, PRP$), (wife, NN), (and, CC), (i, JJ), (...</td>\n",
              "    </tr>\n",
              "    <tr>\n",
              "      <th>1</th>\n",
              "      <td>After reading some of the most recent reviews ...</td>\n",
              "      <td>1</td>\n",
              "      <td>745</td>\n",
              "      <td>745</td>\n",
              "      <td>142</td>\n",
              "      <td>After reading some of the most recent reviews ...</td>\n",
              "      <td>after reading some of the most recent reviews ...</td>\n",
              "      <td>13</td>\n",
              "      <td>11.0</td>\n",
              "      <td>26</td>\n",
              "      <td>267</td>\n",
              "      <td>reading recent reviews really perplexed. know ...</td>\n",
              "      <td>read recent review realli perplex know expect ...</td>\n",
              "      <td>read recent review really perplex know expect ...</td>\n",
              "      <td>[(avoid, expensive), (beat, location), (believ...</td>\n",
              "      <td>[(read, JJ), (recent, JJ), (review, NN), (real...</td>\n",
              "      <td>read/JJ recent/JJ review/NN really/RB perplex/...</td>\n",
              "      <td>[(read, JJ), (recent, JJ), (review, NN), (real...</td>\n",
              "      <td>[(after, IN), (reading, VBG), (some, DT), (of,...</td>\n",
              "    </tr>\n",
              "    <tr>\n",
              "      <th>2</th>\n",
              "      <td>Stayed here for two days while attending Lollo...</td>\n",
              "      <td>1</td>\n",
              "      <td>386</td>\n",
              "      <td>386</td>\n",
              "      <td>64</td>\n",
              "      <td>Stayed here for two days while attending Lollo...</td>\n",
              "      <td>stayed here for two days while attending lollo...</td>\n",
              "      <td>7</td>\n",
              "      <td>9.0</td>\n",
              "      <td>11</td>\n",
              "      <td>140</td>\n",
              "      <td>stayed two days attending lollopalooza music f...</td>\n",
              "      <td>stay two day attend lollopalooza music festiv ...</td>\n",
              "      <td>stay two day attend lollopalooza music festiva...</td>\n",
              "      <td>[(attend, lollopalooza), (attraction, king), (...</td>\n",
              "      <td>[(stay, JJ), (two, CD), (day, NN), (attend, VB...</td>\n",
              "      <td>stay/JJ two/CD day/NN attend/VB lollopalooza/J...</td>\n",
              "      <td>[(stay, JJ), (two, CD), (day, NN), (attend, VB...</td>\n",
              "      <td>[(stayed, VBN), (here, RB), (for, IN), (two, C...</td>\n",
              "    </tr>\n",
              "    <tr>\n",
              "      <th>3</th>\n",
              "      <td>I booked this hotel for $75 on Hotwire with mi...</td>\n",
              "      <td>1</td>\n",
              "      <td>1158</td>\n",
              "      <td>1158</td>\n",
              "      <td>216</td>\n",
              "      <td>I booked this hotel for $ on Hotwire with mid-...</td>\n",
              "      <td>i booked this hotel for $75 on hotwire with mi...</td>\n",
              "      <td>30</td>\n",
              "      <td>7.0</td>\n",
              "      <td>43</td>\n",
              "      <td>412</td>\n",
              "      <td>booked hotel $75 hotwire mid-level expectation...</td>\n",
              "      <td>book hotel hotwir mid level expect one night t...</td>\n",
              "      <td>book hotel 75 hotwire midlevel expectation one...</td>\n",
              "      <td>[(1045, pm), (12, hour), (2, bed), (3rd, party...</td>\n",
              "      <td>[(book, NN), (hotel, NN), (hotwir, NN), (mid, ...</td>\n",
              "      <td>book/NN hotel/NN 75/CD hotwire/NN midlevel/NN ...</td>\n",
              "      <td>[(book, NN), (hotel, NN), (75, CD), (hotwire, ...</td>\n",
              "      <td>[(i, NN), (booked, VBD), (this, DT), (hotel, N...</td>\n",
              "    </tr>\n",
              "    <tr>\n",
              "      <th>4</th>\n",
              "      <td>My wife and I decided to spend three days in C...</td>\n",
              "      <td>1</td>\n",
              "      <td>522</td>\n",
              "      <td>522</td>\n",
              "      <td>100</td>\n",
              "      <td>My wife and I decided to spend three days in C...</td>\n",
              "      <td>my wife and i decided to spend three days in c...</td>\n",
              "      <td>7</td>\n",
              "      <td>14.0</td>\n",
              "      <td>17</td>\n",
              "      <td>179</td>\n",
              "      <td>wife decided spend three days chicago last sum...</td>\n",
              "      <td>wife decid spend three day chicago last summer...</td>\n",
              "      <td>wife decide spend three day chicago last summe...</td>\n",
              "      <td>[(able, get), (affraid, stay), (anywhere, palm...</td>\n",
              "      <td>[(wife, NN), (decid, NNS), (spend, VBP), (thre...</td>\n",
              "      <td>wife/NN decide/VB spend/JJ three/CD day/NN chi...</td>\n",
              "      <td>[(wife, NN), (decide, VB), (spend, JJ), (three...</td>\n",
              "      <td>[(my, PRP$), (wife, NN), (and, CC), (i, NN), (...</td>\n",
              "    </tr>\n",
              "  </tbody>\n",
              "</table>\n",
              "</div>"
            ],
            "text/plain": [
              "                                              review  ...                                    original_review\n",
              "0  My wife and I stayed for 2 nights and loved it...  ...  [(my, PRP$), (wife, NN), (and, CC), (i, JJ), (...\n",
              "1  After reading some of the most recent reviews ...  ...  [(after, IN), (reading, VBG), (some, DT), (of,...\n",
              "2  Stayed here for two days while attending Lollo...  ...  [(stayed, VBN), (here, RB), (for, IN), (two, C...\n",
              "3  I booked this hotel for $75 on Hotwire with mi...  ...  [(i, NN), (booked, VBD), (this, DT), (hotel, N...\n",
              "4  My wife and I decided to spend three days in C...  ...  [(my, PRP$), (wife, NN), (and, CC), (i, NN), (...\n",
              "\n",
              "[5 rows x 19 columns]"
            ]
          },
          "metadata": {
            "tags": []
          },
          "execution_count": 200
        }
      ]
    },
    {
      "cell_type": "code",
      "metadata": {
        "id": "I1AXk5iGWYh9",
        "colab": {
          "base_uri": "https://localhost:8080/",
          "height": 754
        },
        "outputId": "d6e8cd94-acf0-401e-bcd7-33038782601f"
      },
      "source": [
        "def calculate_percent(data, tag):\n",
        "  word_dict = {}\n",
        "  total_cnt = 0\n",
        "  for word in data:\n",
        "    val = word[1][0:2]\n",
        "    if val not in word_dict:\n",
        "      word_dict[val] = 0\n",
        "    word_dict[val] += 1\n",
        "    total_cnt += 1\n",
        "  return word_dict[tag]/total_cnt if tag in word_dict else 0\n",
        "review_df[\"percent of nouns\"] = review_df[\"original_review\"].apply(lambda x: calculate_percent(x, \"NN\"))\n",
        "review_df.head()"
      ],
      "execution_count": null,
      "outputs": [
        {
          "output_type": "execute_result",
          "data": {
            "text/html": [
              "<div>\n",
              "<style scoped>\n",
              "    .dataframe tbody tr th:only-of-type {\n",
              "        vertical-align: middle;\n",
              "    }\n",
              "\n",
              "    .dataframe tbody tr th {\n",
              "        vertical-align: top;\n",
              "    }\n",
              "\n",
              "    .dataframe thead th {\n",
              "        text-align: right;\n",
              "    }\n",
              "</style>\n",
              "<table border=\"1\" class=\"dataframe\">\n",
              "  <thead>\n",
              "    <tr style=\"text-align: right;\">\n",
              "      <th></th>\n",
              "      <th>review</th>\n",
              "      <th>labels</th>\n",
              "      <th>length</th>\n",
              "      <th>number of char</th>\n",
              "      <th>number of words</th>\n",
              "      <th>review_remove_num</th>\n",
              "      <th>review_lower</th>\n",
              "      <th>number of sentence</th>\n",
              "      <th>aver sentence char</th>\n",
              "      <th>number of punctuation</th>\n",
              "      <th>number of stop words</th>\n",
              "      <th>review_without_stopwords</th>\n",
              "      <th>review_stem_x</th>\n",
              "      <th>review_lemmatized</th>\n",
              "      <th>review_bigram</th>\n",
              "      <th>review_stem_y</th>\n",
              "      <th>pos</th>\n",
              "      <th>review_pos</th>\n",
              "      <th>original_review</th>\n",
              "      <th>percent of nouns</th>\n",
              "    </tr>\n",
              "  </thead>\n",
              "  <tbody>\n",
              "    <tr>\n",
              "      <th>0</th>\n",
              "      <td>My wife and I stayed for 2 nights and loved it...</td>\n",
              "      <td>1</td>\n",
              "      <td>1410</td>\n",
              "      <td>1410</td>\n",
              "      <td>263</td>\n",
              "      <td>My wife and I stayed for  nights and loved it....</td>\n",
              "      <td>my wife and i stayed for 2 nights and loved it...</td>\n",
              "      <td>16</td>\n",
              "      <td>16.0</td>\n",
              "      <td>18</td>\n",
              "      <td>482</td>\n",
              "      <td>wife stayed 2 nights loved it. stay booked us ...</td>\n",
              "      <td>wife stay night love stay book us virgin atlan...</td>\n",
              "      <td>wife stay 2 night love it stay book u virgin a...</td>\n",
              "      <td>[(1, queen), (airline, knew), (also, serve), (...</td>\n",
              "      <td>[(wife, NN), (stay, VB), (night, NN), (love, V...</td>\n",
              "      <td>wife/NN stay/VB 2/CD night/NN love/NN it/PRP s...</td>\n",
              "      <td>[(wife, NN), (stay, VB), (2, CD), (night, NN),...</td>\n",
              "      <td>[(my, PRP$), (wife, NN), (and, CC), (i, JJ), (...</td>\n",
              "      <td>0.212928</td>\n",
              "    </tr>\n",
              "    <tr>\n",
              "      <th>1</th>\n",
              "      <td>After reading some of the most recent reviews ...</td>\n",
              "      <td>1</td>\n",
              "      <td>745</td>\n",
              "      <td>745</td>\n",
              "      <td>142</td>\n",
              "      <td>After reading some of the most recent reviews ...</td>\n",
              "      <td>after reading some of the most recent reviews ...</td>\n",
              "      <td>13</td>\n",
              "      <td>11.0</td>\n",
              "      <td>26</td>\n",
              "      <td>267</td>\n",
              "      <td>reading recent reviews really perplexed. know ...</td>\n",
              "      <td>read recent review realli perplex know expect ...</td>\n",
              "      <td>read recent review really perplex know expect ...</td>\n",
              "      <td>[(avoid, expensive), (beat, location), (believ...</td>\n",
              "      <td>[(read, JJ), (recent, JJ), (review, NN), (real...</td>\n",
              "      <td>read/JJ recent/JJ review/NN really/RB perplex/...</td>\n",
              "      <td>[(read, JJ), (recent, JJ), (review, NN), (real...</td>\n",
              "      <td>[(after, IN), (reading, VBG), (some, DT), (of,...</td>\n",
              "      <td>0.225352</td>\n",
              "    </tr>\n",
              "    <tr>\n",
              "      <th>2</th>\n",
              "      <td>Stayed here for two days while attending Lollo...</td>\n",
              "      <td>1</td>\n",
              "      <td>386</td>\n",
              "      <td>386</td>\n",
              "      <td>64</td>\n",
              "      <td>Stayed here for two days while attending Lollo...</td>\n",
              "      <td>stayed here for two days while attending lollo...</td>\n",
              "      <td>7</td>\n",
              "      <td>9.0</td>\n",
              "      <td>11</td>\n",
              "      <td>140</td>\n",
              "      <td>stayed two days attending lollopalooza music f...</td>\n",
              "      <td>stay two day attend lollopalooza music festiv ...</td>\n",
              "      <td>stay two day attend lollopalooza music festiva...</td>\n",
              "      <td>[(attend, lollopalooza), (attraction, king), (...</td>\n",
              "      <td>[(stay, JJ), (two, CD), (day, NN), (attend, VB...</td>\n",
              "      <td>stay/JJ two/CD day/NN attend/VB lollopalooza/J...</td>\n",
              "      <td>[(stay, JJ), (two, CD), (day, NN), (attend, VB...</td>\n",
              "      <td>[(stayed, VBN), (here, RB), (for, IN), (two, C...</td>\n",
              "      <td>0.301587</td>\n",
              "    </tr>\n",
              "    <tr>\n",
              "      <th>3</th>\n",
              "      <td>I booked this hotel for $75 on Hotwire with mi...</td>\n",
              "      <td>1</td>\n",
              "      <td>1158</td>\n",
              "      <td>1158</td>\n",
              "      <td>216</td>\n",
              "      <td>I booked this hotel for $ on Hotwire with mid-...</td>\n",
              "      <td>i booked this hotel for $75 on hotwire with mi...</td>\n",
              "      <td>30</td>\n",
              "      <td>7.0</td>\n",
              "      <td>43</td>\n",
              "      <td>412</td>\n",
              "      <td>booked hotel $75 hotwire mid-level expectation...</td>\n",
              "      <td>book hotel hotwir mid level expect one night t...</td>\n",
              "      <td>book hotel 75 hotwire midlevel expectation one...</td>\n",
              "      <td>[(1045, pm), (12, hour), (2, bed), (3rd, party...</td>\n",
              "      <td>[(book, NN), (hotel, NN), (hotwir, NN), (mid, ...</td>\n",
              "      <td>book/NN hotel/NN 75/CD hotwire/NN midlevel/NN ...</td>\n",
              "      <td>[(book, NN), (hotel, NN), (75, CD), (hotwire, ...</td>\n",
              "      <td>[(i, NN), (booked, VBD), (this, DT), (hotel, N...</td>\n",
              "      <td>0.320574</td>\n",
              "    </tr>\n",
              "    <tr>\n",
              "      <th>4</th>\n",
              "      <td>My wife and I decided to spend three days in C...</td>\n",
              "      <td>1</td>\n",
              "      <td>522</td>\n",
              "      <td>522</td>\n",
              "      <td>100</td>\n",
              "      <td>My wife and I decided to spend three days in C...</td>\n",
              "      <td>my wife and i decided to spend three days in c...</td>\n",
              "      <td>7</td>\n",
              "      <td>14.0</td>\n",
              "      <td>17</td>\n",
              "      <td>179</td>\n",
              "      <td>wife decided spend three days chicago last sum...</td>\n",
              "      <td>wife decid spend three day chicago last summer...</td>\n",
              "      <td>wife decide spend three day chicago last summe...</td>\n",
              "      <td>[(able, get), (affraid, stay), (anywhere, palm...</td>\n",
              "      <td>[(wife, NN), (decid, NNS), (spend, VBP), (thre...</td>\n",
              "      <td>wife/NN decide/VB spend/JJ three/CD day/NN chi...</td>\n",
              "      <td>[(wife, NN), (decide, VB), (spend, JJ), (three...</td>\n",
              "      <td>[(my, PRP$), (wife, NN), (and, CC), (i, NN), (...</td>\n",
              "      <td>0.237624</td>\n",
              "    </tr>\n",
              "  </tbody>\n",
              "</table>\n",
              "</div>"
            ],
            "text/plain": [
              "                                              review  ...  percent of nouns\n",
              "0  My wife and I stayed for 2 nights and loved it...  ...          0.212928\n",
              "1  After reading some of the most recent reviews ...  ...          0.225352\n",
              "2  Stayed here for two days while attending Lollo...  ...          0.301587\n",
              "3  I booked this hotel for $75 on Hotwire with mi...  ...          0.320574\n",
              "4  My wife and I decided to spend three days in C...  ...          0.237624\n",
              "\n",
              "[5 rows x 20 columns]"
            ]
          },
          "metadata": {
            "tags": []
          },
          "execution_count": 201
        }
      ]
    },
    {
      "cell_type": "code",
      "metadata": {
        "id": "H2pUeCLZWbLP",
        "colab": {
          "base_uri": "https://localhost:8080/",
          "height": 754
        },
        "outputId": "0169acc7-dd9b-44c7-f04b-562c2bb714aa"
      },
      "source": [
        "review_df[\"percent of verbs\"] = review_df[\"original_review\"].apply(lambda x: calculate_percent(x, \"VB\"))\n",
        "review_df.head()"
      ],
      "execution_count": null,
      "outputs": [
        {
          "output_type": "execute_result",
          "data": {
            "text/html": [
              "<div>\n",
              "<style scoped>\n",
              "    .dataframe tbody tr th:only-of-type {\n",
              "        vertical-align: middle;\n",
              "    }\n",
              "\n",
              "    .dataframe tbody tr th {\n",
              "        vertical-align: top;\n",
              "    }\n",
              "\n",
              "    .dataframe thead th {\n",
              "        text-align: right;\n",
              "    }\n",
              "</style>\n",
              "<table border=\"1\" class=\"dataframe\">\n",
              "  <thead>\n",
              "    <tr style=\"text-align: right;\">\n",
              "      <th></th>\n",
              "      <th>review</th>\n",
              "      <th>labels</th>\n",
              "      <th>length</th>\n",
              "      <th>number of char</th>\n",
              "      <th>number of words</th>\n",
              "      <th>review_remove_num</th>\n",
              "      <th>review_lower</th>\n",
              "      <th>number of sentence</th>\n",
              "      <th>aver sentence char</th>\n",
              "      <th>number of punctuation</th>\n",
              "      <th>number of stop words</th>\n",
              "      <th>review_without_stopwords</th>\n",
              "      <th>review_stem_x</th>\n",
              "      <th>review_lemmatized</th>\n",
              "      <th>review_bigram</th>\n",
              "      <th>review_stem_y</th>\n",
              "      <th>pos</th>\n",
              "      <th>review_pos</th>\n",
              "      <th>original_review</th>\n",
              "      <th>percent of nouns</th>\n",
              "      <th>percent of verbs</th>\n",
              "    </tr>\n",
              "  </thead>\n",
              "  <tbody>\n",
              "    <tr>\n",
              "      <th>0</th>\n",
              "      <td>My wife and I stayed for 2 nights and loved it...</td>\n",
              "      <td>1</td>\n",
              "      <td>1410</td>\n",
              "      <td>1410</td>\n",
              "      <td>263</td>\n",
              "      <td>My wife and I stayed for  nights and loved it....</td>\n",
              "      <td>my wife and i stayed for 2 nights and loved it...</td>\n",
              "      <td>16</td>\n",
              "      <td>16.0</td>\n",
              "      <td>18</td>\n",
              "      <td>482</td>\n",
              "      <td>wife stayed 2 nights loved it. stay booked us ...</td>\n",
              "      <td>wife stay night love stay book us virgin atlan...</td>\n",
              "      <td>wife stay 2 night love it stay book u virgin a...</td>\n",
              "      <td>[(1, queen), (airline, knew), (also, serve), (...</td>\n",
              "      <td>[(wife, NN), (stay, VB), (night, NN), (love, V...</td>\n",
              "      <td>wife/NN stay/VB 2/CD night/NN love/NN it/PRP s...</td>\n",
              "      <td>[(wife, NN), (stay, VB), (2, CD), (night, NN),...</td>\n",
              "      <td>[(my, PRP$), (wife, NN), (and, CC), (i, JJ), (...</td>\n",
              "      <td>0.212928</td>\n",
              "      <td>0.220532</td>\n",
              "    </tr>\n",
              "    <tr>\n",
              "      <th>1</th>\n",
              "      <td>After reading some of the most recent reviews ...</td>\n",
              "      <td>1</td>\n",
              "      <td>745</td>\n",
              "      <td>745</td>\n",
              "      <td>142</td>\n",
              "      <td>After reading some of the most recent reviews ...</td>\n",
              "      <td>after reading some of the most recent reviews ...</td>\n",
              "      <td>13</td>\n",
              "      <td>11.0</td>\n",
              "      <td>26</td>\n",
              "      <td>267</td>\n",
              "      <td>reading recent reviews really perplexed. know ...</td>\n",
              "      <td>read recent review realli perplex know expect ...</td>\n",
              "      <td>read recent review really perplex know expect ...</td>\n",
              "      <td>[(avoid, expensive), (beat, location), (believ...</td>\n",
              "      <td>[(read, JJ), (recent, JJ), (review, NN), (real...</td>\n",
              "      <td>read/JJ recent/JJ review/NN really/RB perplex/...</td>\n",
              "      <td>[(read, JJ), (recent, JJ), (review, NN), (real...</td>\n",
              "      <td>[(after, IN), (reading, VBG), (some, DT), (of,...</td>\n",
              "      <td>0.225352</td>\n",
              "      <td>0.204225</td>\n",
              "    </tr>\n",
              "    <tr>\n",
              "      <th>2</th>\n",
              "      <td>Stayed here for two days while attending Lollo...</td>\n",
              "      <td>1</td>\n",
              "      <td>386</td>\n",
              "      <td>386</td>\n",
              "      <td>64</td>\n",
              "      <td>Stayed here for two days while attending Lollo...</td>\n",
              "      <td>stayed here for two days while attending lollo...</td>\n",
              "      <td>7</td>\n",
              "      <td>9.0</td>\n",
              "      <td>11</td>\n",
              "      <td>140</td>\n",
              "      <td>stayed two days attending lollopalooza music f...</td>\n",
              "      <td>stay two day attend lollopalooza music festiv ...</td>\n",
              "      <td>stay two day attend lollopalooza music festiva...</td>\n",
              "      <td>[(attend, lollopalooza), (attraction, king), (...</td>\n",
              "      <td>[(stay, JJ), (two, CD), (day, NN), (attend, VB...</td>\n",
              "      <td>stay/JJ two/CD day/NN attend/VB lollopalooza/J...</td>\n",
              "      <td>[(stay, JJ), (two, CD), (day, NN), (attend, VB...</td>\n",
              "      <td>[(stayed, VBN), (here, RB), (for, IN), (two, C...</td>\n",
              "      <td>0.301587</td>\n",
              "      <td>0.126984</td>\n",
              "    </tr>\n",
              "    <tr>\n",
              "      <th>3</th>\n",
              "      <td>I booked this hotel for $75 on Hotwire with mi...</td>\n",
              "      <td>1</td>\n",
              "      <td>1158</td>\n",
              "      <td>1158</td>\n",
              "      <td>216</td>\n",
              "      <td>I booked this hotel for $ on Hotwire with mid-...</td>\n",
              "      <td>i booked this hotel for $75 on hotwire with mi...</td>\n",
              "      <td>30</td>\n",
              "      <td>7.0</td>\n",
              "      <td>43</td>\n",
              "      <td>412</td>\n",
              "      <td>booked hotel $75 hotwire mid-level expectation...</td>\n",
              "      <td>book hotel hotwir mid level expect one night t...</td>\n",
              "      <td>book hotel 75 hotwire midlevel expectation one...</td>\n",
              "      <td>[(1045, pm), (12, hour), (2, bed), (3rd, party...</td>\n",
              "      <td>[(book, NN), (hotel, NN), (hotwir, NN), (mid, ...</td>\n",
              "      <td>book/NN hotel/NN 75/CD hotwire/NN midlevel/NN ...</td>\n",
              "      <td>[(book, NN), (hotel, NN), (75, CD), (hotwire, ...</td>\n",
              "      <td>[(i, NN), (booked, VBD), (this, DT), (hotel, N...</td>\n",
              "      <td>0.320574</td>\n",
              "      <td>0.177033</td>\n",
              "    </tr>\n",
              "    <tr>\n",
              "      <th>4</th>\n",
              "      <td>My wife and I decided to spend three days in C...</td>\n",
              "      <td>1</td>\n",
              "      <td>522</td>\n",
              "      <td>522</td>\n",
              "      <td>100</td>\n",
              "      <td>My wife and I decided to spend three days in C...</td>\n",
              "      <td>my wife and i decided to spend three days in c...</td>\n",
              "      <td>7</td>\n",
              "      <td>14.0</td>\n",
              "      <td>17</td>\n",
              "      <td>179</td>\n",
              "      <td>wife decided spend three days chicago last sum...</td>\n",
              "      <td>wife decid spend three day chicago last summer...</td>\n",
              "      <td>wife decide spend three day chicago last summe...</td>\n",
              "      <td>[(able, get), (affraid, stay), (anywhere, palm...</td>\n",
              "      <td>[(wife, NN), (decid, NNS), (spend, VBP), (thre...</td>\n",
              "      <td>wife/NN decide/VB spend/JJ three/CD day/NN chi...</td>\n",
              "      <td>[(wife, NN), (decide, VB), (spend, JJ), (three...</td>\n",
              "      <td>[(my, PRP$), (wife, NN), (and, CC), (i, NN), (...</td>\n",
              "      <td>0.237624</td>\n",
              "      <td>0.188119</td>\n",
              "    </tr>\n",
              "  </tbody>\n",
              "</table>\n",
              "</div>"
            ],
            "text/plain": [
              "                                              review  ...  percent of verbs\n",
              "0  My wife and I stayed for 2 nights and loved it...  ...          0.220532\n",
              "1  After reading some of the most recent reviews ...  ...          0.204225\n",
              "2  Stayed here for two days while attending Lollo...  ...          0.126984\n",
              "3  I booked this hotel for $75 on Hotwire with mi...  ...          0.177033\n",
              "4  My wife and I decided to spend three days in C...  ...          0.188119\n",
              "\n",
              "[5 rows x 21 columns]"
            ]
          },
          "metadata": {
            "tags": []
          },
          "execution_count": 202
        }
      ]
    },
    {
      "cell_type": "code",
      "metadata": {
        "id": "_oeNcP_KWdk4",
        "colab": {
          "base_uri": "https://localhost:8080/",
          "height": 754
        },
        "outputId": "d6589980-3766-42a7-b35e-ae805233f780"
      },
      "source": [
        "review_df[\"percent of adjs\"] = review_df[\"original_review\"].apply(lambda x: calculate_percent(x, \"JJ\"))\n",
        "review_df.head()"
      ],
      "execution_count": null,
      "outputs": [
        {
          "output_type": "execute_result",
          "data": {
            "text/html": [
              "<div>\n",
              "<style scoped>\n",
              "    .dataframe tbody tr th:only-of-type {\n",
              "        vertical-align: middle;\n",
              "    }\n",
              "\n",
              "    .dataframe tbody tr th {\n",
              "        vertical-align: top;\n",
              "    }\n",
              "\n",
              "    .dataframe thead th {\n",
              "        text-align: right;\n",
              "    }\n",
              "</style>\n",
              "<table border=\"1\" class=\"dataframe\">\n",
              "  <thead>\n",
              "    <tr style=\"text-align: right;\">\n",
              "      <th></th>\n",
              "      <th>review</th>\n",
              "      <th>labels</th>\n",
              "      <th>length</th>\n",
              "      <th>number of char</th>\n",
              "      <th>number of words</th>\n",
              "      <th>review_remove_num</th>\n",
              "      <th>review_lower</th>\n",
              "      <th>number of sentence</th>\n",
              "      <th>aver sentence char</th>\n",
              "      <th>number of punctuation</th>\n",
              "      <th>number of stop words</th>\n",
              "      <th>review_without_stopwords</th>\n",
              "      <th>review_stem_x</th>\n",
              "      <th>review_lemmatized</th>\n",
              "      <th>review_bigram</th>\n",
              "      <th>review_stem_y</th>\n",
              "      <th>pos</th>\n",
              "      <th>review_pos</th>\n",
              "      <th>original_review</th>\n",
              "      <th>percent of nouns</th>\n",
              "      <th>percent of verbs</th>\n",
              "      <th>percent of adjs</th>\n",
              "    </tr>\n",
              "  </thead>\n",
              "  <tbody>\n",
              "    <tr>\n",
              "      <th>0</th>\n",
              "      <td>My wife and I stayed for 2 nights and loved it...</td>\n",
              "      <td>1</td>\n",
              "      <td>1410</td>\n",
              "      <td>1410</td>\n",
              "      <td>263</td>\n",
              "      <td>My wife and I stayed for  nights and loved it....</td>\n",
              "      <td>my wife and i stayed for 2 nights and loved it...</td>\n",
              "      <td>16</td>\n",
              "      <td>16.0</td>\n",
              "      <td>18</td>\n",
              "      <td>482</td>\n",
              "      <td>wife stayed 2 nights loved it. stay booked us ...</td>\n",
              "      <td>wife stay night love stay book us virgin atlan...</td>\n",
              "      <td>wife stay 2 night love it stay book u virgin a...</td>\n",
              "      <td>[(1, queen), (airline, knew), (also, serve), (...</td>\n",
              "      <td>[(wife, NN), (stay, VB), (night, NN), (love, V...</td>\n",
              "      <td>wife/NN stay/VB 2/CD night/NN love/NN it/PRP s...</td>\n",
              "      <td>[(wife, NN), (stay, VB), (2, CD), (night, NN),...</td>\n",
              "      <td>[(my, PRP$), (wife, NN), (and, CC), (i, JJ), (...</td>\n",
              "      <td>0.212928</td>\n",
              "      <td>0.220532</td>\n",
              "      <td>0.076046</td>\n",
              "    </tr>\n",
              "    <tr>\n",
              "      <th>1</th>\n",
              "      <td>After reading some of the most recent reviews ...</td>\n",
              "      <td>1</td>\n",
              "      <td>745</td>\n",
              "      <td>745</td>\n",
              "      <td>142</td>\n",
              "      <td>After reading some of the most recent reviews ...</td>\n",
              "      <td>after reading some of the most recent reviews ...</td>\n",
              "      <td>13</td>\n",
              "      <td>11.0</td>\n",
              "      <td>26</td>\n",
              "      <td>267</td>\n",
              "      <td>reading recent reviews really perplexed. know ...</td>\n",
              "      <td>read recent review realli perplex know expect ...</td>\n",
              "      <td>read recent review really perplex know expect ...</td>\n",
              "      <td>[(avoid, expensive), (beat, location), (believ...</td>\n",
              "      <td>[(read, JJ), (recent, JJ), (review, NN), (real...</td>\n",
              "      <td>read/JJ recent/JJ review/NN really/RB perplex/...</td>\n",
              "      <td>[(read, JJ), (recent, JJ), (review, NN), (real...</td>\n",
              "      <td>[(after, IN), (reading, VBG), (some, DT), (of,...</td>\n",
              "      <td>0.225352</td>\n",
              "      <td>0.204225</td>\n",
              "      <td>0.126761</td>\n",
              "    </tr>\n",
              "    <tr>\n",
              "      <th>2</th>\n",
              "      <td>Stayed here for two days while attending Lollo...</td>\n",
              "      <td>1</td>\n",
              "      <td>386</td>\n",
              "      <td>386</td>\n",
              "      <td>64</td>\n",
              "      <td>Stayed here for two days while attending Lollo...</td>\n",
              "      <td>stayed here for two days while attending lollo...</td>\n",
              "      <td>7</td>\n",
              "      <td>9.0</td>\n",
              "      <td>11</td>\n",
              "      <td>140</td>\n",
              "      <td>stayed two days attending lollopalooza music f...</td>\n",
              "      <td>stay two day attend lollopalooza music festiv ...</td>\n",
              "      <td>stay two day attend lollopalooza music festiva...</td>\n",
              "      <td>[(attend, lollopalooza), (attraction, king), (...</td>\n",
              "      <td>[(stay, JJ), (two, CD), (day, NN), (attend, VB...</td>\n",
              "      <td>stay/JJ two/CD day/NN attend/VB lollopalooza/J...</td>\n",
              "      <td>[(stay, JJ), (two, CD), (day, NN), (attend, VB...</td>\n",
              "      <td>[(stayed, VBN), (here, RB), (for, IN), (two, C...</td>\n",
              "      <td>0.301587</td>\n",
              "      <td>0.126984</td>\n",
              "      <td>0.158730</td>\n",
              "    </tr>\n",
              "    <tr>\n",
              "      <th>3</th>\n",
              "      <td>I booked this hotel for $75 on Hotwire with mi...</td>\n",
              "      <td>1</td>\n",
              "      <td>1158</td>\n",
              "      <td>1158</td>\n",
              "      <td>216</td>\n",
              "      <td>I booked this hotel for $ on Hotwire with mid-...</td>\n",
              "      <td>i booked this hotel for $75 on hotwire with mi...</td>\n",
              "      <td>30</td>\n",
              "      <td>7.0</td>\n",
              "      <td>43</td>\n",
              "      <td>412</td>\n",
              "      <td>booked hotel $75 hotwire mid-level expectation...</td>\n",
              "      <td>book hotel hotwir mid level expect one night t...</td>\n",
              "      <td>book hotel 75 hotwire midlevel expectation one...</td>\n",
              "      <td>[(1045, pm), (12, hour), (2, bed), (3rd, party...</td>\n",
              "      <td>[(book, NN), (hotel, NN), (hotwir, NN), (mid, ...</td>\n",
              "      <td>book/NN hotel/NN 75/CD hotwire/NN midlevel/NN ...</td>\n",
              "      <td>[(book, NN), (hotel, NN), (75, CD), (hotwire, ...</td>\n",
              "      <td>[(i, NN), (booked, VBD), (this, DT), (hotel, N...</td>\n",
              "      <td>0.320574</td>\n",
              "      <td>0.177033</td>\n",
              "      <td>0.143541</td>\n",
              "    </tr>\n",
              "    <tr>\n",
              "      <th>4</th>\n",
              "      <td>My wife and I decided to spend three days in C...</td>\n",
              "      <td>1</td>\n",
              "      <td>522</td>\n",
              "      <td>522</td>\n",
              "      <td>100</td>\n",
              "      <td>My wife and I decided to spend three days in C...</td>\n",
              "      <td>my wife and i decided to spend three days in c...</td>\n",
              "      <td>7</td>\n",
              "      <td>14.0</td>\n",
              "      <td>17</td>\n",
              "      <td>179</td>\n",
              "      <td>wife decided spend three days chicago last sum...</td>\n",
              "      <td>wife decid spend three day chicago last summer...</td>\n",
              "      <td>wife decide spend three day chicago last summe...</td>\n",
              "      <td>[(able, get), (affraid, stay), (anywhere, palm...</td>\n",
              "      <td>[(wife, NN), (decid, NNS), (spend, VBP), (thre...</td>\n",
              "      <td>wife/NN decide/VB spend/JJ three/CD day/NN chi...</td>\n",
              "      <td>[(wife, NN), (decide, VB), (spend, JJ), (three...</td>\n",
              "      <td>[(my, PRP$), (wife, NN), (and, CC), (i, NN), (...</td>\n",
              "      <td>0.237624</td>\n",
              "      <td>0.188119</td>\n",
              "      <td>0.079208</td>\n",
              "    </tr>\n",
              "  </tbody>\n",
              "</table>\n",
              "</div>"
            ],
            "text/plain": [
              "                                              review  ...  percent of adjs\n",
              "0  My wife and I stayed for 2 nights and loved it...  ...         0.076046\n",
              "1  After reading some of the most recent reviews ...  ...         0.126761\n",
              "2  Stayed here for two days while attending Lollo...  ...         0.158730\n",
              "3  I booked this hotel for $75 on Hotwire with mi...  ...         0.143541\n",
              "4  My wife and I decided to spend three days in C...  ...         0.079208\n",
              "\n",
              "[5 rows x 22 columns]"
            ]
          },
          "metadata": {
            "tags": []
          },
          "execution_count": 203
        }
      ]
    },
    {
      "cell_type": "code",
      "metadata": {
        "id": "kITUuzW-Wf3s",
        "colab": {
          "base_uri": "https://localhost:8080/",
          "height": 754
        },
        "outputId": "11036a4a-f8b7-4440-de49-18dec41b94bb"
      },
      "source": [
        "review_df[\"percent of dts\"] = review_df[\"original_review\"].apply(lambda x: calculate_percent(x, \"DT\"))\n",
        "review_df.head()"
      ],
      "execution_count": null,
      "outputs": [
        {
          "output_type": "execute_result",
          "data": {
            "text/html": [
              "<div>\n",
              "<style scoped>\n",
              "    .dataframe tbody tr th:only-of-type {\n",
              "        vertical-align: middle;\n",
              "    }\n",
              "\n",
              "    .dataframe tbody tr th {\n",
              "        vertical-align: top;\n",
              "    }\n",
              "\n",
              "    .dataframe thead th {\n",
              "        text-align: right;\n",
              "    }\n",
              "</style>\n",
              "<table border=\"1\" class=\"dataframe\">\n",
              "  <thead>\n",
              "    <tr style=\"text-align: right;\">\n",
              "      <th></th>\n",
              "      <th>review</th>\n",
              "      <th>labels</th>\n",
              "      <th>length</th>\n",
              "      <th>number of char</th>\n",
              "      <th>number of words</th>\n",
              "      <th>review_remove_num</th>\n",
              "      <th>review_lower</th>\n",
              "      <th>number of sentence</th>\n",
              "      <th>aver sentence char</th>\n",
              "      <th>number of punctuation</th>\n",
              "      <th>number of stop words</th>\n",
              "      <th>review_without_stopwords</th>\n",
              "      <th>review_stem_x</th>\n",
              "      <th>review_lemmatized</th>\n",
              "      <th>review_bigram</th>\n",
              "      <th>review_stem_y</th>\n",
              "      <th>pos</th>\n",
              "      <th>review_pos</th>\n",
              "      <th>original_review</th>\n",
              "      <th>percent of nouns</th>\n",
              "      <th>percent of verbs</th>\n",
              "      <th>percent of adjs</th>\n",
              "      <th>percent of dts</th>\n",
              "    </tr>\n",
              "  </thead>\n",
              "  <tbody>\n",
              "    <tr>\n",
              "      <th>0</th>\n",
              "      <td>My wife and I stayed for 2 nights and loved it...</td>\n",
              "      <td>1</td>\n",
              "      <td>1410</td>\n",
              "      <td>1410</td>\n",
              "      <td>263</td>\n",
              "      <td>My wife and I stayed for  nights and loved it....</td>\n",
              "      <td>my wife and i stayed for 2 nights and loved it...</td>\n",
              "      <td>16</td>\n",
              "      <td>16.0</td>\n",
              "      <td>18</td>\n",
              "      <td>482</td>\n",
              "      <td>wife stayed 2 nights loved it. stay booked us ...</td>\n",
              "      <td>wife stay night love stay book us virgin atlan...</td>\n",
              "      <td>wife stay 2 night love it stay book u virgin a...</td>\n",
              "      <td>[(1, queen), (airline, knew), (also, serve), (...</td>\n",
              "      <td>[(wife, NN), (stay, VB), (night, NN), (love, V...</td>\n",
              "      <td>wife/NN stay/VB 2/CD night/NN love/NN it/PRP s...</td>\n",
              "      <td>[(wife, NN), (stay, VB), (2, CD), (night, NN),...</td>\n",
              "      <td>[(my, PRP$), (wife, NN), (and, CC), (i, JJ), (...</td>\n",
              "      <td>0.212928</td>\n",
              "      <td>0.220532</td>\n",
              "      <td>0.076046</td>\n",
              "      <td>0.133080</td>\n",
              "    </tr>\n",
              "    <tr>\n",
              "      <th>1</th>\n",
              "      <td>After reading some of the most recent reviews ...</td>\n",
              "      <td>1</td>\n",
              "      <td>745</td>\n",
              "      <td>745</td>\n",
              "      <td>142</td>\n",
              "      <td>After reading some of the most recent reviews ...</td>\n",
              "      <td>after reading some of the most recent reviews ...</td>\n",
              "      <td>13</td>\n",
              "      <td>11.0</td>\n",
              "      <td>26</td>\n",
              "      <td>267</td>\n",
              "      <td>reading recent reviews really perplexed. know ...</td>\n",
              "      <td>read recent review realli perplex know expect ...</td>\n",
              "      <td>read recent review really perplex know expect ...</td>\n",
              "      <td>[(avoid, expensive), (beat, location), (believ...</td>\n",
              "      <td>[(read, JJ), (recent, JJ), (review, NN), (real...</td>\n",
              "      <td>read/JJ recent/JJ review/NN really/RB perplex/...</td>\n",
              "      <td>[(read, JJ), (recent, JJ), (review, NN), (real...</td>\n",
              "      <td>[(after, IN), (reading, VBG), (some, DT), (of,...</td>\n",
              "      <td>0.225352</td>\n",
              "      <td>0.204225</td>\n",
              "      <td>0.126761</td>\n",
              "      <td>0.140845</td>\n",
              "    </tr>\n",
              "    <tr>\n",
              "      <th>2</th>\n",
              "      <td>Stayed here for two days while attending Lollo...</td>\n",
              "      <td>1</td>\n",
              "      <td>386</td>\n",
              "      <td>386</td>\n",
              "      <td>64</td>\n",
              "      <td>Stayed here for two days while attending Lollo...</td>\n",
              "      <td>stayed here for two days while attending lollo...</td>\n",
              "      <td>7</td>\n",
              "      <td>9.0</td>\n",
              "      <td>11</td>\n",
              "      <td>140</td>\n",
              "      <td>stayed two days attending lollopalooza music f...</td>\n",
              "      <td>stay two day attend lollopalooza music festiv ...</td>\n",
              "      <td>stay two day attend lollopalooza music festiva...</td>\n",
              "      <td>[(attend, lollopalooza), (attraction, king), (...</td>\n",
              "      <td>[(stay, JJ), (two, CD), (day, NN), (attend, VB...</td>\n",
              "      <td>stay/JJ two/CD day/NN attend/VB lollopalooza/J...</td>\n",
              "      <td>[(stay, JJ), (two, CD), (day, NN), (attend, VB...</td>\n",
              "      <td>[(stayed, VBN), (here, RB), (for, IN), (two, C...</td>\n",
              "      <td>0.301587</td>\n",
              "      <td>0.126984</td>\n",
              "      <td>0.158730</td>\n",
              "      <td>0.095238</td>\n",
              "    </tr>\n",
              "    <tr>\n",
              "      <th>3</th>\n",
              "      <td>I booked this hotel for $75 on Hotwire with mi...</td>\n",
              "      <td>1</td>\n",
              "      <td>1158</td>\n",
              "      <td>1158</td>\n",
              "      <td>216</td>\n",
              "      <td>I booked this hotel for $ on Hotwire with mid-...</td>\n",
              "      <td>i booked this hotel for $75 on hotwire with mi...</td>\n",
              "      <td>30</td>\n",
              "      <td>7.0</td>\n",
              "      <td>43</td>\n",
              "      <td>412</td>\n",
              "      <td>booked hotel $75 hotwire mid-level expectation...</td>\n",
              "      <td>book hotel hotwir mid level expect one night t...</td>\n",
              "      <td>book hotel 75 hotwire midlevel expectation one...</td>\n",
              "      <td>[(1045, pm), (12, hour), (2, bed), (3rd, party...</td>\n",
              "      <td>[(book, NN), (hotel, NN), (hotwir, NN), (mid, ...</td>\n",
              "      <td>book/NN hotel/NN 75/CD hotwire/NN midlevel/NN ...</td>\n",
              "      <td>[(book, NN), (hotel, NN), (75, CD), (hotwire, ...</td>\n",
              "      <td>[(i, NN), (booked, VBD), (this, DT), (hotel, N...</td>\n",
              "      <td>0.320574</td>\n",
              "      <td>0.177033</td>\n",
              "      <td>0.143541</td>\n",
              "      <td>0.052632</td>\n",
              "    </tr>\n",
              "    <tr>\n",
              "      <th>4</th>\n",
              "      <td>My wife and I decided to spend three days in C...</td>\n",
              "      <td>1</td>\n",
              "      <td>522</td>\n",
              "      <td>522</td>\n",
              "      <td>100</td>\n",
              "      <td>My wife and I decided to spend three days in C...</td>\n",
              "      <td>my wife and i decided to spend three days in c...</td>\n",
              "      <td>7</td>\n",
              "      <td>14.0</td>\n",
              "      <td>17</td>\n",
              "      <td>179</td>\n",
              "      <td>wife decided spend three days chicago last sum...</td>\n",
              "      <td>wife decid spend three day chicago last summer...</td>\n",
              "      <td>wife decide spend three day chicago last summe...</td>\n",
              "      <td>[(able, get), (affraid, stay), (anywhere, palm...</td>\n",
              "      <td>[(wife, NN), (decid, NNS), (spend, VBP), (thre...</td>\n",
              "      <td>wife/NN decide/VB spend/JJ three/CD day/NN chi...</td>\n",
              "      <td>[(wife, NN), (decide, VB), (spend, JJ), (three...</td>\n",
              "      <td>[(my, PRP$), (wife, NN), (and, CC), (i, NN), (...</td>\n",
              "      <td>0.237624</td>\n",
              "      <td>0.188119</td>\n",
              "      <td>0.079208</td>\n",
              "      <td>0.099010</td>\n",
              "    </tr>\n",
              "  </tbody>\n",
              "</table>\n",
              "</div>"
            ],
            "text/plain": [
              "                                              review  ...  percent of dts\n",
              "0  My wife and I stayed for 2 nights and loved it...  ...        0.133080\n",
              "1  After reading some of the most recent reviews ...  ...        0.140845\n",
              "2  Stayed here for two days while attending Lollo...  ...        0.095238\n",
              "3  I booked this hotel for $75 on Hotwire with mi...  ...        0.052632\n",
              "4  My wife and I decided to spend three days in C...  ...        0.099010\n",
              "\n",
              "[5 rows x 23 columns]"
            ]
          },
          "metadata": {
            "tags": []
          },
          "execution_count": 204
        }
      ]
    },
    {
      "cell_type": "code",
      "metadata": {
        "id": "XlYqUmhXWigv",
        "colab": {
          "base_uri": "https://localhost:8080/",
          "height": 348
        },
        "outputId": "1cab27ca-21b7-40f4-ec9c-a53f1ddd8d1b"
      },
      "source": [
        "pos_df = review_df[[\"review\", \"original_review\", \"review_lemmatized\", \"review_pos\"]]\n",
        "pos_df.head(10)"
      ],
      "execution_count": null,
      "outputs": [
        {
          "output_type": "execute_result",
          "data": {
            "text/html": [
              "<div>\n",
              "<style scoped>\n",
              "    .dataframe tbody tr th:only-of-type {\n",
              "        vertical-align: middle;\n",
              "    }\n",
              "\n",
              "    .dataframe tbody tr th {\n",
              "        vertical-align: top;\n",
              "    }\n",
              "\n",
              "    .dataframe thead th {\n",
              "        text-align: right;\n",
              "    }\n",
              "</style>\n",
              "<table border=\"1\" class=\"dataframe\">\n",
              "  <thead>\n",
              "    <tr style=\"text-align: right;\">\n",
              "      <th></th>\n",
              "      <th>review</th>\n",
              "      <th>original_review</th>\n",
              "      <th>review_lemmatized</th>\n",
              "      <th>review_pos</th>\n",
              "    </tr>\n",
              "  </thead>\n",
              "  <tbody>\n",
              "    <tr>\n",
              "      <th>0</th>\n",
              "      <td>My wife and I stayed for 2 nights and loved it...</td>\n",
              "      <td>[(my, PRP$), (wife, NN), (and, CC), (i, JJ), (...</td>\n",
              "      <td>wife stay 2 night love it stay book u virgin a...</td>\n",
              "      <td>[(wife, NN), (stay, VB), (2, CD), (night, NN),...</td>\n",
              "    </tr>\n",
              "    <tr>\n",
              "      <th>1</th>\n",
              "      <td>After reading some of the most recent reviews ...</td>\n",
              "      <td>[(after, IN), (reading, VBG), (some, DT), (of,...</td>\n",
              "      <td>read recent review really perplex know expect ...</td>\n",
              "      <td>[(read, JJ), (recent, JJ), (review, NN), (real...</td>\n",
              "    </tr>\n",
              "    <tr>\n",
              "      <th>2</th>\n",
              "      <td>Stayed here for two days while attending Lollo...</td>\n",
              "      <td>[(stayed, VBN), (here, RB), (for, IN), (two, C...</td>\n",
              "      <td>stay two day attend lollopalooza music festiva...</td>\n",
              "      <td>[(stay, JJ), (two, CD), (day, NN), (attend, VB...</td>\n",
              "    </tr>\n",
              "    <tr>\n",
              "      <th>3</th>\n",
              "      <td>I booked this hotel for $75 on Hotwire with mi...</td>\n",
              "      <td>[(i, NN), (booked, VBD), (this, DT), (hotel, N...</td>\n",
              "      <td>book hotel 75 hotwire midlevel expectation one...</td>\n",
              "      <td>[(book, NN), (hotel, NN), (75, CD), (hotwire, ...</td>\n",
              "    </tr>\n",
              "    <tr>\n",
              "      <th>4</th>\n",
              "      <td>My wife and I decided to spend three days in C...</td>\n",
              "      <td>[(my, PRP$), (wife, NN), (and, CC), (i, NN), (...</td>\n",
              "      <td>wife decide spend three day chicago last summe...</td>\n",
              "      <td>[(wife, NN), (decide, VB), (spend, JJ), (three...</td>\n",
              "    </tr>\n",
              "    <tr>\n",
              "      <th>5</th>\n",
              "      <td>Spent a wonderful night at the Amalfi with fri...</td>\n",
              "      <td>[(spent, NN), (a, DT), (wonderful, JJ), (night...</td>\n",
              "      <td>spent wonderful night amalfi friends even rece...</td>\n",
              "      <td>[(spent, NN), (wonderful, JJ), (night, NN), (a...</td>\n",
              "    </tr>\n",
              "    <tr>\n",
              "      <th>6</th>\n",
              "      <td>I am a fan of Kimpton Hotels, however I have n...</td>\n",
              "      <td>[(i, NN), (am, VBP), (a, DT), (fan, NN), (of, ...</td>\n",
              "      <td>fan kimpton hotel however never experience top...</td>\n",
              "      <td>[(fan, JJ), (kimpton, NNP), (hotel, NN), (howe...</td>\n",
              "    </tr>\n",
              "    <tr>\n",
              "      <th>7</th>\n",
              "      <td>My wife and I spent several nights here on a g...</td>\n",
              "      <td>[(my, PRP$), (wife, NN), (and, CC), (i, JJ), (...</td>\n",
              "      <td>wife spend several night getaway excursion cho...</td>\n",
              "      <td>[(wife, NN), (spend, VB), (several, JJ), (nigh...</td>\n",
              "    </tr>\n",
              "    <tr>\n",
              "      <th>8</th>\n",
              "      <td>Guys trip to Chicago, scored this hotel on Pri...</td>\n",
              "      <td>[(guys, NNS), (trip, NN), (to, TO), (chicago, ...</td>\n",
              "      <td>guy trip chicago score hotel priceline 100 nig...</td>\n",
              "      <td>[(guy, NN), (trip, NN), (chicago, NN), (score,...</td>\n",
              "    </tr>\n",
              "    <tr>\n",
              "      <th>9</th>\n",
              "      <td>beautiful place with European charm. No compla...</td>\n",
              "      <td>[(beautiful, JJ), (place, NN), (with, IN), (eu...</td>\n",
              "      <td>beautiful place european charm complaint great...</td>\n",
              "      <td>[(beautiful, JJ), (place, NN), (european, JJ),...</td>\n",
              "    </tr>\n",
              "  </tbody>\n",
              "</table>\n",
              "</div>"
            ],
            "text/plain": [
              "                                              review  ...                                         review_pos\n",
              "0  My wife and I stayed for 2 nights and loved it...  ...  [(wife, NN), (stay, VB), (2, CD), (night, NN),...\n",
              "1  After reading some of the most recent reviews ...  ...  [(read, JJ), (recent, JJ), (review, NN), (real...\n",
              "2  Stayed here for two days while attending Lollo...  ...  [(stay, JJ), (two, CD), (day, NN), (attend, VB...\n",
              "3  I booked this hotel for $75 on Hotwire with mi...  ...  [(book, NN), (hotel, NN), (75, CD), (hotwire, ...\n",
              "4  My wife and I decided to spend three days in C...  ...  [(wife, NN), (decide, VB), (spend, JJ), (three...\n",
              "5  Spent a wonderful night at the Amalfi with fri...  ...  [(spent, NN), (wonderful, JJ), (night, NN), (a...\n",
              "6  I am a fan of Kimpton Hotels, however I have n...  ...  [(fan, JJ), (kimpton, NNP), (hotel, NN), (howe...\n",
              "7  My wife and I spent several nights here on a g...  ...  [(wife, NN), (spend, VB), (several, JJ), (nigh...\n",
              "8  Guys trip to Chicago, scored this hotel on Pri...  ...  [(guy, NN), (trip, NN), (chicago, NN), (score,...\n",
              "9  beautiful place with European charm. No compla...  ...  [(beautiful, JJ), (place, NN), (european, JJ),...\n",
              "\n",
              "[10 rows x 4 columns]"
            ]
          },
          "metadata": {
            "tags": []
          },
          "execution_count": 205
        }
      ]
    },
    {
      "cell_type": "code",
      "metadata": {
        "id": "2O95YC0yYAtA",
        "colab": {
          "base_uri": "https://localhost:8080/",
          "height": 348
        },
        "outputId": "3b8e1912-e2f2-4968-801b-2b1f24e4febc"
      },
      "source": [
        "n_df = review_df[[\"labels\", \"number of char\", \"number of words\", \"number of sentence\", \"aver sentence char\", \"number of punctuation\", \"number of stop words\", \"percent of nouns\", \"percent of verbs\", \"percent of adjs\", \"percent of dts\"]]\n",
        "n_df.head(10)"
      ],
      "execution_count": 207,
      "outputs": [
        {
          "output_type": "execute_result",
          "data": {
            "text/html": [
              "<div>\n",
              "<style scoped>\n",
              "    .dataframe tbody tr th:only-of-type {\n",
              "        vertical-align: middle;\n",
              "    }\n",
              "\n",
              "    .dataframe tbody tr th {\n",
              "        vertical-align: top;\n",
              "    }\n",
              "\n",
              "    .dataframe thead th {\n",
              "        text-align: right;\n",
              "    }\n",
              "</style>\n",
              "<table border=\"1\" class=\"dataframe\">\n",
              "  <thead>\n",
              "    <tr style=\"text-align: right;\">\n",
              "      <th></th>\n",
              "      <th>labels</th>\n",
              "      <th>number of char</th>\n",
              "      <th>number of words</th>\n",
              "      <th>number of sentence</th>\n",
              "      <th>aver sentence char</th>\n",
              "      <th>number of punctuation</th>\n",
              "      <th>number of stop words</th>\n",
              "      <th>percent of nouns</th>\n",
              "      <th>percent of verbs</th>\n",
              "      <th>percent of adjs</th>\n",
              "      <th>percent of dts</th>\n",
              "    </tr>\n",
              "  </thead>\n",
              "  <tbody>\n",
              "    <tr>\n",
              "      <th>0</th>\n",
              "      <td>1</td>\n",
              "      <td>1410</td>\n",
              "      <td>263</td>\n",
              "      <td>16</td>\n",
              "      <td>16.0</td>\n",
              "      <td>18</td>\n",
              "      <td>482</td>\n",
              "      <td>0.212928</td>\n",
              "      <td>0.220532</td>\n",
              "      <td>0.076046</td>\n",
              "      <td>0.133080</td>\n",
              "    </tr>\n",
              "    <tr>\n",
              "      <th>1</th>\n",
              "      <td>1</td>\n",
              "      <td>745</td>\n",
              "      <td>142</td>\n",
              "      <td>13</td>\n",
              "      <td>11.0</td>\n",
              "      <td>26</td>\n",
              "      <td>267</td>\n",
              "      <td>0.225352</td>\n",
              "      <td>0.204225</td>\n",
              "      <td>0.126761</td>\n",
              "      <td>0.140845</td>\n",
              "    </tr>\n",
              "    <tr>\n",
              "      <th>2</th>\n",
              "      <td>1</td>\n",
              "      <td>386</td>\n",
              "      <td>64</td>\n",
              "      <td>7</td>\n",
              "      <td>9.0</td>\n",
              "      <td>11</td>\n",
              "      <td>140</td>\n",
              "      <td>0.301587</td>\n",
              "      <td>0.126984</td>\n",
              "      <td>0.158730</td>\n",
              "      <td>0.095238</td>\n",
              "    </tr>\n",
              "    <tr>\n",
              "      <th>3</th>\n",
              "      <td>1</td>\n",
              "      <td>1158</td>\n",
              "      <td>216</td>\n",
              "      <td>30</td>\n",
              "      <td>7.0</td>\n",
              "      <td>43</td>\n",
              "      <td>412</td>\n",
              "      <td>0.320574</td>\n",
              "      <td>0.177033</td>\n",
              "      <td>0.143541</td>\n",
              "      <td>0.052632</td>\n",
              "    </tr>\n",
              "    <tr>\n",
              "      <th>4</th>\n",
              "      <td>1</td>\n",
              "      <td>522</td>\n",
              "      <td>100</td>\n",
              "      <td>7</td>\n",
              "      <td>14.0</td>\n",
              "      <td>17</td>\n",
              "      <td>179</td>\n",
              "      <td>0.237624</td>\n",
              "      <td>0.188119</td>\n",
              "      <td>0.079208</td>\n",
              "      <td>0.099010</td>\n",
              "    </tr>\n",
              "    <tr>\n",
              "      <th>5</th>\n",
              "      <td>1</td>\n",
              "      <td>214</td>\n",
              "      <td>38</td>\n",
              "      <td>5</td>\n",
              "      <td>8.0</td>\n",
              "      <td>5</td>\n",
              "      <td>73</td>\n",
              "      <td>0.236842</td>\n",
              "      <td>0.157895</td>\n",
              "      <td>0.157895</td>\n",
              "      <td>0.131579</td>\n",
              "    </tr>\n",
              "    <tr>\n",
              "      <th>6</th>\n",
              "      <td>1</td>\n",
              "      <td>923</td>\n",
              "      <td>177</td>\n",
              "      <td>11</td>\n",
              "      <td>16.0</td>\n",
              "      <td>28</td>\n",
              "      <td>321</td>\n",
              "      <td>0.310345</td>\n",
              "      <td>0.172414</td>\n",
              "      <td>0.080460</td>\n",
              "      <td>0.132184</td>\n",
              "    </tr>\n",
              "    <tr>\n",
              "      <th>7</th>\n",
              "      <td>1</td>\n",
              "      <td>481</td>\n",
              "      <td>93</td>\n",
              "      <td>11</td>\n",
              "      <td>8.0</td>\n",
              "      <td>24</td>\n",
              "      <td>158</td>\n",
              "      <td>0.236559</td>\n",
              "      <td>0.150538</td>\n",
              "      <td>0.150538</td>\n",
              "      <td>0.075269</td>\n",
              "    </tr>\n",
              "    <tr>\n",
              "      <th>8</th>\n",
              "      <td>1</td>\n",
              "      <td>659</td>\n",
              "      <td>124</td>\n",
              "      <td>10</td>\n",
              "      <td>12.0</td>\n",
              "      <td>17</td>\n",
              "      <td>251</td>\n",
              "      <td>0.266129</td>\n",
              "      <td>0.161290</td>\n",
              "      <td>0.104839</td>\n",
              "      <td>0.120968</td>\n",
              "    </tr>\n",
              "    <tr>\n",
              "      <th>9</th>\n",
              "      <td>1</td>\n",
              "      <td>283</td>\n",
              "      <td>45</td>\n",
              "      <td>7</td>\n",
              "      <td>6.0</td>\n",
              "      <td>20</td>\n",
              "      <td>94</td>\n",
              "      <td>0.377778</td>\n",
              "      <td>0.066667</td>\n",
              "      <td>0.200000</td>\n",
              "      <td>0.088889</td>\n",
              "    </tr>\n",
              "  </tbody>\n",
              "</table>\n",
              "</div>"
            ],
            "text/plain": [
              "   labels  number of char  ...  percent of adjs  percent of dts\n",
              "0       1            1410  ...         0.076046        0.133080\n",
              "1       1             745  ...         0.126761        0.140845\n",
              "2       1             386  ...         0.158730        0.095238\n",
              "3       1            1158  ...         0.143541        0.052632\n",
              "4       1             522  ...         0.079208        0.099010\n",
              "5       1             214  ...         0.157895        0.131579\n",
              "6       1             923  ...         0.080460        0.132184\n",
              "7       1             481  ...         0.150538        0.075269\n",
              "8       1             659  ...         0.104839        0.120968\n",
              "9       1             283  ...         0.200000        0.088889\n",
              "\n",
              "[10 rows x 11 columns]"
            ]
          },
          "metadata": {
            "tags": []
          },
          "execution_count": 207
        }
      ]
    },
    {
      "cell_type": "code",
      "metadata": {
        "id": "z9f5gPHjWk-D",
        "colab": {
          "base_uri": "https://localhost:8080/"
        },
        "outputId": "c607a399-f733-43d6-9362-c919a936c098"
      },
      "source": [
        "corr_matrix = n_df.corr()\n",
        "corr_matrix[\"labels\"].sort_values(ascending=False)"
      ],
      "execution_count": 208,
      "outputs": [
        {
          "output_type": "execute_result",
          "data": {
            "text/plain": [
              "labels                   1.000000\n",
              "number of punctuation    0.194212\n",
              "number of sentence       0.122046\n",
              "percent of dts           0.073069\n",
              "percent of nouns         0.071317\n",
              "percent of adjs          0.068208\n",
              "number of char           0.031307\n",
              "number of words          0.025562\n",
              "number of stop words     0.013696\n",
              "aver sentence char      -0.072006\n",
              "percent of verbs        -0.149043\n",
              "Name: labels, dtype: float64"
            ]
          },
          "metadata": {
            "tags": []
          },
          "execution_count": 208
        }
      ]
    },
    {
      "cell_type": "code",
      "metadata": {
        "id": "xBkN_KkFWnic",
        "colab": {
          "base_uri": "https://localhost:8080/",
          "height": 391
        },
        "outputId": "1d123bfe-eb7b-4002-cb37-4d6cc71d8ff8"
      },
      "source": [
        "import seaborn as sns\n",
        "sns.heatmap(corr_matrix)"
      ],
      "execution_count": 209,
      "outputs": [
        {
          "output_type": "execute_result",
          "data": {
            "text/plain": [
              "<matplotlib.axes._subplots.AxesSubplot at 0x7ff8a2840b90>"
            ]
          },
          "metadata": {
            "tags": []
          },
          "execution_count": 209
        },
        {
          "output_type": "display_data",
          "data": {
            "image/png": "[encoded data removed]",
            "text/plain": [
              "<Figure size 432x288 with 2 Axes>"
            ]
          },
          "metadata": {
            "tags": []
          }
        }
      ]
    },
    {
      "cell_type": "code",
      "metadata": {
        "id": "KpQjMBYgRb_c"
      },
      "source": [
        "list_total_reviews = dataClean(reviews)\n",
        "list_truth_reviews = dataClean(reviews_truth)\n",
        "list_deceptive_reviews = dataClean(reviews_deceptive)"
      ],
      "execution_count": 210,
      "outputs": []
    },
    {
      "cell_type": "markdown",
      "metadata": {
        "id": "GeAZK0uUMnvj"
      },
      "source": [
        "# Train/test Splitting"
      ]
    },
    {
      "cell_type": "code",
      "metadata": {
        "id": "ihCgarRSMmK_"
      },
      "source": [
        "from sklearn.model_selection import train_test_split\n",
        "review_train, review_test, label_train, label_test = train_test_split(review_df['pos'],review_df['labels'], test_size=0.2,random_state=13)"
      ],
      "execution_count": null,
      "outputs": []
    },
    {
      "cell_type": "code",
      "metadata": {
        "id": "skJ4i1JANEn8"
      },
      "source": [
        "from sklearn.feature_extraction.text import TfidfVectorizer\n",
        "\n",
        "tf_vect = TfidfVectorizer(lowercase = True, use_idf=True, smooth_idf=True, sublinear_tf=False)\n",
        "\n",
        "X_train_tf = tf_vect.fit_transform(review_train)\n",
        "X_test_tf = tf_vect.transform(review_test)\n"
      ],
      "execution_count": null,
      "outputs": []
    },
    {
      "cell_type": "code",
      "metadata": {
        "id": "LclEHfq_NsFE"
      },
      "source": [
        "print(X_train_tf)"
      ],
      "execution_count": null,
      "outputs": []
    },
    {
      "cell_type": "markdown",
      "metadata": {
        "id": "eRXQnUhPKUns"
      },
      "source": [
        "# Machine Learning Models"
      ]
    },
    {
      "cell_type": "markdown",
      "metadata": {
        "id": "UW_8BAvXY2E9"
      },
      "source": [
        "# KNN"
      ]
    },
    {
      "cell_type": "code",
      "metadata": {
        "id": "4vkK_5bNZAVB",
        "colab": {
          "base_uri": "https://localhost:8080/"
        },
        "outputId": "a37c9358-ba90-4fb4-9409-e2d7b6241e29"
      },
      "source": [
        "# train data with KNN, and check train time\n",
        "from sklearn.neighbors import KNeighborsClassifier\n",
        "from sklearn.metrics import accuracy_score\n",
        "import time \n",
        "\n",
        "start = time.perf_counter() \n",
        "\n",
        "clf = KNeighborsClassifier(44)\n",
        "clf.fit(X_train_tf, label_train)\n",
        "y_pred_NN = clf.predict(X_test_tf)\n",
        "end = time.perf_counter() \n",
        "print(accuracy_score(label_test, y_pred_NN, normalize=True))\n",
        "\n",
        "print(end - start)"
      ],
      "execution_count": null,
      "outputs": [
        {
          "output_type": "stream",
          "text": [
            "0.809375\n",
            "0.0535526209996533\n"
          ],
          "name": "stdout"
        }
      ]
    },
    {
      "cell_type": "code",
      "metadata": {
        "id": "MPfSA88pfP8d"
      },
      "source": [
        "# Get the K value with the highest accuracy score\n",
        "import matplotlib.pyplot as plt\n",
        "acc = []\n",
        "\n",
        "from sklearn import metrics\n",
        "for i in range(1,200):\n",
        "    neigh = KNeighborsClassifier(n_neighbors = i).fit(X_train_tf,label_train)\n",
        "    yhat = neigh.predict(X_test_tf)\n",
        "    acc.append(metrics.accuracy_score(label_test, yhat, normalize=True))\n",
        "    \n",
        "plt.figure(figsize=(10,6))\n",
        "plt.plot(range(1,200),acc,color = 'blue',linestyle='dashed', \n",
        "         marker='o',markerfacecolor='red', markersize=10)\n",
        "plt.title('accuracy vs. K Value')\n",
        "plt.xlabel('K')\n",
        "plt.ylabel('Accuracy')\n",
        "print(\"Maximum accuracy:-\",max(acc),\"at K =\",acc.index(max(acc)))"
      ],
      "execution_count": null,
      "outputs": []
    },
    {
      "cell_type": "code",
      "metadata": {
        "id": "X1v74YpJitro"
      },
      "source": [
        "# KNN Metrics\n",
        "# classification_report\n",
        "from sklearn.metrics import classification_report\n",
        "\n",
        "print(classification_report(label_test, y_pred_NN, labels=[1, 0]))"
      ],
      "execution_count": null,
      "outputs": []
    },
    {
      "cell_type": "code",
      "metadata": {
        "id": "lrLPr0T5kiHo"
      },
      "source": [
        "# KNN Metrics: confusion_matrix\n",
        "from sklearn.metrics import confusion_matrix\n",
        "\n",
        "confusion_matrix(label_test, y_pred_NN, labels=[1, 0])"
      ],
      "execution_count": null,
      "outputs": []
    },
    {
      "cell_type": "code",
      "metadata": {
        "colab": {
          "base_uri": "https://localhost:8080/"
        },
        "id": "WOlTxFgL0X9z",
        "outputId": "3d682c0f-485b-4865-dc54-bb4aa2edc617"
      },
      "source": [
        "# 10-fold cross validation for KNN model\n",
        "from sklearn.model_selection import cross_val_score\n",
        "knn_scores = cross_val_score(clf, X_train_tf, label_train, cv=10)\n",
        "print(knn_scores)"
      ],
      "execution_count": null,
      "outputs": [
        {
          "output_type": "stream",
          "text": [
            "[0.75      0.7578125 0.7734375 0.703125  0.796875  0.7734375 0.78125\n",
            " 0.7265625 0.7578125 0.7734375]\n"
          ],
          "name": "stdout"
        }
      ]
    },
    {
      "cell_type": "code",
      "metadata": {
        "colab": {
          "base_uri": "https://localhost:8080/"
        },
        "id": "Z4UuUR5X-0r5",
        "outputId": "c7c3880c-8ac3-4c6f-8bda-435aaa593865"
      },
      "source": [
        "max_value = max(knn_scores)\n",
        "min_value = min(knn_scores)\n",
        "avg_value = 0 if len(knn_scores) == 0 else sum(knn_scores)/len(knn_scores)\n",
        "print(f'max value is {max_value}, min value is {min_value} and average is {avg_value}')\n"
      ],
      "execution_count": null,
      "outputs": [
        {
          "output_type": "stream",
          "text": [
            "max value is 0.796875, min value is 0.703125 and average is 0.759375\n"
          ],
          "name": "stdout"
        }
      ]
    },
    {
      "cell_type": "markdown",
      "metadata": {
        "id": "b59V90IwLGFu"
      },
      "source": [
        "# Logistic Regression"
      ]
    },
    {
      "cell_type": "code",
      "metadata": {
        "id": "IZAG8vTO_XYk"
      },
      "source": [
        "from sklearn.linear_model import LogisticRegression"
      ],
      "execution_count": null,
      "outputs": []
    },
    {
      "cell_type": "code",
      "metadata": {
        "id": "1IL40sLDSdNi",
        "colab": {
          "base_uri": "https://localhost:8080/"
        },
        "outputId": "1855dfd9-f66f-4e9a-8c8e-c0c134e71390"
      },
      "source": [
        "log_reg = LogisticRegression()\n",
        "log_reg.fit(X_train_tf, label_train)\n",
        "y_pred_log = log_reg.predict(X_test_tf)\n",
        "print(accuracy_score(label_test, y_pred_log, normalize=True))"
      ],
      "execution_count": null,
      "outputs": [
        {
          "output_type": "stream",
          "text": [
            "0.890625\n"
          ],
          "name": "stdout"
        }
      ]
    },
    {
      "cell_type": "code",
      "metadata": {
        "id": "yAaDzEM1So4Z",
        "colab": {
          "base_uri": "https://localhost:8080/",
          "height": 383
        },
        "outputId": "67158f2c-9e56-46a6-d3f2-0cc82b26329d"
      },
      "source": [
        "log_scores = cross_val_score(log_reg, X_train_tf, label_train, cv=10)\n",
        "print(log_scores)\n",
        "df_per = pd.DataFrame(log_scores)\n",
        "df_per.columns =['Accuracy Score']\n",
        "df_per.head(10)"
      ],
      "execution_count": null,
      "outputs": [
        {
          "output_type": "stream",
          "text": [
            "[0.8671875 0.9140625 0.8671875 0.84375   0.84375   0.8515625 0.8671875\n",
            " 0.84375   0.8671875 0.828125 ]\n"
          ],
          "name": "stdout"
        },
        {
          "output_type": "execute_result",
          "data": {
            "text/html": [
              "<div>\n",
              "<style scoped>\n",
              "    .dataframe tbody tr th:only-of-type {\n",
              "        vertical-align: middle;\n",
              "    }\n",
              "\n",
              "    .dataframe tbody tr th {\n",
              "        vertical-align: top;\n",
              "    }\n",
              "\n",
              "    .dataframe thead th {\n",
              "        text-align: right;\n",
              "    }\n",
              "</style>\n",
              "<table border=\"1\" class=\"dataframe\">\n",
              "  <thead>\n",
              "    <tr style=\"text-align: right;\">\n",
              "      <th></th>\n",
              "      <th>Accuracy Score</th>\n",
              "    </tr>\n",
              "  </thead>\n",
              "  <tbody>\n",
              "    <tr>\n",
              "      <th>0</th>\n",
              "      <td>0.867188</td>\n",
              "    </tr>\n",
              "    <tr>\n",
              "      <th>1</th>\n",
              "      <td>0.914062</td>\n",
              "    </tr>\n",
              "    <tr>\n",
              "      <th>2</th>\n",
              "      <td>0.867188</td>\n",
              "    </tr>\n",
              "    <tr>\n",
              "      <th>3</th>\n",
              "      <td>0.843750</td>\n",
              "    </tr>\n",
              "    <tr>\n",
              "      <th>4</th>\n",
              "      <td>0.843750</td>\n",
              "    </tr>\n",
              "    <tr>\n",
              "      <th>5</th>\n",
              "      <td>0.851562</td>\n",
              "    </tr>\n",
              "    <tr>\n",
              "      <th>6</th>\n",
              "      <td>0.867188</td>\n",
              "    </tr>\n",
              "    <tr>\n",
              "      <th>7</th>\n",
              "      <td>0.843750</td>\n",
              "    </tr>\n",
              "    <tr>\n",
              "      <th>8</th>\n",
              "      <td>0.867188</td>\n",
              "    </tr>\n",
              "    <tr>\n",
              "      <th>9</th>\n",
              "      <td>0.828125</td>\n",
              "    </tr>\n",
              "  </tbody>\n",
              "</table>\n",
              "</div>"
            ],
            "text/plain": [
              "   Accuracy Score\n",
              "0        0.867188\n",
              "1        0.914062\n",
              "2        0.867188\n",
              "3        0.843750\n",
              "4        0.843750\n",
              "5        0.851562\n",
              "6        0.867188\n",
              "7        0.843750\n",
              "8        0.867188\n",
              "9        0.828125"
            ]
          },
          "metadata": {
            "tags": []
          },
          "execution_count": 160
        }
      ]
    },
    {
      "cell_type": "code",
      "metadata": {
        "id": "4KY2vJ-SSt2N",
        "colab": {
          "base_uri": "https://localhost:8080/"
        },
        "outputId": "347801bb-5151-44f0-cb50-c8c68a6bdd92"
      },
      "source": [
        "max_value = max(log_scores)\n",
        "min_value = min(log_scores)\n",
        "avg_value = 0 if len(per_scores) == 0 else sum(log_scores)/len(log_scores)\n",
        "print(f'max value is {max_value}, min value is {min_value} and average is {avg_value}')"
      ],
      "execution_count": null,
      "outputs": [
        {
          "output_type": "stream",
          "text": [
            "max value is 0.9140625, min value is 0.828125 and average is 0.859375\n"
          ],
          "name": "stdout"
        }
      ]
    },
    {
      "cell_type": "code",
      "metadata": {
        "id": "UeltcxCWSxso",
        "colab": {
          "base_uri": "https://localhost:8080/"
        },
        "outputId": "d2bf6882-27df-4f35-b7d7-b69337e5be1e"
      },
      "source": [
        "confusion_matrix(label_test, y_pred_log, labels=[1, 0])"
      ],
      "execution_count": null,
      "outputs": [
        {
          "output_type": "execute_result",
          "data": {
            "text/plain": [
              "array([[139,  15],\n",
              "       [ 20, 146]])"
            ]
          },
          "metadata": {
            "tags": []
          },
          "execution_count": 162
        }
      ]
    },
    {
      "cell_type": "code",
      "metadata": {
        "id": "tVyVd8oXwZ2M",
        "colab": {
          "base_uri": "https://localhost:8080/"
        },
        "outputId": "3ac3ac19-e61c-4218-9df6-84de508c55a9"
      },
      "source": [
        "print(classification_report(label_test, y_pred_NN, labels=[1, 0]))"
      ],
      "execution_count": null,
      "outputs": [
        {
          "output_type": "stream",
          "text": [
            "              precision    recall  f1-score   support\n",
            "\n",
            "           1       0.88      0.91      0.89       154\n",
            "           0       0.91      0.88      0.90       166\n",
            "\n",
            "    accuracy                           0.89       320\n",
            "   macro avg       0.89      0.89      0.89       320\n",
            "weighted avg       0.89      0.89      0.89       320\n",
            "\n"
          ],
          "name": "stdout"
        }
      ]
    },
    {
      "cell_type": "markdown",
      "metadata": {
        "id": "XlrNcaBjLU_t"
      },
      "source": [
        "#Preceptron"
      ]
    },
    {
      "cell_type": "code",
      "metadata": {
        "id": "zaVi2FATSI6O"
      },
      "source": [
        "from sklearn.linear_model import Perceptron"
      ],
      "execution_count": null,
      "outputs": []
    },
    {
      "cell_type": "code",
      "metadata": {
        "id": "wFmUmHcC_wAf",
        "colab": {
          "base_uri": "https://localhost:8080/"
        },
        "outputId": "13b8ce7b-e4aa-41ab-a37e-5e14d9094959"
      },
      "source": [
        "per_clf = Perceptron(random_state=42)\n",
        "per_clf.fit(X_train_tf, label_train)\n",
        "y_pred_per = per_clf.predict(X_test_tf)\n",
        "print(accuracy_score(label_test, y_pred_per, normalize=True))"
      ],
      "execution_count": null,
      "outputs": [
        {
          "output_type": "stream",
          "text": [
            "0.89375\n"
          ],
          "name": "stdout"
        }
      ]
    },
    {
      "cell_type": "code",
      "metadata": {
        "id": "qqxYQg4gSF3X",
        "colab": {
          "base_uri": "https://localhost:8080/"
        },
        "outputId": "886843e9-28fe-4547-fc7a-6b8a5e48f8a2"
      },
      "source": [
        "print(accuracy_score(label_test, y_pred_per, normalize=True))"
      ],
      "execution_count": null,
      "outputs": [
        {
          "output_type": "stream",
          "text": [
            "0.89375\n"
          ],
          "name": "stdout"
        }
      ]
    },
    {
      "cell_type": "code",
      "metadata": {
        "id": "i2M7GMUhSLpg",
        "colab": {
          "base_uri": "https://localhost:8080/",
          "height": 348
        },
        "outputId": "a696062b-97a2-43fe-d1d8-19b6c0ebe770"
      },
      "source": [
        "per_scores = cross_val_score(per_clf, X_train_tf, label_train, cv=10)\n",
        "df_per = pd.DataFrame(per_scores)\n",
        "df_per.columns =['Accuracy Score']\n",
        "df_per.head(10)"
      ],
      "execution_count": null,
      "outputs": [
        {
          "output_type": "execute_result",
          "data": {
            "text/html": [
              "<div>\n",
              "<style scoped>\n",
              "    .dataframe tbody tr th:only-of-type {\n",
              "        vertical-align: middle;\n",
              "    }\n",
              "\n",
              "    .dataframe tbody tr th {\n",
              "        vertical-align: top;\n",
              "    }\n",
              "\n",
              "    .dataframe thead th {\n",
              "        text-align: right;\n",
              "    }\n",
              "</style>\n",
              "<table border=\"1\" class=\"dataframe\">\n",
              "  <thead>\n",
              "    <tr style=\"text-align: right;\">\n",
              "      <th></th>\n",
              "      <th>Accuracy Score</th>\n",
              "    </tr>\n",
              "  </thead>\n",
              "  <tbody>\n",
              "    <tr>\n",
              "      <th>0</th>\n",
              "      <td>0.867188</td>\n",
              "    </tr>\n",
              "    <tr>\n",
              "      <th>1</th>\n",
              "      <td>0.890625</td>\n",
              "    </tr>\n",
              "    <tr>\n",
              "      <th>2</th>\n",
              "      <td>0.843750</td>\n",
              "    </tr>\n",
              "    <tr>\n",
              "      <th>3</th>\n",
              "      <td>0.843750</td>\n",
              "    </tr>\n",
              "    <tr>\n",
              "      <th>4</th>\n",
              "      <td>0.867188</td>\n",
              "    </tr>\n",
              "    <tr>\n",
              "      <th>5</th>\n",
              "      <td>0.867188</td>\n",
              "    </tr>\n",
              "    <tr>\n",
              "      <th>6</th>\n",
              "      <td>0.851562</td>\n",
              "    </tr>\n",
              "    <tr>\n",
              "      <th>7</th>\n",
              "      <td>0.835938</td>\n",
              "    </tr>\n",
              "    <tr>\n",
              "      <th>8</th>\n",
              "      <td>0.828125</td>\n",
              "    </tr>\n",
              "    <tr>\n",
              "      <th>9</th>\n",
              "      <td>0.843750</td>\n",
              "    </tr>\n",
              "  </tbody>\n",
              "</table>\n",
              "</div>"
            ],
            "text/plain": [
              "   Accuracy Score\n",
              "0        0.867188\n",
              "1        0.890625\n",
              "2        0.843750\n",
              "3        0.843750\n",
              "4        0.867188\n",
              "5        0.867188\n",
              "6        0.851562\n",
              "7        0.835938\n",
              "8        0.828125\n",
              "9        0.843750"
            ]
          },
          "metadata": {
            "tags": []
          },
          "execution_count": 167
        }
      ]
    },
    {
      "cell_type": "code",
      "metadata": {
        "id": "cYEgijiDSOgw",
        "colab": {
          "base_uri": "https://localhost:8080/"
        },
        "outputId": "245238c0-c6d9-4f47-8754-e9d7075d57c0"
      },
      "source": [
        "max_value = max(per_scores)\n",
        "min_value = min(per_scores)\n",
        "avg_value = 0 if len(per_scores) == 0 else sum(per_scores)/len(per_scores)\n",
        "print(f'max value is {max_value}, min value is {min_value} and average is {avg_value}')"
      ],
      "execution_count": null,
      "outputs": [
        {
          "output_type": "stream",
          "text": [
            "max value is 0.890625, min value is 0.828125 and average is 0.85390625\n"
          ],
          "name": "stdout"
        }
      ]
    },
    {
      "cell_type": "code",
      "metadata": {
        "id": "ucu9vcClSRyT",
        "colab": {
          "base_uri": "https://localhost:8080/"
        },
        "outputId": "9d748ffb-8cd1-4901-81c8-6678c8348572"
      },
      "source": [
        "print(classification_report(label_test, y_pred_per, labels=[1, 0]))"
      ],
      "execution_count": null,
      "outputs": [
        {
          "output_type": "stream",
          "text": [
            "              precision    recall  f1-score   support\n",
            "\n",
            "           1       0.88      0.91      0.89       154\n",
            "           0       0.91      0.88      0.90       166\n",
            "\n",
            "    accuracy                           0.89       320\n",
            "   macro avg       0.89      0.89      0.89       320\n",
            "weighted avg       0.89      0.89      0.89       320\n",
            "\n"
          ],
          "name": "stdout"
        }
      ]
    },
    {
      "cell_type": "code",
      "metadata": {
        "id": "1VoE8TdfSRrG",
        "colab": {
          "base_uri": "https://localhost:8080/"
        },
        "outputId": "5472f1f1-ffe1-41e6-cbe4-592ecc85dba9"
      },
      "source": [
        "confusion_matrix(label_test, y_pred_per, labels=[1, 0])"
      ],
      "execution_count": null,
      "outputs": [
        {
          "output_type": "execute_result",
          "data": {
            "text/plain": [
              "array([[140,  14],\n",
              "       [ 20, 146]])"
            ]
          },
          "metadata": {
            "tags": []
          },
          "execution_count": 170
        }
      ]
    },
    {
      "cell_type": "markdown",
      "metadata": {
        "id": "RkRAW0lbV2CC"
      },
      "source": [
        "# SVM"
      ]
    },
    {
      "cell_type": "code",
      "metadata": {
        "id": "hnRdqCqqRcEE"
      },
      "source": [
        "from sklearn import svm"
      ],
      "execution_count": null,
      "outputs": []
    },
    {
      "cell_type": "code",
      "metadata": {
        "id": "gxXzCOuQRoa2",
        "colab": {
          "base_uri": "https://localhost:8080/"
        },
        "outputId": "16e164a1-22d9-4208-be9a-793f2f7b9d1e"
      },
      "source": [
        "start = time.perf_counter()\n",
        "svc_clf = svm.SVC()\n",
        "svc_clf.fit(X_train_tf, label_train)\n",
        "y_pred_svc = per_clf.predict(X_test_tf)\n",
        "end = time.perf_counter() \n",
        "print(end - start)"
      ],
      "execution_count": null,
      "outputs": [
        {
          "output_type": "stream",
          "text": [
            "1.14577903800091\n"
          ],
          "name": "stdout"
        }
      ]
    },
    {
      "cell_type": "code",
      "metadata": {
        "id": "EmzvFVtjRsZW",
        "colab": {
          "base_uri": "https://localhost:8080/"
        },
        "outputId": "69630d58-5d41-46e3-c439-680f8d3833d4"
      },
      "source": [
        "print(accuracy_score(label_test, y_pred_svc, normalize=True))"
      ],
      "execution_count": null,
      "outputs": [
        {
          "output_type": "stream",
          "text": [
            "0.89375\n"
          ],
          "name": "stdout"
        }
      ]
    },
    {
      "cell_type": "code",
      "metadata": {
        "id": "muuG7gxjRwnc",
        "colab": {
          "base_uri": "https://localhost:8080/",
          "height": 348
        },
        "outputId": "c564954b-b223-4d03-f362-2400b01c832c"
      },
      "source": [
        "svc_scores = cross_val_score(svc_clf, X_train_tf, label_train, cv=10)\n",
        "df_per = pd.DataFrame(svc_scores)\n",
        "df_per.columns =['Accuracy Score']\n",
        "df_per.head(10)"
      ],
      "execution_count": null,
      "outputs": [
        {
          "output_type": "execute_result",
          "data": {
            "text/html": [
              "<div>\n",
              "<style scoped>\n",
              "    .dataframe tbody tr th:only-of-type {\n",
              "        vertical-align: middle;\n",
              "    }\n",
              "\n",
              "    .dataframe tbody tr th {\n",
              "        vertical-align: top;\n",
              "    }\n",
              "\n",
              "    .dataframe thead th {\n",
              "        text-align: right;\n",
              "    }\n",
              "</style>\n",
              "<table border=\"1\" class=\"dataframe\">\n",
              "  <thead>\n",
              "    <tr style=\"text-align: right;\">\n",
              "      <th></th>\n",
              "      <th>Accuracy Score</th>\n",
              "    </tr>\n",
              "  </thead>\n",
              "  <tbody>\n",
              "    <tr>\n",
              "      <th>0</th>\n",
              "      <td>0.875000</td>\n",
              "    </tr>\n",
              "    <tr>\n",
              "      <th>1</th>\n",
              "      <td>0.914062</td>\n",
              "    </tr>\n",
              "    <tr>\n",
              "      <th>2</th>\n",
              "      <td>0.875000</td>\n",
              "    </tr>\n",
              "    <tr>\n",
              "      <th>3</th>\n",
              "      <td>0.867188</td>\n",
              "    </tr>\n",
              "    <tr>\n",
              "      <th>4</th>\n",
              "      <td>0.875000</td>\n",
              "    </tr>\n",
              "    <tr>\n",
              "      <th>5</th>\n",
              "      <td>0.867188</td>\n",
              "    </tr>\n",
              "    <tr>\n",
              "      <th>6</th>\n",
              "      <td>0.890625</td>\n",
              "    </tr>\n",
              "    <tr>\n",
              "      <th>7</th>\n",
              "      <td>0.835938</td>\n",
              "    </tr>\n",
              "    <tr>\n",
              "      <th>8</th>\n",
              "      <td>0.875000</td>\n",
              "    </tr>\n",
              "    <tr>\n",
              "      <th>9</th>\n",
              "      <td>0.843750</td>\n",
              "    </tr>\n",
              "  </tbody>\n",
              "</table>\n",
              "</div>"
            ],
            "text/plain": [
              "   Accuracy Score\n",
              "0        0.875000\n",
              "1        0.914062\n",
              "2        0.875000\n",
              "3        0.867188\n",
              "4        0.875000\n",
              "5        0.867188\n",
              "6        0.890625\n",
              "7        0.835938\n",
              "8        0.875000\n",
              "9        0.843750"
            ]
          },
          "metadata": {
            "tags": []
          },
          "execution_count": 174
        }
      ]
    },
    {
      "cell_type": "code",
      "metadata": {
        "id": "GuVodkbdR16g",
        "colab": {
          "base_uri": "https://localhost:8080/"
        },
        "outputId": "f5c2f940-a290-49c7-80b8-1dac9cd743e2"
      },
      "source": [
        "max_value = max(svc_scores)\n",
        "min_value = min(svc_scores)\n",
        "avg_value = 0 if len(svc_scores) == 0 else sum(svc_scores)/len(svc_scores)\n",
        "print(f'max value is {max_value}, min value is {min_value} and average is {avg_value}')"
      ],
      "execution_count": null,
      "outputs": [
        {
          "output_type": "stream",
          "text": [
            "max value is 0.9140625, min value is 0.8359375 and average is 0.871875\n"
          ],
          "name": "stdout"
        }
      ]
    },
    {
      "cell_type": "code",
      "metadata": {
        "id": "uHivDchvR9yh",
        "colab": {
          "base_uri": "https://localhost:8080/"
        },
        "outputId": "20b4068a-aa6d-4ef4-d7ee-dc6ef19f2079"
      },
      "source": [
        "confusion_matrix(label_test, y_pred_svc, labels=[1, 0])"
      ],
      "execution_count": null,
      "outputs": [
        {
          "output_type": "execute_result",
          "data": {
            "text/plain": [
              "array([[140,  14],\n",
              "       [ 20, 146]])"
            ]
          },
          "metadata": {
            "tags": []
          },
          "execution_count": 176
        }
      ]
    },
    {
      "cell_type": "markdown",
      "metadata": {
        "id": "Yvek5SDiVdJB"
      },
      "source": [
        "# Random Forest"
      ]
    },
    {
      "cell_type": "code",
      "metadata": {
        "id": "0rT6arT0M4yK",
        "colab": {
          "base_uri": "https://localhost:8080/",
          "height": 131
        },
        "outputId": "6becec2e-b8f3-444c-ba14-d34acee9fb60"
      },
      "source": [
        "# train data for Random Forest\n",
        "\n",
        "from sklearn.ensemble import RandomForestClassifier\n",
        "\n",
        "rfc = RandomForestClassifier(n_estimators=500, random_state=3)\n",
        "rfc.fit(X_train_tf, label_train)\n",
        "print(rfc.score(X_test_tf, label_test)"
      ],
      "execution_count": null,
      "outputs": [
        {
          "output_type": "error",
          "ename": "SyntaxError",
          "evalue": "ignored",
          "traceback": [
            "\u001b[0;36m  File \u001b[0;32m\"<ipython-input-177-41dcd71b61fc>\"\u001b[0;36m, line \u001b[0;32m7\u001b[0m\n\u001b[0;31m    print(rfc.score(X_test_tf, label_test)\u001b[0m\n\u001b[0m                                          ^\u001b[0m\n\u001b[0;31mSyntaxError\u001b[0m\u001b[0;31m:\u001b[0m unexpected EOF while parsing\n"
          ]
        }
      ]
    },
    {
      "cell_type": "code",
      "metadata": {
        "id": "_1RTWFMpTvbY"
      },
      "source": [
        "# 10-fold cross validation for Random Forest model\n",
        "\n",
        "from sklearn.model_selection import cross_val_score\n",
        "\n",
        "rfc_scores = cross_val_score(rfc, X_train_tf, label_train, cv=10)\n",
        "print(rfc_scores)"
      ],
      "execution_count": null,
      "outputs": []
    },
    {
      "cell_type": "code",
      "metadata": {
        "id": "nb_BDCy5TXlo"
      },
      "source": [
        "# grid search for random forest hyperparameter\n",
        "\n",
        "from sklearn.model_selection import GridSearchCV\n",
        "param_grid = [\n",
        "    {\n",
        "      'n_estimators': [10, 50, 100, 200, 500, 1000], \n",
        "      'max_features': ['auto', 'sqrt'],\n",
        "      'bootstrap': [False, True]\n",
        "    }\n",
        "  ]\n",
        "rfc = RandomForestClassifier()\n",
        "grid_search = GridSearchCV(rfc, param_grid, cv=5)\n",
        "grid_search.fit(X_train_tf, label_train)\n",
        "\n",
        "print('Best accuracy:' , grid_search.best_score_)\n",
        "print('Best parameters:' , grid_search.best_params_)"
      ],
      "execution_count": null,
      "outputs": []
    },
    {
      "cell_type": "code",
      "metadata": {
        "id": "vEp6jXTnUsdw"
      },
      "source": [
        "# confusion matrix for Random Forest\n",
        "\n",
        "from sklearn.metrics import confusion_matrix\n",
        "\n",
        "y_pred = rfc.predict(X_test_tf)\n",
        "\n",
        "print(confusion_matrix(label_test, y_pred))\n"
      ],
      "execution_count": null,
      "outputs": []
    },
    {
      "cell_type": "code",
      "metadata": {
        "id": "acYjkL8HUzIA"
      },
      "source": [
        "# classification report for Random Forest\n",
        "\n",
        "print(classification_report(label_test, y_pred))"
      ],
      "execution_count": null,
      "outputs": []
    },
    {
      "cell_type": "markdown",
      "metadata": {
        "id": "zCOpPcme7Yxr"
      },
      "source": [
        "# Statistics and Visualization"
      ]
    },
    {
      "cell_type": "code",
      "metadata": {
        "id": "c4tRFyRWV-K9"
      },
      "source": [
        "# data processing\n",
        "from sklearn.feature_extraction.text import TfidfVectorizer\n",
        "from operator import itemgetter\n",
        "\n",
        "def dataProcess(list):\n",
        "  vectorizer = TfidfVectorizer()\n",
        "  vectorizer_fit = vectorizer.fit_transform(list)\n",
        "\n",
        "  word_list = vectorizer.get_feature_names()\n",
        "  count_list = vectorizer_fit.toarray().sum(axis=0)\n",
        "\n",
        "  dict = {word_list[i]: count_list[i] for i in range(len(word_list))}\n",
        "\n",
        "  return dict"
      ],
      "execution_count": null,
      "outputs": []
    },
    {
      "cell_type": "code",
      "metadata": {
        "id": "bQpNKnBdXW23"
      },
      "source": [
        "dic_total_reviews = dataProcess(list_total_reviews)\n",
        "dic_truth_reviews = dataProcess(list_truth_reviews)\n",
        "dic_deceptive_reviews = dataProcess(list_deceptive_reviews)"
      ],
      "execution_count": null,
      "outputs": []
    },
    {
      "cell_type": "markdown",
      "metadata": {
        "id": "6cTdCjxucyHK"
      },
      "source": [
        "# Data Visualization"
      ]
    },
    {
      "cell_type": "code",
      "metadata": {
        "id": "rij2LBjBOWKA"
      },
      "source": [
        "def dataVisual(dic, number):\n",
        "  T_vocabulary_distr = nltk.FreqDist(dic)\n",
        "  all_fdist = T_vocabulary_distr.most_common(number)\n",
        "  print(all_fdist)\n",
        "  pd_fdist = pd.DataFrame(all_fdist, columns=['Word', 'Frequency']).set_index('Word')\n",
        "  #print(df_fdist)\n",
        "\n",
        "  pd_fdist.plot(kind = 'bar', colormap = 'Paired', stacked=True)"
      ],
      "execution_count": null,
      "outputs": []
    },
    {
      "cell_type": "code",
      "metadata": {
        "id": "q8A_ifGidNd1"
      },
      "source": [
        "dataVisual(dic_total_reviews, 30)\n",
        "dataVisual(dic_truth_reviews, 30)\n",
        "dataVisual(dic_deceptive_reviews, 30)"
      ],
      "execution_count": null,
      "outputs": []
    },
    {
      "cell_type": "code",
      "metadata": {
        "id": "uUp_WC18heQd"
      },
      "source": [
        "from sklearn.feature_extraction.text import CountVectorizer\n",
        "from operator import itemgetter \n",
        "\n",
        "count_vectorizer = CountVectorizer()\n",
        "count_vectorizer_fit = count_vectorizer.fit_transform(vocabulary)\n",
        "word_list = count_vectorizer.get_feature_names()\n",
        "count_list = count_vectorizer_fit.toarray().sum(axis=0)\n",
        "print(word_list)\n",
        "print(count_list)\n",
        "\n",
        "word_count_dic = zip(word_list, count_list)\n",
        "print(zip(word_list, count_list))\n",
        "\n",
        "dict = {word_list[i]: count_list[i] for i in range(len(word_list))}\n",
        "sorted_dict = sorted(dict.items(), key = itemgetter(1), reverse = True)\n",
        "\n",
        "for key, value in sorted_dict:\n",
        "    print(key, value)\n"
      ],
      "execution_count": null,
      "outputs": []
    },
    {
      "cell_type": "code",
      "metadata": {
        "id": "_KWZluL1HZce"
      },
      "source": [
        "vocabulary_distr = nltk.FreqDist(dic_total_reviews)\n",
        "vocabulary_distr.most_common(30)\n",
        "vocabulary_distr.plot(30)"
      ],
      "execution_count": null,
      "outputs": []
    },
    {
      "cell_type": "code",
      "metadata": {
        "id": "vUF_rKwQpIXa"
      },
      "source": [
        "plt.hist(count_vectorizer.vocabulary_)\n",
        "plt.plot()"
      ],
      "execution_count": null,
      "outputs": []
    },
    {
      "cell_type": "code",
      "metadata": {
        "id": "MG3jLZdEMBMQ"
      },
      "source": [
        "# wordcloud\n",
        "from collections import Counter\n",
        "import matplotlib.pyplot as plt\n",
        "from wordcloud import WordCloud\n",
        "\n",
        "def dataWordCloud(dic):\n",
        "  dictionary = Counter(dic)\n",
        "  cloud = WordCloud(max_font_size=80,colormap='Pastel1').generate_from_frequencies(dictionary)\n",
        "  plt.figure(figsize=(16,12))\n",
        "  plt.imshow(cloud, interpolation='bilinear')\n",
        "  plt.axis('off')\n",
        "  plt.show()\n"
      ],
      "execution_count": null,
      "outputs": []
    },
    {
      "cell_type": "code",
      "metadata": {
        "id": "5fLh8PyWgsUI"
      },
      "source": [
        "dataWordCloud(dic_total_reviews)\n",
        "dataWordCloud(dic_truth_reviews)\n",
        "dataWordCloud(dic_deceptive_reviews)"
      ],
      "execution_count": null,
      "outputs": []
    },
    {
      "cell_type": "code",
      "metadata": {
        "id": "qqnuDXgJPKAj"
      },
      "source": [
        "def word_frequency(data):\n",
        "  data_cleaned = ''.join(data)\n",
        "  data_cleaned = data_cleaned.split(\" \")\n",
        "  uniqueWords = set(data_cleaned)\n",
        "  word_dict = dict.fromkeys(uniqueWords, 0)\n",
        "  for word in data_cleaned:\n",
        "    word_dict[word] += 1\n",
        "  sorted_tuple = sorted(word_dict.items(), key=lambda x : x[1], reverse=True)\n",
        "  return sorted_tuple"
      ],
      "execution_count": null,
      "outputs": []
    },
    {
      "cell_type": "code",
      "metadata": {
        "id": "EZMlyIH1PM6K"
      },
      "source": [
        "truthful_tuple = word_frequency(truthful_data)\n",
        "deceptive_tuple = word_frequency(deceptive_data)\n",
        "print(truthful_tuple[:10])\n",
        "print(deceptive_tuple[:10])\n",
        "print(truthful_tuple[7:17])\n",
        "print(deceptive_tuple[7:17])"
      ],
      "execution_count": null,
      "outputs": []
    },
    {
      "cell_type": "code",
      "metadata": {
        "id": "icmGOFF7PQAv"
      },
      "source": [
        "def scatter_graph(data):\n",
        "  x = []\n",
        "  y = []\n",
        "  for val in data[:50]:\n",
        "    x.append(val[0])\n",
        "    y.append(val[1])\n",
        "  plt.figure(figsize=(15, 5), dpi=80)\n",
        "  plt.scatter(x,y,c=y)\n",
        "  plt.xticks(rotation=60)\n",
        "  plt.show()"
      ],
      "execution_count": null,
      "outputs": []
    },
    {
      "cell_type": "code",
      "metadata": {
        "id": "FToR8PI-PSpN"
      },
      "source": [
        "scatter_graph(truthful_tuple)\n",
        "scatter_graph(deceptive_tuple)"
      ],
      "execution_count": null,
      "outputs": []
    }
  ]
}